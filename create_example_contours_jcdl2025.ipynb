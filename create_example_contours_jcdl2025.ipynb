{
 "cells": [
  {
   "cell_type": "code",
   "execution_count": 1,
   "id": "a384e543",
   "metadata": {},
   "outputs": [],
   "source": [
    "# save files\n",
    "fullproc_r = './resources/' # for words/names\n",
    "\n",
    "# where to save the figures that are created\n",
    "fake_figs_dir = './example_contours/' # saving in github only for small numbers\n",
    "# stop overwriting what is there\n",
    "#fake_figs_dir = '/Users/jnaiman/Downloads/tmp/JCDL2025/example_contours/'\n",
    "\n",
    "# format for saving images?\n",
    "img_format = ['jpeg']\n",
    "\n",
    "# save diagnostic plot with all items labeled?\n",
    "save_diagnostic_plot = True"
   ]
  },
  {
   "cell_type": "code",
   "execution_count": 2,
   "id": "04d8c43d",
   "metadata": {},
   "outputs": [],
   "source": [
    "# import matplotlib.pyplot as plt\n",
    "# plt.errorbar?"
   ]
  },
  {
   "cell_type": "code",
   "execution_count": 3,
   "id": "82acb676",
   "metadata": {},
   "outputs": [],
   "source": [
    "# debug\n",
    "from importlib import reload\n",
    "\n",
    "import numpy as np\n",
    "import matplotlib.pyplot as plt\n",
    "from PIL import Image\n",
    "import cv2 as cv\n",
    "import pickle\n",
    "import pandas as pd\n",
    "#import string\n",
    "from glob import glob\n",
    "from mpl_toolkits.axes_grid1 import make_axes_locatable\n",
    "from PIL import ImageColor\n",
    "import json\n",
    "import os\n",
    "from copy import deepcopy\n",
    "import copy\n",
    "\n",
    "from utils.metric_utils.utilities import isRectangleOverlap\n",
    "\n",
    "import time\n",
    "\n",
    "import matplotlib as mpl\n",
    "import os\n",
    "os.environ[\"PATH\"] += os.pathsep + '/Library/TeX/texbin'\n",
    "mpl.rcParams['text.usetex'] = True\n",
    "mpl.rcParams['text.latex.preamble'] = r'\\usepackage{amsmath} \\usepackage{amssymb}' #for \\text command\n",
    "\n",
    "# written libs -- will update locally\n",
    "from utils.synthetic_fig_utils import subset_by_percent, \\\n",
    " get_nrows_and_ncols, normalize_params_prob, get_ticks, get_titles_or_labels, \\\n",
    " get_font_info\n",
    "\n",
    "import utils.plot_utils\n",
    "reload(utils.plot_utils)\n",
    "from utils.plot_utils import get_contour_plot, get_histogram_plot, \\\n",
    "   get_line_plot, get_scatter_plot, make_plot, colorbar_mods, make_base_plot#, get_line_plot\n",
    "\n",
    "from utils.text_utils import get_popular_nouns, get_inline_math\n",
    "\n",
    "# create a bunch of fake figures\n",
    "import utils.synthetic_fig_utils\n",
    "reload(utils.synthetic_fig_utils)\n",
    "from utils.synthetic_fig_utils import normalize_params_prob, add_titles_and_labels\n",
    "from utils.plot_parameters import plot_types_params, panel_params, \\\n",
    "  title_params, xlabel_params, colorbar_params, \\\n",
    "  ylabel_params, aspect_fig_params, dpi_params, tight_layout_params, \\\n",
    "  fontsizes, base\n",
    "\n",
    "from utils.data_utils import get_data, NumpyEncoder\n",
    "import numpy as np\n",
    "\n",
    "import utils.distribution_utils\n",
    "\n",
    "from utils.plot_utils import markers\n",
    "marker_sizes = np.arange(0,10)+1\n",
    "line_list_thick = np.arange(1,10)\n",
    "\n",
    "use_uniques = True # use unique inlines\n",
    "verbose = True\n",
    "\n",
    "from sys import path\n",
    "path.append('/Library/TeX/texbin/')\n",
    "\n",
    "\n",
    "\n",
    "# for seed\n",
    "from sys import maxsize as maxint\n",
    "\n",
    "import warnings\n",
    "warnings.filterwarnings(\"error\")"
   ]
  },
  {
   "cell_type": "code",
   "execution_count": 4,
   "id": "4d785d10",
   "metadata": {},
   "outputs": [],
   "source": [
    "# check directories\n",
    "img_dir = fake_figs_dir + '/imgs/'\n",
    "if not os.path.exists(img_dir):\n",
    "    os.mkdir(img_dir)\n",
    "    print('made:', img_dir)\n",
    "json_dir = fake_figs_dir + '/jsons/'\n",
    "if not os.path.exists(json_dir):\n",
    "    os.mkdir(json_dir)\n",
    "    print('made:', json_dir)"
   ]
  },
  {
   "cell_type": "code",
   "execution_count": 5,
   "id": "b066179c",
   "metadata": {},
   "outputs": [],
   "source": [
    "# get fonts -- see \"cnn_create_synthetic_ticks\" in FullProcess\n",
    "dfont = pd.read_csv(fullproc_r + 'fonts.csv')\n",
    "\n",
    "# check that location is there\n",
    "drop_names = []\n",
    "for fl in dfont['font location']:\n",
    "    if not os.path.exists(fl):\n",
    "        drop_names.append(False)\n",
    "    else:\n",
    "        drop_names.append(True)\n",
    "\n",
    "font_names = dfont.loc[drop_names]['font name'].values\n",
    "\n",
    "# # for plot styles\n",
    "# plot_styles = plt.style.available\n",
    "\n",
    "# plot_types_qa = ['line', 'scatter', 'histogram']\n",
    "\n",
    "plot_styles = ['default']"
   ]
  },
  {
   "cell_type": "code",
   "execution_count": 6,
   "id": "52bbd3e2",
   "metadata": {},
   "outputs": [],
   "source": [
    "# stats for doing calculations\n",
    "stats = {'minimum':np.min, 'maximum':np.max, 'median':np.median, 'mean':np.mean}\n",
    "\n",
    "# some things to try\n",
    "aspect_cut = {'min':0.3, 'max':4.0}"
   ]
  },
  {
   "cell_type": "code",
   "execution_count": 7,
   "id": "9f0dc2a5",
   "metadata": {},
   "outputs": [
    {
     "name": "stdout",
     "output_type": "stream",
     "text": [
      "16253 343492\n",
      "shape of output= (5097, 5)\n",
      "shape of output= (36332, 5)\n",
      "number of inlines =  33201\n"
     ]
    }
   ],
   "source": [
    "# get popular words for titles/axis\n",
    "popular_nouns = get_popular_nouns(fullproc_r + 'data/')\n",
    "\n",
    "# get inline math formulas\n",
    "inlines = get_inline_math(fullproc_r,\n",
    "                          recreate_inlines=False,\n",
    "                         use_uniques=use_uniques)"
   ]
  },
  {
   "cell_type": "markdown",
   "id": "3949dc13",
   "metadata": {},
   "source": [
    "## Update plotting params"
   ]
  },
  {
   "cell_type": "markdown",
   "id": "05193107",
   "metadata": {},
   "source": [
    "### Plot type params"
   ]
  },
  {
   "cell_type": "code",
   "execution_count": 8,
   "id": "c1be6ee7",
   "metadata": {},
   "outputs": [],
   "source": [
    "plot_params = plot_types_params.copy()"
   ]
  },
  {
   "cell_type": "code",
   "execution_count": 9,
   "id": "5a9fe905",
   "metadata": {},
   "outputs": [],
   "source": [
    "# prob of getting a contour plot -- only contours here\n",
    "plot_params['contour']['prob'] = 1\n",
    "\n",
    "# probability of getting a scatter plot \n",
    "plot_params['scatter']['prob'] = 0\n",
    "# probability of getting a line \n",
    "plot_params['line']['prob'] = 0\n",
    "# prob for getting a histogram\n",
    "plot_params['histogram']['prob'] = 0"
   ]
  },
  {
   "cell_type": "markdown",
   "id": "b958d73a-fd58-46b5-9af3-b91cda577b56",
   "metadata": {},
   "source": [
    "### Other parameters"
   ]
  },
  {
   "cell_type": "code",
   "execution_count": 10,
   "id": "8b36fa32-a85d-4dbe-a4f5-bf0be3685094",
   "metadata": {},
   "outputs": [],
   "source": [
    "# for ease of things, lets not do equations here\n",
    "title_params['equation']['prob'] = 0.0 # probability any word will be equation\n",
    "xlabel_params['equation']['prob'] = 0.0 # probability any word will be equation\n",
    "ylabel_params['equation']['prob'] = 0.0 # probability any word will be equation"
   ]
  },
  {
   "cell_type": "markdown",
   "id": "2fae2d31-cdf8-4fde-9302-5f91d9767a7c",
   "metadata": {},
   "source": [
    "Renormalize all probabilities:"
   ]
  },
  {
   "cell_type": "code",
   "execution_count": 11,
   "id": "a1cd495c-be76-4d40-bc74-86e5efecf417",
   "metadata": {},
   "outputs": [
    {
     "name": "stdout",
     "output_type": "stream",
     "text": [
      "title_params capatilize did not add to 1! total = 1.2999999999999998\n",
      "renormalizing...\n",
      "now:  {'none': 0.07692307692307694, 'first': 0.3846153846153847, 'all': 0.5384615384615385}\n",
      "xlabel_params capatilize did not add to 1! total = 1.2999999999999998\n",
      "renormalizing...\n",
      "now:  {'none': 0.07692307692307694, 'first': 0.3846153846153847, 'all': 0.5384615384615385}\n",
      "ylabel_params capatilize did not add to 1! total = 1.2999999999999998\n",
      "renormalizing...\n",
      "now:  {'none': 0.07692307692307694, 'first': 0.3846153846153847, 'all': 0.5384615384615385}\n",
      "colorbar_params capatilize did not add to 1! total = 1.2999999999999998\n",
      "renormalizing...\n",
      "now:  {'none': 0.07692307692307694, 'first': 0.3846153846153847, 'all': 0.5384615384615385}\n",
      "plot_types_params['scatter']['color bar']['location probs'] did not add to 1! total = 0.8500000000000001\n",
      "renormalizing...\n",
      "now:  {'right': 0.588235294117647, 'left': 0.058823529411764705, 'top': 0.2941176470588235, 'bottom': 0.058823529411764705}\n",
      "plot_types_params['contour']['color bar']['location probs'] did not add to 1! total = 0.8500000000000001\n",
      "renormalizing...\n",
      "now:  {'right': 0.588235294117647, 'left': 0.058823529411764705, 'top': 0.2941176470588235, 'bottom': 0.058823529411764705}\n",
      "plot_types_params['contour']['image or contour']['prob'] did not add to 1! total = 3.0\n",
      "renormalizing...\n",
      "now:  {'image': 0.3333333333333333, 'contour': 0.3333333333333333, 'both': 0.3333333333333333}\n",
      "plot_types_params['line']['distribution'] probabilities did not add to 1! total = 3\n",
      "renormalizing...\n",
      "now:  [0.3333333333333333, 0.3333333333333333, 0.3333333333333333]\n",
      "plot_types_params['histogram']['distribution'] probabilities did not add to 1! total = 3\n",
      "renormalizing...\n",
      "now:  [0.3333333333333333, 0.3333333333333333, 0.3333333333333333]\n",
      "plot_types_params['scatter']['distribution'] probabilities did not add to 1! total = 3\n",
      "renormalizing...\n",
      "now:  [0.3333333333333333, 0.3333333333333333, 0.3333333333333333]\n",
      "plot_types_params['contour']['distribution'] probabilities did not add to 1! total = 3\n",
      "renormalizing...\n",
      "now:  [0.3333333333333333, 0.3333333333333333, 0.3333333333333333]\n"
     ]
    },
    {
     "data": {
      "text/plain": [
       "{'line': {'prob': 0,\n",
       "  'npoints': {'min': 10, 'max': 11},\n",
       "  'line thick': {'min': 1, 'max': 5},\n",
       "  'nlines': {'min': 2, 'max': 3},\n",
       "  'xmin': -10000,\n",
       "  'xmax': 10000,\n",
       "  'ymin': -10000,\n",
       "  'ymax': 10000,\n",
       "  'prob same x': 0.1,\n",
       "  'markers': {'prob': 0.5, 'size': {'min': 1, 'max': 20}},\n",
       "  'error bars': {'elinewidth': {'min': 1, 'max': 5},\n",
       "   'x': {'prob': 0.25, 'size': {'min': 0.01, 'max': 0.1}},\n",
       "   'y': {'prob': 0.25, 'size': {'min': 0.01, 'max': 0.1}}},\n",
       "  'distribution': {'random': {'prob': 0.3333333333333333},\n",
       "   'linear': {'prob': 0.3333333333333333,\n",
       "    'intersect': (-100, 100),\n",
       "    'slope': (-5, 5),\n",
       "    'noise': (0, 0.25)},\n",
       "   'gmm': {'prob': 0.3333333333333333,\n",
       "    'histogram as line': {'prob': 0.25, 'factor': 1000},\n",
       "    'nclusters': {'min': 1, 'max': 20},\n",
       "    'nsamples': {'min': 10, 'max': 500},\n",
       "    'cluster std': {'min': -2, 'max': 0.5},\n",
       "    'noise': {'min': 0.05, 'max': 0.25}}}},\n",
       " 'histogram': {'prob': 0,\n",
       "  'npoints': {'min': 10, 'max': 10000},\n",
       "  'nbins': {'min': 1, 'max': 100},\n",
       "  'rwidth': {'min': 0.2, 'max': 1.0},\n",
       "  'line thick': {'prob': 0.5, 'min': 1, 'max': 5},\n",
       "  'nlines': {'min': 2, 'max': 3},\n",
       "  'xmin': -10000,\n",
       "  'xmax': 10000,\n",
       "  'error bars': {'elinewidth': {'min': 1, 'max': 5},\n",
       "   'x': {'prob': 1, 'size': {'min': 0.01, 'max': 0.1}}},\n",
       "  'horizontal prob': 0.25,\n",
       "  'distribution': {'random': {'prob': 0.3333333333333333},\n",
       "   'linear': {'prob': 0.3333333333333333,\n",
       "    'intersect': (-100, 100),\n",
       "    'slope': (-5, 5),\n",
       "    'noise': (0, 0.25)},\n",
       "   'gmm': {'prob': 0.3333333333333333,\n",
       "    'xmin': -10000,\n",
       "    'xmax': 10000,\n",
       "    'ymin': -10000,\n",
       "    'ymax': 10000,\n",
       "    'nclusters': {'min': 1, 'max': 20},\n",
       "    'nsamples': {'min': 10, 'max': 500},\n",
       "    'cluster std': {'min': -1, 'max': 1.5},\n",
       "    'noise': {'min': 0.05, 'max': 0.25}}}},\n",
       " 'scatter': {'prob': 0,\n",
       "  'npoints': {'min': 10, 'max': 100},\n",
       "  'markers': {'size': {'min': 1, 'max': 30}},\n",
       "  'colors': {'min': -100, 'max': 100},\n",
       "  'colormap scatter': {'prob': 0.95},\n",
       "  'color bar': {'location probs': {'right': 0.588235294117647,\n",
       "    'left': 0.058823529411764705,\n",
       "    'top': 0.2941176470588235,\n",
       "    'bottom': 0.058823529411764705},\n",
       "   'label prob': 0.5,\n",
       "   'size percent': {'min': 0.05, 'max': 0.15},\n",
       "   'pad': {'min': 0.01, 'max': 0.2}},\n",
       "  'xmin': -10000,\n",
       "  'xmax': 10000,\n",
       "  'ymin': -10000,\n",
       "  'ymax': 10000,\n",
       "  'error bars': {'elinewidth': {'min': 1, 'max': 5},\n",
       "   'x': {'prob': 0.25, 'size': {'min': 0.01, 'max': 0.1}},\n",
       "   'y': {'prob': 0.25, 'size': {'min': 0.01, 'max': 0.1}}},\n",
       "  'distribution': {'random': {'prob': 0.3333333333333333},\n",
       "   'linear': {'prob': 0.3333333333333333,\n",
       "    'intersect': (-100, 100),\n",
       "    'slope': (-5, 5),\n",
       "    'noise': (0, 0.25),\n",
       "    'color noise prob': 0.5},\n",
       "   'gmm': {'prob': 0.3333333333333333,\n",
       "    'upsample factor log': {'min': 2, 'max': 6},\n",
       "    'nclusters': {'min': 1, 'max': 5},\n",
       "    'nsamples': {'min': 1000, 'max': 50000},\n",
       "    'cluster std': {'min': -1, 'max': 0.5},\n",
       "    'noise': {'min': 0.05, 'max': 0.25},\n",
       "    'color noise prob': 0.5,\n",
       "    'max points': 200}}},\n",
       " 'contour': {'prob': 1,\n",
       "  'npoints': {'nx': {'min': 10, 'max': 500}, 'ny': {'min': 10, 'max': 500}},\n",
       "  'nlines': {'min': 3, 'max': 10},\n",
       "  'colors': {'min': -100, 'max': 100},\n",
       "  'colormap contour': {'prob': 0.95},\n",
       "  'color bar': {'location probs': {'right': 0.588235294117647,\n",
       "    'left': 0.058823529411764705,\n",
       "    'top': 0.2941176470588235,\n",
       "    'bottom': 0.058823529411764705},\n",
       "   'label prob': 0.5,\n",
       "   'size percent': {'min': 0.05, 'max': 0.15},\n",
       "   'pad': {'min': 0.01, 'max': 0.2}},\n",
       "  'image or contour': {'prob': {'image': 0.3333333333333333,\n",
       "    'contour': 0.3333333333333333,\n",
       "    'both': 0.3333333333333333},\n",
       "   'both contours': {'prob gray': 0.95}},\n",
       "  'xmin': -10000,\n",
       "  'xmax': 10000,\n",
       "  'ymin': -10000,\n",
       "  'ymax': 10000,\n",
       "  'distribution': {'random': {'prob': 0.3333333333333333},\n",
       "   'linear': {'prob': 0.3333333333333333,\n",
       "    'intersect': (-100, 100),\n",
       "    'slope': (-5, 5),\n",
       "    'noise': (0, 0.25)},\n",
       "   'gmm': {'prob': 0.3333333333333333,\n",
       "    'nclusters': {'min': 1, 'max': 500},\n",
       "    'upsample factor log': {'min': 0, 'max': 0.5},\n",
       "    'cluster std': {'min': -1, 'max': 1.5},\n",
       "    'noise': {'min': 0.05, 'max': 0.25},\n",
       "    'color noise prob': 0.5}}}}"
      ]
     },
     "execution_count": 11,
     "metadata": {},
     "output_type": "execute_result"
    }
   ],
   "source": [
    "# reload for debug\n",
    "import utils.synthetic_fig_utils\n",
    "reload(utils)\n",
    "reload(utils.synthetic_fig_utils)\n",
    "from utils.synthetic_fig_utils import normalize_params_prob\n",
    "\n",
    "plot_params_out, panel_params, \\\n",
    "  title_params, xlabel_params, \\\n",
    "  ylabel_params = normalize_params_prob(plot_params.copy(), panel_params, \n",
    "                                        title_params, xlabel_params, \n",
    "                                        ylabel_params, colorbar_params)\n",
    "\n",
    "plot_params_out"
   ]
  },
  {
   "cell_type": "markdown",
   "id": "5231b45e",
   "metadata": {},
   "source": [
    "### Run the thing"
   ]
  },
  {
   "cell_type": "code",
   "execution_count": 12,
   "id": "2751985c",
   "metadata": {},
   "outputs": [
    {
     "name": "stdout",
     "output_type": "stream",
     "text": [
      "seed_outer = 6700012876856450103\n"
     ]
    }
   ],
   "source": [
    "# Set a seed if you want a reproducible thing\n",
    "seed_outer = np.random.randint(maxint)\n",
    "#seed_outer = 7526304181034464103\n",
    "seed_outer = 6700012876856450103\n",
    "\n",
    "print('seed_outer =',seed_outer)\n",
    "rng_outer = np.random.default_rng(seed_outer)"
   ]
  },
  {
   "cell_type": "code",
   "execution_count": 13,
   "id": "27aa8e6c",
   "metadata": {},
   "outputs": [
    {
     "name": "stdout",
     "output_type": "stream",
     "text": [
      "seed =  5895816432351325646\n"
     ]
    }
   ],
   "source": [
    "# \"Inner\" seed -- for things like distributions and whatnot\n",
    "seed = np.random.randint(maxint)\n",
    "#seed = 2870146871786070273\n",
    "#seed = 7067533564274193147\n",
    "print('seed = ', seed)\n",
    "# based on seed, make random number generator, see: https://numpy.org/doc/2.2/reference/random/generator.html\n",
    "rng = np.random.default_rng(seed)\n",
    "condition_overlap_xticklabels = True"
   ]
  },
  {
   "cell_type": "code",
   "execution_count": 14,
   "id": "3d28ba6e",
   "metadata": {},
   "outputs": [],
   "source": [
    "# set some things to keep standard across images\n",
    "\n",
    "tight_layout = True\n",
    "\n",
    "color_map = 'Blues' #rng_outer.choice(plt.colormaps())\n",
    "\n",
    "plot_style = 'default' #rng_outer.choice(plot_styles)\n",
    "\n",
    "npanels, panel_style, nrows, ncols = 1, 'square', 1, 1 #get_nrows_and_ncols(panel_params, rng=rng_outer)\n",
    "\n",
    "aspect_fig = 0.9\n",
    "\n",
    "dpi =  300 # int(rng_outer.uniform(low=dpi_params['min'], high=dpi_params['max']))"
   ]
  },
  {
   "cell_type": "code",
   "execution_count": 15,
   "id": "4a4a2738",
   "metadata": {},
   "outputs": [],
   "source": [
    "# use the \"fixed\" RNG outer\n",
    "# get all font stuffs\n",
    "title_fontsize, colorbar_fontsize, xlabel_fontsize, ylabel_fontsize, \\\n",
    "    xlabel_ticks_fontsize, ylabel_ticks_fontsize, \\\n",
    "                        csfont = get_font_info(fontsizes, font_names, rng=rng_outer)"
   ]
  },
  {
   "cell_type": "code",
   "execution_count": 16,
   "id": "4910eae0",
   "metadata": {},
   "outputs": [
    {
     "data": {
      "text/plain": [
       "np.str_('contour')"
      ]
     },
     "execution_count": 16,
     "metadata": {},
     "output_type": "execute_result"
    }
   ],
   "source": [
    "choices = []; probs = []\n",
    "for k,v in plot_params_out.items():\n",
    "    choices.append(k)\n",
    "    probs.append(v['prob'])\n",
    "\n",
    "plot_type = rng.choice(choices, p=probs)\n",
    "plot_type"
   ]
  },
  {
   "cell_type": "markdown",
   "id": "04fad8b5",
   "metadata": {},
   "source": [
    "Set a few params that we want as fixed:"
   ]
  },
  {
   "cell_type": "code",
   "execution_count": 22,
   "id": "f70f1ae0",
   "metadata": {},
   "outputs": [],
   "source": [
    "distribution_type = 'gmm'\n",
    "xmin, xmax = -1, 1 # for now\n",
    "ymin,ymax = -1,1 \n",
    "\n",
    "# now specific for *this plot*\n",
    "plot_params_here = plot_params_out.copy()\n",
    "\n",
    "plot_params_here['contour']['npoints']['nx'] = {'min':10, 'max':500}\n",
    "plot_params_here['contour']['npoints']['ny'] = {'min':10, 'max':500}\n",
    "\n",
    "\n",
    "plot_params_here['contour']['xmin'] = xmin\n",
    "plot_params_here['contour']['xmax'] = xmax\n",
    "plot_params_here['contour']['ymin'] = ymin\n",
    "plot_params_here['contour']['ymax'] = ymax\n",
    "# also for plotting colors\n",
    "plot_params_here['contour']['colors'] = {'min':-1, 'max':1}\n",
    "\n",
    "plot_params_here['contour']['distribution']['gmm']['nclusters'] = {'min': 1, 'max': 1}\n",
    "plot_params_here['contour']['distribution']['gmm']['nsamples'] = {'min': 10000, 'max': 10000}\n",
    "plot_params_here['contour']['distribution']['gmm']['upsample factor log'] = {'min':0.0,'max':0.5}\n",
    "\n",
    "\n",
    "dist_params = plot_params_here[plot_type]['distribution'] "
   ]
  },
  {
   "cell_type": "code",
   "execution_count": 23,
   "id": "1e68796f",
   "metadata": {},
   "outputs": [
    {
     "data": {
      "text/plain": [
       "{'random': {'prob': 0.3333333333333333},\n",
       " 'linear': {'prob': 0.3333333333333333,\n",
       "  'intersect': (-100, 100),\n",
       "  'slope': (-5, 5),\n",
       "  'noise': (0, 0.25)},\n",
       " 'gmm': {'prob': 0.3333333333333333,\n",
       "  'nclusters': {'min': 1, 'max': 1},\n",
       "  'upsample factor log': {'min': 0.0, 'max': 0.5},\n",
       "  'cluster std': {'min': -1, 'max': 1.5},\n",
       "  'noise': {'min': 0.05, 'max': 0.25},\n",
       "  'color noise prob': 0.5,\n",
       "  'nsamples': {'min': 10000, 'max': 10000}}}"
      ]
     },
     "execution_count": 23,
     "metadata": {},
     "output_type": "execute_result"
    }
   ],
   "source": [
    "dist_params"
   ]
  },
  {
   "cell_type": "code",
   "execution_count": 25,
   "id": "3502e136",
   "metadata": {},
   "outputs": [
    {
     "name": "stdout",
     "output_type": "stream",
     "text": [
      "seed =  8018414615739889912\n"
     ]
    },
    {
     "data": {
      "text/plain": [
       "{'xs': array([-0.29239624, -0.2779203 , -0.26344435, -0.24896841, -0.23449246,\n",
       "        -0.22001652, -0.20554057, -0.19106463, -0.17658868, -0.16211274,\n",
       "        -0.14763679, -0.13316085, -0.1186849 , -0.10420895, -0.08973301,\n",
       "        -0.07525706, -0.06078112, -0.04630517, -0.03182923, -0.01735328,\n",
       "        -0.00287734,  0.01159861,  0.02607455,  0.0405505 ,  0.05502644,\n",
       "         0.06950239,  0.08397833,  0.09845428,  0.11293022,  0.12740617,\n",
       "         0.14188212,  0.15635806,  0.17083401,  0.18530995,  0.1997859 ,\n",
       "         0.21426184,  0.22873779,  0.24321373,  0.25768968,  0.27216562,\n",
       "         0.28664157,  0.30111751,  0.31559346,  0.3300694 ,  0.34454535,\n",
       "         0.3590213 ,  0.37349724,  0.38797319,  0.40244913,  0.41692508,\n",
       "         0.43140102,  0.44587697,  0.46035291,  0.47482886,  0.4893048 ,\n",
       "         0.50378075,  0.51825669,  0.53273264,  0.54720858,  0.56168453,\n",
       "         0.57616047,  0.59063642,  0.60511237,  0.61958831,  0.63406426,\n",
       "         0.6485402 ,  0.66301615,  0.67749209,  0.69196804,  0.70644398,\n",
       "         0.72091993,  0.73539587,  0.74987182,  0.76434776,  0.77882371,\n",
       "         0.79329965,  0.8077756 ,  0.82225155,  0.83672749,  0.85120344,\n",
       "         0.86567938,  0.88015533,  0.89463127,  0.90910722,  0.92358316,\n",
       "         0.93805911]),\n",
       " 'ys': array([-0.74077029, -0.73887   , -0.73696971, -0.73506942, -0.73316913,\n",
       "        -0.73126884, -0.72936855, -0.72746826, -0.72556797, -0.72366768,\n",
       "        -0.72176739, -0.7198671 , -0.71796681, -0.71606651, -0.71416622,\n",
       "        -0.71226593, -0.71036564, -0.70846535, -0.70656506, -0.70466477,\n",
       "        -0.70276448, -0.70086419, -0.6989639 , -0.69706361, -0.69516332,\n",
       "        -0.69326303, -0.69136274, -0.68946244, -0.68756215, -0.68566186,\n",
       "        -0.68376157, -0.68186128, -0.67996099, -0.6780607 , -0.67616041,\n",
       "        -0.67426012, -0.67235983, -0.67045954, -0.66855925, -0.66665896,\n",
       "        -0.66475867, -0.66285837, -0.66095808, -0.65905779, -0.6571575 ,\n",
       "        -0.65525721, -0.65335692, -0.65145663, -0.64955634, -0.64765605,\n",
       "        -0.64575576, -0.64385547, -0.64195518, -0.64005489, -0.6381546 ,\n",
       "        -0.6362543 , -0.63435401, -0.63245372, -0.63055343, -0.62865314,\n",
       "        -0.62675285, -0.62485256, -0.62295227, -0.62105198, -0.61915169,\n",
       "        -0.6172514 , -0.61535111, -0.61345082, -0.61155053, -0.60965023,\n",
       "        -0.60774994, -0.60584965, -0.60394936, -0.60204907, -0.60014878,\n",
       "        -0.59824849, -0.5963482 , -0.59444791, -0.59254762, -0.59064733,\n",
       "        -0.58874704, -0.58684675, -0.58494646, -0.58304616, -0.58114587,\n",
       "        -0.57924558, -0.57734529, -0.575445  , -0.57354471, -0.57164442,\n",
       "        -0.56974413, -0.56784384]),\n",
       " 'colors': array([[-0.75141304, -0.65696237, -0.81296609, ..., -0.69854103,\n",
       "         -0.77392507, -1.06564225],\n",
       "        [-0.84050968, -1.07905651, -0.66358274, ..., -0.93398275,\n",
       "         -1.04551882, -1.00174216],\n",
       "        [-0.6397489 , -0.93193761, -1.01004506, ..., -0.69927261,\n",
       "         -0.89972142, -0.91511655],\n",
       "        ...,\n",
       "        [-0.93770434, -1.21707743, -0.84929931, ..., -0.93823573,\n",
       "         -0.53075394, -0.87426149],\n",
       "        [-1.1072109 , -1.0201026 , -1.05887007, ..., -0.80059877,\n",
       "         -0.67178472, -0.64265834],\n",
       "        [-0.99257969, -0.78828859, -0.63065428, ..., -1.12528398,\n",
       "         -0.74321397, -0.72578625]], shape=(92, 86)),\n",
       " 'data params': {'nsamples': 1,\n",
       "  'nclusters': 1,\n",
       "  'centers': array([[ 0.78262432, -0.65435715]]),\n",
       "  'cluster_std': array([[ 0.81048177, 24.66092845]]),\n",
       "  'noise level': 0.18154253998158557}}"
      ]
     },
     "execution_count": 25,
     "metadata": {},
     "output_type": "execute_result"
    }
   ],
   "source": [
    "import utils.distribution_utils\n",
    "import utils.data_utils\n",
    "reload(utils.distribution_utils)\n",
    "reload(utils.data_utils)\n",
    "from utils.data_utils import get_data\n",
    "import utils.plot_classes_utils\n",
    "reload(utils.plot_classes_utils)\n",
    "\n",
    "seed = np.random.randint(maxint)\n",
    "print('seed = ', seed)\n",
    "rng = np.random.default_rng(seed)\n",
    "\n",
    "data_for_plot = get_data(plot_params_here[plot_type],\n",
    "                plot_type=plot_type,\n",
    "                        distribution=distribution_type, \n",
    "                        rng=rng, verbose=True)\n",
    "data_for_plot"
   ]
  },
  {
   "cell_type": "code",
   "execution_count": 26,
   "id": "96266e65",
   "metadata": {},
   "outputs": [],
   "source": [
    "import utils.plot_utils\n",
    "reload(utils.plot_utils)\n",
    "from utils.plot_utils import make_colorbar"
   ]
  },
  {
   "cell_type": "code",
   "execution_count": 33,
   "id": "3ea32095",
   "metadata": {},
   "outputs": [
    {
     "name": "stdout",
     "output_type": "stream",
     "text": [
      "xs,ys len= 99 99\n",
      "figsize (w,h) = (2.666, 2)\n"
     ]
    },
    {
     "data": {
      "text/plain": [
       "<Figure size 640x480 with 0 Axes>"
      ]
     },
     "metadata": {},
     "output_type": "display_data"
    },
    {
     "data": {
      "image/png": "[encoded data removed]",
      "text/plain": [
       "<Figure size 799.8x600 with 2 Axes>"
      ]
     },
     "metadata": {},
     "output_type": "display_data"
    }
   ],
   "source": [
    "import utils.plot_utils\n",
    "reload(utils.plot_utils)\n",
    "import utils.plot_classes_utils\n",
    "reload(utils.plot_classes_utils)\n",
    "from utils.plot_classes_utils import Scatter\n",
    "from utils.plot_utils import make_plot, make_base_plot, make_colorbar\n",
    "\n",
    "colorbar_side = 'right'\n",
    "aspect_fig = 1.333\n",
    "colorbar_size = 0.1 # %\n",
    "colorbar_pad = 0.05\n",
    "nx = 100\n",
    "ny = 100\n",
    "\n",
    "data_for_plot = get_data(plot_params_here[plot_type],\n",
    "                plot_type=plot_type,\n",
    "                        distribution=distribution_type, \n",
    "                        rng=rng, verbose=True, nx=nx, ny=ny)\n",
    "print('xs,ys len=', len(data_for_plot['xs']), len(data_for_plot['ys']))\n",
    "\n",
    "fig, axes, plot_inds = make_base_plot(plot_style, color_map, dpi, nrows, ncols, aspect_fig,\n",
    "                   base=2, verbose=True, tight_layout = tight_layout)\n",
    "\n",
    "data_from_plot, ax = make_plot(plot_params_here[plot_type], data_for_plot, \n",
    "                        axes[0], plot_type=plot_type, \n",
    "                        rng=rng, colorbar_side=colorbar_side, \n",
    "                        colorbar_size=colorbar_size, colorbar_pad = colorbar_pad) \n",
    "\n",
    "title, xlabel, ylabel = add_titles_and_labels(axes[0], 'x title', 'y axis', 'title', \n",
    "                                              title_params, csfont, title_fontsize, \n",
    "                          xlabel_params, ylabel_params, xlabel_fontsize, ylabel_fontsize,\n",
    "                          inlines, xlabel_ticks_fontsize, ylabel_ticks_fontsize,\n",
    "                          rng=rng)\n",
    "cbar, colorbar_words = make_colorbar(data_from_plot, plot_type, fig, \n",
    "                  'colorbar', inlines, colorbar_params,\n",
    "                  title_params, colorbar_fontsize, csfont)\n",
    "#= make_colorbar(data_from_plot, plot_type, fig)"
   ]
  },
  {
   "cell_type": "code",
   "execution_count": 34,
   "id": "938696ba",
   "metadata": {},
   "outputs": [
    {
     "data": {
      "text/plain": [
       "'gmm'"
      ]
     },
     "execution_count": 34,
     "metadata": {},
     "output_type": "execute_result"
    }
   ],
   "source": [
    "distribution_type"
   ]
  },
  {
   "cell_type": "code",
   "execution_count": 35,
   "id": "5954119c",
   "metadata": {},
   "outputs": [
    {
     "data": {
      "text/plain": [
       "{'data': {'image': <matplotlib.image.AxesImage at 0x33275a6f0>},\n",
       " 'color bar': <Axes: ylabel='colorbar'>,\n",
       " 'color bar params': {'side': 'right',\n",
       "  'pad': 0.05,\n",
       "  'size': '10%',\n",
       "  'axis side': 'right',\n",
       "  'label prob': 0.5}}"
      ]
     },
     "execution_count": 35,
     "metadata": {},
     "output_type": "execute_result"
    }
   ],
   "source": [
    "data_from_plot"
   ]
  },
  {
   "cell_type": "code",
   "execution_count": 36,
   "id": "6de0aa77",
   "metadata": {},
   "outputs": [],
   "source": [
    "import utils.synthetic_fig_utils\n",
    "reload(utils.synthetic_fig_utils)\n",
    "from utils.synthetic_fig_utils import collect_plot_data_axes"
   ]
  },
  {
   "cell_type": "markdown",
   "id": "c78a47fc",
   "metadata": {},
   "source": [
    "Loop for several distributions and save:"
   ]
  },
  {
   "cell_type": "code",
   "execution_count": 37,
   "id": "6fbb87b6",
   "metadata": {},
   "outputs": [],
   "source": [
    "import utils.plot_qa_utils\n",
    "reload(utils.plot_qa_utils)\n",
    "from utils.plot_qa_utils import init_qa_pairs"
   ]
  },
  {
   "cell_type": "code",
   "execution_count": 38,
   "id": "5d170bcf",
   "metadata": {},
   "outputs": [
    {
     "data": {
      "text/plain": [
       "'./example_contours//imgs/'"
      ]
     },
     "execution_count": 38,
     "metadata": {},
     "output_type": "execute_result"
    }
   ],
   "source": [
    "img_dir"
   ]
  },
  {
   "cell_type": "code",
   "execution_count": 39,
   "id": "6ef8181b",
   "metadata": {},
   "outputs": [],
   "source": [
    "def sort_cbars(fig, cbar_nums, verbose=False):\n",
    "    axes_save = []; cbar_axes_save = []\n",
    "    # IF SUCCESSFUL\n",
    "    # save axes if not colorbar and image of sky\n",
    "    for iaxes in range(len(fig.axes)):\n",
    "        if hasattr(fig.axes[iaxes], 'coords'): # image of sky\n",
    "            # colorbar?\n",
    "            if fig.axes[iaxes].coords[0].coord_type == 'scalar':\n",
    "                if verbose:\n",
    "                    print('Probable colorbar for image of the sky axes =', iaxes)\n",
    "            else:\n",
    "                axes_save.append(fig.axes[iaxes])\n",
    "                # does this have a colorbar?\n",
    "                if iaxes in cbar_nums:\n",
    "                    cbar_axes_save.append(fig.axes[iaxes+1])\n",
    "                else:\n",
    "                    cbar_axes_save.append([])\n",
    "        else:\n",
    "            # colorbar\n",
    "            #fig.axes[1]._colorbar\n",
    "            if hasattr(fig.axes[iaxes], '_colorbar'):\n",
    "                if verbose:\n",
    "                    print('Probable colorbar for regular plot axes =', iaxes)\n",
    "            else:\n",
    "                axes_save.append(fig.axes[iaxes])\n",
    "                # does this have a colorbar?\n",
    "                if iaxes in cbar_nums:\n",
    "                    cbar_axes_save.append(fig.axes[iaxes+1])\n",
    "                else:\n",
    "                    cbar_axes_save.append([])\n",
    "    return axes_save, cbar_axes_save"
   ]
  },
  {
   "cell_type": "code",
   "execution_count": 42,
   "id": "b21dbf12",
   "metadata": {},
   "outputs": [
    {
     "data": {
      "text/plain": [
       "<Figure size 640x480 with 0 Axes>"
      ]
     },
     "metadata": {},
     "output_type": "display_data"
    },
    {
     "data": {
      "image/png": "[encoded data removed]",
      "text/plain": [
       "<Figure size 799.8x600 with 2 Axes>"
      ]
     },
     "metadata": {},
     "output_type": "display_data"
    }
   ],
   "source": [
    "seed_outer = np.random.randint(maxint)\n",
    "seed = np.random.randint(maxint)\n",
    "\n",
    "\n",
    "colorbar_side = 'right'\n",
    "aspect_fig = 1.333\n",
    "colorbar_size = 0.1 # %\n",
    "colorbar_pad = 0.05\n",
    "elinewidth = 1\n",
    "nx_points = 100\n",
    "ny_points = 100\n",
    "\n",
    "\n",
    "#import utils.scatter_plot_qa_utils\n",
    "import utils.plot_utils\n",
    "import utils.plot_qa_utils\n",
    "import utils.synthetic_fig_utils\n",
    "#reload(utils.scatter_plot_qa_utils)\n",
    "reload(utils.plot_utils)\n",
    "reload(utils.plot_qa_utils)\n",
    "reload(utils.synthetic_fig_utils)\n",
    "from utils.plot_utils import make_plot\n",
    "from utils.plot_qa_utils import how_many, how_much_data_values\n",
    "from utils.synthetic_fig_utils import collect_plot_data_axes\n",
    "\n",
    "#from utils.scatter_plot_qa_utils import q_npoints_scatter_plot_plotnums, q_stats_scatters, q_relationship_scatters\n",
    "\n",
    "\n",
    "\n",
    "\n",
    "\n",
    "## start the thing\n",
    "\n",
    "nclusters = [1, 2, 3, 4, 5]\n",
    "\n",
    "cluster_std = {'min':-2, 'max':0.0} # in 10^\n",
    "\n",
    "noise = {'min': 0.05, 'max': 0.1}\n",
    "\n",
    "plot_json = []\n",
    "\n",
    "ntrials = 10\n",
    "\n",
    "verbose_qa = True\n",
    "\n",
    "# check for github\n",
    "if 'LLM_VQA_JCDL2025' in fake_figs_dir and ntrials > 10:\n",
    "    print('Limiting trials for saving in github.  Change the \"fake_figs_dir\" param to a local address')\n",
    "    ntrials = 10\n",
    "\n",
    "for n in range(ntrials):\n",
    "    for nclust in nclusters:\n",
    "\n",
    "        # this becomes more important when we have multiple axes and more complex plots\n",
    "        data_for_plots = []\n",
    "        plot_types = []\n",
    "        data_from_plots = []\n",
    "        titles = []; xlabels = []; ylabels = []; \n",
    "        cbars = []; cbar_labels = []; cbar_words = []; cbar_nums = []\n",
    "        end_time = time.time()\n",
    "        distribution_types = []\n",
    "        # in case axes change\n",
    "        axes_save = []; cbar_axes_save = []\n",
    "\n",
    "        plot_params_loop = plot_params_here.copy()\n",
    "        plot_params_loop['contour']['distribution']['gmm']['nclusters'] = {'min': nclust, 'max': nclust}\n",
    "        plot_params_loop['contour']['distribution']['gmm']['cluster std'] = cluster_std\n",
    "        plot_params_loop['contour']['distribution']['gmm']['noise'] = noise\n",
    "        data_for_plot = get_data(plot_params_loop[plot_type],\n",
    "                        plot_type=plot_type,\n",
    "                                distribution=distribution_type, \n",
    "                                rng=rng, nx=nx_points, ny=ny_points)\n",
    "\n",
    "        fig, axes, plot_inds = make_base_plot(plot_style, color_map, dpi, \n",
    "                                              nrows, ncols, aspect_fig,\n",
    "                        base=2, verbose=False, tight_layout = tight_layout)\n",
    "\n",
    "        for iplot, ax in enumerate(axes): \n",
    "            data_from_plot, ax = make_plot(plot_params_here[plot_type], data_for_plot, \n",
    "                                    axes[0], plot_type=plot_type, \n",
    "                                    rng=rng, \n",
    "                                    colorbar_side=colorbar_side, \n",
    "                                    colorbar_size=colorbar_size, colorbar_pad = colorbar_pad,\n",
    "                                    elinewidth=elinewidth) \n",
    "\n",
    "            title, xlabel, ylabel = add_titles_and_labels(axes[0], 'x title', 'y axis', 'title', \n",
    "                                                        title_params, csfont, title_fontsize, \n",
    "                                    xlabel_params, ylabel_params, xlabel_fontsize, ylabel_fontsize,\n",
    "                                    inlines, xlabel_ticks_fontsize, ylabel_ticks_fontsize,\n",
    "                                    rng=rng)\n",
    "            cbar, colorbar_words = make_colorbar(data_from_plot, plot_type, fig, \n",
    "                  'colorbar', inlines, colorbar_params,\n",
    "                  title_params, colorbar_fontsize, csfont)\n",
    "            # save for each\n",
    "            cbar_labels.append(cbar)\n",
    "            cbar_words.append(colorbar_words)\n",
    "            if cbar is not None:\n",
    "                cbar_nums.append(len(cbar_nums)) # save axis of this colorbar\n",
    "                cbar_nums.append(len(cbar_nums)) # add extra for axes for colorbar\n",
    "            else:\n",
    "                cbar_nums.append(-1)\n",
    "\n",
    "            # save image\n",
    "            base_name = 'nclust_' + str(nclust) + '_trial' + str(n)\n",
    "            for imgf in img_format:\n",
    "                fig.savefig(img_dir + base_name + '.' + imgf)\n",
    "\n",
    "            ####### SAVE DATA ########\n",
    "            # save data for parsing later -- only a single plot right now\n",
    "            data_for_plots.append(data_for_plot)\n",
    "            plot_types.append(plot_type)\n",
    "            data_from_plots.append(data_from_plot)\n",
    "            titles.append(title)\n",
    "            xlabels.append(xlabel)\n",
    "            ylabels.append(ylabel)\n",
    "            distribution_types.append(distribution_type)\n",
    "\n",
    "        # figure out which are color bars and which are figures\n",
    "        axes_save, cbar_axes_save = sort_cbars(fig, cbar_nums)\n",
    "\n",
    "        fig.canvas.draw()\n",
    "        width, height = fig.canvas.get_width_height()\n",
    "        # save data\n",
    "        datas = {}\n",
    "        # figure datas\n",
    "        datas['figure'] = {'dpi':dpi, 'base':base, 'aspect ratio': aspect_fig, \n",
    "                            'nrows':nrows, 'ncols':ncols, \n",
    "                            'plot style':plot_style, \n",
    "                            'color map':color_map,\n",
    "                            'title fontsize':title_fontsize, \n",
    "                            'xlabel fontsize':xlabel_fontsize,\n",
    "                            'ylabel fontsize':ylabel_fontsize, \n",
    "                        'plot indexes':plot_inds}\n",
    "        #for iplot,ax in enumerate(axes): ### JPN, colorbar\n",
    "        for iplot, (ax,cbar_ax) in enumerate(zip(axes_save,cbar_axes_save)):\n",
    "            datas['plot' + str(iplot)] = collect_plot_data_axes(ax, fig,\n",
    "                           height, width,\n",
    "                           data_from_plots[iplot], data_for_plots[iplot], \n",
    "                           plot_types[iplot], titles[iplot], \n",
    "                           xlabels[iplot], ylabels[iplot],\n",
    "                           distribution_types[iplot], verbose=True, \n",
    "                           #cbar_label=cbar_labels[iplot], cbar_word=cbar_words[iplot], \n",
    "                           cbar_ax=cbar_ax)\n",
    "            \n",
    "\n",
    "        ######## GENERATE QA BASE #######\n",
    "        qa_pairs = init_qa_pairs()\n",
    "        # for iplot in range(len((axes))):\n",
    "        #     if datas['plot'+str(iplot)]['type'] == 'scatter':\n",
    "        #         ############ L1 #############\n",
    "        #         # number of scatter points\n",
    "        #         if len(axes) > 1:\n",
    "        #             qa_pairs = q_npoints_scatter_plot_plotnums(datas, qa_pairs, \n",
    "        #                                               plot_num = iplot, \n",
    "        #                                               use_words=False, \n",
    "        #                                               verbose=verbose_qa)\n",
    "        #         qa_pairs = q_npoints_scatter_plot_plotnums(datas, qa_pairs, \n",
    "        #                                           plot_num = iplot, \n",
    "        #                                           use_words=True, \n",
    "        #                                           verbose=verbose_qa)\n",
    "\n",
    "        #         ###### L2 #######\n",
    "        #         # stats items\n",
    "        #         for axis in ['x', 'y', 'color']:\n",
    "        #             for k,v in stats.items():\n",
    "        #                 if len(axes) > 1:\n",
    "        #                     qa_pairs = q_stats_scatters(datas, qa_pairs, stat={k:v}, \n",
    "        #                                                 axis=axis, plot_num=iplot, \n",
    "        #                                                 use_words=False, verbose=verbose_qa)\n",
    "        #                 qa_pairs = q_stats_scatters(datas, qa_pairs, stat={k:v}, \n",
    "        #                                             axis=axis, plot_num=iplot, \n",
    "        #                                             use_words=True, verbose=verbose_qa)\n",
    "        #         # ###### L3 ######\n",
    "        #         # type of distribution\n",
    "        #         qa_pairs = q_relationship_scatters(datas, qa_pairs, plot_num = iplot, \n",
    "        #                  return_qa=True, use_words=True, \n",
    "        #                  use_list=True, \n",
    "        #                 line_list = ['random','linear','gaussian mixture model'],\n",
    "        #                 verbose=verbose_qa)\n",
    "\n",
    "        # datas['VQA'] = qa_pairs\n",
    "\n",
    "        # #import sys; sys.exit()\n",
    "\n",
    "        # # dump full data\n",
    "        # dumped = json.dumps(datas, cls=NumpyEncoder)\n",
    "        # with open(json_dir + base_name + '.json', 'w') as f:\n",
    "        #     json.dump(dumped, f)\n",
    "\n"
   ]
  },
  {
   "cell_type": "code",
   "execution_count": null,
   "id": "d508e495",
   "metadata": {},
   "outputs": [],
   "source": []
  },
  {
   "cell_type": "code",
   "execution_count": null,
   "id": "e7c10266",
   "metadata": {},
   "outputs": [],
   "source": []
  },
  {
   "cell_type": "markdown",
   "id": "d0f7ccac",
   "metadata": {},
   "source": [
    "Practice reading in:"
   ]
  },
  {
   "cell_type": "code",
   "execution_count": 83,
   "id": "036df21d",
   "metadata": {},
   "outputs": [],
   "source": [
    "import json\n",
    "data_file = json_dir + 'nclust_4_trial8.json'\n",
    "with open(data_file,'r') as f:\n",
    "    t = json.load(f)\n",
    "    datas = json.loads(t)"
   ]
  },
  {
   "cell_type": "code",
   "execution_count": 84,
   "id": "ea12312c",
   "metadata": {},
   "outputs": [
    {
     "data": {
      "text/plain": [
       "{'Level 1': {'Figure-level questions': {},\n",
       "  'Plot-level questions': {'npoints': {'plot0': {'Q': 'You are a helpful assistant that can analyze images.  How many scatter points are there in the specified figure panel? Please format the output as a json as {\"npoints\":\"\"} for this figure panel, where the \"npoints\" value should be an integer.',\n",
       "     'A': {'npoints': 134},\n",
       "     'persona': 'You are a helpful assistant that can analyze images.',\n",
       "     'context': '',\n",
       "     'question': 'How many scatter points are there in the specified figure panel?',\n",
       "     'format': 'Please format the output as a json as {\"npoints\":\"\"} for this figure panel, where the \"npoints\" value should be an integer.'}}}},\n",
       " 'Level 2': {'Plot-level questions': {'minimum x': {'plot0': {'Q': 'You are a helpful assistant that can analyze images.  What are the minimum data values along the x-axis in this figure panel?  Please format the output as a json as {\"minimum x\":\"\"} for this figure panel, where the \"minimum x\" value should be a floats, calculated from the data values used to create the plot.',\n",
       "     'A': {'minimum x': {'minimum x': -1.2997565292208586}},\n",
       "     'persona': 'You are a helpful assistant that can analyze images.',\n",
       "     'context': '',\n",
       "     'question': 'What are the minimum data values along the x-axis in this figure panel? ',\n",
       "     'format': 'Please format the output as a json as {\"minimum x\":\"\"} for this figure panel, where the \"minimum x\" value should be a floats, calculated from the data values used to create the plot.'}},\n",
       "   'maximum x': {'plot0': {'Q': 'You are a helpful assistant that can analyze images.  What are the maximum data values along the x-axis in this figure panel?  Please format the output as a json as {\"maximum x\":\"\"} for this figure panel, where the \"maximum x\" value should be a floats, calculated from the data values used to create the plot.',\n",
       "     'A': {'maximum x': {'maximum x': 0.7090978039133282}},\n",
       "     'persona': 'You are a helpful assistant that can analyze images.',\n",
       "     'context': '',\n",
       "     'question': 'What are the maximum data values along the x-axis in this figure panel? ',\n",
       "     'format': 'Please format the output as a json as {\"maximum x\":\"\"} for this figure panel, where the \"maximum x\" value should be a floats, calculated from the data values used to create the plot.'}},\n",
       "   'median x': {'plot0': {'Q': 'You are a helpful assistant that can analyze images.  What are the median data values along the x-axis in this figure panel?  Please format the output as a json as {\"median x\":\"\"} for this figure panel, where the \"median x\" value should be a floats, calculated from the data values used to create the plot.',\n",
       "     'A': {'median x': {'median x': 0.4537678966264872}},\n",
       "     'persona': 'You are a helpful assistant that can analyze images.',\n",
       "     'context': '',\n",
       "     'question': 'What are the median data values along the x-axis in this figure panel? ',\n",
       "     'format': 'Please format the output as a json as {\"median x\":\"\"} for this figure panel, where the \"median x\" value should be a floats, calculated from the data values used to create the plot.'}},\n",
       "   'mean x': {'plot0': {'Q': 'You are a helpful assistant that can analyze images.  What are the mean data values along the x-axis in this figure panel?  Please format the output as a json as {\"mean x\":\"\"} for this figure panel, where the \"mean x\" value should be a floats, calculated from the data values used to create the plot.',\n",
       "     'A': {'mean x': {'mean x': 0.2487775110976913}},\n",
       "     'persona': 'You are a helpful assistant that can analyze images.',\n",
       "     'context': '',\n",
       "     'question': 'What are the mean data values along the x-axis in this figure panel? ',\n",
       "     'format': 'Please format the output as a json as {\"mean x\":\"\"} for this figure panel, where the \"mean x\" value should be a floats, calculated from the data values used to create the plot.'}},\n",
       "   'minimum y': {'plot0': {'Q': 'You are a helpful assistant that can analyze images.  What are the minimum data values along the y-axis in this figure panel?  Please format the output as a json as {\"minimum y\":\"\"} for this figure panel, where the \"minimum y\" value should be a floats, calculated from the data values used to create the plot.',\n",
       "     'A': {'minimum y': {'minimum y': 0.5690334784584452}},\n",
       "     'persona': 'You are a helpful assistant that can analyze images.',\n",
       "     'context': '',\n",
       "     'question': 'What are the minimum data values along the y-axis in this figure panel? ',\n",
       "     'format': 'Please format the output as a json as {\"minimum y\":\"\"} for this figure panel, where the \"minimum y\" value should be a floats, calculated from the data values used to create the plot.'}},\n",
       "   'maximum y': {'plot0': {'Q': 'You are a helpful assistant that can analyze images.  What are the maximum data values along the y-axis in this figure panel?  Please format the output as a json as {\"maximum y\":\"\"} for this figure panel, where the \"maximum y\" value should be a floats, calculated from the data values used to create the plot.',\n",
       "     'A': {'maximum y': {'maximum y': 1.1463353803047944}},\n",
       "     'persona': 'You are a helpful assistant that can analyze images.',\n",
       "     'context': '',\n",
       "     'question': 'What are the maximum data values along the y-axis in this figure panel? ',\n",
       "     'format': 'Please format the output as a json as {\"maximum y\":\"\"} for this figure panel, where the \"maximum y\" value should be a floats, calculated from the data values used to create the plot.'}},\n",
       "   'median y': {'plot0': {'Q': 'You are a helpful assistant that can analyze images.  What are the median data values along the y-axis in this figure panel?  Please format the output as a json as {\"median y\":\"\"} for this figure panel, where the \"median y\" value should be a floats, calculated from the data values used to create the plot.',\n",
       "     'A': {'median y': {'median y': 0.7935505963305395}},\n",
       "     'persona': 'You are a helpful assistant that can analyze images.',\n",
       "     'context': '',\n",
       "     'question': 'What are the median data values along the y-axis in this figure panel? ',\n",
       "     'format': 'Please format the output as a json as {\"median y\":\"\"} for this figure panel, where the \"median y\" value should be a floats, calculated from the data values used to create the plot.'}},\n",
       "   'mean y': {'plot0': {'Q': 'You are a helpful assistant that can analyze images.  What are the mean data values along the y-axis in this figure panel?  Please format the output as a json as {\"mean y\":\"\"} for this figure panel, where the \"mean y\" value should be a floats, calculated from the data values used to create the plot.',\n",
       "     'A': {'mean y': {'mean y': 0.7944179948825318}},\n",
       "     'persona': 'You are a helpful assistant that can analyze images.',\n",
       "     'context': '',\n",
       "     'question': 'What are the mean data values along the y-axis in this figure panel? ',\n",
       "     'format': 'Please format the output as a json as {\"mean y\":\"\"} for this figure panel, where the \"mean y\" value should be a floats, calculated from the data values used to create the plot.'}},\n",
       "   'minimum color': {'plot0': {'Q': 'You are a helpful assistant that can analyze images.  What are the minimum data values along the color-axis in this figure panel?  Please format the output as a json as {\"minimum color\":\"\"} for this figure panel, where the \"minimum color\" value should be a floats, calculated from the data values used to create the plot.',\n",
       "     'A': {'minimum color': {'minimum color': 0.24887276432318264}},\n",
       "     'persona': 'You are a helpful assistant that can analyze images.',\n",
       "     'context': '',\n",
       "     'question': 'What are the minimum data values along the color-axis in this figure panel? ',\n",
       "     'format': 'Please format the output as a json as {\"minimum color\":\"\"} for this figure panel, where the \"minimum color\" value should be a floats, calculated from the data values used to create the plot.'}},\n",
       "   'maximum color': {'plot0': {'Q': 'You are a helpful assistant that can analyze images.  What are the maximum data values along the color-axis in this figure panel?  Please format the output as a json as {\"maximum color\":\"\"} for this figure panel, where the \"maximum color\" value should be a floats, calculated from the data values used to create the plot.',\n",
       "     'A': {'maximum color': {'maximum color': 1.061791722078069}},\n",
       "     'persona': 'You are a helpful assistant that can analyze images.',\n",
       "     'context': '',\n",
       "     'question': 'What are the maximum data values along the color-axis in this figure panel? ',\n",
       "     'format': 'Please format the output as a json as {\"maximum color\":\"\"} for this figure panel, where the \"maximum color\" value should be a floats, calculated from the data values used to create the plot.'}},\n",
       "   'median color': {'plot0': {'Q': 'You are a helpful assistant that can analyze images.  What are the median data values along the color-axis in this figure panel?  Please format the output as a json as {\"median color\":\"\"} for this figure panel, where the \"median color\" value should be a floats, calculated from the data values used to create the plot.',\n",
       "     'A': {'median color': {'median color': 0.5571119983912719}},\n",
       "     'persona': 'You are a helpful assistant that can analyze images.',\n",
       "     'context': '',\n",
       "     'question': 'What are the median data values along the color-axis in this figure panel? ',\n",
       "     'format': 'Please format the output as a json as {\"median color\":\"\"} for this figure panel, where the \"median color\" value should be a floats, calculated from the data values used to create the plot.'}},\n",
       "   'mean color': {'plot0': {'Q': 'You are a helpful assistant that can analyze images.  What are the mean data values along the color-axis in this figure panel?  Please format the output as a json as {\"mean color\":\"\"} for this figure panel, where the \"mean color\" value should be a floats, calculated from the data values used to create the plot.',\n",
       "     'A': {'mean color': {'mean color': 0.6028093238495352}},\n",
       "     'persona': 'You are a helpful assistant that can analyze images.',\n",
       "     'context': '',\n",
       "     'question': 'What are the mean data values along the color-axis in this figure panel? ',\n",
       "     'format': 'Please format the output as a json as {\"mean color\":\"\"} for this figure panel, where the \"mean color\" value should be a floats, calculated from the data values used to create the plot.'}}}},\n",
       " 'Level 3': {'Plot-level questions': {'distribution  + list)': {'plot0': {'Q': 'You are a helpful assistant that can analyze images.  What is the underlying distribution used to create the data in this figure panel along the color-axis? Please format the output as a json as {\"distribution color\":\"\"} for this figure panel, where the \"distribution color\" value should be a strings, calculated from the data values used to create the plot. Please choose the distribution from the following list: [random, linear, gaussian mixture model].',\n",
       "     'A': {'distribution  + list)': 'gaussian mixture model'},\n",
       "     'note': 'this currently assumes all elements on a single plot have the same relationship type',\n",
       "     'persona': 'You are a helpful assistant that can analyze images.',\n",
       "     'context': '',\n",
       "     'question': 'What is the underlying distribution used to create the data in this figure panel along the color-axis?',\n",
       "     'format': 'Please format the output as a json as {\"distribution color\":\"\"} for this figure panel, where the \"distribution color\" value should be a strings, calculated from the data values used to create the plot. Please choose the distribution from the following list: [random, linear, gaussian mixture model].'}}}}}"
      ]
     },
     "execution_count": 84,
     "metadata": {},
     "output_type": "execute_result"
    }
   ],
   "source": [
    "datas['VQA']"
   ]
  },
  {
   "cell_type": "code",
   "execution_count": 85,
   "id": "a25a5dc3",
   "metadata": {},
   "outputs": [
    {
     "data": {
      "text/plain": [
       "{'distribution  + list)': {'plot0': {'Q': 'You are a helpful assistant that can analyze images.  What is the underlying distribution used to create the data in this figure panel along the color-axis? Please format the output as a json as {\"distribution color\":\"\"} for this figure panel, where the \"distribution color\" value should be a strings, calculated from the data values used to create the plot. Please choose the distribution from the following list: [random, linear, gaussian mixture model].',\n",
       "   'A': {'distribution  + list)': 'gaussian mixture model'},\n",
       "   'note': 'this currently assumes all elements on a single plot have the same relationship type',\n",
       "   'persona': 'You are a helpful assistant that can analyze images.',\n",
       "   'context': '',\n",
       "   'question': 'What is the underlying distribution used to create the data in this figure panel along the color-axis?',\n",
       "   'format': 'Please format the output as a json as {\"distribution color\":\"\"} for this figure panel, where the \"distribution color\" value should be a strings, calculated from the data values used to create the plot. Please choose the distribution from the following list: [random, linear, gaussian mixture model].'}}}"
      ]
     },
     "execution_count": 85,
     "metadata": {},
     "output_type": "execute_result"
    }
   ],
   "source": [
    "datas['VQA']['Level 3']['Plot-level questions']"
   ]
  },
  {
   "cell_type": "code",
   "execution_count": null,
   "id": "342dd112",
   "metadata": {},
   "outputs": [],
   "source": []
  },
  {
   "cell_type": "code",
   "execution_count": null,
   "id": "934a3e3a",
   "metadata": {},
   "outputs": [],
   "source": []
  }
 ],
 "metadata": {
  "kernelspec": {
   "display_name": "JCDL2025",
   "language": "python",
   "name": "python3"
  },
  "language_info": {
   "codemirror_mode": {
    "name": "ipython",
    "version": 3
   },
   "file_extension": ".py",
   "mimetype": "text/x-python",
   "name": "python",
   "nbconvert_exporter": "python",
   "pygments_lexer": "ipython3",
   "version": "3.12.11"
  }
 },
 "nbformat": 4,
 "nbformat_minor": 5
}
