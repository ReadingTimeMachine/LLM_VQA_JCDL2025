{
 "cells": [
  {
   "cell_type": "code",
   "execution_count": 1,
   "id": "a384e543",
   "metadata": {},
   "outputs": [],
   "source": [
    "# save files\n",
    "fullproc_r = './resources/' # for words/names\n",
    "\n",
    "# where to save the figures that are created\n",
    "fake_figs_dir = './example_contours/' # saving in github only for small numbers\n",
    "# stop overwriting what is there\n",
    "#fake_figs_dir = '/Users/jnaiman/Downloads/tmp/JCDL2025/example_contours/'\n",
    "\n",
    "# format for saving images?\n",
    "img_format = ['jpeg']\n",
    "\n",
    "# save diagnostic plot with all items labeled?\n",
    "save_diagnostic_plot = True"
   ]
  },
  {
   "cell_type": "code",
   "execution_count": 2,
   "id": "04d8c43d",
   "metadata": {},
   "outputs": [],
   "source": [
    "# import matplotlib.pyplot as plt\n",
    "# plt.errorbar?"
   ]
  },
  {
   "cell_type": "code",
   "execution_count": 3,
   "id": "82acb676",
   "metadata": {},
   "outputs": [],
   "source": [
    "# debug\n",
    "from importlib import reload\n",
    "\n",
    "import numpy as np\n",
    "import matplotlib.pyplot as plt\n",
    "from PIL import Image\n",
    "import cv2 as cv\n",
    "import pickle\n",
    "import pandas as pd\n",
    "#import string\n",
    "from glob import glob\n",
    "from mpl_toolkits.axes_grid1 import make_axes_locatable\n",
    "from PIL import ImageColor\n",
    "import json\n",
    "import os\n",
    "from copy import deepcopy\n",
    "import copy\n",
    "\n",
    "from utils.metric_utils.utilities import isRectangleOverlap\n",
    "\n",
    "import time\n",
    "\n",
    "import matplotlib as mpl\n",
    "import os\n",
    "os.environ[\"PATH\"] += os.pathsep + '/Library/TeX/texbin'\n",
    "mpl.rcParams['text.usetex'] = True\n",
    "mpl.rcParams['text.latex.preamble'] = r'\\usepackage{amsmath} \\usepackage{amssymb}' #for \\text command\n",
    "\n",
    "# written libs -- will update locally\n",
    "from utils.synthetic_fig_utils import subset_by_percent, \\\n",
    " get_nrows_and_ncols, normalize_params_prob, get_ticks, get_titles_or_labels, \\\n",
    " get_font_info\n",
    "\n",
    "import utils.plot_utils\n",
    "reload(utils.plot_utils)\n",
    "from utils.plot_utils import get_contour_plot, get_histogram_plot, \\\n",
    "   get_line_plot, get_scatter_plot, make_plot, colorbar_mods, make_base_plot#, get_line_plot\n",
    "\n",
    "from utils.text_utils import get_popular_nouns, get_inline_math\n",
    "\n",
    "# create a bunch of fake figures\n",
    "import utils.synthetic_fig_utils\n",
    "reload(utils.synthetic_fig_utils)\n",
    "from utils.synthetic_fig_utils import normalize_params_prob, add_titles_and_labels\n",
    "from utils.plot_parameters import plot_types_params, panel_params, \\\n",
    "  title_params, xlabel_params, colorbar_params, \\\n",
    "  ylabel_params, aspect_fig_params, dpi_params, tight_layout_params, \\\n",
    "  fontsizes, base\n",
    "\n",
    "from utils.data_utils import get_data, NumpyEncoder\n",
    "import numpy as np\n",
    "\n",
    "import utils.distribution_utils\n",
    "\n",
    "from utils.plot_utils import markers\n",
    "marker_sizes = np.arange(0,10)+1\n",
    "line_list_thick = np.arange(1,10)\n",
    "\n",
    "use_uniques = True # use unique inlines\n",
    "verbose = True\n",
    "\n",
    "from sys import path\n",
    "path.append('/Library/TeX/texbin/')\n",
    "\n",
    "\n",
    "\n",
    "# for seed\n",
    "from sys import maxsize as maxint\n",
    "\n",
    "import warnings\n",
    "warnings.filterwarnings(\"error\")"
   ]
  },
  {
   "cell_type": "code",
   "execution_count": 4,
   "id": "4d785d10",
   "metadata": {},
   "outputs": [],
   "source": [
    "# check directories\n",
    "img_dir = fake_figs_dir + '/imgs/'\n",
    "if not os.path.exists(img_dir):\n",
    "    os.mkdir(img_dir)\n",
    "    print('made:', img_dir)\n",
    "json_dir = fake_figs_dir + '/jsons/'\n",
    "if not os.path.exists(json_dir):\n",
    "    os.mkdir(json_dir)\n",
    "    print('made:', json_dir)"
   ]
  },
  {
   "cell_type": "code",
   "execution_count": 5,
   "id": "b066179c",
   "metadata": {},
   "outputs": [],
   "source": [
    "# get fonts -- see \"cnn_create_synthetic_ticks\" in FullProcess\n",
    "dfont = pd.read_csv(fullproc_r + 'fonts.csv')\n",
    "\n",
    "# check that location is there\n",
    "drop_names = []\n",
    "for fl in dfont['font location']:\n",
    "    if not os.path.exists(fl):\n",
    "        drop_names.append(False)\n",
    "    else:\n",
    "        drop_names.append(True)\n",
    "\n",
    "font_names = dfont.loc[drop_names]['font name'].values\n",
    "\n",
    "# # for plot styles\n",
    "# plot_styles = plt.style.available\n",
    "\n",
    "# plot_types_qa = ['line', 'scatter', 'histogram']\n",
    "\n",
    "plot_styles = ['default']"
   ]
  },
  {
   "cell_type": "code",
   "execution_count": 6,
   "id": "52bbd3e2",
   "metadata": {},
   "outputs": [],
   "source": [
    "# stats for doing calculations\n",
    "stats = {'minimum':np.min, 'maximum':np.max, 'median':np.median, 'mean':np.mean}\n",
    "\n",
    "# some things to try\n",
    "aspect_cut = {'min':0.3, 'max':4.0}"
   ]
  },
  {
   "cell_type": "code",
   "execution_count": 7,
   "id": "9f0dc2a5",
   "metadata": {},
   "outputs": [
    {
     "name": "stdout",
     "output_type": "stream",
     "text": [
      "16253 343492\n",
      "shape of output= (5097, 5)\n",
      "shape of output= (36332, 5)\n",
      "number of inlines =  33201\n"
     ]
    }
   ],
   "source": [
    "# get popular words for titles/axis\n",
    "popular_nouns = get_popular_nouns(fullproc_r + 'data/')\n",
    "\n",
    "# get inline math formulas\n",
    "inlines = get_inline_math(fullproc_r,\n",
    "                          recreate_inlines=False,\n",
    "                         use_uniques=use_uniques)"
   ]
  },
  {
   "cell_type": "markdown",
   "id": "3949dc13",
   "metadata": {},
   "source": [
    "## Update plotting params"
   ]
  },
  {
   "cell_type": "markdown",
   "id": "05193107",
   "metadata": {},
   "source": [
    "### Plot type params"
   ]
  },
  {
   "cell_type": "code",
   "execution_count": 8,
   "id": "c1be6ee7",
   "metadata": {},
   "outputs": [],
   "source": [
    "plot_params = plot_types_params.copy()"
   ]
  },
  {
   "cell_type": "code",
   "execution_count": 9,
   "id": "5a9fe905",
   "metadata": {},
   "outputs": [],
   "source": [
    "# prob of getting a contour plot -- only contours here\n",
    "plot_params['contour']['prob'] = 1\n",
    "\n",
    "# probability of getting a scatter plot \n",
    "plot_params['scatter']['prob'] = 0\n",
    "# probability of getting a line \n",
    "plot_params['line']['prob'] = 0\n",
    "# prob for getting a histogram\n",
    "plot_params['histogram']['prob'] = 0"
   ]
  },
  {
   "cell_type": "markdown",
   "id": "b958d73a-fd58-46b5-9af3-b91cda577b56",
   "metadata": {},
   "source": [
    "### Other parameters"
   ]
  },
  {
   "cell_type": "code",
   "execution_count": 10,
   "id": "8b36fa32-a85d-4dbe-a4f5-bf0be3685094",
   "metadata": {},
   "outputs": [],
   "source": [
    "# for ease of things, lets not do equations here\n",
    "title_params['equation']['prob'] = 0.0 # probability any word will be equation\n",
    "xlabel_params['equation']['prob'] = 0.0 # probability any word will be equation\n",
    "ylabel_params['equation']['prob'] = 0.0 # probability any word will be equation"
   ]
  },
  {
   "cell_type": "markdown",
   "id": "2fae2d31-cdf8-4fde-9302-5f91d9767a7c",
   "metadata": {},
   "source": [
    "Renormalize all probabilities:"
   ]
  },
  {
   "cell_type": "code",
   "execution_count": 11,
   "id": "a1cd495c-be76-4d40-bc74-86e5efecf417",
   "metadata": {},
   "outputs": [
    {
     "name": "stdout",
     "output_type": "stream",
     "text": [
      "title_params capatilize did not add to 1! total = 1.2999999999999998\n",
      "renormalizing...\n",
      "now:  {'none': 0.07692307692307694, 'first': 0.3846153846153847, 'all': 0.5384615384615385}\n",
      "xlabel_params capatilize did not add to 1! total = 1.2999999999999998\n",
      "renormalizing...\n",
      "now:  {'none': 0.07692307692307694, 'first': 0.3846153846153847, 'all': 0.5384615384615385}\n",
      "ylabel_params capatilize did not add to 1! total = 1.2999999999999998\n",
      "renormalizing...\n",
      "now:  {'none': 0.07692307692307694, 'first': 0.3846153846153847, 'all': 0.5384615384615385}\n",
      "colorbar_params capatilize did not add to 1! total = 1.2999999999999998\n",
      "renormalizing...\n",
      "now:  {'none': 0.07692307692307694, 'first': 0.3846153846153847, 'all': 0.5384615384615385}\n",
      "plot_types_params['scatter']['color bar']['location probs'] did not add to 1! total = 0.8500000000000001\n",
      "renormalizing...\n",
      "now:  {'right': 0.588235294117647, 'left': 0.058823529411764705, 'top': 0.2941176470588235, 'bottom': 0.058823529411764705}\n",
      "plot_types_params['contour']['color bar']['location probs'] did not add to 1! total = 0.8500000000000001\n",
      "renormalizing...\n",
      "now:  {'right': 0.588235294117647, 'left': 0.058823529411764705, 'top': 0.2941176470588235, 'bottom': 0.058823529411764705}\n",
      "plot_types_params['contour']['image or contour']['prob'] did not add to 1! total = 3.0\n",
      "renormalizing...\n",
      "now:  {'image': 0.3333333333333333, 'contour': 0.3333333333333333, 'both': 0.3333333333333333}\n",
      "plot_types_params['line']['distribution'] probabilities did not add to 1! total = 3\n",
      "renormalizing...\n",
      "now:  [0.3333333333333333, 0.3333333333333333, 0.3333333333333333]\n",
      "plot_types_params['histogram']['distribution'] probabilities did not add to 1! total = 3\n",
      "renormalizing...\n",
      "now:  [0.3333333333333333, 0.3333333333333333, 0.3333333333333333]\n",
      "plot_types_params['scatter']['distribution'] probabilities did not add to 1! total = 3\n",
      "renormalizing...\n",
      "now:  [0.3333333333333333, 0.3333333333333333, 0.3333333333333333]\n",
      "plot_types_params['contour']['distribution'] probabilities did not add to 1! total = 3\n",
      "renormalizing...\n",
      "now:  [0.3333333333333333, 0.3333333333333333, 0.3333333333333333]\n"
     ]
    },
    {
     "data": {
      "text/plain": [
       "{'line': {'prob': 0,\n",
       "  'npoints': {'min': 10, 'max': 11},\n",
       "  'line thick': {'min': 1, 'max': 5},\n",
       "  'nlines': {'min': 2, 'max': 3},\n",
       "  'xmin': -10000,\n",
       "  'xmax': 10000,\n",
       "  'ymin': -10000,\n",
       "  'ymax': 10000,\n",
       "  'prob same x': 0.1,\n",
       "  'markers': {'prob': 0.5, 'size': {'min': 1, 'max': 20}},\n",
       "  'error bars': {'elinewidth': {'min': 1, 'max': 5},\n",
       "   'x': {'prob': 0.25, 'size': {'min': 0.01, 'max': 0.1}},\n",
       "   'y': {'prob': 0.25, 'size': {'min': 0.01, 'max': 0.1}}},\n",
       "  'distribution': {'random': {'prob': 0.3333333333333333},\n",
       "   'linear': {'prob': 0.3333333333333333,\n",
       "    'intersect': (-100, 100),\n",
       "    'slope': (-5, 5),\n",
       "    'noise': (0, 0.25)},\n",
       "   'gmm': {'prob': 0.3333333333333333,\n",
       "    'histogram as line': {'prob': 0.25, 'factor': 1000},\n",
       "    'nclusters': {'min': 1, 'max': 20},\n",
       "    'nsamples': {'min': 10, 'max': 500},\n",
       "    'cluster std': {'min': -2, 'max': 0.5},\n",
       "    'noise': {'min': 0.05, 'max': 0.25}}}},\n",
       " 'histogram': {'prob': 0,\n",
       "  'npoints': {'min': 10, 'max': 10000},\n",
       "  'nbins': {'min': 1, 'max': 100},\n",
       "  'rwidth': {'min': 0.2, 'max': 1.0},\n",
       "  'line thick': {'prob': 0.5, 'min': 1, 'max': 5},\n",
       "  'nlines': {'min': 2, 'max': 3},\n",
       "  'xmin': -10000,\n",
       "  'xmax': 10000,\n",
       "  'error bars': {'elinewidth': {'min': 1, 'max': 5},\n",
       "   'x': {'prob': 1, 'size': {'min': 0.01, 'max': 0.1}}},\n",
       "  'horizontal prob': 0.25,\n",
       "  'distribution': {'random': {'prob': 0.3333333333333333},\n",
       "   'linear': {'prob': 0.3333333333333333,\n",
       "    'intersect': (-100, 100),\n",
       "    'slope': (-5, 5),\n",
       "    'noise': (0, 0.25)},\n",
       "   'gmm': {'prob': 0.3333333333333333,\n",
       "    'xmin': -10000,\n",
       "    'xmax': 10000,\n",
       "    'ymin': -10000,\n",
       "    'ymax': 10000,\n",
       "    'nclusters': {'min': 1, 'max': 20},\n",
       "    'nsamples': {'min': 10, 'max': 500},\n",
       "    'cluster std': {'min': -1, 'max': 1.5},\n",
       "    'noise': {'min': 0.05, 'max': 0.25}}}},\n",
       " 'scatter': {'prob': 0,\n",
       "  'npoints': {'min': 10, 'max': 100},\n",
       "  'markers': {'size': {'min': 1, 'max': 30}},\n",
       "  'colors': {'min': -100, 'max': 100},\n",
       "  'colormap scatter': {'prob': 0.95},\n",
       "  'color bar': {'location probs': {'right': 0.588235294117647,\n",
       "    'left': 0.058823529411764705,\n",
       "    'top': 0.2941176470588235,\n",
       "    'bottom': 0.058823529411764705},\n",
       "   'label prob': 0.5,\n",
       "   'size percent': {'min': 0.05, 'max': 0.15},\n",
       "   'pad': {'min': 0.01, 'max': 0.2}},\n",
       "  'xmin': -10000,\n",
       "  'xmax': 10000,\n",
       "  'ymin': -10000,\n",
       "  'ymax': 10000,\n",
       "  'error bars': {'elinewidth': {'min': 1, 'max': 5},\n",
       "   'x': {'prob': 0.25, 'size': {'min': 0.01, 'max': 0.1}},\n",
       "   'y': {'prob': 0.25, 'size': {'min': 0.01, 'max': 0.1}}},\n",
       "  'distribution': {'random': {'prob': 0.3333333333333333},\n",
       "   'linear': {'prob': 0.3333333333333333,\n",
       "    'intersect': (-100, 100),\n",
       "    'slope': (-5, 5),\n",
       "    'noise': (0, 0.25),\n",
       "    'color noise prob': 0.5},\n",
       "   'gmm': {'prob': 0.3333333333333333,\n",
       "    'upsample factor log': {'min': 2, 'max': 6},\n",
       "    'nclusters': {'min': 1, 'max': 5},\n",
       "    'nsamples': {'min': 1000, 'max': 50000},\n",
       "    'cluster std': {'min': -1, 'max': 0.5},\n",
       "    'noise': {'min': 0.05, 'max': 0.25},\n",
       "    'color noise prob': 0.5,\n",
       "    'max points': 200}}},\n",
       " 'contour': {'prob': 1,\n",
       "  'npoints': {'nx': {'min': 10, 'max': 500}, 'ny': {'min': 10, 'max': 500}},\n",
       "  'nlines': {'min': 3, 'max': 10},\n",
       "  'colors': {'min': -100, 'max': 100},\n",
       "  'colormap contour': {'prob': 0.95},\n",
       "  'color bar': {'location probs': {'right': 0.588235294117647,\n",
       "    'left': 0.058823529411764705,\n",
       "    'top': 0.2941176470588235,\n",
       "    'bottom': 0.058823529411764705},\n",
       "   'label prob': 0.5,\n",
       "   'size percent': {'min': 0.05, 'max': 0.15},\n",
       "   'pad': {'min': 0.01, 'max': 0.2}},\n",
       "  'image or contour': {'prob': {'image': 0.3333333333333333,\n",
       "    'contour': 0.3333333333333333,\n",
       "    'both': 0.3333333333333333},\n",
       "   'both contours': {'prob gray': 0.95}},\n",
       "  'xmin': -10000,\n",
       "  'xmax': 10000,\n",
       "  'ymin': -10000,\n",
       "  'ymax': 10000,\n",
       "  'distribution': {'random': {'prob': 0.3333333333333333},\n",
       "   'linear': {'prob': 0.3333333333333333,\n",
       "    'intersect': (-100, 100),\n",
       "    'slope': (-5, 5),\n",
       "    'noise': (0, 0.25)},\n",
       "   'gmm': {'prob': 0.3333333333333333,\n",
       "    'nclusters': {'min': 1, 'max': 500},\n",
       "    'upsample factor log': {'min': 0, 'max': 0.5},\n",
       "    'cluster std': {'min': -1, 'max': 1.5},\n",
       "    'noise': {'min': 0.05, 'max': 0.25},\n",
       "    'color noise prob': 0.5}}}}"
      ]
     },
     "execution_count": 11,
     "metadata": {},
     "output_type": "execute_result"
    }
   ],
   "source": [
    "# reload for debug\n",
    "import utils.synthetic_fig_utils\n",
    "reload(utils)\n",
    "reload(utils.synthetic_fig_utils)\n",
    "from utils.synthetic_fig_utils import normalize_params_prob\n",
    "\n",
    "plot_params_out, panel_params, \\\n",
    "  title_params, xlabel_params, \\\n",
    "  ylabel_params = normalize_params_prob(plot_params.copy(), panel_params, \n",
    "                                        title_params, xlabel_params, \n",
    "                                        ylabel_params, colorbar_params)\n",
    "\n",
    "plot_params_out"
   ]
  },
  {
   "cell_type": "markdown",
   "id": "5231b45e",
   "metadata": {},
   "source": [
    "### Run the thing"
   ]
  },
  {
   "cell_type": "code",
   "execution_count": 12,
   "id": "2751985c",
   "metadata": {},
   "outputs": [
    {
     "name": "stdout",
     "output_type": "stream",
     "text": [
      "seed_outer = 6700012876856450103\n"
     ]
    }
   ],
   "source": [
    "# Set a seed if you want a reproducible thing\n",
    "seed_outer = np.random.randint(maxint)\n",
    "#seed_outer = 7526304181034464103\n",
    "seed_outer = 6700012876856450103\n",
    "\n",
    "print('seed_outer =',seed_outer)\n",
    "rng_outer = np.random.default_rng(seed_outer)"
   ]
  },
  {
   "cell_type": "code",
   "execution_count": 13,
   "id": "27aa8e6c",
   "metadata": {},
   "outputs": [
    {
     "name": "stdout",
     "output_type": "stream",
     "text": [
      "seed =  5072914243971748393\n"
     ]
    }
   ],
   "source": [
    "# \"Inner\" seed -- for things like distributions and whatnot\n",
    "seed = np.random.randint(maxint)\n",
    "#seed = 2870146871786070273\n",
    "#seed = 7067533564274193147\n",
    "print('seed = ', seed)\n",
    "# based on seed, make random number generator, see: https://numpy.org/doc/2.2/reference/random/generator.html\n",
    "rng = np.random.default_rng(seed)\n",
    "condition_overlap_xticklabels = True"
   ]
  },
  {
   "cell_type": "code",
   "execution_count": 14,
   "id": "3d28ba6e",
   "metadata": {},
   "outputs": [],
   "source": [
    "# set some things to keep standard across images\n",
    "\n",
    "tight_layout = True\n",
    "\n",
    "color_map = 'Blues' #rng_outer.choice(plt.colormaps())\n",
    "\n",
    "plot_style = 'default' #rng_outer.choice(plot_styles)\n",
    "\n",
    "npanels, panel_style, nrows, ncols = 1, 'square', 1, 1 #get_nrows_and_ncols(panel_params, rng=rng_outer)\n",
    "\n",
    "aspect_fig = 0.9\n",
    "\n",
    "dpi =  300 # int(rng_outer.uniform(low=dpi_params['min'], high=dpi_params['max']))"
   ]
  },
  {
   "cell_type": "code",
   "execution_count": 15,
   "id": "4a4a2738",
   "metadata": {},
   "outputs": [],
   "source": [
    "# use the \"fixed\" RNG outer\n",
    "# get all font stuffs\n",
    "title_fontsize, colorbar_fontsize, xlabel_fontsize, ylabel_fontsize, \\\n",
    "    xlabel_ticks_fontsize, ylabel_ticks_fontsize, \\\n",
    "                        csfont = get_font_info(fontsizes, font_names, rng=rng_outer)"
   ]
  },
  {
   "cell_type": "code",
   "execution_count": 16,
   "id": "4910eae0",
   "metadata": {},
   "outputs": [
    {
     "data": {
      "text/plain": [
       "np.str_('contour')"
      ]
     },
     "execution_count": 16,
     "metadata": {},
     "output_type": "execute_result"
    }
   ],
   "source": [
    "choices = []; probs = []\n",
    "for k,v in plot_params_out.items():\n",
    "    choices.append(k)\n",
    "    probs.append(v['prob'])\n",
    "\n",
    "plot_type = rng.choice(choices, p=probs)\n",
    "plot_type"
   ]
  },
  {
   "cell_type": "markdown",
   "id": "04fad8b5",
   "metadata": {},
   "source": [
    "Set a few params that we want as fixed:"
   ]
  },
  {
   "cell_type": "code",
   "execution_count": 17,
   "id": "f70f1ae0",
   "metadata": {},
   "outputs": [],
   "source": [
    "distribution_type = 'gmm'\n",
    "xmin, xmax = -1, 1 # for now\n",
    "ymin,ymax = -1,1 \n",
    "\n",
    "# now specific for *this plot*\n",
    "plot_params_here = plot_params_out.copy()\n",
    "\n",
    "plot_params_here['contour']['npoints']['nx'] = {'min':10, 'max':500}\n",
    "plot_params_here['contour']['npoints']['ny'] = {'min':10, 'max':500}\n",
    "\n",
    "\n",
    "plot_params_here['contour']['xmin'] = xmin\n",
    "plot_params_here['contour']['xmax'] = xmax\n",
    "plot_params_here['contour']['ymin'] = ymin\n",
    "plot_params_here['contour']['ymax'] = ymax\n",
    "# also for plotting colors\n",
    "plot_params_here['contour']['colors'] = {'min':-1, 'max':1}\n",
    "\n",
    "plot_params_here['contour']['distribution']['gmm']['nclusters'] = {'min': 1, 'max': 1}\n",
    "plot_params_here['contour']['distribution']['gmm']['nsamples'] = {'min': 10000, 'max': 10000}\n",
    "plot_params_here['contour']['distribution']['gmm']['upsample factor log'] = {'min':0.0,'max':0.5}\n",
    "\n",
    "\n",
    "dist_params = plot_params_here[plot_type]['distribution'] "
   ]
  },
  {
   "cell_type": "code",
   "execution_count": 18,
   "id": "1e68796f",
   "metadata": {},
   "outputs": [
    {
     "data": {
      "text/plain": [
       "{'random': {'prob': 0.3333333333333333},\n",
       " 'linear': {'prob': 0.3333333333333333,\n",
       "  'intersect': (-100, 100),\n",
       "  'slope': (-5, 5),\n",
       "  'noise': (0, 0.25)},\n",
       " 'gmm': {'prob': 0.3333333333333333,\n",
       "  'nclusters': {'min': 1, 'max': 1},\n",
       "  'upsample factor log': {'min': 0.0, 'max': 0.5},\n",
       "  'cluster std': {'min': -1, 'max': 1.5},\n",
       "  'noise': {'min': 0.05, 'max': 0.25},\n",
       "  'color noise prob': 0.5,\n",
       "  'nsamples': {'min': 10000, 'max': 10000}}}"
      ]
     },
     "execution_count": 18,
     "metadata": {},
     "output_type": "execute_result"
    }
   ],
   "source": [
    "dist_params"
   ]
  },
  {
   "cell_type": "code",
   "execution_count": 19,
   "id": "3502e136",
   "metadata": {},
   "outputs": [
    {
     "name": "stdout",
     "output_type": "stream",
     "text": [
      "seed =  4595599644534801978\n"
     ]
    },
    {
     "data": {
      "text/plain": [
       "{'xs': array([-0.57076119, -0.56683849, -0.56291579, -0.55899309, -0.55507038,\n",
       "        -0.55114768, -0.54722498, -0.54330228, -0.53937958, -0.53545687,\n",
       "        -0.53153417, -0.52761147, -0.52368877, -0.51976606, -0.51584336,\n",
       "        -0.51192066, -0.50799796, -0.50407526, -0.50015255, -0.49622985,\n",
       "        -0.49230715, -0.48838445, -0.48446175, -0.48053904, -0.47661634,\n",
       "        -0.47269364, -0.46877094, -0.46484823, -0.46092553, -0.45700283,\n",
       "        -0.45308013, -0.44915743, -0.44523472, -0.44131202, -0.43738932,\n",
       "        -0.43346662, -0.42954391, -0.42562121, -0.42169851, -0.41777581,\n",
       "        -0.41385311, -0.4099304 , -0.4060077 , -0.402085  , -0.3981623 ,\n",
       "        -0.3942396 , -0.39031689, -0.38639419, -0.38247149, -0.37854879,\n",
       "        -0.37462608, -0.37070338, -0.36678068, -0.36285798, -0.35893528,\n",
       "        -0.35501257, -0.35108987, -0.34716717, -0.34324447, -0.33932176,\n",
       "        -0.33539906, -0.33147636, -0.32755366, -0.32363096, -0.31970825,\n",
       "        -0.31578555, -0.31186285, -0.30794015, -0.30401745, -0.30009474,\n",
       "        -0.29617204, -0.29224934, -0.28832664, -0.28440393, -0.28048123,\n",
       "        -0.27655853, -0.27263583, -0.26871313, -0.26479042, -0.26086772,\n",
       "        -0.25694502, -0.25302232, -0.24909962, -0.24517691, -0.24125421,\n",
       "        -0.23733151, -0.23340881, -0.2294861 , -0.2255634 , -0.2216407 ,\n",
       "        -0.217718  , -0.2137953 , -0.20987259, -0.20594989, -0.20202719,\n",
       "        -0.19810449, -0.19418178, -0.19025908, -0.18633638, -0.18241368,\n",
       "        -0.17849098, -0.17456827, -0.17064557, -0.16672287, -0.16280017,\n",
       "        -0.15887747, -0.15495476, -0.15103206, -0.14710936, -0.14318666,\n",
       "        -0.13926395, -0.13534125, -0.13141855, -0.12749585, -0.12357315,\n",
       "        -0.11965044, -0.11572774, -0.11180504, -0.10788234, -0.10395963,\n",
       "        -0.10003693, -0.09611423, -0.09219153, -0.08826883, -0.08434612,\n",
       "        -0.08042342, -0.07650072, -0.07257802, -0.06865532, -0.06473261,\n",
       "        -0.06080991, -0.05688721, -0.05296451, -0.0490418 , -0.0451191 ,\n",
       "        -0.0411964 , -0.0372737 , -0.033351  , -0.02942829, -0.02550559,\n",
       "        -0.02158289, -0.01766019, -0.01373748, -0.00981478, -0.00589208,\n",
       "        -0.00196938,  0.00195332,  0.00587603,  0.00979873,  0.01372143,\n",
       "         0.01764413,  0.02156683,  0.02548954,  0.02941224,  0.03333494,\n",
       "         0.03725764,  0.04118035,  0.04510305,  0.04902575,  0.05294845,\n",
       "         0.05687115,  0.06079386,  0.06471656,  0.06863926,  0.07256196,\n",
       "         0.07648467,  0.08040737,  0.08433007,  0.08825277,  0.09217547,\n",
       "         0.09609818,  0.10002088,  0.10394358,  0.10786628,  0.11178898,\n",
       "         0.11571169,  0.11963439,  0.12355709,  0.12747979,  0.1314025 ,\n",
       "         0.1353252 ,  0.1392479 ,  0.1431706 ,  0.1470933 ,  0.15101601,\n",
       "         0.15493871,  0.15886141,  0.16278411,  0.16670682,  0.17062952,\n",
       "         0.17455222,  0.17847492,  0.18239762,  0.18632033,  0.19024303,\n",
       "         0.19416573,  0.19808843,  0.20201113,  0.20593384,  0.20985654,\n",
       "         0.21377924,  0.21770194,  0.22162465,  0.22554735,  0.22947005,\n",
       "         0.23339275,  0.23731545,  0.24123816,  0.24516086,  0.24908356,\n",
       "         0.25300626,  0.25692896,  0.26085167,  0.26477437,  0.26869707,\n",
       "         0.27261977,  0.27654248,  0.28046518,  0.28438788,  0.28831058,\n",
       "         0.29223328,  0.29615599,  0.30007869,  0.30400139,  0.30792409,\n",
       "         0.3118468 ,  0.3157695 ,  0.3196922 ,  0.3236149 ,  0.3275376 ,\n",
       "         0.33146031,  0.33538301,  0.33930571,  0.34322841,  0.34715111,\n",
       "         0.35107382,  0.35499652,  0.35891922,  0.36284192,  0.36676463,\n",
       "         0.37068733,  0.37461003,  0.37853273,  0.38245543,  0.38637814,\n",
       "         0.39030084,  0.39422354,  0.39814624,  0.40206895,  0.40599165,\n",
       "         0.40991435,  0.41383705,  0.41775975,  0.42168246,  0.42560516,\n",
       "         0.42952786,  0.43345056,  0.43737326,  0.44129597,  0.44521867,\n",
       "         0.44914137,  0.45306407,  0.45698678,  0.46090948,  0.46483218,\n",
       "         0.46875488,  0.47267758,  0.47660029,  0.48052299,  0.48444569,\n",
       "         0.48836839,  0.4922911 ,  0.4962138 ,  0.5001365 ,  0.5040592 ,\n",
       "         0.5079819 ,  0.51190461,  0.51582731,  0.51975001,  0.52367271,\n",
       "         0.52759541,  0.53151812,  0.53544082,  0.53936352,  0.54328622,\n",
       "         0.54720893,  0.55113163,  0.55505433,  0.55897703,  0.56289973,\n",
       "         0.56682244,  0.57074514,  0.57466784,  0.57859054,  0.58251325,\n",
       "         0.58643595]),\n",
       " 'ys': array([-0.95296187, -0.95176879, -0.95057572, -0.94938264, -0.94818956,\n",
       "        -0.94699648, -0.94580341, -0.94461033, -0.94341725, -0.94222417,\n",
       "        -0.9410311 , -0.93983802, -0.93864494, -0.93745186, -0.93625878,\n",
       "        -0.93506571, -0.93387263, -0.93267955, -0.93148647, -0.9302934 ,\n",
       "        -0.92910032, -0.92790724, -0.92671416, -0.92552109, -0.92432801,\n",
       "        -0.92313493, -0.92194185, -0.92074878, -0.9195557 , -0.91836262,\n",
       "        -0.91716954, -0.91597647, -0.91478339, -0.91359031, -0.91239723,\n",
       "        -0.91120416, -0.91001108, -0.908818  , -0.90762492, -0.90643184,\n",
       "        -0.90523877, -0.90404569, -0.90285261, -0.90165953, -0.90046646,\n",
       "        -0.89927338, -0.8980803 , -0.89688722, -0.89569415, -0.89450107,\n",
       "        -0.89330799, -0.89211491, -0.89092184, -0.88972876, -0.88853568,\n",
       "        -0.8873426 , -0.88614953, -0.88495645, -0.88376337, -0.88257029,\n",
       "        -0.88137722, -0.88018414, -0.87899106, -0.87779798, -0.87660491,\n",
       "        -0.87541183, -0.87421875, -0.87302567, -0.87183259, -0.87063952,\n",
       "        -0.86944644, -0.86825336, -0.86706028, -0.86586721, -0.86467413,\n",
       "        -0.86348105, -0.86228797, -0.8610949 , -0.85990182, -0.85870874,\n",
       "        -0.85751566, -0.85632259, -0.85512951, -0.85393643, -0.85274335,\n",
       "        -0.85155028, -0.8503572 , -0.84916412, -0.84797104, -0.84677797,\n",
       "        -0.84558489, -0.84439181, -0.84319873, -0.84200566, -0.84081258,\n",
       "        -0.8396195 , -0.83842642, -0.83723334, -0.83604027, -0.83484719,\n",
       "        -0.83365411, -0.83246103, -0.83126796, -0.83007488, -0.8288818 ,\n",
       "        -0.82768872, -0.82649565, -0.82530257, -0.82410949, -0.82291641,\n",
       "        -0.82172334, -0.82053026, -0.81933718, -0.8181441 , -0.81695103,\n",
       "        -0.81575795, -0.81456487, -0.81337179, -0.81217872, -0.81098564,\n",
       "        -0.80979256, -0.80859948, -0.8074064 , -0.80621333, -0.80502025,\n",
       "        -0.80382717, -0.80263409, -0.80144102, -0.80024794, -0.79905486,\n",
       "        -0.79786178, -0.79666871, -0.79547563, -0.79428255, -0.79308947,\n",
       "        -0.7918964 , -0.79070332, -0.78951024, -0.78831716, -0.78712409,\n",
       "        -0.78593101, -0.78473793, -0.78354485, -0.78235178, -0.7811587 ,\n",
       "        -0.77996562, -0.77877254, -0.77757947, -0.77638639, -0.77519331,\n",
       "        -0.77400023, -0.77280715, -0.77161408, -0.770421  , -0.76922792,\n",
       "        -0.76803484, -0.76684177, -0.76564869, -0.76445561, -0.76326253,\n",
       "        -0.76206946, -0.76087638, -0.7596833 , -0.75849022, -0.75729715,\n",
       "        -0.75610407, -0.75491099, -0.75371791, -0.75252484, -0.75133176,\n",
       "        -0.75013868, -0.7489456 , -0.74775253, -0.74655945, -0.74536637,\n",
       "        -0.74417329, -0.74298022, -0.74178714, -0.74059406, -0.73940098,\n",
       "        -0.7382079 , -0.73701483, -0.73582175, -0.73462867, -0.73343559,\n",
       "        -0.73224252, -0.73104944, -0.72985636, -0.72866328, -0.72747021,\n",
       "        -0.72627713, -0.72508405, -0.72389097, -0.7226979 , -0.72150482,\n",
       "        -0.72031174, -0.71911866, -0.71792559, -0.71673251, -0.71553943,\n",
       "        -0.71434635, -0.71315328, -0.7119602 , -0.71076712, -0.70957404,\n",
       "        -0.70838096, -0.70718789, -0.70599481, -0.70480173, -0.70360865,\n",
       "        -0.70241558, -0.7012225 , -0.70002942, -0.69883634, -0.69764327,\n",
       "        -0.69645019, -0.69525711, -0.69406403, -0.69287096, -0.69167788,\n",
       "        -0.6904848 , -0.68929172, -0.68809865, -0.68690557, -0.68571249,\n",
       "        -0.68451941, -0.68332634, -0.68213326, -0.68094018, -0.6797471 ,\n",
       "        -0.67855403, -0.67736095, -0.67616787, -0.67497479, -0.67378171,\n",
       "        -0.67258864, -0.67139556, -0.67020248, -0.6690094 , -0.66781633,\n",
       "        -0.66662325, -0.66543017, -0.66423709, -0.66304402, -0.66185094,\n",
       "        -0.66065786, -0.65946478]),\n",
       " 'colors': array([[-0.48406755, -0.83596313, -0.57510023, ..., -0.8859277 ,\n",
       "         -0.73091619, -0.7232119 ],\n",
       "        [-0.37250673, -0.50123441, -0.59351558, ..., -0.94213969,\n",
       "         -0.95680735, -0.71352883],\n",
       "        [-0.54932708, -0.25086961, -0.64624566, ..., -0.63866141,\n",
       "         -0.9641054 , -0.89388954],\n",
       "        ...,\n",
       "        [-0.48242681, -0.2914314 , -0.81082601, ..., -0.81921388,\n",
       "         -0.79147524, -0.62180085],\n",
       "        [-0.83646448, -0.58064952, -0.1844121 , ..., -0.76584657,\n",
       "         -0.67722856, -0.90652736],\n",
       "        [-0.48078643, -0.45126857, -0.38052481, ..., -0.94305494,\n",
       "         -1.03425596, -0.71422253]], shape=(247, 296)),\n",
       " 'data params': {'nsamples': 4,\n",
       "  'nclusters': 1,\n",
       "  'centers': array([[-0.37285418, -0.70957164]]),\n",
       "  'cluster_std': array([[0.35558801, 1.13016969]]),\n",
       "  'noise level': 0.11047007499384971}}"
      ]
     },
     "execution_count": 19,
     "metadata": {},
     "output_type": "execute_result"
    }
   ],
   "source": [
    "import utils.distribution_utils\n",
    "import utils.data_utils\n",
    "reload(utils.distribution_utils)\n",
    "reload(utils.data_utils)\n",
    "from utils.data_utils import get_data\n",
    "import utils.plot_classes_utils\n",
    "reload(utils.plot_classes_utils)\n",
    "\n",
    "seed = np.random.randint(maxint)\n",
    "print('seed = ', seed)\n",
    "rng = np.random.default_rng(seed)\n",
    "\n",
    "data_for_plot = get_data(plot_params_here[plot_type],\n",
    "                plot_type=plot_type,\n",
    "                        distribution=distribution_type, \n",
    "                        rng=rng, verbose=True)\n",
    "data_for_plot"
   ]
  },
  {
   "cell_type": "code",
   "execution_count": 20,
   "id": "71bac712",
   "metadata": {},
   "outputs": [
    {
     "data": {
      "text/plain": [
       "'contour'"
      ]
     },
     "execution_count": 20,
     "metadata": {},
     "output_type": "execute_result"
    }
   ],
   "source": [
    "str(plot_type)"
   ]
  },
  {
   "cell_type": "code",
   "execution_count": null,
   "id": "70a42135",
   "metadata": {},
   "outputs": [],
   "source": []
  },
  {
   "cell_type": "code",
   "execution_count": 21,
   "id": "96266e65",
   "metadata": {},
   "outputs": [],
   "source": [
    "import utils.plot_utils\n",
    "reload(utils.plot_utils)\n",
    "from utils.plot_utils import make_colorbar"
   ]
  },
  {
   "cell_type": "code",
   "execution_count": 22,
   "id": "3ea32095",
   "metadata": {},
   "outputs": [
    {
     "name": "stdout",
     "output_type": "stream",
     "text": [
      "xs,ys len= 99 99\n",
      "figsize (w,h) = (2.666, 2)\n"
     ]
    },
    {
     "data": {
      "text/plain": [
       "<Figure size 640x480 with 0 Axes>"
      ]
     },
     "metadata": {},
     "output_type": "display_data"
    },
    {
     "data": {
      "image/png": "[encoded data removed]",
      "text/plain": [
       "<Figure size 799.8x600 with 2 Axes>"
      ]
     },
     "metadata": {},
     "output_type": "display_data"
    }
   ],
   "source": [
    "import utils.plot_utils\n",
    "reload(utils.plot_utils)\n",
    "import utils.plot_classes_utils\n",
    "reload(utils.plot_classes_utils)\n",
    "from utils.plot_classes_utils import Scatter\n",
    "from utils.plot_utils import make_plot, make_base_plot, make_colorbar\n",
    "\n",
    "colorbar_side = 'right'\n",
    "aspect_fig = 1.333\n",
    "colorbar_size = 0.1 # %\n",
    "colorbar_pad = 0.05\n",
    "nx = 100\n",
    "ny = 100\n",
    "\n",
    "data_for_plot = get_data(plot_params_here[plot_type],\n",
    "                plot_type=plot_type,\n",
    "                        distribution=distribution_type, \n",
    "                        rng=rng, verbose=True, nx=nx, ny=ny)\n",
    "print('xs,ys len=', len(data_for_plot['xs']), len(data_for_plot['ys']))\n",
    "\n",
    "fig, axes, plot_inds = make_base_plot(plot_style, color_map, dpi, nrows, ncols, aspect_fig,\n",
    "                   base=2, verbose=True, tight_layout = tight_layout)\n",
    "\n",
    "data_from_plot, ax = make_plot(plot_params_here[plot_type], data_for_plot, \n",
    "                        axes[0], plot_type=plot_type, \n",
    "                        rng=rng, colorbar_side=colorbar_side, \n",
    "                        colorbar_size=colorbar_size, colorbar_pad = colorbar_pad) \n",
    "\n",
    "title, xlabel, ylabel = add_titles_and_labels(axes[0], 'x title', 'y axis', 'title', \n",
    "                                              title_params, csfont, title_fontsize, \n",
    "                          xlabel_params, ylabel_params, xlabel_fontsize, ylabel_fontsize,\n",
    "                          inlines, xlabel_ticks_fontsize, ylabel_ticks_fontsize,\n",
    "                          rng=rng)\n",
    "cbar, colorbar_words = make_colorbar(data_from_plot, plot_type, fig, \n",
    "                  'colorbar', inlines, colorbar_params,\n",
    "                  title_params, colorbar_fontsize, csfont)\n",
    "#= make_colorbar(data_from_plot, plot_type, fig)"
   ]
  },
  {
   "cell_type": "code",
   "execution_count": 22,
   "id": "938696ba",
   "metadata": {},
   "outputs": [
    {
     "data": {
      "text/plain": [
       "'gmm'"
      ]
     },
     "execution_count": 22,
     "metadata": {},
     "output_type": "execute_result"
    }
   ],
   "source": [
    "distribution_type"
   ]
  },
  {
   "cell_type": "code",
   "execution_count": 23,
   "id": "5954119c",
   "metadata": {},
   "outputs": [
    {
     "data": {
      "text/plain": [
       "{'data': {'contour': <matplotlib.contour.QuadContourSet at 0x340576e70>},\n",
       " 'color bar': <Axes: ylabel='colorbar'>,\n",
       " 'color bar params': {'side': 'right',\n",
       "  'pad': 0.05,\n",
       "  'size': '10%',\n",
       "  'axis side': 'right',\n",
       "  'label prob': 0.5}}"
      ]
     },
     "execution_count": 23,
     "metadata": {},
     "output_type": "execute_result"
    }
   ],
   "source": [
    "data_from_plot"
   ]
  },
  {
   "cell_type": "code",
   "execution_count": 24,
   "id": "6de0aa77",
   "metadata": {},
   "outputs": [],
   "source": [
    "import utils.synthetic_fig_utils\n",
    "reload(utils.synthetic_fig_utils)\n",
    "from utils.synthetic_fig_utils import collect_plot_data_axes"
   ]
  },
  {
   "cell_type": "markdown",
   "id": "c78a47fc",
   "metadata": {},
   "source": [
    "Loop for several distributions and save:"
   ]
  },
  {
   "cell_type": "code",
   "execution_count": 25,
   "id": "6fbb87b6",
   "metadata": {},
   "outputs": [],
   "source": [
    "import utils.plot_qa_utils\n",
    "reload(utils.plot_qa_utils)\n",
    "from utils.plot_qa_utils import init_qa_pairs"
   ]
  },
  {
   "cell_type": "code",
   "execution_count": 26,
   "id": "5d170bcf",
   "metadata": {},
   "outputs": [
    {
     "data": {
      "text/plain": [
       "'./example_contours//imgs/'"
      ]
     },
     "execution_count": 26,
     "metadata": {},
     "output_type": "execute_result"
    }
   ],
   "source": [
    "img_dir"
   ]
  },
  {
   "cell_type": "code",
   "execution_count": 27,
   "id": "6ef8181b",
   "metadata": {},
   "outputs": [],
   "source": [
    "def sort_cbars(fig, cbar_nums, verbose=False):\n",
    "    axes_save = []; cbar_axes_save = []\n",
    "    # IF SUCCESSFUL\n",
    "    # save axes if not colorbar and image of sky\n",
    "    for iaxes in range(len(fig.axes)):\n",
    "        if hasattr(fig.axes[iaxes], 'coords'): # image of sky\n",
    "            # colorbar?\n",
    "            if fig.axes[iaxes].coords[0].coord_type == 'scalar':\n",
    "                if verbose:\n",
    "                    print('Probable colorbar for image of the sky axes =', iaxes)\n",
    "            else:\n",
    "                axes_save.append(fig.axes[iaxes])\n",
    "                # does this have a colorbar?\n",
    "                if iaxes in cbar_nums:\n",
    "                    cbar_axes_save.append(fig.axes[iaxes+1])\n",
    "                else:\n",
    "                    cbar_axes_save.append([])\n",
    "        else:\n",
    "            # colorbar\n",
    "            #fig.axes[1]._colorbar\n",
    "            if hasattr(fig.axes[iaxes], '_colorbar'):\n",
    "                if verbose:\n",
    "                    print('Probable colorbar for regular plot axes =', iaxes)\n",
    "            else:\n",
    "                axes_save.append(fig.axes[iaxes])\n",
    "                # does this have a colorbar?\n",
    "                if iaxes in cbar_nums:\n",
    "                    cbar_axes_save.append(fig.axes[iaxes+1])\n",
    "                else:\n",
    "                    cbar_axes_save.append([])\n",
    "    return axes_save, cbar_axes_save"
   ]
  },
  {
   "cell_type": "code",
   "execution_count": 39,
   "id": "b21dbf12",
   "metadata": {},
   "outputs": [
    {
     "ename": "ImportError",
     "evalue": "cannot import name 'what_is_relationship_plot' from 'utils.plot_qa_utils' (/Users/jnaiman/LLM_VQA_JCDL2025/utils/plot_qa_utils.py)",
     "output_type": "error",
     "traceback": [
      "\u001b[31m---------------------------------------------------------------------------\u001b[39m",
      "\u001b[31mImportError\u001b[39m                               Traceback (most recent call last)",
      "\u001b[36mCell\u001b[39m\u001b[36m \u001b[39m\u001b[32mIn[39]\u001b[39m\u001b[32m, line 18\u001b[39m\n\u001b[32m     16\u001b[39m \u001b[38;5;28;01mimport\u001b[39;00m\u001b[38;5;250m \u001b[39m\u001b[34;01mutils\u001b[39;00m\u001b[34;01m.\u001b[39;00m\u001b[34;01mplot_qa_utils\u001b[39;00m\n\u001b[32m     17\u001b[39m \u001b[38;5;28;01mimport\u001b[39;00m\u001b[38;5;250m \u001b[39m\u001b[34;01mutils\u001b[39;00m\u001b[34;01m.\u001b[39;00m\u001b[34;01msynthetic_fig_utils\u001b[39;00m\n\u001b[32m---> \u001b[39m\u001b[32m18\u001b[39m \u001b[38;5;28;01mimport\u001b[39;00m\u001b[38;5;250m \u001b[39m\u001b[34;01mutils\u001b[39;00m\u001b[34;01m.\u001b[39;00m\u001b[34;01mcontour_plot_qa_utils\u001b[39;00m\n\u001b[32m     19\u001b[39m reload(utils.contour_plot_qa_utils)\n\u001b[32m     20\u001b[39m reload(utils.plot_utils)\n",
      "\u001b[36mFile \u001b[39m\u001b[32m~/LLM_VQA_JCDL2025/utils/contour_plot_qa_utils.py:9\u001b[39m\n\u001b[32m      1\u001b[39m \u001b[38;5;28;01mimport\u001b[39;00m\u001b[38;5;250m \u001b[39m\u001b[34;01mnumpy\u001b[39;00m\u001b[38;5;250m \u001b[39m\u001b[38;5;28;01mas\u001b[39;00m\u001b[38;5;250m \u001b[39m\u001b[34;01mnp\u001b[39;00m\n\u001b[32m      3\u001b[39m \u001b[38;5;66;03m#from utils.plot_qa_utils import plot_index_to_words\u001b[39;00m\n\u001b[32m      4\u001b[39m \n\u001b[32m      5\u001b[39m \u001b[38;5;66;03m#q_gmm_ngaussians_hists\u001b[39;00m\n\u001b[32m----> \u001b[39m\u001b[32m9\u001b[39m \u001b[38;5;28;01mfrom\u001b[39;00m\u001b[38;5;250m \u001b[39m\u001b[34;01m.\u001b[39;00m\u001b[34;01mplot_qa_utils\u001b[39;00m\u001b[38;5;250m \u001b[39m\u001b[38;5;28;01mimport\u001b[39;00m get_nplots, persona, context, how_many, how_much_data_values, what_is_relationship, what_is_relationship_plot\u001b[38;5;66;03m#, check_relationship\u001b[39;00m\n\u001b[32m     14\u001b[39m \u001b[38;5;66;03m# ####### CONSTRUCT QUESTIONS ########\u001b[39;00m\n\u001b[32m     15\u001b[39m \n\u001b[32m     16\u001b[39m \n\u001b[32m     17\u001b[39m \u001b[38;5;66;03m########## L1 ##########\u001b[39;00m\n\u001b[32m     18\u001b[39m \u001b[38;5;28;01mdef\u001b[39;00m\u001b[38;5;250m \u001b[39m\u001b[34mq_plottype\u001b[39m(data, plot_type, qa_pairs, plot_num = [\u001b[32m0\u001b[39m,\u001b[32m0\u001b[39m], \n\u001b[32m     19\u001b[39m                          return_qa=\u001b[38;5;28;01mTrue\u001b[39;00m, use_words=\u001b[38;5;28;01mTrue\u001b[39;00m, \n\u001b[32m     20\u001b[39m                          use_list=\u001b[38;5;28;01mTrue\u001b[39;00m, \n\u001b[32m     21\u001b[39m                         line_list = [\u001b[33m'\u001b[39m\u001b[33mline\u001b[39m\u001b[33m'\u001b[39m,\u001b[33m'\u001b[39m\u001b[33mscatter\u001b[39m\u001b[33m'\u001b[39m,\u001b[33m'\u001b[39m\u001b[33mcontour\u001b[39m\u001b[33m'\u001b[39m, \u001b[33m'\u001b[39m\u001b[33mhistogram\u001b[39m\u001b[33m'\u001b[39m], \n\u001b[32m     22\u001b[39m                         single_figure_flag=\u001b[38;5;28;01mTrue\u001b[39;00m,\n\u001b[32m     23\u001b[39m                         verbose=\u001b[38;5;28;01mTrue\u001b[39;00m, text_persona = \u001b[38;5;28;01mNone\u001b[39;00m):\n",
      "\u001b[31mImportError\u001b[39m: cannot import name 'what_is_relationship_plot' from 'utils.plot_qa_utils' (/Users/jnaiman/LLM_VQA_JCDL2025/utils/plot_qa_utils.py)"
     ]
    }
   ],
   "source": [
    "seed_outer = np.random.randint(maxint)\n",
    "seed = np.random.randint(maxint)\n",
    "\n",
    "\n",
    "colorbar_side = 'right'\n",
    "aspect_fig = 1.333\n",
    "colorbar_size = 0.1 # %\n",
    "colorbar_pad = 0.05\n",
    "elinewidth = 1\n",
    "nx_points = 100\n",
    "ny_points = 100\n",
    "\n",
    "\n",
    "#import utils.scatter_plot_qa_utils\n",
    "import utils.plot_utils\n",
    "import utils.plot_qa_utils\n",
    "import utils.synthetic_fig_utils\n",
    "import utils.contour_plot_qa_utils\n",
    "reload(utils.contour_plot_qa_utils)\n",
    "reload(utils.plot_utils)\n",
    "reload(utils.plot_qa_utils)\n",
    "reload(utils.synthetic_fig_utils)\n",
    "from utils.plot_utils import make_plot\n",
    "#from utils.plot_qa_utils import how_many, how_much_data_values\n",
    "from utils.synthetic_fig_utils import collect_plot_data_axes\n",
    "from utils.contour_plot_qa_utils import q_plottype\n",
    "\n",
    "\n",
    "\n",
    "\n",
    "\n",
    "## start the thing\n",
    "\n",
    "nclusters = [1, 2, 3, 4, 5]\n",
    "\n",
    "cluster_std = {'min':-2, 'max':0.0} # in 10^\n",
    "\n",
    "noise = {'min': 0.05, 'max': 0.1}\n",
    "\n",
    "plot_json = []\n",
    "\n",
    "ntrials = 10\n",
    "\n",
    "verbose_qa = True\n",
    "\n",
    "# check for github\n",
    "if 'LLM_VQA_JCDL2025' in fake_figs_dir and ntrials > 10:\n",
    "    print('Limiting trials for saving in github.  Change the \"fake_figs_dir\" param to a local address')\n",
    "    ntrials = 10\n",
    "\n",
    "for n in range(ntrials):\n",
    "    for nclust in nclusters:\n",
    "        print('')\n",
    "        base_name = 'nclust_' + str(nclust) + '_trial' + str(n)\n",
    "        #print('*****', base_name, '*****')\n",
    "\n",
    "        # this becomes more important when we have multiple axes and more complex plots\n",
    "        data_for_plots = []\n",
    "        plot_types = []\n",
    "        data_from_plots = []\n",
    "        titles = []; xlabels = []; ylabels = []; \n",
    "        cbars = []; cbar_labels = []; cbar_words = []; cbar_nums = []\n",
    "        end_time = time.time()\n",
    "        distribution_types = []\n",
    "        # in case axes change\n",
    "        axes_save = []; cbar_axes_save = []\n",
    "\n",
    "        plot_params_loop = plot_params_here.copy()\n",
    "        plot_params_loop['contour']['distribution']['gmm']['nclusters'] = {'min': nclust, 'max': nclust}\n",
    "        plot_params_loop['contour']['distribution']['gmm']['cluster std'] = cluster_std\n",
    "        plot_params_loop['contour']['distribution']['gmm']['noise'] = noise\n",
    "\n",
    "\n",
    "        fig, axes, plot_inds = make_base_plot(plot_style, color_map, dpi, \n",
    "                                              nrows, ncols, aspect_fig,\n",
    "                        base=2, verbose=False, tight_layout = tight_layout)\n",
    "\n",
    "        for iplot, ax in enumerate(axes): \n",
    "            data_for_plot = get_data(plot_params_loop[plot_type],\n",
    "                            plot_type=plot_type,\n",
    "                                    distribution=distribution_type, \n",
    "                                    rng=rng, nx=nx_points, ny=ny_points)\n",
    "            \n",
    "            data_from_plot, ax = make_plot(plot_params_here[plot_type], data_for_plot, \n",
    "                                    axes[0], plot_type=plot_type, \n",
    "                                    rng=rng, \n",
    "                                    colorbar_side=colorbar_side, \n",
    "                                    colorbar_size=colorbar_size, colorbar_pad = colorbar_pad,\n",
    "                                    elinewidth=elinewidth) \n",
    "\n",
    "                        \n",
    "\n",
    "            title, xlabel, ylabel = add_titles_and_labels(axes[0], 'x title', 'y axis', 'title', \n",
    "                                                        title_params, csfont, title_fontsize, \n",
    "                                    xlabel_params, ylabel_params, xlabel_fontsize, ylabel_fontsize,\n",
    "                                    inlines, xlabel_ticks_fontsize, ylabel_ticks_fontsize,\n",
    "                                    rng=rng)\n",
    "            cbar, colorbar_words = make_colorbar(data_from_plot, plot_type, fig, \n",
    "                  'colorbar', inlines, colorbar_params,\n",
    "                  title_params, colorbar_fontsize, csfont)\n",
    "            # save for each\n",
    "            cbar_labels.append(cbar)\n",
    "            cbar_words.append(colorbar_words)\n",
    "            if cbar is not None:\n",
    "                cbar_nums.append(len(cbar_nums)) # save axis of this colorbar\n",
    "                cbar_nums.append(len(cbar_nums)) # add extra for axes for colorbar\n",
    "            else:\n",
    "                cbar_nums.append(-1)\n",
    "\n",
    "            x_range = data_for_plot['xs'].max() - data_for_plot['xs'].min()\n",
    "            y_range = data_for_plot['ys'].max() - data_for_plot['ys'].min()\n",
    "            aspect_ratio = x_range / y_range\n",
    "            ax.set_aspect(1/aspect_ratio)  # Inverse to counteract the scale difference\n",
    "            #ax.set_aspect(aspect_fig, adjustable='box')\n",
    "\n",
    "\n",
    "\n",
    "            ####### SAVE DATA ########\n",
    "            # save data for parsing later -- only a single plot right now\n",
    "            data_for_plots.append(data_for_plot)\n",
    "            plot_types.append(plot_type)\n",
    "            data_from_plots.append(data_from_plot)\n",
    "            titles.append(title)\n",
    "            xlabels.append(xlabel)\n",
    "            ylabels.append(ylabel)\n",
    "            distribution_types.append(distribution_type)\n",
    "\n",
    "        # save image\n",
    "        for imgf in img_format:\n",
    "            fig.savefig(img_dir + base_name + '.' + imgf)\n",
    "\n",
    "        # figure out which are color bars and which are figures\n",
    "        axes_save, cbar_axes_save = sort_cbars(fig, cbar_nums)\n",
    "\n",
    "        fig.canvas.draw()\n",
    "        width, height = fig.canvas.get_width_height()\n",
    "        # save data\n",
    "        datas = {}\n",
    "        # figure datas\n",
    "        datas['figure'] = {'dpi':dpi, 'base':base, 'aspect ratio': aspect_fig, \n",
    "                            'nrows':nrows, 'ncols':ncols, \n",
    "                            'plot style':plot_style, \n",
    "                            'color map':color_map,\n",
    "                            'title fontsize':title_fontsize, \n",
    "                            'xlabel fontsize':xlabel_fontsize,\n",
    "                            'ylabel fontsize':ylabel_fontsize, \n",
    "                        'plot indexes':plot_inds}\n",
    "        #for iplot,ax in enumerate(axes): ### JPN, colorbar\n",
    "        for iplot, (ax,cbar_ax) in enumerate(zip(axes_save,cbar_axes_save)):\n",
    "            datas['plot' + str(iplot)] = collect_plot_data_axes(ax, fig,\n",
    "                           height, width,\n",
    "                           data_from_plots[iplot], data_for_plots[iplot], \n",
    "                           plot_types[iplot], titles[iplot], \n",
    "                           xlabels[iplot], ylabels[iplot],\n",
    "                           distribution_types[iplot], verbose=True, \n",
    "                           #cbar_label=cbar_labels[iplot], cbar_word=cbar_words[iplot], \n",
    "                           cbar_ax=cbar_ax)\n",
    "            \n",
    "\n",
    "        ######## GENERATE QA BASE #######\n",
    "        qa_pairs = init_qa_pairs()\n",
    "        for iplot in range(len((axes))):\n",
    "            if datas['plot'+str(iplot)]['type'] == 'contour':\n",
    "                ############ L1 #############\n",
    "                # number of scatter points\n",
    "                if len(axes) > 1:\n",
    "                    qa_pairs = q_plottype(datas, plot_type, qa_pairs, \n",
    "                                                      plot_num = iplot, \n",
    "                                                      use_words=False, \n",
    "                                                      verbose=verbose_qa)\n",
    "                qa_pairs = q_plottype(datas, plot_type, qa_pairs, \n",
    "                                                  plot_num = iplot, \n",
    "                                                  use_words=True, \n",
    "                                                  verbose=verbose_qa)\n",
    "\n",
    "        #         ###### L2 #######\n",
    "        #         # stats items\n",
    "        #         for axis in ['x', 'y', 'color']:\n",
    "        #             for k,v in stats.items():\n",
    "        #                 if len(axes) > 1:\n",
    "        #                     qa_pairs = q_stats_scatters(datas, qa_pairs, stat={k:v}, \n",
    "        #                                                 axis=axis, plot_num=iplot, \n",
    "        #                                                 use_words=False, verbose=verbose_qa)\n",
    "        #                 qa_pairs = q_stats_scatters(datas, qa_pairs, stat={k:v}, \n",
    "        #                                             axis=axis, plot_num=iplot, \n",
    "        #                                             use_words=True, verbose=verbose_qa)\n",
    "        #         # ###### L3 ######\n",
    "        #         # type of distribution\n",
    "        #         qa_pairs = q_relationship_scatters(datas, qa_pairs, plot_num = iplot, \n",
    "        #                  return_qa=True, use_words=True, \n",
    "        #                  use_list=True, \n",
    "        #                 line_list = ['random','linear','gaussian mixture model'],\n",
    "        #                 verbose=verbose_qa)\n",
    "\n",
    "        # datas['VQA'] = qa_pairs\n",
    "\n",
    "        import sys; sys.exit()\n",
    "\n",
    "        # # dump full data\n",
    "        # dumped = json.dumps(datas, cls=NumpyEncoder)\n",
    "        # with open(json_dir + base_name + '.json', 'w') as f:\n",
    "        #     json.dump(dumped, f)\n",
    "\n",
    "print('DONE!')"
   ]
  },
  {
   "cell_type": "code",
   "execution_count": 29,
   "id": "d508e495",
   "metadata": {},
   "outputs": [
    {
     "data": {
      "text/plain": [
       "{'data': {'contour': <matplotlib.contour.QuadContourSet at 0x336739490>},\n",
       " 'color bar': <Axes: ylabel='colorbar'>,\n",
       " 'color bar params': {'side': 'right',\n",
       "  'pad': 0.05,\n",
       "  'size': '10%',\n",
       "  'axis side': 'right',\n",
       "  'label prob': 0.5}}"
      ]
     },
     "execution_count": 29,
     "metadata": {},
     "output_type": "execute_result"
    }
   ],
   "source": [
    "data_from_plot"
   ]
  },
  {
   "cell_type": "code",
   "execution_count": null,
   "id": "e7c10266",
   "metadata": {},
   "outputs": [],
   "source": []
  },
  {
   "cell_type": "markdown",
   "id": "d0f7ccac",
   "metadata": {},
   "source": [
    "Practice reading in:"
   ]
  },
  {
   "cell_type": "code",
   "execution_count": 83,
   "id": "036df21d",
   "metadata": {},
   "outputs": [],
   "source": [
    "import json\n",
    "data_file = json_dir + 'nclust_4_trial8.json'\n",
    "with open(data_file,'r') as f:\n",
    "    t = json.load(f)\n",
    "    datas = json.loads(t)"
   ]
  },
  {
   "cell_type": "code",
   "execution_count": 84,
   "id": "ea12312c",
   "metadata": {},
   "outputs": [
    {
     "data": {
      "text/plain": [
       "{'Level 1': {'Figure-level questions': {},\n",
       "  'Plot-level questions': {'npoints': {'plot0': {'Q': 'You are a helpful assistant that can analyze images.  How many scatter points are there in the specified figure panel? Please format the output as a json as {\"npoints\":\"\"} for this figure panel, where the \"npoints\" value should be an integer.',\n",
       "     'A': {'npoints': 134},\n",
       "     'persona': 'You are a helpful assistant that can analyze images.',\n",
       "     'context': '',\n",
       "     'question': 'How many scatter points are there in the specified figure panel?',\n",
       "     'format': 'Please format the output as a json as {\"npoints\":\"\"} for this figure panel, where the \"npoints\" value should be an integer.'}}}},\n",
       " 'Level 2': {'Plot-level questions': {'minimum x': {'plot0': {'Q': 'You are a helpful assistant that can analyze images.  What are the minimum data values along the x-axis in this figure panel?  Please format the output as a json as {\"minimum x\":\"\"} for this figure panel, where the \"minimum x\" value should be a floats, calculated from the data values used to create the plot.',\n",
       "     'A': {'minimum x': {'minimum x': -1.2997565292208586}},\n",
       "     'persona': 'You are a helpful assistant that can analyze images.',\n",
       "     'context': '',\n",
       "     'question': 'What are the minimum data values along the x-axis in this figure panel? ',\n",
       "     'format': 'Please format the output as a json as {\"minimum x\":\"\"} for this figure panel, where the \"minimum x\" value should be a floats, calculated from the data values used to create the plot.'}},\n",
       "   'maximum x': {'plot0': {'Q': 'You are a helpful assistant that can analyze images.  What are the maximum data values along the x-axis in this figure panel?  Please format the output as a json as {\"maximum x\":\"\"} for this figure panel, where the \"maximum x\" value should be a floats, calculated from the data values used to create the plot.',\n",
       "     'A': {'maximum x': {'maximum x': 0.7090978039133282}},\n",
       "     'persona': 'You are a helpful assistant that can analyze images.',\n",
       "     'context': '',\n",
       "     'question': 'What are the maximum data values along the x-axis in this figure panel? ',\n",
       "     'format': 'Please format the output as a json as {\"maximum x\":\"\"} for this figure panel, where the \"maximum x\" value should be a floats, calculated from the data values used to create the plot.'}},\n",
       "   'median x': {'plot0': {'Q': 'You are a helpful assistant that can analyze images.  What are the median data values along the x-axis in this figure panel?  Please format the output as a json as {\"median x\":\"\"} for this figure panel, where the \"median x\" value should be a floats, calculated from the data values used to create the plot.',\n",
       "     'A': {'median x': {'median x': 0.4537678966264872}},\n",
       "     'persona': 'You are a helpful assistant that can analyze images.',\n",
       "     'context': '',\n",
       "     'question': 'What are the median data values along the x-axis in this figure panel? ',\n",
       "     'format': 'Please format the output as a json as {\"median x\":\"\"} for this figure panel, where the \"median x\" value should be a floats, calculated from the data values used to create the plot.'}},\n",
       "   'mean x': {'plot0': {'Q': 'You are a helpful assistant that can analyze images.  What are the mean data values along the x-axis in this figure panel?  Please format the output as a json as {\"mean x\":\"\"} for this figure panel, where the \"mean x\" value should be a floats, calculated from the data values used to create the plot.',\n",
       "     'A': {'mean x': {'mean x': 0.2487775110976913}},\n",
       "     'persona': 'You are a helpful assistant that can analyze images.',\n",
       "     'context': '',\n",
       "     'question': 'What are the mean data values along the x-axis in this figure panel? ',\n",
       "     'format': 'Please format the output as a json as {\"mean x\":\"\"} for this figure panel, where the \"mean x\" value should be a floats, calculated from the data values used to create the plot.'}},\n",
       "   'minimum y': {'plot0': {'Q': 'You are a helpful assistant that can analyze images.  What are the minimum data values along the y-axis in this figure panel?  Please format the output as a json as {\"minimum y\":\"\"} for this figure panel, where the \"minimum y\" value should be a floats, calculated from the data values used to create the plot.',\n",
       "     'A': {'minimum y': {'minimum y': 0.5690334784584452}},\n",
       "     'persona': 'You are a helpful assistant that can analyze images.',\n",
       "     'context': '',\n",
       "     'question': 'What are the minimum data values along the y-axis in this figure panel? ',\n",
       "     'format': 'Please format the output as a json as {\"minimum y\":\"\"} for this figure panel, where the \"minimum y\" value should be a floats, calculated from the data values used to create the plot.'}},\n",
       "   'maximum y': {'plot0': {'Q': 'You are a helpful assistant that can analyze images.  What are the maximum data values along the y-axis in this figure panel?  Please format the output as a json as {\"maximum y\":\"\"} for this figure panel, where the \"maximum y\" value should be a floats, calculated from the data values used to create the plot.',\n",
       "     'A': {'maximum y': {'maximum y': 1.1463353803047944}},\n",
       "     'persona': 'You are a helpful assistant that can analyze images.',\n",
       "     'context': '',\n",
       "     'question': 'What are the maximum data values along the y-axis in this figure panel? ',\n",
       "     'format': 'Please format the output as a json as {\"maximum y\":\"\"} for this figure panel, where the \"maximum y\" value should be a floats, calculated from the data values used to create the plot.'}},\n",
       "   'median y': {'plot0': {'Q': 'You are a helpful assistant that can analyze images.  What are the median data values along the y-axis in this figure panel?  Please format the output as a json as {\"median y\":\"\"} for this figure panel, where the \"median y\" value should be a floats, calculated from the data values used to create the plot.',\n",
       "     'A': {'median y': {'median y': 0.7935505963305395}},\n",
       "     'persona': 'You are a helpful assistant that can analyze images.',\n",
       "     'context': '',\n",
       "     'question': 'What are the median data values along the y-axis in this figure panel? ',\n",
       "     'format': 'Please format the output as a json as {\"median y\":\"\"} for this figure panel, where the \"median y\" value should be a floats, calculated from the data values used to create the plot.'}},\n",
       "   'mean y': {'plot0': {'Q': 'You are a helpful assistant that can analyze images.  What are the mean data values along the y-axis in this figure panel?  Please format the output as a json as {\"mean y\":\"\"} for this figure panel, where the \"mean y\" value should be a floats, calculated from the data values used to create the plot.',\n",
       "     'A': {'mean y': {'mean y': 0.7944179948825318}},\n",
       "     'persona': 'You are a helpful assistant that can analyze images.',\n",
       "     'context': '',\n",
       "     'question': 'What are the mean data values along the y-axis in this figure panel? ',\n",
       "     'format': 'Please format the output as a json as {\"mean y\":\"\"} for this figure panel, where the \"mean y\" value should be a floats, calculated from the data values used to create the plot.'}},\n",
       "   'minimum color': {'plot0': {'Q': 'You are a helpful assistant that can analyze images.  What are the minimum data values along the color-axis in this figure panel?  Please format the output as a json as {\"minimum color\":\"\"} for this figure panel, where the \"minimum color\" value should be a floats, calculated from the data values used to create the plot.',\n",
       "     'A': {'minimum color': {'minimum color': 0.24887276432318264}},\n",
       "     'persona': 'You are a helpful assistant that can analyze images.',\n",
       "     'context': '',\n",
       "     'question': 'What are the minimum data values along the color-axis in this figure panel? ',\n",
       "     'format': 'Please format the output as a json as {\"minimum color\":\"\"} for this figure panel, where the \"minimum color\" value should be a floats, calculated from the data values used to create the plot.'}},\n",
       "   'maximum color': {'plot0': {'Q': 'You are a helpful assistant that can analyze images.  What are the maximum data values along the color-axis in this figure panel?  Please format the output as a json as {\"maximum color\":\"\"} for this figure panel, where the \"maximum color\" value should be a floats, calculated from the data values used to create the plot.',\n",
       "     'A': {'maximum color': {'maximum color': 1.061791722078069}},\n",
       "     'persona': 'You are a helpful assistant that can analyze images.',\n",
       "     'context': '',\n",
       "     'question': 'What are the maximum data values along the color-axis in this figure panel? ',\n",
       "     'format': 'Please format the output as a json as {\"maximum color\":\"\"} for this figure panel, where the \"maximum color\" value should be a floats, calculated from the data values used to create the plot.'}},\n",
       "   'median color': {'plot0': {'Q': 'You are a helpful assistant that can analyze images.  What are the median data values along the color-axis in this figure panel?  Please format the output as a json as {\"median color\":\"\"} for this figure panel, where the \"median color\" value should be a floats, calculated from the data values used to create the plot.',\n",
       "     'A': {'median color': {'median color': 0.5571119983912719}},\n",
       "     'persona': 'You are a helpful assistant that can analyze images.',\n",
       "     'context': '',\n",
       "     'question': 'What are the median data values along the color-axis in this figure panel? ',\n",
       "     'format': 'Please format the output as a json as {\"median color\":\"\"} for this figure panel, where the \"median color\" value should be a floats, calculated from the data values used to create the plot.'}},\n",
       "   'mean color': {'plot0': {'Q': 'You are a helpful assistant that can analyze images.  What are the mean data values along the color-axis in this figure panel?  Please format the output as a json as {\"mean color\":\"\"} for this figure panel, where the \"mean color\" value should be a floats, calculated from the data values used to create the plot.',\n",
       "     'A': {'mean color': {'mean color': 0.6028093238495352}},\n",
       "     'persona': 'You are a helpful assistant that can analyze images.',\n",
       "     'context': '',\n",
       "     'question': 'What are the mean data values along the color-axis in this figure panel? ',\n",
       "     'format': 'Please format the output as a json as {\"mean color\":\"\"} for this figure panel, where the \"mean color\" value should be a floats, calculated from the data values used to create the plot.'}}}},\n",
       " 'Level 3': {'Plot-level questions': {'distribution  + list)': {'plot0': {'Q': 'You are a helpful assistant that can analyze images.  What is the underlying distribution used to create the data in this figure panel along the color-axis? Please format the output as a json as {\"distribution color\":\"\"} for this figure panel, where the \"distribution color\" value should be a strings, calculated from the data values used to create the plot. Please choose the distribution from the following list: [random, linear, gaussian mixture model].',\n",
       "     'A': {'distribution  + list)': 'gaussian mixture model'},\n",
       "     'note': 'this currently assumes all elements on a single plot have the same relationship type',\n",
       "     'persona': 'You are a helpful assistant that can analyze images.',\n",
       "     'context': '',\n",
       "     'question': 'What is the underlying distribution used to create the data in this figure panel along the color-axis?',\n",
       "     'format': 'Please format the output as a json as {\"distribution color\":\"\"} for this figure panel, where the \"distribution color\" value should be a strings, calculated from the data values used to create the plot. Please choose the distribution from the following list: [random, linear, gaussian mixture model].'}}}}}"
      ]
     },
     "execution_count": 84,
     "metadata": {},
     "output_type": "execute_result"
    }
   ],
   "source": [
    "datas['VQA']"
   ]
  },
  {
   "cell_type": "code",
   "execution_count": 85,
   "id": "a25a5dc3",
   "metadata": {},
   "outputs": [
    {
     "data": {
      "text/plain": [
       "{'distribution  + list)': {'plot0': {'Q': 'You are a helpful assistant that can analyze images.  What is the underlying distribution used to create the data in this figure panel along the color-axis? Please format the output as a json as {\"distribution color\":\"\"} for this figure panel, where the \"distribution color\" value should be a strings, calculated from the data values used to create the plot. Please choose the distribution from the following list: [random, linear, gaussian mixture model].',\n",
       "   'A': {'distribution  + list)': 'gaussian mixture model'},\n",
       "   'note': 'this currently assumes all elements on a single plot have the same relationship type',\n",
       "   'persona': 'You are a helpful assistant that can analyze images.',\n",
       "   'context': '',\n",
       "   'question': 'What is the underlying distribution used to create the data in this figure panel along the color-axis?',\n",
       "   'format': 'Please format the output as a json as {\"distribution color\":\"\"} for this figure panel, where the \"distribution color\" value should be a strings, calculated from the data values used to create the plot. Please choose the distribution from the following list: [random, linear, gaussian mixture model].'}}}"
      ]
     },
     "execution_count": 85,
     "metadata": {},
     "output_type": "execute_result"
    }
   ],
   "source": [
    "datas['VQA']['Level 3']['Plot-level questions']"
   ]
  },
  {
   "cell_type": "code",
   "execution_count": null,
   "id": "342dd112",
   "metadata": {},
   "outputs": [],
   "source": []
  },
  {
   "cell_type": "code",
   "execution_count": null,
   "id": "934a3e3a",
   "metadata": {},
   "outputs": [],
   "source": []
  }
 ],
 "metadata": {
  "kernelspec": {
   "display_name": "JCDL2025",
   "language": "python",
   "name": "python3"
  },
  "language_info": {
   "codemirror_mode": {
    "name": "ipython",
    "version": 3
   },
   "file_extension": ".py",
   "mimetype": "text/x-python",
   "name": "python",
   "nbconvert_exporter": "python",
   "pygments_lexer": "ipython3",
   "version": "3.12.11"
  }
 },
 "nbformat": 4,
 "nbformat_minor": 5
}
