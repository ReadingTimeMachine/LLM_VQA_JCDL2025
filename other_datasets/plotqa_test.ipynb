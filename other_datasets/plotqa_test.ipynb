{
 "cells": [
  {
   "cell_type": "code",
   "execution_count": 1,
   "id": "b1db98e2",
   "metadata": {},
   "outputs": [],
   "source": [
    "data_dir = '/Users/jnaiman/Downloads/tmp/JCDL2025/other_datasets/PlotQA/test/'"
   ]
  },
  {
   "cell_type": "code",
   "execution_count": 2,
   "id": "7f482bb4",
   "metadata": {},
   "outputs": [],
   "source": [
    "import json"
   ]
  },
  {
   "cell_type": "code",
   "execution_count": 3,
   "id": "f2f84222",
   "metadata": {},
   "outputs": [],
   "source": [
    "with open(data_dir +'annotations.json','r') as f:\n",
    "    data = json.load(f)"
   ]
  },
  {
   "cell_type": "code",
   "execution_count": 5,
   "id": "638453e6",
   "metadata": {},
   "outputs": [
    {
     "data": {
      "text/plain": [
       "{'models': [{'name': 'Goods and services',\n",
       "   'color': '#F0E68C',\n",
       "   'label': 'Goods and services',\n",
       "   'bboxes': [{'y': 171, 'x': 165, 'w': 13, 'h': 13},\n",
       "    {'y': 73, 'x': 363, 'w': 13, 'h': 13},\n",
       "    {'y': 219, 'x': 560, 'w': 13, 'h': 13},\n",
       "    {'y': 212, 'x': 758, 'w': 13, 'h': 13},\n",
       "    {'y': 150, 'x': 956, 'w': 13, 'h': 13},\n",
       "    {'y': 171, 'x': 1153, 'w': 13, 'h': 13}],\n",
       "   'y': [21874764020,\n",
       "    27751709334,\n",
       "    18946823140,\n",
       "    19403622890,\n",
       "    23118517647,\n",
       "    21860761749],\n",
       "   'x': [0, 1, 2, 3, 4, 5]},\n",
       "  {'name': 'Primary income',\n",
       "   'color': '#66CDAA',\n",
       "   'label': 'Primary income',\n",
       "   'bboxes': [{'y': 145, 'x': 165, 'w': 13, 'h': 13},\n",
       "    {'y': 37, 'x': 363, 'w': 13, 'h': 13},\n",
       "    {'y': 196, 'x': 560, 'w': 13, 'h': 13},\n",
       "    {'y': 187, 'x': 758, 'w': 13, 'h': 13},\n",
       "    {'y': 123, 'x': 956, 'w': 13, 'h': 13},\n",
       "    {'y': 134, 'x': 1153, 'w': 13, 'h': 13}],\n",
       "   'y': [23400718338,\n",
       "    29927375636,\n",
       "    20348211907,\n",
       "    20883561064,\n",
       "    24773454769,\n",
       "    24105413860],\n",
       "   'x': [0, 1, 2, 3, 4, 5]}],\n",
       " 'type': 'dot_line',\n",
       " 'general_figure_info': {'title': {'text': 'Payments made towards primary income, imports of goods and services by Serbia',\n",
       "   'bbox': {'y': 9, 'x': 122.35843750000004, 'w': 697.0, 'h': 18}},\n",
       "  'x_axis': {'minor_ticks': {'values': [], 'bboxes': []},\n",
       "   'major_labels': {'values': ['2007',\n",
       "     '2008',\n",
       "     '2009',\n",
       "     '2010',\n",
       "     '2011',\n",
       "     '2012',\n",
       "     '2007',\n",
       "     '2008',\n",
       "     '2009',\n",
       "     '2010',\n",
       "     '2011',\n",
       "     '2012'],\n",
       "    'bboxes': [{'y': 551, 'x': 165, 'w': 14, 'h': 27.9375},\n",
       "     {'y': 551, 'x': 362, 'w': 14, 'h': 27.9375},\n",
       "     {'y': 551, 'x': 560, 'w': 14, 'h': 27.9375},\n",
       "     {'y': 551, 'x': 757, 'w': 14, 'h': 27.9375},\n",
       "     {'y': 551, 'x': 955, 'w': 14, 'h': 27.9375},\n",
       "     {'y': 551, 'x': 1153, 'w': 14, 'h': 27.9375},\n",
       "     {'y': 551, 'x': 165, 'w': 14, 'h': 27.9375},\n",
       "     {'y': 551, 'x': 362, 'w': 14, 'h': 27.9375},\n",
       "     {'y': 551, 'x': 560, 'w': 14, 'h': 27.9375},\n",
       "     {'y': 551, 'x': 757, 'w': 14, 'h': 27.9375},\n",
       "     {'y': 551, 'x': 955, 'w': 14, 'h': 27.9375},\n",
       "     {'y': 551, 'x': 1153, 'w': 14, 'h': 27.9375}]},\n",
       "   'major_ticks': {'values': [0, 1, 2, 3, 4, 5, 0, 1, 2, 3, 4, 5],\n",
       "    'bboxes': [{'y': 538, 'x': 168, 'w': 8, 'h': 8},\n",
       "     {'y': 538, 'x': 365, 'w': 8, 'h': 8},\n",
       "     {'y': 538, 'x': 563, 'w': 8, 'h': 8},\n",
       "     {'y': 538, 'x': 760, 'w': 8, 'h': 8},\n",
       "     {'y': 538, 'x': 958, 'w': 8, 'h': 8},\n",
       "     {'y': 538, 'x': 1156, 'w': 8, 'h': 8},\n",
       "     {'y': 538, 'x': 168, 'w': 8, 'h': 8},\n",
       "     {'y': 538, 'x': 365, 'w': 8, 'h': 8},\n",
       "     {'y': 538, 'x': 563, 'w': 8, 'h': 8},\n",
       "     {'y': 538, 'x': 760, 'w': 8, 'h': 8},\n",
       "     {'y': 538, 'x': 958, 'w': 8, 'h': 8},\n",
       "     {'y': 538, 'x': 1156, 'w': 8, 'h': 8}]},\n",
       "   'rule': {'bbox': {'y': 538, 'h': 4, 'w': 1087, 'x': 122}},\n",
       "   'label': {'text': 'Year',\n",
       "    'bbox': {'y': 587.1525, 'x': 648, 'w': 35.8125, 'h': 19}}},\n",
       "  'plot_info': {'bbox': {'y': 34, 'x': 120, 'w': 1089, 'h': 508}},\n",
       "  'figure_info': {'bbox': {'bbox': {'y': 0, 'x': 0, 'w': 1214, 'h': 650}}},\n",
       "  'y_axis': {'minor_ticks': {'values': [0,\n",
       "     1000000000,\n",
       "     2000000000,\n",
       "     3000000000,\n",
       "     4000000000,\n",
       "     5000000000,\n",
       "     6000000000,\n",
       "     7000000000,\n",
       "     8000000000,\n",
       "     9000000000,\n",
       "     10000000000,\n",
       "     11000000000,\n",
       "     12000000000,\n",
       "     13000000000,\n",
       "     14000000000,\n",
       "     15000000000,\n",
       "     16000000000,\n",
       "     17000000000,\n",
       "     18000000000,\n",
       "     19000000000,\n",
       "     20000000000,\n",
       "     21000000000,\n",
       "     22000000000,\n",
       "     23000000000,\n",
       "     24000000000,\n",
       "     25000000000,\n",
       "     26000000000,\n",
       "     27000000000,\n",
       "     28000000000,\n",
       "     29000000000,\n",
       "     30000000000,\n",
       "     0,\n",
       "     1000000000,\n",
       "     2000000000,\n",
       "     3000000000,\n",
       "     4000000000,\n",
       "     5000000000,\n",
       "     6000000000,\n",
       "     7000000000,\n",
       "     8000000000,\n",
       "     9000000000,\n",
       "     10000000000,\n",
       "     11000000000,\n",
       "     12000000000,\n",
       "     13000000000,\n",
       "     14000000000,\n",
       "     15000000000,\n",
       "     16000000000,\n",
       "     17000000000,\n",
       "     18000000000,\n",
       "     19000000000,\n",
       "     20000000000,\n",
       "     21000000000,\n",
       "     22000000000,\n",
       "     23000000000,\n",
       "     24000000000,\n",
       "     25000000000,\n",
       "     26000000000,\n",
       "     27000000000,\n",
       "     28000000000,\n",
       "     29000000000,\n",
       "     30000000000],\n",
       "    'bboxes': [{'y': 538, 'x': 118, 'w': 4, 'h': 4},\n",
       "     {'y': 522, 'x': 118, 'w': 4, 'h': 4},\n",
       "     {'y': 505, 'x': 118, 'w': 4, 'h': 4},\n",
       "     {'y': 489, 'x': 118, 'w': 4, 'h': 4},\n",
       "     {'y': 472, 'x': 118, 'w': 4, 'h': 4},\n",
       "     {'y': 455, 'x': 118, 'w': 4, 'h': 4},\n",
       "     {'y': 439, 'x': 118, 'w': 4, 'h': 4},\n",
       "     {'y': 422, 'x': 118, 'w': 4, 'h': 4},\n",
       "     {'y': 406, 'x': 118, 'w': 4, 'h': 4},\n",
       "     {'y': 389, 'x': 118, 'w': 4, 'h': 4},\n",
       "     {'y': 372, 'x': 118, 'w': 4, 'h': 4},\n",
       "     {'y': 356, 'x': 118, 'w': 4, 'h': 4},\n",
       "     {'y': 339, 'x': 118, 'w': 4, 'h': 4},\n",
       "     {'y': 323, 'x': 118, 'w': 4, 'h': 4},\n",
       "     {'y': 306, 'x': 118, 'w': 4, 'h': 4},\n",
       "     {'y': 289, 'x': 118, 'w': 4, 'h': 4},\n",
       "     {'y': 273, 'x': 118, 'w': 4, 'h': 4},\n",
       "     {'y': 256, 'x': 118, 'w': 4, 'h': 4},\n",
       "     {'y': 240, 'x': 118, 'w': 4, 'h': 4},\n",
       "     {'y': 223, 'x': 118, 'w': 4, 'h': 4},\n",
       "     {'y': 206, 'x': 118, 'w': 4, 'h': 4},\n",
       "     {'y': 190, 'x': 118, 'w': 4, 'h': 4},\n",
       "     {'y': 173, 'x': 118, 'w': 4, 'h': 4},\n",
       "     {'y': 157, 'x': 118, 'w': 4, 'h': 4},\n",
       "     {'y': 140, 'x': 118, 'w': 4, 'h': 4},\n",
       "     {'y': 123, 'x': 118, 'w': 4, 'h': 4},\n",
       "     {'y': 107, 'x': 118, 'w': 4, 'h': 4},\n",
       "     {'y': 90, 'x': 118, 'w': 4, 'h': 4},\n",
       "     {'y': 73, 'x': 118, 'w': 4, 'h': 4},\n",
       "     {'y': 57, 'x': 118, 'w': 4, 'h': 4},\n",
       "     {'y': 40, 'x': 118, 'w': 4, 'h': 4},\n",
       "     {'y': 538, 'x': 118, 'w': 4, 'h': 4},\n",
       "     {'y': 522, 'x': 118, 'w': 4, 'h': 4},\n",
       "     {'y': 505, 'x': 118, 'w': 4, 'h': 4},\n",
       "     {'y': 489, 'x': 118, 'w': 4, 'h': 4},\n",
       "     {'y': 472, 'x': 118, 'w': 4, 'h': 4},\n",
       "     {'y': 455, 'x': 118, 'w': 4, 'h': 4},\n",
       "     {'y': 439, 'x': 118, 'w': 4, 'h': 4},\n",
       "     {'y': 422, 'x': 118, 'w': 4, 'h': 4},\n",
       "     {'y': 406, 'x': 118, 'w': 4, 'h': 4},\n",
       "     {'y': 389, 'x': 118, 'w': 4, 'h': 4},\n",
       "     {'y': 372, 'x': 118, 'w': 4, 'h': 4},\n",
       "     {'y': 356, 'x': 118, 'w': 4, 'h': 4},\n",
       "     {'y': 339, 'x': 118, 'w': 4, 'h': 4},\n",
       "     {'y': 323, 'x': 118, 'w': 4, 'h': 4},\n",
       "     {'y': 306, 'x': 118, 'w': 4, 'h': 4},\n",
       "     {'y': 289, 'x': 118, 'w': 4, 'h': 4},\n",
       "     {'y': 273, 'x': 118, 'w': 4, 'h': 4},\n",
       "     {'y': 256, 'x': 118, 'w': 4, 'h': 4},\n",
       "     {'y': 240, 'x': 118, 'w': 4, 'h': 4},\n",
       "     {'y': 223, 'x': 118, 'w': 4, 'h': 4},\n",
       "     {'y': 206, 'x': 118, 'w': 4, 'h': 4},\n",
       "     {'y': 190, 'x': 118, 'w': 4, 'h': 4},\n",
       "     {'y': 173, 'x': 118, 'w': 4, 'h': 4},\n",
       "     {'y': 157, 'x': 118, 'w': 4, 'h': 4},\n",
       "     {'y': 140, 'x': 118, 'w': 4, 'h': 4},\n",
       "     {'y': 123, 'x': 118, 'w': 4, 'h': 4},\n",
       "     {'y': 107, 'x': 118, 'w': 4, 'h': 4},\n",
       "     {'y': 90, 'x': 118, 'w': 4, 'h': 4},\n",
       "     {'y': 73, 'x': 118, 'w': 4, 'h': 4},\n",
       "     {'y': 57, 'x': 118, 'w': 4, 'h': 4},\n",
       "     {'y': 40, 'x': 118, 'w': 4, 'h': 4}]},\n",
       "   'major_labels': {'values': ['0',\n",
       "     '5000000000',\n",
       "     '10000000000',\n",
       "     '15000000000',\n",
       "     '20000000000',\n",
       "     '25000000000',\n",
       "     '30000000000',\n",
       "     '0',\n",
       "     '5000000000',\n",
       "     '10000000000',\n",
       "     '15000000000',\n",
       "     '20000000000',\n",
       "     '25000000000',\n",
       "     '30000000000'],\n",
       "    'bboxes': [{'y': 533, 'x': 104, 'w': 6.984375, 'h': 14},\n",
       "     {'y': 450, 'x': 41, 'w': 69.84375, 'h': 14},\n",
       "     {'y': 367, 'x': 34, 'w': 76.828125, 'h': 14},\n",
       "     {'y': 284, 'x': 34, 'w': 76.828125, 'h': 14},\n",
       "     {'y': 201, 'x': 34, 'w': 76.828125, 'h': 14},\n",
       "     {'y': 118, 'x': 34, 'w': 76.828125, 'h': 14},\n",
       "     {'y': 35, 'x': 34, 'w': 76.828125, 'h': 14},\n",
       "     {'y': 533, 'x': 104, 'w': 6.984375, 'h': 14},\n",
       "     {'y': 450, 'x': 41, 'w': 69.84375, 'h': 14},\n",
       "     {'y': 367, 'x': 34, 'w': 76.828125, 'h': 14},\n",
       "     {'y': 284, 'x': 34, 'w': 76.828125, 'h': 14},\n",
       "     {'y': 201, 'x': 34, 'w': 76.828125, 'h': 14},\n",
       "     {'y': 118, 'x': 34, 'w': 76.828125, 'h': 14},\n",
       "     {'y': 35, 'x': 34, 'w': 76.828125, 'h': 14}]},\n",
       "   'major_ticks': {'values': [0,\n",
       "     5000000000,\n",
       "     10000000000,\n",
       "     15000000000,\n",
       "     20000000000,\n",
       "     25000000000,\n",
       "     30000000000,\n",
       "     0,\n",
       "     5000000000,\n",
       "     10000000000,\n",
       "     15000000000,\n",
       "     20000000000,\n",
       "     25000000000,\n",
       "     30000000000],\n",
       "    'bboxes': [{'y': 536, 'x': 116, 'w': 8, 'h': 8},\n",
       "     {'y': 453, 'x': 116, 'w': 8, 'h': 8},\n",
       "     {'y': 370, 'x': 116, 'w': 8, 'h': 8},\n",
       "     {'y': 287, 'x': 116, 'w': 8, 'h': 8},\n",
       "     {'y': 204, 'x': 116, 'w': 8, 'h': 8},\n",
       "     {'y': 121, 'x': 116, 'w': 8, 'h': 8},\n",
       "     {'y': 38, 'x': 116, 'w': 8, 'h': 8},\n",
       "     {'y': 536, 'x': 116, 'w': 8, 'h': 8},\n",
       "     {'y': 453, 'x': 116, 'w': 8, 'h': 8},\n",
       "     {'y': 370, 'x': 116, 'w': 8, 'h': 8},\n",
       "     {'y': 287, 'x': 116, 'w': 8, 'h': 8},\n",
       "     {'y': 204, 'x': 116, 'w': 8, 'h': 8},\n",
       "     {'y': 121, 'x': 116, 'w': 8, 'h': 8},\n",
       "     {'y': 38, 'x': 116, 'w': 8, 'h': 8}]},\n",
       "   'rule': {'bbox': {'y': 34, 'x': 120, 'w': 4, 'h': 506}},\n",
       "   'label': {'text': 'Payments (BoP, current US$)',\n",
       "    'bbox': {'y': 170, 'x': 7, 'w': 19, 'h': 235.1875}}},\n",
       "  'legend': {'items': [{'model': 'Goods and services',\n",
       "     'preview': {'bbox': {'y': 619, 'x': 10, 'w': 20, 'h': 20}},\n",
       "     'label': {'text': 'Goods and services',\n",
       "      'bbox': {'y': 619, 'x': 35, 'w': 108, 'h': 20}}},\n",
       "    {'model': 'Primary income',\n",
       "     'preview': {'bbox': {'y': 619, 'x': 146, 'w': 20, 'h': 20}},\n",
       "     'label': {'text': 'Primary income',\n",
       "      'bbox': {'y': 619, 'x': 171, 'w': 88, 'h': 20}}}],\n",
       "   'bbox': {'y': 609, 'x': 0, 'w': 269, 'h': 40}}},\n",
       " 'image_index': 0}"
      ]
     },
     "execution_count": 5,
     "metadata": {},
     "output_type": "execute_result"
    }
   ],
   "source": [
    "data[0]"
   ]
  },
  {
   "cell_type": "code",
   "execution_count": 6,
   "id": "c7437c94",
   "metadata": {},
   "outputs": [
    {
     "data": {
      "text/plain": [
       "{'models': [{'name': 'Arms exports',\n",
       "   'color': '#FFFF00',\n",
       "   'label': 'Arms exports',\n",
       "   'bboxes': [{'y': 570, 'x': 154, 'w': 13, 'h': 13},\n",
       "    {'y': 574, 'x': 339, 'w': 13, 'h': 13},\n",
       "    {'y': 574, 'x': 523, 'w': 13, 'h': 13},\n",
       "    {'y': 573, 'x': 708, 'w': 13, 'h': 13},\n",
       "    {'y': 574, 'x': 892, 'w': 13, 'h': 13},\n",
       "    {'y': 568, 'x': 1077, 'w': 13, 'h': 13}],\n",
       "   'y': [40000000, 3000000, 3000000, 12000000, 4000000, 70000000],\n",
       "   'x': [0, 1, 2, 3, 4, 5]},\n",
       "  {'name': 'Arms imports',\n",
       "   'color': '#8B0000',\n",
       "   'label': 'Arms imports',\n",
       "   'bboxes': [{'y': 87, 'x': 154, 'w': 13, 'h': 13},\n",
       "    {'y': 54, 'x': 339, 'w': 13, 'h': 13},\n",
       "    {'y': 159, 'x': 523, 'w': 13, 'h': 13},\n",
       "    {'y': 232, 'x': 708, 'w': 13, 'h': 13},\n",
       "    {'y': 536, 'x': 892, 'w': 13, 'h': 13},\n",
       "    {'y': 523, 'x': 1077, 'w': 13, 'h': 13}],\n",
       "   'y': [5449000000, 5817000000, 4640000000, 3830000000, 428000000, 568000000],\n",
       "   'x': [0, 1, 2, 3, 4, 5]}],\n",
       " 'type': 'dot_line',\n",
       " 'general_figure_info': {'title': {'text': 'Arm exports and imports in Fragile and conflict affected situations',\n",
       "   'bbox': {'y': 9, 'x': 114.67562500000003, 'w': 612.0, 'h': 18}},\n",
       "  'x_axis': {'minor_ticks': {'values': [], 'bboxes': []},\n",
       "   'major_labels': {'values': ['1993',\n",
       "     '1994',\n",
       "     '1997',\n",
       "     '1998',\n",
       "     '2001',\n",
       "     '2002',\n",
       "     '1993',\n",
       "     '1994',\n",
       "     '1997',\n",
       "     '1998',\n",
       "     '2001',\n",
       "     '2002'],\n",
       "    'bboxes': [{'y': 591, 'x': 154, 'w': 14, 'h': 27.9375},\n",
       "     {'y': 591, 'x': 338, 'w': 14, 'h': 27.9375},\n",
       "     {'y': 591, 'x': 523, 'w': 14, 'h': 27.9375},\n",
       "     {'y': 591, 'x': 707, 'w': 14, 'h': 27.9375},\n",
       "     {'y': 591, 'x': 892, 'w': 14, 'h': 27.9375},\n",
       "     {'y': 591, 'x': 1077, 'w': 14, 'h': 27.9375},\n",
       "     {'y': 591, 'x': 154, 'w': 14, 'h': 27.9375},\n",
       "     {'y': 591, 'x': 338, 'w': 14, 'h': 27.9375},\n",
       "     {'y': 591, 'x': 523, 'w': 14, 'h': 27.9375},\n",
       "     {'y': 591, 'x': 707, 'w': 14, 'h': 27.9375},\n",
       "     {'y': 591, 'x': 892, 'w': 14, 'h': 27.9375},\n",
       "     {'y': 591, 'x': 1077, 'w': 14, 'h': 27.9375}]},\n",
       "   'major_ticks': {'values': [0, 1, 2, 3, 4, 5, 0, 1, 2, 3, 4, 5],\n",
       "    'bboxes': [{'y': 578, 'x': 157, 'w': 8, 'h': 8},\n",
       "     {'y': 578, 'x': 341, 'w': 8, 'h': 8},\n",
       "     {'y': 578, 'x': 526, 'w': 8, 'h': 8},\n",
       "     {'y': 578, 'x': 710, 'w': 8, 'h': 8},\n",
       "     {'y': 578, 'x': 895, 'w': 8, 'h': 8},\n",
       "     {'y': 578, 'x': 1080, 'w': 8, 'h': 8},\n",
       "     {'y': 578, 'x': 157, 'w': 8, 'h': 8},\n",
       "     {'y': 578, 'x': 341, 'w': 8, 'h': 8},\n",
       "     {'y': 578, 'x': 526, 'w': 8, 'h': 8},\n",
       "     {'y': 578, 'x': 710, 'w': 8, 'h': 8},\n",
       "     {'y': 578, 'x': 895, 'w': 8, 'h': 8},\n",
       "     {'y': 578, 'x': 1080, 'w': 8, 'h': 8}]},\n",
       "   'rule': {'bbox': {'y': 578, 'h': 4, 'w': 1015, 'x': 115}},\n",
       "   'label': {'text': 'Year',\n",
       "    'bbox': {'y': 627.1525, 'x': 604, 'w': 35.8125, 'h': 19}}},\n",
       "  'plot_info': {'bbox': {'y': 34, 'x': 113, 'w': 1017, 'h': 548}},\n",
       "  'figure_info': {'bbox': {'bbox': {'y': 0, 'x': 0, 'w': 1264, 'h': 650}}},\n",
       "  'y_axis': {'minor_ticks': {'values': [0,\n",
       "     200000000,\n",
       "     400000000,\n",
       "     600000000,\n",
       "     800000000,\n",
       "     1000000000,\n",
       "     1200000000,\n",
       "     1400000000,\n",
       "     1600000000,\n",
       "     1800000000,\n",
       "     2000000000,\n",
       "     2200000000,\n",
       "     2400000000,\n",
       "     2600000000,\n",
       "     2800000000,\n",
       "     3000000000,\n",
       "     3200000000,\n",
       "     3400000000,\n",
       "     3600000000,\n",
       "     3800000000,\n",
       "     4000000000,\n",
       "     4200000000,\n",
       "     4400000000,\n",
       "     4600000000,\n",
       "     4800000000,\n",
       "     5000000000,\n",
       "     5200000000,\n",
       "     5400000000,\n",
       "     5600000000,\n",
       "     5800000000,\n",
       "     6000000000,\n",
       "     0,\n",
       "     200000000,\n",
       "     400000000,\n",
       "     600000000,\n",
       "     800000000,\n",
       "     1000000000,\n",
       "     1200000000,\n",
       "     1400000000,\n",
       "     1600000000,\n",
       "     1800000000,\n",
       "     2000000000,\n",
       "     2200000000,\n",
       "     2400000000,\n",
       "     2600000000,\n",
       "     2800000000,\n",
       "     3000000000,\n",
       "     3200000000,\n",
       "     3400000000,\n",
       "     3600000000,\n",
       "     3800000000,\n",
       "     4000000000,\n",
       "     4200000000,\n",
       "     4400000000,\n",
       "     4600000000,\n",
       "     4800000000,\n",
       "     5000000000,\n",
       "     5200000000,\n",
       "     5400000000,\n",
       "     5600000000,\n",
       "     5800000000,\n",
       "     6000000000],\n",
       "    'bboxes': [{'y': 578, 'x': 111, 'w': 4, 'h': 4},\n",
       "     {'y': 561, 'x': 111, 'w': 4, 'h': 4},\n",
       "     {'y': 543, 'x': 111, 'w': 4, 'h': 4},\n",
       "     {'y': 525, 'x': 111, 'w': 4, 'h': 4},\n",
       "     {'y': 507, 'x': 111, 'w': 4, 'h': 4},\n",
       "     {'y': 489, 'x': 111, 'w': 4, 'h': 4},\n",
       "     {'y': 471, 'x': 111, 'w': 4, 'h': 4},\n",
       "     {'y': 453, 'x': 111, 'w': 4, 'h': 4},\n",
       "     {'y': 435, 'x': 111, 'w': 4, 'h': 4},\n",
       "     {'y': 417, 'x': 111, 'w': 4, 'h': 4},\n",
       "     {'y': 400, 'x': 111, 'w': 4, 'h': 4},\n",
       "     {'y': 382, 'x': 111, 'w': 4, 'h': 4},\n",
       "     {'y': 364, 'x': 111, 'w': 4, 'h': 4},\n",
       "     {'y': 346, 'x': 111, 'w': 4, 'h': 4},\n",
       "     {'y': 328, 'x': 111, 'w': 4, 'h': 4},\n",
       "     {'y': 310, 'x': 111, 'w': 4, 'h': 4},\n",
       "     {'y': 292, 'x': 111, 'w': 4, 'h': 4},\n",
       "     {'y': 274, 'x': 111, 'w': 4, 'h': 4},\n",
       "     {'y': 257, 'x': 111, 'w': 4, 'h': 4},\n",
       "     {'y': 239, 'x': 111, 'w': 4, 'h': 4},\n",
       "     {'y': 221, 'x': 111, 'w': 4, 'h': 4},\n",
       "     {'y': 203, 'x': 111, 'w': 4, 'h': 4},\n",
       "     {'y': 185, 'x': 111, 'w': 4, 'h': 4},\n",
       "     {'y': 167, 'x': 111, 'w': 4, 'h': 4},\n",
       "     {'y': 149, 'x': 111, 'w': 4, 'h': 4},\n",
       "     {'y': 131, 'x': 111, 'w': 4, 'h': 4},\n",
       "     {'y': 114, 'x': 111, 'w': 4, 'h': 4},\n",
       "     {'y': 96, 'x': 111, 'w': 4, 'h': 4},\n",
       "     {'y': 78, 'x': 111, 'w': 4, 'h': 4},\n",
       "     {'y': 60, 'x': 111, 'w': 4, 'h': 4},\n",
       "     {'y': 42, 'x': 111, 'w': 4, 'h': 4},\n",
       "     {'y': 578, 'x': 111, 'w': 4, 'h': 4},\n",
       "     {'y': 561, 'x': 111, 'w': 4, 'h': 4},\n",
       "     {'y': 543, 'x': 111, 'w': 4, 'h': 4},\n",
       "     {'y': 525, 'x': 111, 'w': 4, 'h': 4},\n",
       "     {'y': 507, 'x': 111, 'w': 4, 'h': 4},\n",
       "     {'y': 489, 'x': 111, 'w': 4, 'h': 4},\n",
       "     {'y': 471, 'x': 111, 'w': 4, 'h': 4},\n",
       "     {'y': 453, 'x': 111, 'w': 4, 'h': 4},\n",
       "     {'y': 435, 'x': 111, 'w': 4, 'h': 4},\n",
       "     {'y': 417, 'x': 111, 'w': 4, 'h': 4},\n",
       "     {'y': 400, 'x': 111, 'w': 4, 'h': 4},\n",
       "     {'y': 382, 'x': 111, 'w': 4, 'h': 4},\n",
       "     {'y': 364, 'x': 111, 'w': 4, 'h': 4},\n",
       "     {'y': 346, 'x': 111, 'w': 4, 'h': 4},\n",
       "     {'y': 328, 'x': 111, 'w': 4, 'h': 4},\n",
       "     {'y': 310, 'x': 111, 'w': 4, 'h': 4},\n",
       "     {'y': 292, 'x': 111, 'w': 4, 'h': 4},\n",
       "     {'y': 274, 'x': 111, 'w': 4, 'h': 4},\n",
       "     {'y': 257, 'x': 111, 'w': 4, 'h': 4},\n",
       "     {'y': 239, 'x': 111, 'w': 4, 'h': 4},\n",
       "     {'y': 221, 'x': 111, 'w': 4, 'h': 4},\n",
       "     {'y': 203, 'x': 111, 'w': 4, 'h': 4},\n",
       "     {'y': 185, 'x': 111, 'w': 4, 'h': 4},\n",
       "     {'y': 167, 'x': 111, 'w': 4, 'h': 4},\n",
       "     {'y': 149, 'x': 111, 'w': 4, 'h': 4},\n",
       "     {'y': 131, 'x': 111, 'w': 4, 'h': 4},\n",
       "     {'y': 114, 'x': 111, 'w': 4, 'h': 4},\n",
       "     {'y': 96, 'x': 111, 'w': 4, 'h': 4},\n",
       "     {'y': 78, 'x': 111, 'w': 4, 'h': 4},\n",
       "     {'y': 60, 'x': 111, 'w': 4, 'h': 4},\n",
       "     {'y': 42, 'x': 111, 'w': 4, 'h': 4}]},\n",
       "   'major_labels': {'values': ['0',\n",
       "     '1000000000',\n",
       "     '2000000000',\n",
       "     '3000000000',\n",
       "     '4000000000',\n",
       "     '5000000000',\n",
       "     '6000000000',\n",
       "     '0',\n",
       "     '1000000000',\n",
       "     '2000000000',\n",
       "     '3000000000',\n",
       "     '4000000000',\n",
       "     '5000000000',\n",
       "     '6000000000'],\n",
       "    'bboxes': [{'y': 573, 'x': 97, 'w': 6.984375, 'h': 14},\n",
       "     {'y': 484, 'x': 34, 'w': 69.84375, 'h': 14},\n",
       "     {'y': 395, 'x': 34, 'w': 69.84375, 'h': 14},\n",
       "     {'y': 305, 'x': 34, 'w': 69.84375, 'h': 14},\n",
       "     {'y': 216, 'x': 34, 'w': 69.84375, 'h': 14},\n",
       "     {'y': 126, 'x': 34, 'w': 69.84375, 'h': 14},\n",
       "     {'y': 37, 'x': 34, 'w': 69.84375, 'h': 14},\n",
       "     {'y': 573, 'x': 97, 'w': 6.984375, 'h': 14},\n",
       "     {'y': 484, 'x': 34, 'w': 69.84375, 'h': 14},\n",
       "     {'y': 395, 'x': 34, 'w': 69.84375, 'h': 14},\n",
       "     {'y': 305, 'x': 34, 'w': 69.84375, 'h': 14},\n",
       "     {'y': 216, 'x': 34, 'w': 69.84375, 'h': 14},\n",
       "     {'y': 126, 'x': 34, 'w': 69.84375, 'h': 14},\n",
       "     {'y': 37, 'x': 34, 'w': 69.84375, 'h': 14}]},\n",
       "   'major_ticks': {'values': [0,\n",
       "     1000000000,\n",
       "     2000000000,\n",
       "     3000000000,\n",
       "     4000000000,\n",
       "     5000000000,\n",
       "     6000000000,\n",
       "     0,\n",
       "     1000000000,\n",
       "     2000000000,\n",
       "     3000000000,\n",
       "     4000000000,\n",
       "     5000000000,\n",
       "     6000000000],\n",
       "    'bboxes': [{'y': 576, 'x': 109, 'w': 8, 'h': 8},\n",
       "     {'y': 487, 'x': 109, 'w': 8, 'h': 8},\n",
       "     {'y': 398, 'x': 109, 'w': 8, 'h': 8},\n",
       "     {'y': 308, 'x': 109, 'w': 8, 'h': 8},\n",
       "     {'y': 219, 'x': 109, 'w': 8, 'h': 8},\n",
       "     {'y': 129, 'x': 109, 'w': 8, 'h': 8},\n",
       "     {'y': 40, 'x': 109, 'w': 8, 'h': 8},\n",
       "     {'y': 576, 'x': 109, 'w': 8, 'h': 8},\n",
       "     {'y': 487, 'x': 109, 'w': 8, 'h': 8},\n",
       "     {'y': 398, 'x': 109, 'w': 8, 'h': 8},\n",
       "     {'y': 308, 'x': 109, 'w': 8, 'h': 8},\n",
       "     {'y': 219, 'x': 109, 'w': 8, 'h': 8},\n",
       "     {'y': 129, 'x': 109, 'w': 8, 'h': 8},\n",
       "     {'y': 40, 'x': 109, 'w': 8, 'h': 8}]},\n",
       "   'rule': {'bbox': {'y': 34, 'x': 113, 'w': 4, 'h': 546}},\n",
       "   'label': {'text': 'Export or import quantity',\n",
       "    'bbox': {'y': 203, 'x': 7, 'w': 19, 'h': 208.65625}}},\n",
       "  'legend': {'items': [{'model': 'Arms exports',\n",
       "     'preview': {'bbox': {'y': 596, 'x': 1140, 'w': 20, 'h': 20}},\n",
       "     'label': {'text': 'Arms exports',\n",
       "      'bbox': {'y': 596, 'x': 1165, 'w': 88, 'h': 20}}},\n",
       "    {'model': 'Arms imports',\n",
       "     'preview': {'bbox': {'y': 619, 'x': 1140, 'w': 20, 'h': 20}},\n",
       "     'label': {'text': 'Arms imports',\n",
       "      'bbox': {'y': 619, 'x': 1165, 'w': 89, 'h': 20}}}],\n",
       "   'bbox': {'y': 586, 'x': 1130, 'w': 134, 'h': 63}}},\n",
       " 'image_index': 1}"
      ]
     },
     "execution_count": 6,
     "metadata": {},
     "output_type": "execute_result"
    }
   ],
   "source": [
    "data[1]"
   ]
  },
  {
   "cell_type": "markdown",
   "id": "479a7d6c",
   "metadata": {},
   "source": [
    "Try other way:"
   ]
  },
  {
   "cell_type": "code",
   "execution_count": 7,
   "id": "481704d8",
   "metadata": {},
   "outputs": [
    {
     "data": {
      "application/vnd.jupyter.widget-view+json": {
       "model_id": "41b4789a93894e3eaca53e4a4a8ebc4b",
       "version_major": 2,
       "version_minor": 0
      },
      "text/plain": [
       "README.md: 0.00B [00:00, ?B/s]"
      ]
     },
     "metadata": {},
     "output_type": "display_data"
    },
    {
     "data": {
      "application/vnd.jupyter.widget-view+json": {
       "model_id": "2b6d725a627a468896e2c9b90ad9e444",
       "version_major": 2,
       "version_minor": 0
      },
      "text/plain": [
       "dataset_infos.json:   0%|          | 0.00/933 [00:00<?, ?B/s]"
      ]
     },
     "metadata": {},
     "output_type": "display_data"
    },
    {
     "data": {
      "application/vnd.jupyter.widget-view+json": {
       "model_id": "752ba6bc8ecd474d963c93c3acd95e7c",
       "version_major": 2,
       "version_minor": 0
      },
      "text/plain": [
       "data/train-00000-of-00012-118dee9c8dc571(…):   0%|          | 0.00/409M [00:00<?, ?B/s]"
      ]
     },
     "metadata": {},
     "output_type": "display_data"
    },
    {
     "data": {
      "application/vnd.jupyter.widget-view+json": {
       "model_id": "9d1294818d0d41048ffa349033466a62",
       "version_major": 2,
       "version_minor": 0
      },
      "text/plain": [
       "data/train-00001-of-00012-bbb3887b402856(…):   0%|          | 0.00/401M [00:00<?, ?B/s]"
      ]
     },
     "metadata": {},
     "output_type": "display_data"
    },
    {
     "data": {
      "application/vnd.jupyter.widget-view+json": {
       "model_id": "8153b4cc7e0a4d10858acf67a857e535",
       "version_major": 2,
       "version_minor": 0
      },
      "text/plain": [
       "data/train-00002-of-00012-32fef2552e942f(…):   0%|          | 0.00/408M [00:00<?, ?B/s]"
      ]
     },
     "metadata": {},
     "output_type": "display_data"
    },
    {
     "data": {
      "application/vnd.jupyter.widget-view+json": {
       "model_id": "284278f71bdc44c0928b4ecb4202956b",
       "version_major": 2,
       "version_minor": 0
      },
      "text/plain": [
       "data/train-00003-of-00012-862747f4f60b41(…):   0%|          | 0.00/426M [00:00<?, ?B/s]"
      ]
     },
     "metadata": {},
     "output_type": "display_data"
    },
    {
     "name": "stdout",
     "output_type": "stream",
     "text": [
      "{\"timestamp\":\"2025-08-23T01:15:24.385817Z\",\"level\":\"WARN\",\"fields\":{\"message\":\"Status Code: 503. Retrying...\",\"request_id\":\"\"},\"filename\":\"/Users/runner/miniforge3/conda-bld/bld/rattler-build_hf-xet_1750541254/work/cas_client/src/http_client.rs\",\"line_number\":236}\n",
      "{\"timestamp\":\"2025-08-23T01:15:24.385886Z\",\"level\":\"WARN\",\"fields\":{\"message\":\"Retry attempt #0. Sleeping 2.007540438s before the next attempt\"},\"filename\":\"/Users/runner/miniforge3/conda-bld/bld/rattler-build_hf-xet_1750541254/build_env/.cargo/registry/src/index.crates.io-1949cf8c6b5b557f/reqwest-retry-0.7.0/src/middleware.rs\",\"line_number\":171}\n",
      "{\"timestamp\":\"2025-08-23T01:15:26.439193Z\",\"level\":\"WARN\",\"fields\":{\"message\":\"Status Code: 503. Retrying...\",\"request_id\":\"\"},\"filename\":\"/Users/runner/miniforge3/conda-bld/bld/rattler-build_hf-xet_1750541254/work/cas_client/src/http_client.rs\",\"line_number\":236}\n",
      "{\"timestamp\":\"2025-08-23T01:15:26.439231Z\",\"level\":\"WARN\",\"fields\":{\"message\":\"Retry attempt #1. Sleeping 1.596594994s before the next attempt\"},\"filename\":\"/Users/runner/miniforge3/conda-bld/bld/rattler-build_hf-xet_1750541254/build_env/.cargo/registry/src/index.crates.io-1949cf8c6b5b557f/reqwest-retry-0.7.0/src/middleware.rs\",\"line_number\":171}\n",
      "{\"timestamp\":\"2025-08-23T01:15:28.070193Z\",\"level\":\"WARN\",\"fields\":{\"message\":\"Status Code: 503. Retrying...\",\"request_id\":\"\"},\"filename\":\"/Users/runner/miniforge3/conda-bld/bld/rattler-build_hf-xet_1750541254/work/cas_client/src/http_client.rs\",\"line_number\":236}\n",
      "{\"timestamp\":\"2025-08-23T01:15:28.070231Z\",\"level\":\"WARN\",\"fields\":{\"message\":\"Retry attempt #2. Sleeping 8.719640983s before the next attempt\"},\"filename\":\"/Users/runner/miniforge3/conda-bld/bld/rattler-build_hf-xet_1750541254/build_env/.cargo/registry/src/index.crates.io-1949cf8c6b5b557f/reqwest-retry-0.7.0/src/middleware.rs\",\"line_number\":171}\n"
     ]
    },
    {
     "data": {
      "application/vnd.jupyter.widget-view+json": {
       "model_id": "c283c7d3b759463896521a4fbf774ded",
       "version_major": 2,
       "version_minor": 0
      },
      "text/plain": [
       "data/train-00004-of-00012-c233d742831053(…):   0%|          | 0.00/384M [00:00<?, ?B/s]"
      ]
     },
     "metadata": {},
     "output_type": "display_data"
    },
    {
     "data": {
      "application/vnd.jupyter.widget-view+json": {
       "model_id": "3f0a5e17ee9f497f8ca8fd964f39f0ba",
       "version_major": 2,
       "version_minor": 0
      },
      "text/plain": [
       "data/train-00005-of-00012-25b68348847a92(…):   0%|          | 0.00/376M [00:00<?, ?B/s]"
      ]
     },
     "metadata": {},
     "output_type": "display_data"
    },
    {
     "data": {
      "application/vnd.jupyter.widget-view+json": {
       "model_id": "9d2fa710b8644f7a9f983ce11b190e9f",
       "version_major": 2,
       "version_minor": 0
      },
      "text/plain": [
       "data/train-00006-of-00012-b04ec700077185(…):   0%|          | 0.00/349M [00:00<?, ?B/s]"
      ]
     },
     "metadata": {},
     "output_type": "display_data"
    },
    {
     "data": {
      "application/vnd.jupyter.widget-view+json": {
       "model_id": "03d37ec7a16142cfb329aa1974c0684e",
       "version_major": 2,
       "version_minor": 0
      },
      "text/plain": [
       "data/train-00007-of-00012-9dc5bbf326d9c8(…):   0%|          | 0.00/349M [00:00<?, ?B/s]"
      ]
     },
     "metadata": {},
     "output_type": "display_data"
    },
    {
     "data": {
      "application/vnd.jupyter.widget-view+json": {
       "model_id": "45697724219a49c785d78efa2d0d5161",
       "version_major": 2,
       "version_minor": 0
      },
      "text/plain": [
       "data/train-00008-of-00012-cb031db78037ae(…):   0%|          | 0.00/371M [00:00<?, ?B/s]"
      ]
     },
     "metadata": {},
     "output_type": "display_data"
    },
    {
     "data": {
      "application/vnd.jupyter.widget-view+json": {
       "model_id": "c2f6b1da77c54ce4a870814af9317e11",
       "version_major": 2,
       "version_minor": 0
      },
      "text/plain": [
       "data/train-00009-of-00012-4933c0294b8c46(…):   0%|          | 0.00/338M [00:00<?, ?B/s]"
      ]
     },
     "metadata": {},
     "output_type": "display_data"
    },
    {
     "data": {
      "application/vnd.jupyter.widget-view+json": {
       "model_id": "800a36757ebf422aaf0c874822ad49f2",
       "version_major": 2,
       "version_minor": 0
      },
      "text/plain": [
       "data/train-00010-of-00012-8688b6eb7043b3(…):   0%|          | 0.00/497M [00:00<?, ?B/s]"
      ]
     },
     "metadata": {},
     "output_type": "display_data"
    },
    {
     "data": {
      "application/vnd.jupyter.widget-view+json": {
       "model_id": "0c7445e343ed4b56838a25e6f92ec400",
       "version_major": 2,
       "version_minor": 0
      },
      "text/plain": [
       "data/train-00011-of-00012-de9ea35a8f106f(…):   0%|          | 0.00/597M [00:00<?, ?B/s]"
      ]
     },
     "metadata": {},
     "output_type": "display_data"
    },
    {
     "data": {
      "application/vnd.jupyter.widget-view+json": {
       "model_id": "82089765e6cd4b83bbc10b101445361a",
       "version_major": 2,
       "version_minor": 0
      },
      "text/plain": [
       "data/validation-00000-of-00003-62a2ba654(…):   0%|          | 0.00/356M [00:00<?, ?B/s]"
      ]
     },
     "metadata": {},
     "output_type": "display_data"
    },
    {
     "data": {
      "application/vnd.jupyter.widget-view+json": {
       "model_id": "ed1f481698db4ec3bc0287dcae36abee",
       "version_major": 2,
       "version_minor": 0
      },
      "text/plain": [
       "data/validation-00001-of-00003-8a3043612(…):   0%|          | 0.00/372M [00:00<?, ?B/s]"
      ]
     },
     "metadata": {},
     "output_type": "display_data"
    },
    {
     "data": {
      "application/vnd.jupyter.widget-view+json": {
       "model_id": "00841d9d87b547ad95b55226ffa187a0",
       "version_major": 2,
       "version_minor": 0
      },
      "text/plain": [
       "data/validation-00002-of-00003-53c0951af(…):   0%|          | 0.00/320M [00:00<?, ?B/s]"
      ]
     },
     "metadata": {},
     "output_type": "display_data"
    },
    {
     "data": {
      "application/vnd.jupyter.widget-view+json": {
       "model_id": "8472272395ff40918c4c6afee8acfe6e",
       "version_major": 2,
       "version_minor": 0
      },
      "text/plain": [
       "data/test-00000-of-00003-bce20d6f9e9401f(…):   0%|          | 0.00/355M [00:00<?, ?B/s]"
      ]
     },
     "metadata": {},
     "output_type": "display_data"
    },
    {
     "data": {
      "application/vnd.jupyter.widget-view+json": {
       "model_id": "b1b1d02d4e3147e4a1616b8250b364a4",
       "version_major": 2,
       "version_minor": 0
      },
      "text/plain": [
       "data/test-00001-of-00003-3179e91e4df539d(…):   0%|          | 0.00/372M [00:00<?, ?B/s]"
      ]
     },
     "metadata": {},
     "output_type": "display_data"
    },
    {
     "data": {
      "application/vnd.jupyter.widget-view+json": {
       "model_id": "f63486f72b1a42ceb27cf793faba8210",
       "version_major": 2,
       "version_minor": 0
      },
      "text/plain": [
       "data/test-00002-of-00003-d679cb73c52a0d8(…):   0%|          | 0.00/320M [00:00<?, ?B/s]"
      ]
     },
     "metadata": {},
     "output_type": "display_data"
    },
    {
     "data": {
      "application/vnd.jupyter.widget-view+json": {
       "model_id": "c86e7b2c4ee44ce8997c2c384de8bbed",
       "version_major": 2,
       "version_minor": 0
      },
      "text/plain": [
       "Generating train split:   0%|          | 0/157070 [00:00<?, ? examples/s]"
      ]
     },
     "metadata": {},
     "output_type": "display_data"
    },
    {
     "data": {
      "application/vnd.jupyter.widget-view+json": {
       "model_id": "b94a539ded1342a1b2c978f6b0803ed3",
       "version_major": 2,
       "version_minor": 0
      },
      "text/plain": [
       "Generating validation split:   0%|          | 0/33650 [00:00<?, ? examples/s]"
      ]
     },
     "metadata": {},
     "output_type": "display_data"
    },
    {
     "data": {
      "application/vnd.jupyter.widget-view+json": {
       "model_id": "4d4997ab84d0430da549516974d60513",
       "version_major": 2,
       "version_minor": 0
      },
      "text/plain": [
       "Generating test split:   0%|          | 0/33657 [00:00<?, ? examples/s]"
      ]
     },
     "metadata": {},
     "output_type": "display_data"
    }
   ],
   "source": [
    "from datasets import load_dataset\n",
    "\n",
    "ds = load_dataset(\"achang/plot_qa\")"
   ]
  },
  {
   "cell_type": "code",
   "execution_count": 8,
   "id": "1b91e892",
   "metadata": {},
   "outputs": [
    {
     "data": {
      "text/plain": [
       "DatasetDict({\n",
       "    train: Dataset({\n",
       "        features: ['image', 'text'],\n",
       "        num_rows: 157070\n",
       "    })\n",
       "    validation: Dataset({\n",
       "        features: ['image', 'text'],\n",
       "        num_rows: 33650\n",
       "    })\n",
       "    test: Dataset({\n",
       "        features: ['image', 'text'],\n",
       "        num_rows: 33657\n",
       "    })\n",
       "})"
      ]
     },
     "execution_count": 8,
     "metadata": {},
     "output_type": "execute_result"
    }
   ],
   "source": [
    "ds"
   ]
  },
  {
   "cell_type": "code",
   "execution_count": 9,
   "id": "ca96b241",
   "metadata": {},
   "outputs": [],
   "source": [
    "df = ds['test'].to_pandas()"
   ]
  },
  {
   "cell_type": "code",
   "execution_count": 10,
   "id": "2b21b95d",
   "metadata": {},
   "outputs": [
    {
     "data": {
      "text/html": [
       "<div>\n",
       "<style scoped>\n",
       "    .dataframe tbody tr th:only-of-type {\n",
       "        vertical-align: middle;\n",
       "    }\n",
       "\n",
       "    .dataframe tbody tr th {\n",
       "        vertical-align: top;\n",
       "    }\n",
       "\n",
       "    .dataframe thead th {\n",
       "        text-align: right;\n",
       "    }\n",
       "</style>\n",
       "<table border=\"1\" class=\"dataframe\">\n",
       "  <thead>\n",
       "    <tr style=\"text-align: right;\">\n",
       "      <th></th>\n",
       "      <th>image</th>\n",
       "      <th>text</th>\n",
       "    </tr>\n",
       "  </thead>\n",
       "  <tbody>\n",
       "    <tr>\n",
       "      <th>0</th>\n",
       "      <td>{'bytes': b'\\x89PNG\\r\\n\\x1a\\n\\x00\\x00\\x00\\rIHD...</td>\n",
       "      <td>&lt;s&gt;&lt;s_y&gt;21874764020&lt;sep/&gt;27751709334&lt;sep/&gt;1894...</td>\n",
       "    </tr>\n",
       "    <tr>\n",
       "      <th>1</th>\n",
       "      <td>{'bytes': b'\\x89PNG\\r\\n\\x1a\\n\\x00\\x00\\x00\\rIHD...</td>\n",
       "      <td>&lt;s&gt;&lt;s_y&gt;40000000&lt;sep/&gt;3000000&lt;sep/&gt;3000000&lt;sep...</td>\n",
       "    </tr>\n",
       "    <tr>\n",
       "      <th>2</th>\n",
       "      <td>{'bytes': b'\\x89PNG\\r\\n\\x1a\\n\\x00\\x00\\x00\\rIHD...</td>\n",
       "      <td>&lt;s&gt;&lt;s_y&gt;25.8&lt;sep/&gt;24.1&lt;sep/&gt;22.7&lt;sep/&gt;22.3&lt;/s_...</td>\n",
       "    </tr>\n",
       "    <tr>\n",
       "      <th>3</th>\n",
       "      <td>{'bytes': b'\\x89PNG\\r\\n\\x1a\\n\\x00\\x00\\x00\\rIHD...</td>\n",
       "      <td>&lt;s&gt;&lt;s_y&gt;5&lt;sep/&gt;5&lt;sep/&gt;5&lt;sep/&gt;5&lt;/s_y&gt;&lt;s_x&gt;0&lt;sep...</td>\n",
       "    </tr>\n",
       "    <tr>\n",
       "      <th>4</th>\n",
       "      <td>{'bytes': b'\\x89PNG\\r\\n\\x1a\\n\\x00\\x00\\x00\\rIHD...</td>\n",
       "      <td>&lt;s&gt;&lt;s_y&gt;3.78&lt;sep/&gt;3.57&lt;sep/&gt;4.03&lt;sep/&gt;3.881041...</td>\n",
       "    </tr>\n",
       "  </tbody>\n",
       "</table>\n",
       "</div>"
      ],
      "text/plain": [
       "                                               image  \\\n",
       "0  {'bytes': b'\\x89PNG\\r\\n\\x1a\\n\\x00\\x00\\x00\\rIHD...   \n",
       "1  {'bytes': b'\\x89PNG\\r\\n\\x1a\\n\\x00\\x00\\x00\\rIHD...   \n",
       "2  {'bytes': b'\\x89PNG\\r\\n\\x1a\\n\\x00\\x00\\x00\\rIHD...   \n",
       "3  {'bytes': b'\\x89PNG\\r\\n\\x1a\\n\\x00\\x00\\x00\\rIHD...   \n",
       "4  {'bytes': b'\\x89PNG\\r\\n\\x1a\\n\\x00\\x00\\x00\\rIHD...   \n",
       "\n",
       "                                                text  \n",
       "0  <s><s_y>21874764020<sep/>27751709334<sep/>1894...  \n",
       "1  <s><s_y>40000000<sep/>3000000<sep/>3000000<sep...  \n",
       "2  <s><s_y>25.8<sep/>24.1<sep/>22.7<sep/>22.3</s_...  \n",
       "3  <s><s_y>5<sep/>5<sep/>5<sep/>5</s_y><s_x>0<sep...  \n",
       "4  <s><s_y>3.78<sep/>3.57<sep/>4.03<sep/>3.881041...  "
      ]
     },
     "execution_count": 10,
     "metadata": {},
     "output_type": "execute_result"
    }
   ],
   "source": [
    "df.head()"
   ]
  },
  {
   "cell_type": "code",
   "execution_count": 14,
   "id": "74ce8401",
   "metadata": {},
   "outputs": [
    {
     "name": "stdout",
     "output_type": "stream",
     "text": [
      "<s><s_y>21874764020\n",
      "27751709334\n",
      "18946823140\n",
      "19403622890\n",
      "23118517647\n",
      "21860761749</s_y><s_x>0\n",
      "1\n",
      "2\n",
      "3\n",
      "4\n",
      "5</s_x><s_name>Goods and services</s_name><s_label>Goods and services</s_label><s_color>#F0E68C</s_color><s_bboxes><s_y>171</s_y><s_x>165</s_x><s_w>13</s_w><s_h>13</s_h>\n",
      "<s_y>73</s_y><s_x>363</s_x><s_w>13</s_w><s_h>13</s_h>\n",
      "<s_y>219</s_y><s_x>560</s_x><s_w>13</s_w><s_h>13</s_h>\n",
      "<s_y>212</s_y><s_x>758</s_x><s_w>13</s_w><s_h>13</s_h>\n",
      "<s_y>150</s_y><s_x>956</s_x><s_w>13</s_w><s_h>13</s_h>\n",
      "<s_y>171</s_y><s_x>1153</s_x><s_w>13</s_w><s_h>13</s_h></s_bboxes>\n",
      "<s_y>23400718338\n",
      "29927375636\n",
      "20348211907\n",
      "20883561064\n",
      "24773454769\n",
      "24105413860</s_y><s_x>0\n",
      "1\n",
      "2\n",
      "3\n",
      "4\n",
      "5</s_x><s_name>Primary income</s_name><s_label>Primary income</s_label><s_color>#66CDAA</s_color><s_bboxes><s_y>145</s_y><s_x>165</s_x><s_w>13</s_w><s_h>13</s_h>\n",
      "<s_y>37</s_y><s_x>363</s_x><s_w>13</s_w><s_h>13</s_h>\n",
      "<s_y>196</s_y><s_x>560</s_x><s_w>13</s_w><s_h>13</s_h>\n",
      "<s_y>187</s_y><s_x>758</s_x><s_w>13</s_w><s_h>13</s_h>\n",
      "<s_y>123</s_y><s_x>956</s_x><s_w>13</s_w><s_h>13</s_h>\n",
      "<s_y>134</s_y><s_x>1153</s_x><s_w>13</s_w><s_h>13</s_h></s_bboxes></s>\n"
     ]
    },
    {
     "ename": "SystemExit",
     "evalue": "",
     "output_type": "error",
     "traceback": [
      "An exception has occurred, use %tb to see the full traceback.\n",
      "\u001b[31mSystemExit\u001b[39m\n"
     ]
    },
    {
     "name": "stderr",
     "output_type": "stream",
     "text": [
      "/opt/anaconda3/envs/JCDL2025/lib/python3.12/site-packages/IPython/core/interactiveshell.py:3707: UserWarning: To exit: use 'exit', 'quit', or Ctrl-D.\n",
      "  warn(\"To exit: use 'exit', 'quit', or Ctrl-D.\", stacklevel=1)\n"
     ]
    }
   ],
   "source": [
    "for i in range(len(df['text'])):\n",
    "    d = df['text'].iloc[i]\n",
    "    l = d.split('<sep/>')\n",
    "    for ll in l:\n",
    "        print(ll)\n",
    "    import sys; sys.exit()"
   ]
  },
  {
   "cell_type": "code",
   "execution_count": null,
   "id": "f06e2fef",
   "metadata": {},
   "outputs": [],
   "source": []
  }
 ],
 "metadata": {
  "kernelspec": {
   "display_name": "JCDL2025",
   "language": "python",
   "name": "python3"
  },
  "language_info": {
   "codemirror_mode": {
    "name": "ipython",
    "version": 3
   },
   "file_extension": ".py",
   "mimetype": "text/x-python",
   "name": "python",
   "nbconvert_exporter": "python",
   "pygments_lexer": "ipython3",
   "version": "3.12.11"
  }
 },
 "nbformat": 4,
 "nbformat_minor": 5
}
