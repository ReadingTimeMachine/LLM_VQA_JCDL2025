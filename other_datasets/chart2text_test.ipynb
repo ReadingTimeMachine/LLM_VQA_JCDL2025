{
 "cells": [
  {
   "cell_type": "code",
   "execution_count": 1,
   "id": "64d3293e",
   "metadata": {},
   "outputs": [],
   "source": [
    "data_dir = '~/Downloads/tmp/JCDL2025/other_datasets/Chart2Text/'"
   ]
  },
  {
   "cell_type": "markdown",
   "id": "fa2017ca",
   "metadata": {},
   "source": [
    "Just looking through data -- doesn't look like there are any bounding boxes."
   ]
  },
  {
   "cell_type": "code",
   "execution_count": null,
   "id": "7eecb4f6",
   "metadata": {},
   "outputs": [],
   "source": []
  },
  {
   "cell_type": "code",
   "execution_count": null,
   "id": "50708655",
   "metadata": {},
   "outputs": [],
   "source": []
  },
  {
   "cell_type": "code",
   "execution_count": null,
   "id": "3ee07dd4",
   "metadata": {},
   "outputs": [],
   "source": []
  }
 ],
 "metadata": {
  "kernelspec": {
   "display_name": "JCDL2025",
   "language": "python",
   "name": "python3"
  },
  "language_info": {
   "codemirror_mode": {
    "name": "ipython",
    "version": 3
   },
   "file_extension": ".py",
   "mimetype": "text/x-python",
   "name": "python",
   "nbconvert_exporter": "python",
   "pygments_lexer": "ipython3",
   "version": "3.12.11"
  }
 },
 "nbformat": 4,
 "nbformat_minor": 5
}
