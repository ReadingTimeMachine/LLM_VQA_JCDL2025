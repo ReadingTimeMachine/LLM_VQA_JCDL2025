{
 "cells": [
  {
   "cell_type": "code",
   "execution_count": 1,
   "id": "70029ac2",
   "metadata": {},
   "outputs": [],
   "source": [
    "data_dir = '~/Downloads/tmp/JCDL2025/other_datasets/ChartOCR/DeepRuleDataset/'"
   ]
  },
  {
   "cell_type": "code",
   "execution_count": null,
   "id": "19af0ad6",
   "metadata": {},
   "outputs": [],
   "source": [
    "import json\n",
    "#from glob import glob"
   ]
  },
  {
   "cell_type": "code",
   "execution_count": 9,
   "id": "ce03867e",
   "metadata": {},
   "outputs": [
    {
     "data": {
      "text/plain": [
       "'~/Downloads/tmp/JCDL2025/other_datasets/ChartOCR/DeepRuleDataset/bardata/bar/annotations/instancesBar(1031)_train2019.json'"
      ]
     },
     "execution_count": 9,
     "metadata": {},
     "output_type": "execute_result"
    }
   ],
   "source": [
    "bar_annotations_file = data_dir + 'bardata/bar/annotations/instancesBar(1031)_train2019.json'\n",
    "bar_annotations_file"
   ]
  },
  {
   "cell_type": "code",
   "execution_count": 10,
   "id": "4eca1933",
   "metadata": {},
   "outputs": [],
   "source": [
    "with open(bar_annotations_file,'r') as f:\n",
    "    data_bar = json.load(f)"
   ]
  },
  {
   "cell_type": "code",
   "execution_count": 12,
   "id": "3e5df44d",
   "metadata": {},
   "outputs": [
    {
     "data": {
      "text/plain": [
       "dict_keys(['licenses', 'images', 'annotations', 'categories'])"
      ]
     },
     "execution_count": 12,
     "metadata": {},
     "output_type": "execute_result"
    }
   ],
   "source": [
    "data_bar.keys()"
   ]
  },
  {
   "cell_type": "code",
   "execution_count": 13,
   "id": "6402f1e5",
   "metadata": {},
   "outputs": [
    {
     "data": {
      "text/plain": [
       "[{'supercategory': 'Series', 'id': 0, 'name': 'Series'}]"
      ]
     },
     "execution_count": 13,
     "metadata": {},
     "output_type": "execute_result"
    }
   ],
   "source": [
    "data_bar['categories']"
   ]
  },
  {
   "cell_type": "code",
   "execution_count": 15,
   "id": "f0159365",
   "metadata": {},
   "outputs": [
    {
     "name": "stdout",
     "output_type": "stream",
     "text": [
      "{'image_id': 0, 'category_id': 0, 'bbox': [542.0, 525.0, 64.0, 84.0], 'area': 5376.0, 'id': 0}\n",
      "{'image_id': 0, 'category_id': 0, 'bbox': [676.0, 597.0, 64.0, 12.0], 'area': 768.0, 'id': 1}\n",
      "{'image_id': 0, 'category_id': 0, 'bbox': [273.0, 496.0, 64.0, 112.0], 'area': 7168.0, 'id': 2}\n",
      "{'image_id': 0, 'category_id': 0, 'bbox': [407.0, 456.0, 64.0, 153.0], 'area': 9792.0, 'id': 3}\n",
      "{'image_id': 0, 'category_id': 0, 'bbox': [542.0, 361.0, 64.0, 164.0], 'area': 10496.0, 'id': 4}\n",
      "{'image_id': 0, 'category_id': 0, 'bbox': [676.0, 165.0, 64.0, 431.0], 'area': 27584.0, 'id': 5}\n",
      "{'image_id': 0, 'category_id': 0, 'bbox': [139.0, 24.0, 64.0, 585.0], 'area': 37440.0, 'id': 6}\n",
      "{'image_id': 0, 'category_id': 0, 'bbox': [273.0, 24.0, 64.0, 473.0], 'area': 30272.0, 'id': 7}\n",
      "{'image_id': 0, 'category_id': 0, 'bbox': [407.0, 24.0, 64.0, 432.0], 'area': 27648.0, 'id': 8}\n",
      "{'image_id': 0, 'category_id': 0, 'bbox': [542.0, 24.0, 64.0, 337.0], 'area': 21568.0, 'id': 9}\n",
      "{'image_id': 0, 'category_id': 0, 'bbox': [676.0, 24.0, 64.0, 141.0], 'area': 9024.0, 'id': 10}\n"
     ]
    }
   ],
   "source": [
    "for d in data_bar['annotations']:\n",
    "    if d['image_id'] == 0:\n",
    "        print(d)"
   ]
  },
  {
   "cell_type": "code",
   "execution_count": null,
   "id": "98d40dd2",
   "metadata": {},
   "outputs": [],
   "source": []
  },
  {
   "cell_type": "code",
   "execution_count": null,
   "id": "22a90634",
   "metadata": {},
   "outputs": [],
   "source": []
  },
  {
   "cell_type": "code",
   "execution_count": null,
   "id": "c7b08bde",
   "metadata": {},
   "outputs": [],
   "source": []
  }
 ],
 "metadata": {
  "kernelspec": {
   "display_name": "JCDL2025",
   "language": "python",
   "name": "python3"
  },
  "language_info": {
   "codemirror_mode": {
    "name": "ipython",
    "version": 3
   },
   "file_extension": ".py",
   "mimetype": "text/x-python",
   "name": "python",
   "nbconvert_exporter": "python",
   "pygments_lexer": "ipython3",
   "version": "3.12.11"
  }
 },
 "nbformat": 4,
 "nbformat_minor": 5
}
