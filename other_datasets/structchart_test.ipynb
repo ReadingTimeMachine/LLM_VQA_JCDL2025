{
 "cells": [
  {
   "cell_type": "code",
   "execution_count": 2,
   "id": "79d85e27",
   "metadata": {},
   "outputs": [
    {
     "data": {
      "application/vnd.jupyter.widget-view+json": {
       "model_id": "d80280daf60f471588f65a039fdcc6ce",
       "version_major": 2,
       "version_minor": 0
      },
      "text/plain": [
       "README.md: 0.00B [00:00, ?B/s]"
      ]
     },
     "metadata": {},
     "output_type": "display_data"
    },
    {
     "data": {
      "application/vnd.jupyter.widget-view+json": {
       "model_id": "2c5a78282c554dc98fee1f93b148d5eb",
       "version_major": 2,
       "version_minor": 0
      },
      "text/plain": [
       "ChartX_annotation_val.json:   0%|          | 0.00/13.9M [00:00<?, ?B/s]"
      ]
     },
     "metadata": {},
     "output_type": "display_data"
    },
    {
     "data": {
      "application/vnd.jupyter.widget-view+json": {
       "model_id": "bb193aff90d049feb1a368d0ae399fe5",
       "version_major": 2,
       "version_minor": 0
      },
      "text/plain": [
       "ChartX_annotation_test.json: 0.00B [00:00, ?B/s]"
      ]
     },
     "metadata": {},
     "output_type": "display_data"
    },
    {
     "data": {
      "application/vnd.jupyter.widget-view+json": {
       "model_id": "4a83535a80bf48fb9e319d868d9a73d4",
       "version_major": 2,
       "version_minor": 0
      },
      "text/plain": [
       "Generating validation split:   0%|          | 0/4848 [00:00<?, ? examples/s]"
      ]
     },
     "metadata": {},
     "output_type": "display_data"
    },
    {
     "data": {
      "application/vnd.jupyter.widget-view+json": {
       "model_id": "a7517929be194ed5b926c39c1e948949",
       "version_major": 2,
       "version_minor": 0
      },
      "text/plain": [
       "Generating test split:   0%|          | 0/1152 [00:00<?, ? examples/s]"
      ]
     },
     "metadata": {},
     "output_type": "display_data"
    }
   ],
   "source": [
    "from datasets import load_dataset\n",
    "\n",
    "ds = load_dataset(\"U4R/ChartX\")"
   ]
  },
  {
   "cell_type": "code",
   "execution_count": 3,
   "id": "4021fc56",
   "metadata": {},
   "outputs": [
    {
     "data": {
      "text/plain": [
       "DatasetDict({\n",
       "    validation: Dataset({\n",
       "        features: ['chart_type', 'imgname', 'img', 'topic', 'title', 'csv', 'description', 'summarization', 'redrawing', 'QA'],\n",
       "        num_rows: 4848\n",
       "    })\n",
       "    test: Dataset({\n",
       "        features: ['chart_type', 'imgname', 'img', 'topic', 'title', 'csv', 'description', 'summarization', 'redrawing', 'QA'],\n",
       "        num_rows: 1152\n",
       "    })\n",
       "})"
      ]
     },
     "execution_count": 3,
     "metadata": {},
     "output_type": "execute_result"
    }
   ],
   "source": [
    "ds"
   ]
  },
  {
   "cell_type": "code",
   "execution_count": 5,
   "id": "4c0896f7",
   "metadata": {},
   "outputs": [],
   "source": [
    "df = ds['test'].to_pandas()"
   ]
  },
  {
   "cell_type": "code",
   "execution_count": 6,
   "id": "e1ded000",
   "metadata": {},
   "outputs": [
    {
     "data": {
      "text/html": [
       "<div>\n",
       "<style scoped>\n",
       "    .dataframe tbody tr th:only-of-type {\n",
       "        vertical-align: middle;\n",
       "    }\n",
       "\n",
       "    .dataframe tbody tr th {\n",
       "        vertical-align: top;\n",
       "    }\n",
       "\n",
       "    .dataframe thead th {\n",
       "        text-align: right;\n",
       "    }\n",
       "</style>\n",
       "<table border=\"1\" class=\"dataframe\">\n",
       "  <thead>\n",
       "    <tr style=\"text-align: right;\">\n",
       "      <th></th>\n",
       "      <th>chart_type</th>\n",
       "      <th>imgname</th>\n",
       "      <th>img</th>\n",
       "      <th>topic</th>\n",
       "      <th>title</th>\n",
       "      <th>csv</th>\n",
       "      <th>description</th>\n",
       "      <th>summarization</th>\n",
       "      <th>redrawing</th>\n",
       "      <th>QA</th>\n",
       "    </tr>\n",
       "  </thead>\n",
       "  <tbody>\n",
       "    <tr>\n",
       "      <th>0</th>\n",
       "      <td>bar_chart</td>\n",
       "      <td>bar_87</td>\n",
       "      <td>./bar_chart/png/bar_87.png</td>\n",
       "      <td>Human Resources and Employee Management</td>\n",
       "      <td>Employee salaries and benefits in 2021</td>\n",
       "      <td>Employee \\t Salary(USD) \\t Benefits(USD) \\n Jo...</td>\n",
       "      <td>{'input': 'Generate a descriptive text accordi...</td>\n",
       "      <td>None</td>\n",
       "      <td>{'input': 'Redraw the chart image using Python...</td>\n",
       "      <td>{'input': 'How much more is John's salary comp...</td>\n",
       "    </tr>\n",
       "    <tr>\n",
       "      <th>1</th>\n",
       "      <td>bar_chart</td>\n",
       "      <td>bar_395</td>\n",
       "      <td>./bar_chart/png/bar_395.png</td>\n",
       "      <td>Business and Finance</td>\n",
       "      <td>GDP and Inflation Rate of Four Countries in 2021</td>\n",
       "      <td>Country \\t GDP(thousand billion) \\t Inflation ...</td>\n",
       "      <td>{'input': 'Generate a descriptive text accordi...</td>\n",
       "      <td>None</td>\n",
       "      <td>{'input': 'Redraw the chart image using Python...</td>\n",
       "      <td>{'input': 'Which country has the highest GDP a...</td>\n",
       "    </tr>\n",
       "    <tr>\n",
       "      <th>2</th>\n",
       "      <td>bar_chart</td>\n",
       "      <td>bar_279</td>\n",
       "      <td>./bar_chart/png/bar_279.png</td>\n",
       "      <td>Tourism and Hospitality</td>\n",
       "      <td>Number of hotels, restaurants, and tourists i...</td>\n",
       "      <td>Country \\t Hotels \\t Restaurants \\t Tourists(h...</td>\n",
       "      <td>{'input': 'Generate a descriptive text accordi...</td>\n",
       "      <td>None</td>\n",
       "      <td>{'input': 'Redraw the chart image using Python...</td>\n",
       "      <td>{'input': 'How many more hotels are there in F...</td>\n",
       "    </tr>\n",
       "    <tr>\n",
       "      <th>3</th>\n",
       "      <td>bar_chart</td>\n",
       "      <td>bar_185</td>\n",
       "      <td>./bar_chart/png/bar_185.png</td>\n",
       "      <td>Technology and the Internet</td>\n",
       "      <td>Number of internet and smartphone users in fo...</td>\n",
       "      <td>Country \\t Internet Users(million) \\t Smartpho...</td>\n",
       "      <td>{'input': 'Generate a descriptive text accordi...</td>\n",
       "      <td>None</td>\n",
       "      <td>{'input': 'Redraw the chart image using Python...</td>\n",
       "      <td>{'input': 'How many more internet users are th...</td>\n",
       "    </tr>\n",
       "    <tr>\n",
       "      <th>4</th>\n",
       "      <td>bar_chart</td>\n",
       "      <td>bar_258</td>\n",
       "      <td>./bar_chart/png/bar_258.png</td>\n",
       "      <td>Social Media and the Web</td>\n",
       "      <td>Number of websites and social media users in ...</td>\n",
       "      <td>Country \\t Websites \\t Social Media Users \\n U...</td>\n",
       "      <td>{'input': 'Generate a descriptive text accordi...</td>\n",
       "      <td>None</td>\n",
       "      <td>{'input': 'Redraw the chart image using Python...</td>\n",
       "      <td>{'input': 'Which country has the least number ...</td>\n",
       "    </tr>\n",
       "  </tbody>\n",
       "</table>\n",
       "</div>"
      ],
      "text/plain": [
       "  chart_type  imgname                          img  \\\n",
       "0  bar_chart   bar_87   ./bar_chart/png/bar_87.png   \n",
       "1  bar_chart  bar_395  ./bar_chart/png/bar_395.png   \n",
       "2  bar_chart  bar_279  ./bar_chart/png/bar_279.png   \n",
       "3  bar_chart  bar_185  ./bar_chart/png/bar_185.png   \n",
       "4  bar_chart  bar_258  ./bar_chart/png/bar_258.png   \n",
       "\n",
       "                                     topic  \\\n",
       "0  Human Resources and Employee Management   \n",
       "1                     Business and Finance   \n",
       "2                  Tourism and Hospitality   \n",
       "3              Technology and the Internet   \n",
       "4                 Social Media and the Web   \n",
       "\n",
       "                                               title  \\\n",
       "0             Employee salaries and benefits in 2021   \n",
       "1   GDP and Inflation Rate of Four Countries in 2021   \n",
       "2   Number of hotels, restaurants, and tourists i...   \n",
       "3   Number of internet and smartphone users in fo...   \n",
       "4   Number of websites and social media users in ...   \n",
       "\n",
       "                                                 csv  \\\n",
       "0  Employee \\t Salary(USD) \\t Benefits(USD) \\n Jo...   \n",
       "1  Country \\t GDP(thousand billion) \\t Inflation ...   \n",
       "2  Country \\t Hotels \\t Restaurants \\t Tourists(h...   \n",
       "3  Country \\t Internet Users(million) \\t Smartpho...   \n",
       "4  Country \\t Websites \\t Social Media Users \\n U...   \n",
       "\n",
       "                                         description summarization  \\\n",
       "0  {'input': 'Generate a descriptive text accordi...          None   \n",
       "1  {'input': 'Generate a descriptive text accordi...          None   \n",
       "2  {'input': 'Generate a descriptive text accordi...          None   \n",
       "3  {'input': 'Generate a descriptive text accordi...          None   \n",
       "4  {'input': 'Generate a descriptive text accordi...          None   \n",
       "\n",
       "                                           redrawing  \\\n",
       "0  {'input': 'Redraw the chart image using Python...   \n",
       "1  {'input': 'Redraw the chart image using Python...   \n",
       "2  {'input': 'Redraw the chart image using Python...   \n",
       "3  {'input': 'Redraw the chart image using Python...   \n",
       "4  {'input': 'Redraw the chart image using Python...   \n",
       "\n",
       "                                                  QA  \n",
       "0  {'input': 'How much more is John's salary comp...  \n",
       "1  {'input': 'Which country has the highest GDP a...  \n",
       "2  {'input': 'How many more hotels are there in F...  \n",
       "3  {'input': 'How many more internet users are th...  \n",
       "4  {'input': 'Which country has the least number ...  "
      ]
     },
     "execution_count": 6,
     "metadata": {},
     "output_type": "execute_result"
    }
   ],
   "source": [
    "df.head()"
   ]
  },
  {
   "cell_type": "code",
   "execution_count": 8,
   "id": "4473ec30",
   "metadata": {},
   "outputs": [
    {
     "data": {
      "text/plain": [
       "array(['bar_chart', 'line_chart', 'pie_chart', 'bar_chart_num',\n",
       "       'line_chart_num', 'rings', 'rose', 'area_chart', 'heatmap',\n",
       "       '3D-Bar', 'box', 'bubble', 'candlestick', 'funnel', 'histogram',\n",
       "       'multi-axes', 'radar', 'treemap'], dtype=object)"
      ]
     },
     "execution_count": 8,
     "metadata": {},
     "output_type": "execute_result"
    }
   ],
   "source": [
    "df['chart_type'].unique()"
   ]
  },
  {
   "cell_type": "code",
   "execution_count": 9,
   "id": "bf4c23c9",
   "metadata": {},
   "outputs": [],
   "source": [
    "df_hist = df[df['chart_type']=='histogram']"
   ]
  },
  {
   "cell_type": "code",
   "execution_count": 10,
   "id": "107d76ff",
   "metadata": {},
   "outputs": [
    {
     "data": {
      "text/html": [
       "<div>\n",
       "<style scoped>\n",
       "    .dataframe tbody tr th:only-of-type {\n",
       "        vertical-align: middle;\n",
       "    }\n",
       "\n",
       "    .dataframe tbody tr th {\n",
       "        vertical-align: top;\n",
       "    }\n",
       "\n",
       "    .dataframe thead th {\n",
       "        text-align: right;\n",
       "    }\n",
       "</style>\n",
       "<table border=\"1\" class=\"dataframe\">\n",
       "  <thead>\n",
       "    <tr style=\"text-align: right;\">\n",
       "      <th></th>\n",
       "      <th>chart_type</th>\n",
       "      <th>imgname</th>\n",
       "      <th>img</th>\n",
       "      <th>topic</th>\n",
       "      <th>title</th>\n",
       "      <th>csv</th>\n",
       "      <th>description</th>\n",
       "      <th>summarization</th>\n",
       "      <th>redrawing</th>\n",
       "      <th>QA</th>\n",
       "    </tr>\n",
       "  </thead>\n",
       "  <tbody>\n",
       "    <tr>\n",
       "      <th>952</th>\n",
       "      <td>histogram</td>\n",
       "      <td>214</td>\n",
       "      <td>./histogram/png/214.png</td>\n",
       "      <td>Human Resources and Employee Management</td>\n",
       "      <td>Employee Job Satisfaction Levels in the Workp...</td>\n",
       "      <td>Job Satisfaction Level \\t Number of Employees ...</td>\n",
       "      <td>{'input': 'Generate a descriptive text accordi...</td>\n",
       "      <td>None</td>\n",
       "      <td>{'input': 'Redraw the chart image using Python...</td>\n",
       "      <td>{'input': 'How many employees have a 'Neutral'...</td>\n",
       "    </tr>\n",
       "    <tr>\n",
       "      <th>953</th>\n",
       "      <td>histogram</td>\n",
       "      <td>60</td>\n",
       "      <td>./histogram/png/60.png</td>\n",
       "      <td>Energy and Utilities</td>\n",
       "      <td>Annual Electricity Production by Energy Source</td>\n",
       "      <td>Energy Source \\t Electricity Production (TWh) ...</td>\n",
       "      <td>{'input': 'Generate a descriptive text accordi...</td>\n",
       "      <td>None</td>\n",
       "      <td>{'input': 'Redraw the chart image using Python...</td>\n",
       "      <td>{'input': 'How much electricity does wind ener...</td>\n",
       "    </tr>\n",
       "    <tr>\n",
       "      <th>954</th>\n",
       "      <td>histogram</td>\n",
       "      <td>0</td>\n",
       "      <td>./histogram/png/0.png</td>\n",
       "      <td>Agriculture and Food Production</td>\n",
       "      <td>Annual Crop Yields in Global Agriculture Prod...</td>\n",
       "      <td>Crop Type \\t Yield (metric tons) \\n Wheat \\t 8...</td>\n",
       "      <td>{'input': 'Generate a descriptive text accordi...</td>\n",
       "      <td>None</td>\n",
       "      <td>{'input': 'Redraw the chart image using Python...</td>\n",
       "      <td>{'input': 'How much is the yield for rice?', '...</td>\n",
       "    </tr>\n",
       "    <tr>\n",
       "      <th>955</th>\n",
       "      <td>histogram</td>\n",
       "      <td>41</td>\n",
       "      <td>./histogram/png/41.png</td>\n",
       "      <td>Social Sciences and Humanities</td>\n",
       "      <td>Education Attainment Levels in the Adult Popu...</td>\n",
       "      <td>Education Level \\t Percentage of Population \\n...</td>\n",
       "      <td>{'input': 'Generate a descriptive text accordi...</td>\n",
       "      <td>None</td>\n",
       "      <td>{'input': 'Redraw the chart image using Python...</td>\n",
       "      <td>{'input': 'What percentage of the population h...</td>\n",
       "    </tr>\n",
       "    <tr>\n",
       "      <th>956</th>\n",
       "      <td>histogram</td>\n",
       "      <td>243</td>\n",
       "      <td>./histogram/png/243.png</td>\n",
       "      <td>Social Media and the Web</td>\n",
       "      <td>Monthly Active User Comparison Among Major So...</td>\n",
       "      <td>Monthly Active Users (Millions) \\t Social Medi...</td>\n",
       "      <td>{'input': 'Generate a descriptive text accordi...</td>\n",
       "      <td>None</td>\n",
       "      <td>{'input': 'Redraw the chart image using Python...</td>\n",
       "      <td>{'input': 'Which social media platform has jus...</td>\n",
       "    </tr>\n",
       "  </tbody>\n",
       "</table>\n",
       "</div>"
      ],
      "text/plain": [
       "    chart_type imgname                      img  \\\n",
       "952  histogram     214  ./histogram/png/214.png   \n",
       "953  histogram      60   ./histogram/png/60.png   \n",
       "954  histogram       0    ./histogram/png/0.png   \n",
       "955  histogram      41   ./histogram/png/41.png   \n",
       "956  histogram     243  ./histogram/png/243.png   \n",
       "\n",
       "                                       topic  \\\n",
       "952  Human Resources and Employee Management   \n",
       "953                     Energy and Utilities   \n",
       "954          Agriculture and Food Production   \n",
       "955           Social Sciences and Humanities   \n",
       "956                 Social Media and the Web   \n",
       "\n",
       "                                                 title  \\\n",
       "952   Employee Job Satisfaction Levels in the Workp...   \n",
       "953     Annual Electricity Production by Energy Source   \n",
       "954   Annual Crop Yields in Global Agriculture Prod...   \n",
       "955   Education Attainment Levels in the Adult Popu...   \n",
       "956   Monthly Active User Comparison Among Major So...   \n",
       "\n",
       "                                                   csv  \\\n",
       "952  Job Satisfaction Level \\t Number of Employees ...   \n",
       "953  Energy Source \\t Electricity Production (TWh) ...   \n",
       "954  Crop Type \\t Yield (metric tons) \\n Wheat \\t 8...   \n",
       "955  Education Level \\t Percentage of Population \\n...   \n",
       "956  Monthly Active Users (Millions) \\t Social Medi...   \n",
       "\n",
       "                                           description summarization  \\\n",
       "952  {'input': 'Generate a descriptive text accordi...          None   \n",
       "953  {'input': 'Generate a descriptive text accordi...          None   \n",
       "954  {'input': 'Generate a descriptive text accordi...          None   \n",
       "955  {'input': 'Generate a descriptive text accordi...          None   \n",
       "956  {'input': 'Generate a descriptive text accordi...          None   \n",
       "\n",
       "                                             redrawing  \\\n",
       "952  {'input': 'Redraw the chart image using Python...   \n",
       "953  {'input': 'Redraw the chart image using Python...   \n",
       "954  {'input': 'Redraw the chart image using Python...   \n",
       "955  {'input': 'Redraw the chart image using Python...   \n",
       "956  {'input': 'Redraw the chart image using Python...   \n",
       "\n",
       "                                                    QA  \n",
       "952  {'input': 'How many employees have a 'Neutral'...  \n",
       "953  {'input': 'How much electricity does wind ener...  \n",
       "954  {'input': 'How much is the yield for rice?', '...  \n",
       "955  {'input': 'What percentage of the population h...  \n",
       "956  {'input': 'Which social media platform has jus...  "
      ]
     },
     "execution_count": 10,
     "metadata": {},
     "output_type": "execute_result"
    }
   ],
   "source": [
    "df_hist.head()"
   ]
  },
  {
   "cell_type": "markdown",
   "id": "de62bd3e",
   "metadata": {},
   "source": [
    "So looking at the CSV files in `~/Downloads/tmp/JCDL2025/other_datasets/StructChart/ChartX/histogram/csv` the issue is that the data is already binned -- i.e., there is no underlying data to pull from."
   ]
  },
  {
   "cell_type": "code",
   "execution_count": null,
   "id": "53b23de0",
   "metadata": {},
   "outputs": [],
   "source": []
  },
  {
   "cell_type": "code",
   "execution_count": null,
   "id": "4afbcf36",
   "metadata": {},
   "outputs": [],
   "source": []
  },
  {
   "cell_type": "code",
   "execution_count": null,
   "id": "c4bd7d13",
   "metadata": {},
   "outputs": [],
   "source": []
  }
 ],
 "metadata": {
  "kernelspec": {
   "display_name": "JCDL2025",
   "language": "python",
   "name": "python3"
  },
  "language_info": {
   "codemirror_mode": {
    "name": "ipython",
    "version": 3
   },
   "file_extension": ".py",
   "mimetype": "text/x-python",
   "name": "python",
   "nbconvert_exporter": "python",
   "pygments_lexer": "ipython3",
   "version": "3.12.11"
  }
 },
 "nbformat": 4,
 "nbformat_minor": 5
}
