{
 "cells": [
  {
   "cell_type": "code",
   "execution_count": 1,
   "id": "79d85e27",
   "metadata": {},
   "outputs": [],
   "source": [
    "data_dir = '/Users/jnaiman/Downloads/tmp/JCDL2025/other_datasets/StructChart/ChartX/'"
   ]
  },
  {
   "cell_type": "markdown",
   "id": "b154d411",
   "metadata": {},
   "source": [
    "Just looked at the images, made a call"
   ]
  },
  {
   "cell_type": "code",
   "execution_count": null,
   "id": "4021fc56",
   "metadata": {},
   "outputs": [],
   "source": []
  },
  {
   "cell_type": "markdown",
   "id": "5100bc4a",
   "metadata": {},
   "source": []
  },
  {
   "cell_type": "code",
   "execution_count": null,
   "id": "4c0896f7",
   "metadata": {},
   "outputs": [],
   "source": []
  },
  {
   "cell_type": "code",
   "execution_count": null,
   "id": "e1ded000",
   "metadata": {},
   "outputs": [],
   "source": []
  }
 ],
 "metadata": {
  "kernelspec": {
   "display_name": "JCDL2025",
   "language": "python",
   "name": "python3"
  },
  "language_info": {
   "codemirror_mode": {
    "name": "ipython",
    "version": 3
   },
   "file_extension": ".py",
   "mimetype": "text/x-python",
   "name": "python",
   "nbconvert_exporter": "python",
   "pygments_lexer": "ipython3",
   "version": "3.12.11"
  }
 },
 "nbformat": 4,
 "nbformat_minor": 5
}
