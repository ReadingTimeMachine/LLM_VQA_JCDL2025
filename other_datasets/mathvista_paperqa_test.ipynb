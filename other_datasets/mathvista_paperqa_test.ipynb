{
 "cells": [
  {
   "cell_type": "code",
   "execution_count": 6,
   "id": "2b124072",
   "metadata": {},
   "outputs": [],
   "source": [
    "from datasets import load_dataset\n",
    "\n",
    "ds = load_dataset(\"AI4Math/MathVista\")"
   ]
  },
  {
   "cell_type": "code",
   "execution_count": 8,
   "id": "c0390e16",
   "metadata": {},
   "outputs": [
    {
     "data": {
      "text/plain": [
       "dict_keys(['testmini', 'test'])"
      ]
     },
     "execution_count": 8,
     "metadata": {},
     "output_type": "execute_result"
    }
   ],
   "source": [
    "ds.keys()"
   ]
  },
  {
   "cell_type": "code",
   "execution_count": 9,
   "id": "9dae9353",
   "metadata": {},
   "outputs": [],
   "source": [
    "df = ds['test'].to_pandas()"
   ]
  },
  {
   "cell_type": "code",
   "execution_count": 12,
   "id": "968713dd",
   "metadata": {},
   "outputs": [
    {
     "data": {
      "text/html": [
       "<div>\n",
       "<style scoped>\n",
       "    .dataframe tbody tr th:only-of-type {\n",
       "        vertical-align: middle;\n",
       "    }\n",
       "\n",
       "    .dataframe tbody tr th {\n",
       "        vertical-align: top;\n",
       "    }\n",
       "\n",
       "    .dataframe thead th {\n",
       "        text-align: right;\n",
       "    }\n",
       "</style>\n",
       "<table border=\"1\" class=\"dataframe\">\n",
       "  <thead>\n",
       "    <tr style=\"text-align: right;\">\n",
       "      <th></th>\n",
       "      <th>pid</th>\n",
       "      <th>question</th>\n",
       "      <th>image</th>\n",
       "      <th>decoded_image</th>\n",
       "      <th>choices</th>\n",
       "      <th>unit</th>\n",
       "      <th>precision</th>\n",
       "      <th>answer</th>\n",
       "      <th>question_type</th>\n",
       "      <th>answer_type</th>\n",
       "      <th>metadata</th>\n",
       "      <th>query</th>\n",
       "    </tr>\n",
       "  </thead>\n",
       "  <tbody>\n",
       "    <tr>\n",
       "      <th>0</th>\n",
       "      <td>1001</td>\n",
       "      <td>In how many years, is the percentage of labor ...</td>\n",
       "      <td>images/1001.jpg</td>\n",
       "      <td>{'bytes': b'\\x89PNG\\r\\n\\x1a\\n\\x00\\x00\\x00\\rIHD...</td>\n",
       "      <td>None</td>\n",
       "      <td>None</td>\n",
       "      <td>NaN</td>\n",
       "      <td></td>\n",
       "      <td>free_form</td>\n",
       "      <td>integer</td>\n",
       "      <td>{'category': 'general-vqa', 'context': 'scatte...</td>\n",
       "      <td>Hint: Please answer the question requiring an ...</td>\n",
       "    </tr>\n",
       "    <tr>\n",
       "      <th>1</th>\n",
       "      <td>1002</td>\n",
       "      <td>Are there fewer small rubber objects that are ...</td>\n",
       "      <td>images/1002.jpg</td>\n",
       "      <td>{'bytes': b'\\x89PNG\\r\\n\\x1a\\n\\x00\\x00\\x00\\rIHD...</td>\n",
       "      <td>[Yes, No]</td>\n",
       "      <td>None</td>\n",
       "      <td>NaN</td>\n",
       "      <td></td>\n",
       "      <td>multi_choice</td>\n",
       "      <td>text</td>\n",
       "      <td>{'category': 'general-vqa', 'context': 'synthe...</td>\n",
       "      <td>Hint: Please answer the question and provide t...</td>\n",
       "    </tr>\n",
       "    <tr>\n",
       "      <th>2</th>\n",
       "      <td>1003</td>\n",
       "      <td>The players on a quiz show received the follow...</td>\n",
       "      <td>images/1003.jpg</td>\n",
       "      <td>{'bytes': b'\\x89PNG\\r\\n\\x1a\\n\\x00\\x00\\x00\\rIHD...</td>\n",
       "      <td>None</td>\n",
       "      <td>None</td>\n",
       "      <td>NaN</td>\n",
       "      <td></td>\n",
       "      <td>free_form</td>\n",
       "      <td>integer</td>\n",
       "      <td>{'category': 'math-targeted-vqa', 'context': '...</td>\n",
       "      <td>Hint: Please answer the question requiring an ...</td>\n",
       "    </tr>\n",
       "    <tr>\n",
       "      <th>3</th>\n",
       "      <td>1004</td>\n",
       "      <td>Some friends played a trivia game and recorded...</td>\n",
       "      <td>images/1004.jpg</td>\n",
       "      <td>{'bytes': b'\\x89PNG\\r\\n\\x1a\\n\\x00\\x00\\x00\\rIHD...</td>\n",
       "      <td>None</td>\n",
       "      <td>None</td>\n",
       "      <td>NaN</td>\n",
       "      <td></td>\n",
       "      <td>free_form</td>\n",
       "      <td>integer</td>\n",
       "      <td>{'category': 'math-targeted-vqa', 'context': '...</td>\n",
       "      <td>Hint: Please answer the question requiring an ...</td>\n",
       "    </tr>\n",
       "    <tr>\n",
       "      <th>4</th>\n",
       "      <td>1005</td>\n",
       "      <td>As shown in the figure, in ⊙O, AB ∥ CD, ∠BCD =...</td>\n",
       "      <td>images/1005.jpg</td>\n",
       "      <td>{'bytes': b'\\xff\\xd8\\xff\\xe0\\x00\\x10JFIF\\x00\\x...</td>\n",
       "      <td>[110°, 70°, 80°, 100°]</td>\n",
       "      <td>None</td>\n",
       "      <td>NaN</td>\n",
       "      <td></td>\n",
       "      <td>multi_choice</td>\n",
       "      <td>text</td>\n",
       "      <td>{'category': 'math-targeted-vqa', 'context': '...</td>\n",
       "      <td>Hint: Please answer the question and provide t...</td>\n",
       "    </tr>\n",
       "  </tbody>\n",
       "</table>\n",
       "</div>"
      ],
      "text/plain": [
       "    pid                                           question            image  \\\n",
       "0  1001  In how many years, is the percentage of labor ...  images/1001.jpg   \n",
       "1  1002  Are there fewer small rubber objects that are ...  images/1002.jpg   \n",
       "2  1003  The players on a quiz show received the follow...  images/1003.jpg   \n",
       "3  1004  Some friends played a trivia game and recorded...  images/1004.jpg   \n",
       "4  1005  As shown in the figure, in ⊙O, AB ∥ CD, ∠BCD =...  images/1005.jpg   \n",
       "\n",
       "                                       decoded_image                 choices  \\\n",
       "0  {'bytes': b'\\x89PNG\\r\\n\\x1a\\n\\x00\\x00\\x00\\rIHD...                    None   \n",
       "1  {'bytes': b'\\x89PNG\\r\\n\\x1a\\n\\x00\\x00\\x00\\rIHD...               [Yes, No]   \n",
       "2  {'bytes': b'\\x89PNG\\r\\n\\x1a\\n\\x00\\x00\\x00\\rIHD...                    None   \n",
       "3  {'bytes': b'\\x89PNG\\r\\n\\x1a\\n\\x00\\x00\\x00\\rIHD...                    None   \n",
       "4  {'bytes': b'\\xff\\xd8\\xff\\xe0\\x00\\x10JFIF\\x00\\x...  [110°, 70°, 80°, 100°]   \n",
       "\n",
       "   unit  precision answer question_type answer_type  \\\n",
       "0  None        NaN            free_form     integer   \n",
       "1  None        NaN         multi_choice        text   \n",
       "2  None        NaN            free_form     integer   \n",
       "3  None        NaN            free_form     integer   \n",
       "4  None        NaN         multi_choice        text   \n",
       "\n",
       "                                            metadata  \\\n",
       "0  {'category': 'general-vqa', 'context': 'scatte...   \n",
       "1  {'category': 'general-vqa', 'context': 'synthe...   \n",
       "2  {'category': 'math-targeted-vqa', 'context': '...   \n",
       "3  {'category': 'math-targeted-vqa', 'context': '...   \n",
       "4  {'category': 'math-targeted-vqa', 'context': '...   \n",
       "\n",
       "                                               query  \n",
       "0  Hint: Please answer the question requiring an ...  \n",
       "1  Hint: Please answer the question and provide t...  \n",
       "2  Hint: Please answer the question requiring an ...  \n",
       "3  Hint: Please answer the question requiring an ...  \n",
       "4  Hint: Please answer the question and provide t...  "
      ]
     },
     "execution_count": 12,
     "metadata": {},
     "output_type": "execute_result"
    }
   ],
   "source": [
    "df.head()"
   ]
  },
  {
   "cell_type": "code",
   "execution_count": 20,
   "id": "3fd9b0c5",
   "metadata": {},
   "outputs": [
    {
     "data": {
      "text/plain": [
       "{'category': 'general-vqa',\n",
       " 'context': 'natural image',\n",
       " 'grade': 'daily life',\n",
       " 'img_height': 936,\n",
       " 'img_width': 664,\n",
       " 'language': 'english',\n",
       " 'skills': array(['arithmetic reasoning', 'numeric commonsense'], dtype=object),\n",
       " 'source': 'KVQA',\n",
       " 'split': 'test',\n",
       " 'task': 'visual question answering'}"
      ]
     },
     "execution_count": 20,
     "metadata": {},
     "output_type": "execute_result"
    }
   ],
   "source": [
    "df.sample(1)['metadata'].values[0]"
   ]
  },
  {
   "cell_type": "code",
   "execution_count": null,
   "id": "3c5b46a0",
   "metadata": {},
   "outputs": [],
   "source": []
  },
  {
   "cell_type": "code",
   "execution_count": null,
   "id": "350d698e",
   "metadata": {},
   "outputs": [],
   "source": []
  },
  {
   "cell_type": "code",
   "execution_count": null,
   "id": "7fa18de7",
   "metadata": {},
   "outputs": [],
   "source": []
  }
 ],
 "metadata": {
  "kernelspec": {
   "display_name": "JCDL2025",
   "language": "python",
   "name": "python3"
  },
  "language_info": {
   "codemirror_mode": {
    "name": "ipython",
    "version": 3
   },
   "file_extension": ".py",
   "mimetype": "text/x-python",
   "name": "python",
   "nbconvert_exporter": "python",
   "pygments_lexer": "ipython3",
   "version": "3.12.11"
  }
 },
 "nbformat": 4,
 "nbformat_minor": 5
}
