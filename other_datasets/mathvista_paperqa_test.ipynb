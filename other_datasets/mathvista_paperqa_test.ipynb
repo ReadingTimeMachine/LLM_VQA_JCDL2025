{
 "cells": [
  {
   "cell_type": "code",
   "execution_count": 8,
   "id": "2b124072",
   "metadata": {},
   "outputs": [],
   "source": [
    "from datasets import load_dataset\n",
    "import numpy as np\n",
    "\n",
    "ds = load_dataset(\"AI4Math/MathVista\")"
   ]
  },
  {
   "cell_type": "code",
   "execution_count": 4,
   "id": "c0390e16",
   "metadata": {},
   "outputs": [
    {
     "data": {
      "text/plain": [
       "DatasetDict({\n",
       "    testmini: Dataset({\n",
       "        features: ['pid', 'question', 'image', 'decoded_image', 'choices', 'unit', 'precision', 'answer', 'question_type', 'answer_type', 'metadata', 'query'],\n",
       "        num_rows: 1000\n",
       "    })\n",
       "    test: Dataset({\n",
       "        features: ['pid', 'question', 'image', 'decoded_image', 'choices', 'unit', 'precision', 'answer', 'question_type', 'answer_type', 'metadata', 'query'],\n",
       "        num_rows: 5141\n",
       "    })\n",
       "})"
      ]
     },
     "execution_count": 4,
     "metadata": {},
     "output_type": "execute_result"
    }
   ],
   "source": [
    "ds"
   ]
  },
  {
   "cell_type": "code",
   "execution_count": 5,
   "id": "9dae9353",
   "metadata": {},
   "outputs": [],
   "source": [
    "df = ds['test'].to_pandas()"
   ]
  },
  {
   "cell_type": "code",
   "execution_count": 6,
   "id": "968713dd",
   "metadata": {},
   "outputs": [
    {
     "data": {
      "text/html": [
       "<div>\n",
       "<style scoped>\n",
       "    .dataframe tbody tr th:only-of-type {\n",
       "        vertical-align: middle;\n",
       "    }\n",
       "\n",
       "    .dataframe tbody tr th {\n",
       "        vertical-align: top;\n",
       "    }\n",
       "\n",
       "    .dataframe thead th {\n",
       "        text-align: right;\n",
       "    }\n",
       "</style>\n",
       "<table border=\"1\" class=\"dataframe\">\n",
       "  <thead>\n",
       "    <tr style=\"text-align: right;\">\n",
       "      <th></th>\n",
       "      <th>pid</th>\n",
       "      <th>question</th>\n",
       "      <th>image</th>\n",
       "      <th>decoded_image</th>\n",
       "      <th>choices</th>\n",
       "      <th>unit</th>\n",
       "      <th>precision</th>\n",
       "      <th>answer</th>\n",
       "      <th>question_type</th>\n",
       "      <th>answer_type</th>\n",
       "      <th>metadata</th>\n",
       "      <th>query</th>\n",
       "    </tr>\n",
       "  </thead>\n",
       "  <tbody>\n",
       "    <tr>\n",
       "      <th>0</th>\n",
       "      <td>1001</td>\n",
       "      <td>In how many years, is the percentage of labor ...</td>\n",
       "      <td>images/1001.jpg</td>\n",
       "      <td>{'bytes': b'\\x89PNG\\r\\n\\x1a\\n\\x00\\x00\\x00\\rIHD...</td>\n",
       "      <td>None</td>\n",
       "      <td>None</td>\n",
       "      <td>NaN</td>\n",
       "      <td></td>\n",
       "      <td>free_form</td>\n",
       "      <td>integer</td>\n",
       "      <td>{'category': 'general-vqa', 'context': 'scatte...</td>\n",
       "      <td>Hint: Please answer the question requiring an ...</td>\n",
       "    </tr>\n",
       "    <tr>\n",
       "      <th>1</th>\n",
       "      <td>1002</td>\n",
       "      <td>Are there fewer small rubber objects that are ...</td>\n",
       "      <td>images/1002.jpg</td>\n",
       "      <td>{'bytes': b'\\x89PNG\\r\\n\\x1a\\n\\x00\\x00\\x00\\rIHD...</td>\n",
       "      <td>[Yes, No]</td>\n",
       "      <td>None</td>\n",
       "      <td>NaN</td>\n",
       "      <td></td>\n",
       "      <td>multi_choice</td>\n",
       "      <td>text</td>\n",
       "      <td>{'category': 'general-vqa', 'context': 'synthe...</td>\n",
       "      <td>Hint: Please answer the question and provide t...</td>\n",
       "    </tr>\n",
       "    <tr>\n",
       "      <th>2</th>\n",
       "      <td>1003</td>\n",
       "      <td>The players on a quiz show received the follow...</td>\n",
       "      <td>images/1003.jpg</td>\n",
       "      <td>{'bytes': b'\\x89PNG\\r\\n\\x1a\\n\\x00\\x00\\x00\\rIHD...</td>\n",
       "      <td>None</td>\n",
       "      <td>None</td>\n",
       "      <td>NaN</td>\n",
       "      <td></td>\n",
       "      <td>free_form</td>\n",
       "      <td>integer</td>\n",
       "      <td>{'category': 'math-targeted-vqa', 'context': '...</td>\n",
       "      <td>Hint: Please answer the question requiring an ...</td>\n",
       "    </tr>\n",
       "    <tr>\n",
       "      <th>3</th>\n",
       "      <td>1004</td>\n",
       "      <td>Some friends played a trivia game and recorded...</td>\n",
       "      <td>images/1004.jpg</td>\n",
       "      <td>{'bytes': b'\\x89PNG\\r\\n\\x1a\\n\\x00\\x00\\x00\\rIHD...</td>\n",
       "      <td>None</td>\n",
       "      <td>None</td>\n",
       "      <td>NaN</td>\n",
       "      <td></td>\n",
       "      <td>free_form</td>\n",
       "      <td>integer</td>\n",
       "      <td>{'category': 'math-targeted-vqa', 'context': '...</td>\n",
       "      <td>Hint: Please answer the question requiring an ...</td>\n",
       "    </tr>\n",
       "    <tr>\n",
       "      <th>4</th>\n",
       "      <td>1005</td>\n",
       "      <td>As shown in the figure, in ⊙O, AB ∥ CD, ∠BCD =...</td>\n",
       "      <td>images/1005.jpg</td>\n",
       "      <td>{'bytes': b'\\xff\\xd8\\xff\\xe0\\x00\\x10JFIF\\x00\\x...</td>\n",
       "      <td>[110°, 70°, 80°, 100°]</td>\n",
       "      <td>None</td>\n",
       "      <td>NaN</td>\n",
       "      <td></td>\n",
       "      <td>multi_choice</td>\n",
       "      <td>text</td>\n",
       "      <td>{'category': 'math-targeted-vqa', 'context': '...</td>\n",
       "      <td>Hint: Please answer the question and provide t...</td>\n",
       "    </tr>\n",
       "  </tbody>\n",
       "</table>\n",
       "</div>"
      ],
      "text/plain": [
       "    pid                                           question            image  \\\n",
       "0  1001  In how many years, is the percentage of labor ...  images/1001.jpg   \n",
       "1  1002  Are there fewer small rubber objects that are ...  images/1002.jpg   \n",
       "2  1003  The players on a quiz show received the follow...  images/1003.jpg   \n",
       "3  1004  Some friends played a trivia game and recorded...  images/1004.jpg   \n",
       "4  1005  As shown in the figure, in ⊙O, AB ∥ CD, ∠BCD =...  images/1005.jpg   \n",
       "\n",
       "                                       decoded_image                 choices  \\\n",
       "0  {'bytes': b'\\x89PNG\\r\\n\\x1a\\n\\x00\\x00\\x00\\rIHD...                    None   \n",
       "1  {'bytes': b'\\x89PNG\\r\\n\\x1a\\n\\x00\\x00\\x00\\rIHD...               [Yes, No]   \n",
       "2  {'bytes': b'\\x89PNG\\r\\n\\x1a\\n\\x00\\x00\\x00\\rIHD...                    None   \n",
       "3  {'bytes': b'\\x89PNG\\r\\n\\x1a\\n\\x00\\x00\\x00\\rIHD...                    None   \n",
       "4  {'bytes': b'\\xff\\xd8\\xff\\xe0\\x00\\x10JFIF\\x00\\x...  [110°, 70°, 80°, 100°]   \n",
       "\n",
       "   unit  precision answer question_type answer_type  \\\n",
       "0  None        NaN            free_form     integer   \n",
       "1  None        NaN         multi_choice        text   \n",
       "2  None        NaN            free_form     integer   \n",
       "3  None        NaN            free_form     integer   \n",
       "4  None        NaN         multi_choice        text   \n",
       "\n",
       "                                            metadata  \\\n",
       "0  {'category': 'general-vqa', 'context': 'scatte...   \n",
       "1  {'category': 'general-vqa', 'context': 'synthe...   \n",
       "2  {'category': 'math-targeted-vqa', 'context': '...   \n",
       "3  {'category': 'math-targeted-vqa', 'context': '...   \n",
       "4  {'category': 'math-targeted-vqa', 'context': '...   \n",
       "\n",
       "                                               query  \n",
       "0  Hint: Please answer the question requiring an ...  \n",
       "1  Hint: Please answer the question and provide t...  \n",
       "2  Hint: Please answer the question requiring an ...  \n",
       "3  Hint: Please answer the question requiring an ...  \n",
       "4  Hint: Please answer the question and provide t...  "
      ]
     },
     "execution_count": 6,
     "metadata": {},
     "output_type": "execute_result"
    }
   ],
   "source": [
    "df.head()"
   ]
  },
  {
   "cell_type": "code",
   "execution_count": 7,
   "id": "3fd9b0c5",
   "metadata": {},
   "outputs": [
    {
     "data": {
      "text/plain": [
       "{'category': 'general-vqa',\n",
       " 'context': 'bar chart',\n",
       " 'grade': 'daily life',\n",
       " 'img_height': 448,\n",
       " 'img_width': 448,\n",
       " 'language': 'english',\n",
       " 'skills': array(['statistical reasoning'], dtype=object),\n",
       " 'source': 'DVQA',\n",
       " 'split': 'test',\n",
       " 'task': 'figure question answering'}"
      ]
     },
     "execution_count": 7,
     "metadata": {},
     "output_type": "execute_result"
    }
   ],
   "source": [
    "df.sample(1)['metadata'].values[0]"
   ]
  },
  {
   "cell_type": "code",
   "execution_count": 14,
   "id": "3c5b46a0",
   "metadata": {},
   "outputs": [
    {
     "data": {
      "text/plain": [
       "array(['abstract scene', 'bar chart', 'document image', 'function plot',\n",
       "       'geometry diagram', 'heatmap chart', 'line plot', 'map chart',\n",
       "       'medical image', 'natural image', 'pie chart', 'puzzle test',\n",
       "       'radar chart', 'scatter plot', 'scientific figure',\n",
       "       'synthetic scene', 'table', 'word cloud'], dtype='<U17')"
      ]
     },
     "execution_count": 14,
     "metadata": {},
     "output_type": "execute_result"
    }
   ],
   "source": [
    "contexts = []\n",
    "sources = []\n",
    "for i in range(len(df)):\n",
    "    context = df.iloc[i]['metadata']['context']\n",
    "    contexts.append(context)\n",
    "    source = df.iloc[i]['metadata']['source']\n",
    "    sources.append(source)\n",
    "\n",
    "np.unique(contexts)"
   ]
  },
  {
   "cell_type": "code",
   "execution_count": 13,
   "id": "350d698e",
   "metadata": {},
   "outputs": [
    {
     "name": "stdout",
     "output_type": "stream",
     "text": [
      "abstract scene, bar chart, document image, function plot, geometry diagram, heatmap chart, line plot, map chart, medical image, natural image, pie chart, puzzle test, radar chart, scatter plot, scientific figure, synthetic scene, table, word cloud, \n"
     ]
    }
   ],
   "source": [
    "# make string\n",
    "sout = ''\n",
    "for s in np.unique(contexts):\n",
    "    sout += s + ', '\n",
    "\n",
    "print(sout)"
   ]
  },
  {
   "cell_type": "code",
   "execution_count": 15,
   "id": "7fa18de7",
   "metadata": {},
   "outputs": [
    {
     "data": {
      "text/plain": [
       "array(['A-OKVQA', 'AI2D', 'CLEVR-Math', 'ChartQA', 'DVQA', 'DocVQA',\n",
       "       'FigureQA', 'FunctionQA', 'GEOS', 'GeoQA+', 'Geometry3K', 'IQTest',\n",
       "       'IconQA', 'KVQA', 'MapQA', 'PMC-VQA', 'PaperQA', 'ParsVQA-Caps',\n",
       "       'PlotQA', 'SciBench', 'ScienceQA', 'Super-CLEVR', 'TQA', 'TabMWP',\n",
       "       'TextVQA', 'TheoremQA', 'UniGeo', 'VQA-AS', 'VQA-RAD', 'VQA2.0',\n",
       "       'VizWiz'], dtype='<U12')"
      ]
     },
     "execution_count": 15,
     "metadata": {},
     "output_type": "execute_result"
    }
   ],
   "source": [
    "np.unique(sources)"
   ]
  },
  {
   "cell_type": "code",
   "execution_count": 16,
   "id": "2d04b72a",
   "metadata": {},
   "outputs": [
    {
     "ename": "SystemExit",
     "evalue": "",
     "output_type": "error",
     "traceback": [
      "An exception has occurred, use %tb to see the full traceback.\n",
      "\u001b[31mSystemExit\u001b[39m\n"
     ]
    },
    {
     "name": "stderr",
     "output_type": "stream",
     "text": [
      "/opt/anaconda3/envs/JCDL2025/lib/python3.12/site-packages/IPython/core/interactiveshell.py:3707: UserWarning: To exit: use 'exit', 'quit', or Ctrl-D.\n",
      "  warn(\"To exit: use 'exit', 'quit', or Ctrl-D.\", stacklevel=1)\n"
     ]
    }
   ],
   "source": [
    "for i in range(len(df)):\n",
    "    source = df.iloc[i]['metadata']['source']\n",
    "    if source == 'IQTest':\n",
    "        import sys; sys.exit()"
   ]
  },
  {
   "cell_type": "code",
   "execution_count": 17,
   "id": "5dd1ef9a",
   "metadata": {},
   "outputs": [
    {
     "data": {
      "text/plain": [
       "pid                                                           1037\n",
       "question         Which of the shapes is the mirror image of the...\n",
       "image                                              images/1037.jpg\n",
       "decoded_image    {'bytes': b'\\x89PNG\\r\\n\\x1a\\n\\x00\\x00\\x00\\rIHD...\n",
       "choices                                            [A, B, C, D, E]\n",
       "unit                                                          None\n",
       "precision                                                      NaN\n",
       "answer                                                            \n",
       "question_type                                         multi_choice\n",
       "answer_type                                                   text\n",
       "metadata         {'category': 'math-targeted-vqa', 'context': '...\n",
       "query            Hint: Please answer the question and provide t...\n",
       "Name: 36, dtype: object"
      ]
     },
     "execution_count": 17,
     "metadata": {},
     "output_type": "execute_result"
    }
   ],
   "source": [
    "df.iloc[i]"
   ]
  },
  {
   "cell_type": "code",
   "execution_count": 18,
   "id": "93e5280e",
   "metadata": {},
   "outputs": [
    {
     "data": {
      "text/plain": [
       "{'category': 'math-targeted-vqa',\n",
       " 'context': 'puzzle test',\n",
       " 'grade': 'elementary school',\n",
       " 'img_height': 542,\n",
       " 'img_width': 285,\n",
       " 'language': 'english',\n",
       " 'skills': array(['logical reasoning'], dtype=object),\n",
       " 'source': 'IQTest',\n",
       " 'split': 'test',\n",
       " 'task': 'figure question answering'}"
      ]
     },
     "execution_count": 18,
     "metadata": {},
     "output_type": "execute_result"
    }
   ],
   "source": [
    "df.iloc[i]['metadata']"
   ]
  },
  {
   "cell_type": "code",
   "execution_count": null,
   "id": "8655430a",
   "metadata": {},
   "outputs": [],
   "source": []
  }
 ],
 "metadata": {
  "kernelspec": {
   "display_name": "JCDL2025",
   "language": "python",
   "name": "python3"
  },
  "language_info": {
   "codemirror_mode": {
    "name": "ipython",
    "version": 3
   },
   "file_extension": ".py",
   "mimetype": "text/x-python",
   "name": "python",
   "nbconvert_exporter": "python",
   "pygments_lexer": "ipython3",
   "version": "3.12.11"
  }
 },
 "nbformat": 4,
 "nbformat_minor": 5
}
