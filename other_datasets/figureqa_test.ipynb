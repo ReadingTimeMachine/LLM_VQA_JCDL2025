{
 "cells": [
  {
   "cell_type": "markdown",
   "id": "a7548a44",
   "metadata": {},
   "source": [
    "Test out some of the data with the FigureQA dataset."
   ]
  },
  {
   "cell_type": "code",
   "execution_count": 1,
   "id": "8e649815",
   "metadata": {},
   "outputs": [],
   "source": [
    "base_dir = '/Users/jnaiman/Downloads/tmp/JCDL2025/other_datasets/FigureQA/'"
   ]
  },
  {
   "cell_type": "code",
   "execution_count": 3,
   "id": "39ac8146",
   "metadata": {},
   "outputs": [],
   "source": [
    "import pandas as pd\n",
    "from glob import glob"
   ]
  },
  {
   "cell_type": "code",
   "execution_count": 12,
   "id": "3b247ec7",
   "metadata": {},
   "outputs": [
    {
     "data": {
      "text/plain": [
       "['/Users/jnaiman/Downloads/tmp/JCDL2025/other_datasets/FigureQA/train1/qa_pairs.json']"
      ]
     },
     "execution_count": 12,
     "metadata": {},
     "output_type": "execute_result"
    }
   ],
   "source": [
    "#qa_files = glob(base_dir + '*/qa_pairs.json')\n",
    "qa_files = glob(base_dir + 'train1/qa_pairs.json')\n",
    "qa_files"
   ]
  },
  {
   "cell_type": "code",
   "execution_count": 13,
   "id": "3b03f764",
   "metadata": {},
   "outputs": [],
   "source": [
    "# get df\n",
    "for i, file in enumerate(qa_files):\n",
    "    if i == 0:\n",
    "        df = pd.read_json(file)\n",
    "    else:\n",
    "        pass"
   ]
  },
  {
   "cell_type": "code",
   "execution_count": 14,
   "id": "729b4255",
   "metadata": {},
   "outputs": [
    {
     "data": {
      "text/html": [
       "<div>\n",
       "<style scoped>\n",
       "    .dataframe tbody tr th:only-of-type {\n",
       "        vertical-align: middle;\n",
       "    }\n",
       "\n",
       "    .dataframe tbody tr th {\n",
       "        vertical-align: top;\n",
       "    }\n",
       "\n",
       "    .dataframe thead th {\n",
       "        text-align: right;\n",
       "    }\n",
       "</style>\n",
       "<table border=\"1\" class=\"dataframe\">\n",
       "  <thead>\n",
       "    <tr style=\"text-align: right;\">\n",
       "      <th></th>\n",
       "      <th>qa_pairs</th>\n",
       "      <th>total_distinct_questions</th>\n",
       "      <th>total_distinct_colors</th>\n",
       "    </tr>\n",
       "  </thead>\n",
       "  <tbody>\n",
       "    <tr>\n",
       "      <th>0</th>\n",
       "      <td>{'image_index': 0, 'color2_name': '--None--', ...</td>\n",
       "      <td>15</td>\n",
       "      <td>100</td>\n",
       "    </tr>\n",
       "    <tr>\n",
       "      <th>1</th>\n",
       "      <td>{'image_index': 0, 'color2_name': '--None--', ...</td>\n",
       "      <td>15</td>\n",
       "      <td>100</td>\n",
       "    </tr>\n",
       "    <tr>\n",
       "      <th>2</th>\n",
       "      <td>{'image_index': 0, 'color2_name': 'Dark Red', ...</td>\n",
       "      <td>15</td>\n",
       "      <td>100</td>\n",
       "    </tr>\n",
       "    <tr>\n",
       "      <th>3</th>\n",
       "      <td>{'image_index': 0, 'color2_name': 'Pale Green'...</td>\n",
       "      <td>15</td>\n",
       "      <td>100</td>\n",
       "    </tr>\n",
       "    <tr>\n",
       "      <th>4</th>\n",
       "      <td>{'image_index': 0, 'color2_name': 'Pale Green'...</td>\n",
       "      <td>15</td>\n",
       "      <td>100</td>\n",
       "    </tr>\n",
       "    <tr>\n",
       "      <th>...</th>\n",
       "      <td>...</td>\n",
       "      <td>...</td>\n",
       "      <td>...</td>\n",
       "    </tr>\n",
       "    <tr>\n",
       "      <th>1327363</th>\n",
       "      <td>{'image_index': 99999, 'color2_name': 'Light S...</td>\n",
       "      <td>15</td>\n",
       "      <td>100</td>\n",
       "    </tr>\n",
       "    <tr>\n",
       "      <th>1327364</th>\n",
       "      <td>{'image_index': 99999, 'color2_name': 'Mint', ...</td>\n",
       "      <td>15</td>\n",
       "      <td>100</td>\n",
       "    </tr>\n",
       "    <tr>\n",
       "      <th>1327365</th>\n",
       "      <td>{'image_index': 99999, 'color2_name': 'Mint', ...</td>\n",
       "      <td>15</td>\n",
       "      <td>100</td>\n",
       "    </tr>\n",
       "    <tr>\n",
       "      <th>1327366</th>\n",
       "      <td>{'image_index': 99999, 'color2_name': 'Mint', ...</td>\n",
       "      <td>15</td>\n",
       "      <td>100</td>\n",
       "    </tr>\n",
       "    <tr>\n",
       "      <th>1327367</th>\n",
       "      <td>{'image_index': 99999, 'color2_name': 'Mint', ...</td>\n",
       "      <td>15</td>\n",
       "      <td>100</td>\n",
       "    </tr>\n",
       "  </tbody>\n",
       "</table>\n",
       "<p>1327368 rows × 3 columns</p>\n",
       "</div>"
      ],
      "text/plain": [
       "                                                  qa_pairs  \\\n",
       "0        {'image_index': 0, 'color2_name': '--None--', ...   \n",
       "1        {'image_index': 0, 'color2_name': '--None--', ...   \n",
       "2        {'image_index': 0, 'color2_name': 'Dark Red', ...   \n",
       "3        {'image_index': 0, 'color2_name': 'Pale Green'...   \n",
       "4        {'image_index': 0, 'color2_name': 'Pale Green'...   \n",
       "...                                                    ...   \n",
       "1327363  {'image_index': 99999, 'color2_name': 'Light S...   \n",
       "1327364  {'image_index': 99999, 'color2_name': 'Mint', ...   \n",
       "1327365  {'image_index': 99999, 'color2_name': 'Mint', ...   \n",
       "1327366  {'image_index': 99999, 'color2_name': 'Mint', ...   \n",
       "1327367  {'image_index': 99999, 'color2_name': 'Mint', ...   \n",
       "\n",
       "         total_distinct_questions  total_distinct_colors  \n",
       "0                              15                    100  \n",
       "1                              15                    100  \n",
       "2                              15                    100  \n",
       "3                              15                    100  \n",
       "4                              15                    100  \n",
       "...                           ...                    ...  \n",
       "1327363                        15                    100  \n",
       "1327364                        15                    100  \n",
       "1327365                        15                    100  \n",
       "1327366                        15                    100  \n",
       "1327367                        15                    100  \n",
       "\n",
       "[1327368 rows x 3 columns]"
      ]
     },
     "execution_count": 14,
     "metadata": {},
     "output_type": "execute_result"
    }
   ],
   "source": [
    "df"
   ]
  },
  {
   "cell_type": "code",
   "execution_count": 15,
   "id": "0db758b9",
   "metadata": {},
   "outputs": [
    {
     "data": {
      "text/plain": [
       "{'image_index': 0,\n",
       " 'color2_name': '--None--',\n",
       " 'color1_name': 'Pale Green',\n",
       " 'color1_rgb': [152, 251, 152],\n",
       " 'question_string': 'Is Pale Green the minimum?',\n",
       " 'color2_id': -1,\n",
       " 'color1_id': 74,\n",
       " 'answer': 0,\n",
       " 'color2_rgb': [-1, -1, -1],\n",
       " 'question_id': 0}"
      ]
     },
     "execution_count": 15,
     "metadata": {},
     "output_type": "execute_result"
    }
   ],
   "source": [
    "df.iloc[0]['qa_pairs']"
   ]
  },
  {
   "cell_type": "code",
   "execution_count": 18,
   "id": "3c811bec",
   "metadata": {},
   "outputs": [
    {
     "data": {
      "text/plain": [
       "['/Users/jnaiman/Downloads/tmp/JCDL2025/other_datasets/FigureQA/train1/annotations.json']"
      ]
     },
     "execution_count": 18,
     "metadata": {},
     "output_type": "execute_result"
    }
   ],
   "source": [
    "# data files?\n",
    "#data_files = glob(base_dir + '*/annotations.json')\n",
    "data_files = glob(base_dir + 'train1/annotations.json')\n",
    "data_files"
   ]
  },
  {
   "cell_type": "code",
   "execution_count": 21,
   "id": "6594f063",
   "metadata": {},
   "outputs": [],
   "source": [
    "# get df\n",
    "for i, file in enumerate(data_files):\n",
    "    if i == 0:\n",
    "        df_data = pd.read_json(file)\n",
    "    else:\n",
    "        pass"
   ]
  },
  {
   "cell_type": "code",
   "execution_count": 22,
   "id": "e4921fa1",
   "metadata": {},
   "outputs": [
    {
     "data": {
      "text/html": [
       "<div>\n",
       "<style scoped>\n",
       "    .dataframe tbody tr th:only-of-type {\n",
       "        vertical-align: middle;\n",
       "    }\n",
       "\n",
       "    .dataframe tbody tr th {\n",
       "        vertical-align: top;\n",
       "    }\n",
       "\n",
       "    .dataframe thead th {\n",
       "        text-align: right;\n",
       "    }\n",
       "</style>\n",
       "<table border=\"1\" class=\"dataframe\">\n",
       "  <thead>\n",
       "    <tr style=\"text-align: right;\">\n",
       "      <th></th>\n",
       "      <th>models</th>\n",
       "      <th>type</th>\n",
       "      <th>general_figure_info</th>\n",
       "      <th>image_index</th>\n",
       "    </tr>\n",
       "  </thead>\n",
       "  <tbody>\n",
       "    <tr>\n",
       "      <th>0</th>\n",
       "      <td>[{'name': 'bars', 'labels': ['Royal Blue', 'Pa...</td>\n",
       "      <td>vbar_categorical</td>\n",
       "      <td>{'title': {'text': 'title', 'bbox': {'y': 9, '...</td>\n",
       "      <td>0</td>\n",
       "    </tr>\n",
       "    <tr>\n",
       "      <th>1</th>\n",
       "      <td>[{'name': 'bars', 'labels': ['Coral', 'Medium ...</td>\n",
       "      <td>vbar_categorical</td>\n",
       "      <td>{'title': {'text': 'title', 'bbox': {'y': 9, '...</td>\n",
       "      <td>1</td>\n",
       "    </tr>\n",
       "    <tr>\n",
       "      <th>2</th>\n",
       "      <td>[{'name': 'bars', 'labels': ['Navy Blue', 'Vio...</td>\n",
       "      <td>hbar_categorical</td>\n",
       "      <td>{'title': {'text': 'title', 'bbox': {'y': 9, '...</td>\n",
       "      <td>2</td>\n",
       "    </tr>\n",
       "    <tr>\n",
       "      <th>3</th>\n",
       "      <td>[{'end': 1.408823851312817, 'name': 'Peru', 'l...</td>\n",
       "      <td>pie</td>\n",
       "      <td>{'plot_info': {'bbox': {'y': 66, 'x': 113, 'w'...</td>\n",
       "      <td>3</td>\n",
       "    </tr>\n",
       "    <tr>\n",
       "      <th>4</th>\n",
       "      <td>[{'name': 'bars', 'labels': ['Lawn Green', 'Ye...</td>\n",
       "      <td>hbar_categorical</td>\n",
       "      <td>{'title': {'text': 'title', 'bbox': {'y': 9, '...</td>\n",
       "      <td>4</td>\n",
       "    </tr>\n",
       "    <tr>\n",
       "      <th>...</th>\n",
       "      <td>...</td>\n",
       "      <td>...</td>\n",
       "      <td>...</td>\n",
       "      <td>...</td>\n",
       "    </tr>\n",
       "    <tr>\n",
       "      <th>99995</th>\n",
       "      <td>[{'name': 'Light Coral', 'color': '#F08080', '...</td>\n",
       "      <td>dot_line</td>\n",
       "      <td>{'title': {'text': 'title', 'bbox': {'y': 9, '...</td>\n",
       "      <td>99995</td>\n",
       "    </tr>\n",
       "    <tr>\n",
       "      <th>99996</th>\n",
       "      <td>[{'name': 'Forest Green', 'color': '#228B22', ...</td>\n",
       "      <td>line</td>\n",
       "      <td>{'title': {'text': 'title', 'bbox': {'y': 9, '...</td>\n",
       "      <td>99996</td>\n",
       "    </tr>\n",
       "    <tr>\n",
       "      <th>99997</th>\n",
       "      <td>[{'name': 'Violet', 'color': '#EE82EE', 'label...</td>\n",
       "      <td>dot_line</td>\n",
       "      <td>{'title': {'text': 'title', 'bbox': {'y': 9, '...</td>\n",
       "      <td>99997</td>\n",
       "    </tr>\n",
       "    <tr>\n",
       "      <th>99998</th>\n",
       "      <td>[{'name': 'Light Green', 'color': '#90EE90', '...</td>\n",
       "      <td>line</td>\n",
       "      <td>{'title': {'text': 'title', 'bbox': {'y': 9, '...</td>\n",
       "      <td>99998</td>\n",
       "    </tr>\n",
       "    <tr>\n",
       "      <th>99999</th>\n",
       "      <td>[{'name': 'Light Sky Blue', 'color': '#87CEFA'...</td>\n",
       "      <td>dot_line</td>\n",
       "      <td>{'title': {'text': 'title', 'bbox': {'y': 9, '...</td>\n",
       "      <td>99999</td>\n",
       "    </tr>\n",
       "  </tbody>\n",
       "</table>\n",
       "<p>100000 rows × 4 columns</p>\n",
       "</div>"
      ],
      "text/plain": [
       "                                                  models              type  \\\n",
       "0      [{'name': 'bars', 'labels': ['Royal Blue', 'Pa...  vbar_categorical   \n",
       "1      [{'name': 'bars', 'labels': ['Coral', 'Medium ...  vbar_categorical   \n",
       "2      [{'name': 'bars', 'labels': ['Navy Blue', 'Vio...  hbar_categorical   \n",
       "3      [{'end': 1.408823851312817, 'name': 'Peru', 'l...               pie   \n",
       "4      [{'name': 'bars', 'labels': ['Lawn Green', 'Ye...  hbar_categorical   \n",
       "...                                                  ...               ...   \n",
       "99995  [{'name': 'Light Coral', 'color': '#F08080', '...          dot_line   \n",
       "99996  [{'name': 'Forest Green', 'color': '#228B22', ...              line   \n",
       "99997  [{'name': 'Violet', 'color': '#EE82EE', 'label...          dot_line   \n",
       "99998  [{'name': 'Light Green', 'color': '#90EE90', '...              line   \n",
       "99999  [{'name': 'Light Sky Blue', 'color': '#87CEFA'...          dot_line   \n",
       "\n",
       "                                     general_figure_info  image_index  \n",
       "0      {'title': {'text': 'title', 'bbox': {'y': 9, '...            0  \n",
       "1      {'title': {'text': 'title', 'bbox': {'y': 9, '...            1  \n",
       "2      {'title': {'text': 'title', 'bbox': {'y': 9, '...            2  \n",
       "3      {'plot_info': {'bbox': {'y': 66, 'x': 113, 'w'...            3  \n",
       "4      {'title': {'text': 'title', 'bbox': {'y': 9, '...            4  \n",
       "...                                                  ...          ...  \n",
       "99995  {'title': {'text': 'title', 'bbox': {'y': 9, '...        99995  \n",
       "99996  {'title': {'text': 'title', 'bbox': {'y': 9, '...        99996  \n",
       "99997  {'title': {'text': 'title', 'bbox': {'y': 9, '...        99997  \n",
       "99998  {'title': {'text': 'title', 'bbox': {'y': 9, '...        99998  \n",
       "99999  {'title': {'text': 'title', 'bbox': {'y': 9, '...        99999  \n",
       "\n",
       "[100000 rows x 4 columns]"
      ]
     },
     "execution_count": 22,
     "metadata": {},
     "output_type": "execute_result"
    }
   ],
   "source": [
    "df_data"
   ]
  },
  {
   "cell_type": "code",
   "execution_count": 24,
   "id": "fd2d70ee",
   "metadata": {},
   "outputs": [
    {
     "data": {
      "text/plain": [
       "models                 [{'name': 'bars', 'labels': ['Royal Blue', 'Pa...\n",
       "type                                                    vbar_categorical\n",
       "general_figure_info    {'title': {'text': 'title', 'bbox': {'y': 9, '...\n",
       "image_index                                                            0\n",
       "Name: 0, dtype: object"
      ]
     },
     "execution_count": 24,
     "metadata": {},
     "output_type": "execute_result"
    }
   ],
   "source": [
    "df_data.iloc[0]"
   ]
  },
  {
   "cell_type": "code",
   "execution_count": 27,
   "id": "7efb58e8",
   "metadata": {},
   "outputs": [
    {
     "data": {
      "text/plain": [
       "[{'name': 'bars',\n",
       "  'labels': ['Royal Blue',\n",
       "   'Pale Green',\n",
       "   'Dark Red',\n",
       "   'Light Green',\n",
       "   'Dark Salmon'],\n",
       "  'width': 0.5,\n",
       "  'colors': ['#4169E1', '#98FB98', '#8B0000', '#90EE90', '#E9967A'],\n",
       "  'bboxes': [{'y': 78, 'x': 85, 'w': 72, 'h': 196},\n",
       "   {'y': 43, 'x': 230, 'w': 72, 'h': 231},\n",
       "   {'y': 254, 'x': 374, 'w': 72, 'h': 20},\n",
       "   {'y': 170, 'x': 518, 'w': 72, 'h': 104},\n",
       "   {'y': 229, 'x': 663, 'w': 72, 'h': 45}],\n",
       "  'y': [74.5866897989692,\n",
       "   88.21400944286917,\n",
       "   7.6750446995641335,\n",
       "   39.7387773448238,\n",
       "   17.0608316600648],\n",
       "  'x': ['Royal Blue', 'Pale Green', 'Dark Red', 'Light Green', 'Dark Salmon']}]"
      ]
     },
     "execution_count": 27,
     "metadata": {},
     "output_type": "execute_result"
    }
   ],
   "source": [
    "df_data.iloc[0]['models']"
   ]
  },
  {
   "cell_type": "code",
   "execution_count": null,
   "id": "9e9c9cbf",
   "metadata": {},
   "outputs": [],
   "source": []
  },
  {
   "cell_type": "code",
   "execution_count": 25,
   "id": "0ac8db13",
   "metadata": {},
   "outputs": [
    {
     "data": {
      "text/plain": [
       "{'title': {'text': 'title',\n",
       "  'bbox': {'y': 9, 'x': 49.09562500000001, 'w': 50.234375, 'h': 16}},\n",
       " 'x_axis': {'minor_ticks': {'values': [], 'bboxes': []},\n",
       "  'major_labels': {'values': ['Royal Blue',\n",
       "    'Pale Green',\n",
       "    'Dark Red',\n",
       "    'Light Green',\n",
       "    'Dark Salmon',\n",
       "    'Royal Blue',\n",
       "    'Pale Green',\n",
       "    'Dark Red',\n",
       "    'Light Green',\n",
       "    'Dark Salmon'],\n",
       "   'bboxes': [{'y': 297, 'x': 114, 'w': 14, 'h': 59.8125},\n",
       "    {'y': 297, 'x': 259, 'w': 14, 'h': 61.0625},\n",
       "    {'y': 297, 'x': 403, 'w': 14, 'h': 52.5625},\n",
       "    {'y': 297, 'x': 547, 'w': 14, 'h': 66.921875},\n",
       "    {'y': 297, 'x': 692, 'w': 14, 'h': 72.453125},\n",
       "    {'y': 297, 'x': 114, 'w': 14, 'h': 59.8125},\n",
       "    {'y': 297, 'x': 259, 'w': 14, 'h': 61.0625},\n",
       "    {'y': 297, 'x': 403, 'w': 14, 'h': 52.5625},\n",
       "    {'y': 297, 'x': 547, 'w': 14, 'h': 66.921875},\n",
       "    {'y': 297, 'x': 692, 'w': 14, 'h': 72.453125}]},\n",
       "  'major_ticks': {'values': ['Royal Blue',\n",
       "    'Pale Green',\n",
       "    'Dark Red',\n",
       "    'Light Green',\n",
       "    'Dark Salmon',\n",
       "    'Royal Blue',\n",
       "    'Pale Green',\n",
       "    'Dark Red',\n",
       "    'Light Green',\n",
       "    'Dark Salmon'],\n",
       "   'bboxes': [{'y': 284, 'x': 117, 'w': 8, 'h': 8},\n",
       "    {'y': 284, 'x': 262, 'w': 8, 'h': 8},\n",
       "    {'y': 284, 'x': 406, 'w': 8, 'h': 8},\n",
       "    {'y': 284, 'x': 550, 'w': 8, 'h': 8},\n",
       "    {'y': 284, 'x': 695, 'w': 8, 'h': 8},\n",
       "    {'y': 284, 'x': 117, 'w': 8, 'h': 8},\n",
       "    {'y': 284, 'x': 262, 'w': 8, 'h': 8},\n",
       "    {'y': 284, 'x': 406, 'w': 8, 'h': 8},\n",
       "    {'y': 284, 'x': 550, 'w': 8, 'h': 8},\n",
       "    {'y': 284, 'x': 695, 'w': 8, 'h': 8}]},\n",
       "  'rule': {'bbox': {'y': 284, 'h': 4, 'w': 722, 'x': 49}},\n",
       "  'label': {'text': 'xaxis_label',\n",
       "   'bbox': {'y': 381.27, 'x': 374, 'w': 71.78125, 'h': 16}}},\n",
       " 'x_gridlines': {'values': ['Royal Blue',\n",
       "   'Pale Green',\n",
       "   'Dark Red',\n",
       "   'Light Green',\n",
       "   'Dark Salmon'],\n",
       "  'bboxes': [{'y': 31, 'x': 119, 'w': 4, 'h': 257},\n",
       "   {'y': 31, 'x': 264, 'w': 4, 'h': 257},\n",
       "   {'y': 31, 'x': 408, 'w': 4, 'h': 257},\n",
       "   {'y': 31, 'x': 552, 'w': 4, 'h': 257},\n",
       "   {'y': 31, 'x': 697, 'w': 4, 'h': 257}]},\n",
       " 'figure_info': {'bbox': {'bbox': {'y': 0, 'x': 0, 'w': 776, 'h': 400}}},\n",
       " 'y_gridlines': {'values': [0.5, 0.5, 0.5, 0.5, 0.5],\n",
       "  'bboxes': [{'y': 272, 'x': 49, 'w': 722, 'h': 4},\n",
       "   {'y': 220, 'x': 49, 'w': 722, 'h': 4},\n",
       "   {'y': 167, 'x': 49, 'w': 722, 'h': 4},\n",
       "   {'y': 115, 'x': 49, 'w': 722, 'h': 4},\n",
       "   {'y': 62, 'x': 49, 'w': 722, 'h': 4}]},\n",
       " 'y_axis': {'minor_ticks': {'values': [-4,\n",
       "    0,\n",
       "    4,\n",
       "    8,\n",
       "    12,\n",
       "    16,\n",
       "    20,\n",
       "    24,\n",
       "    28,\n",
       "    32,\n",
       "    36,\n",
       "    40,\n",
       "    44,\n",
       "    48,\n",
       "    52,\n",
       "    56,\n",
       "    60,\n",
       "    64,\n",
       "    68,\n",
       "    72,\n",
       "    76,\n",
       "    80,\n",
       "    84,\n",
       "    88,\n",
       "    92,\n",
       "    -4,\n",
       "    0,\n",
       "    4,\n",
       "    8,\n",
       "    12,\n",
       "    16,\n",
       "    20,\n",
       "    24,\n",
       "    28,\n",
       "    32,\n",
       "    36,\n",
       "    40,\n",
       "    44,\n",
       "    48,\n",
       "    52,\n",
       "    56,\n",
       "    60,\n",
       "    64,\n",
       "    68,\n",
       "    72,\n",
       "    76,\n",
       "    80,\n",
       "    84,\n",
       "    88,\n",
       "    92],\n",
       "   'bboxes': [{'y': 282, 'x': 45, 'w': 4, 'h': 4},\n",
       "    {'y': 272, 'x': 45, 'w': 4, 'h': 4},\n",
       "    {'y': 262, 'x': 45, 'w': 4, 'h': 4},\n",
       "    {'y': 251, 'x': 45, 'w': 4, 'h': 4},\n",
       "    {'y': 241, 'x': 45, 'w': 4, 'h': 4},\n",
       "    {'y': 230, 'x': 45, 'w': 4, 'h': 4},\n",
       "    {'y': 220, 'x': 45, 'w': 4, 'h': 4},\n",
       "    {'y': 209, 'x': 45, 'w': 4, 'h': 4},\n",
       "    {'y': 199, 'x': 45, 'w': 4, 'h': 4},\n",
       "    {'y': 188, 'x': 45, 'w': 4, 'h': 4},\n",
       "    {'y': 178, 'x': 45, 'w': 4, 'h': 4},\n",
       "    {'y': 167, 'x': 45, 'w': 4, 'h': 4},\n",
       "    {'y': 157, 'x': 45, 'w': 4, 'h': 4},\n",
       "    {'y': 146, 'x': 45, 'w': 4, 'h': 4},\n",
       "    {'y': 136, 'x': 45, 'w': 4, 'h': 4},\n",
       "    {'y': 125, 'x': 45, 'w': 4, 'h': 4},\n",
       "    {'y': 115, 'x': 45, 'w': 4, 'h': 4},\n",
       "    {'y': 104, 'x': 45, 'w': 4, 'h': 4},\n",
       "    {'y': 94, 'x': 45, 'w': 4, 'h': 4},\n",
       "    {'y': 83, 'x': 45, 'w': 4, 'h': 4},\n",
       "    {'y': 73, 'x': 45, 'w': 4, 'h': 4},\n",
       "    {'y': 62, 'x': 45, 'w': 4, 'h': 4},\n",
       "    {'y': 52, 'x': 45, 'w': 4, 'h': 4},\n",
       "    {'y': 41, 'x': 45, 'w': 4, 'h': 4},\n",
       "    {'y': 31, 'x': 45, 'w': 4, 'h': 4},\n",
       "    {'y': 282, 'x': 45, 'w': 4, 'h': 4},\n",
       "    {'y': 272, 'x': 45, 'w': 4, 'h': 4},\n",
       "    {'y': 262, 'x': 45, 'w': 4, 'h': 4},\n",
       "    {'y': 251, 'x': 45, 'w': 4, 'h': 4},\n",
       "    {'y': 241, 'x': 45, 'w': 4, 'h': 4},\n",
       "    {'y': 230, 'x': 45, 'w': 4, 'h': 4},\n",
       "    {'y': 220, 'x': 45, 'w': 4, 'h': 4},\n",
       "    {'y': 209, 'x': 45, 'w': 4, 'h': 4},\n",
       "    {'y': 199, 'x': 45, 'w': 4, 'h': 4},\n",
       "    {'y': 188, 'x': 45, 'w': 4, 'h': 4},\n",
       "    {'y': 178, 'x': 45, 'w': 4, 'h': 4},\n",
       "    {'y': 167, 'x': 45, 'w': 4, 'h': 4},\n",
       "    {'y': 157, 'x': 45, 'w': 4, 'h': 4},\n",
       "    {'y': 146, 'x': 45, 'w': 4, 'h': 4},\n",
       "    {'y': 136, 'x': 45, 'w': 4, 'h': 4},\n",
       "    {'y': 125, 'x': 45, 'w': 4, 'h': 4},\n",
       "    {'y': 115, 'x': 45, 'w': 4, 'h': 4},\n",
       "    {'y': 104, 'x': 45, 'w': 4, 'h': 4},\n",
       "    {'y': 94, 'x': 45, 'w': 4, 'h': 4},\n",
       "    {'y': 83, 'x': 45, 'w': 4, 'h': 4},\n",
       "    {'y': 73, 'x': 45, 'w': 4, 'h': 4},\n",
       "    {'y': 62, 'x': 45, 'w': 4, 'h': 4},\n",
       "    {'y': 52, 'x': 45, 'w': 4, 'h': 4},\n",
       "    {'y': 41, 'x': 45, 'w': 4, 'h': 4},\n",
       "    {'y': 31, 'x': 45, 'w': 4, 'h': 4}]},\n",
       "  'major_labels': {'values': ['0',\n",
       "    '20',\n",
       "    '40',\n",
       "    '60',\n",
       "    '80',\n",
       "    '0',\n",
       "    '20',\n",
       "    '40',\n",
       "    '60',\n",
       "    '80'],\n",
       "   'bboxes': [{'y': 267, 'x': 31, 'w': 6.984375, 'h': 14},\n",
       "    {'y': 215, 'x': 24, 'w': 13.96875, 'h': 14},\n",
       "    {'y': 162, 'x': 24, 'w': 13.96875, 'h': 14},\n",
       "    {'y': 110, 'x': 24, 'w': 13.96875, 'h': 14},\n",
       "    {'y': 57, 'x': 24, 'w': 13.96875, 'h': 14},\n",
       "    {'y': 267, 'x': 31, 'w': 6.984375, 'h': 14},\n",
       "    {'y': 215, 'x': 24, 'w': 13.96875, 'h': 14},\n",
       "    {'y': 162, 'x': 24, 'w': 13.96875, 'h': 14},\n",
       "    {'y': 110, 'x': 24, 'w': 13.96875, 'h': 14},\n",
       "    {'y': 57, 'x': 24, 'w': 13.96875, 'h': 14}]},\n",
       "  'major_ticks': {'values': [0, 20, 40, 60, 80, 0, 20, 40, 60, 80],\n",
       "   'bboxes': [{'y': 270, 'x': 43, 'w': 8, 'h': 8},\n",
       "    {'y': 218, 'x': 43, 'w': 8, 'h': 8},\n",
       "    {'y': 165, 'x': 43, 'w': 8, 'h': 8},\n",
       "    {'y': 113, 'x': 43, 'w': 8, 'h': 8},\n",
       "    {'y': 60, 'x': 43, 'w': 8, 'h': 8},\n",
       "    {'y': 270, 'x': 43, 'w': 8, 'h': 8},\n",
       "    {'y': 218, 'x': 43, 'w': 8, 'h': 8},\n",
       "    {'y': 165, 'x': 43, 'w': 8, 'h': 8},\n",
       "    {'y': 113, 'x': 43, 'w': 8, 'h': 8},\n",
       "    {'y': 60, 'x': 43, 'w': 8, 'h': 8}]},\n",
       "  'rule': {'bbox': {'y': 31, 'x': 47, 'w': 4, 'h': 255}},\n",
       "  'label': {'text': 'yaxis_label',\n",
       "   'bbox': {'y': 122, 'x': 6, 'w': 16, 'h': 71.796875}}},\n",
       " 'plot_info': {'bbox': {'y': 31, 'x': 47, 'w': 724, 'h': 257}}}"
      ]
     },
     "execution_count": 25,
     "metadata": {},
     "output_type": "execute_result"
    }
   ],
   "source": [
    "df_data.iloc[0]['general_figure_info']"
   ]
  },
  {
   "cell_type": "code",
   "execution_count": 26,
   "id": "b0530fad",
   "metadata": {},
   "outputs": [
    {
     "data": {
      "text/plain": [
       "dict_keys(['title', 'x_axis', 'x_gridlines', 'figure_info', 'y_gridlines', 'y_axis', 'plot_info'])"
      ]
     },
     "execution_count": 26,
     "metadata": {},
     "output_type": "execute_result"
    }
   ],
   "source": [
    "df_data.iloc[0]['general_figure_info'].keys()"
   ]
  },
  {
   "cell_type": "code",
   "execution_count": null,
   "id": "9d7576a7",
   "metadata": {},
   "outputs": [],
   "source": []
  },
  {
   "cell_type": "code",
   "execution_count": null,
   "id": "0bc63897",
   "metadata": {},
   "outputs": [],
   "source": []
  },
  {
   "cell_type": "code",
   "execution_count": 23,
   "id": "7626b81b",
   "metadata": {},
   "outputs": [
    {
     "name": "stdout",
     "output_type": "stream",
     "text": [
      "/Users/jnaiman/Downloads/tmp/JCDL2025/other_datasets/FigureQA/train1/annotations_format.txt\n"
     ]
    }
   ],
   "source": [
    "!ls /Users/jnaiman/Downloads/tmp/JCDL2025/other_datasets/FigureQA/train1/annotations_format.txt"
   ]
  },
  {
   "cell_type": "code",
   "execution_count": null,
   "id": "206eea47",
   "metadata": {},
   "outputs": [],
   "source": []
  }
 ],
 "metadata": {
  "kernelspec": {
   "display_name": "JCDL2025",
   "language": "python",
   "name": "python3"
  },
  "language_info": {
   "codemirror_mode": {
    "name": "ipython",
    "version": 3
   },
   "file_extension": ".py",
   "mimetype": "text/x-python",
   "name": "python",
   "nbconvert_exporter": "python",
   "pygments_lexer": "ipython3",
   "version": "3.12.11"
  }
 },
 "nbformat": 4,
 "nbformat_minor": 5
}
