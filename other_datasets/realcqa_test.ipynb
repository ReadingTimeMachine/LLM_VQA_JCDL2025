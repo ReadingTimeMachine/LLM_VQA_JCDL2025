{
 "cells": [
  {
   "cell_type": "markdown",
   "id": "655f8932",
   "metadata": {},
   "source": [
    "To use git clone:\n",
    "\n",
    "1. `git clone https://huggingface.co/datasets/sal4ahm/RealCQA`\n",
    "1. `cd RealCQA`\n",
    "1. `conda activate <this env>`\n",
    "1. `conda install anaconda::git-lfs` (if not installed)\n",
    "1. `git lfs install`\n",
    "1. `git lfs pull`"
   ]
  },
  {
   "cell_type": "code",
   "execution_count": 9,
   "id": "01c63533",
   "metadata": {},
   "outputs": [],
   "source": [
    "# just use git clone for jsons\n",
    "data_dir = '/Users/jnaiman/Downloads/tmp/JCDL2025/other_datasets/RealCQA/'"
   ]
  },
  {
   "cell_type": "code",
   "execution_count": 55,
   "id": "f97f568a",
   "metadata": {},
   "outputs": [],
   "source": [
    "import json\n",
    "from glob import glob\n",
    "import numpy as np"
   ]
  },
  {
   "cell_type": "code",
   "execution_count": 28,
   "id": "4e5b34eb",
   "metadata": {},
   "outputs": [],
   "source": [
    "# load one\n",
    "with open(data_dir + 'jsons/PMC1087839___1471-2156-6-19-3.json','r') as f:\n",
    "    data1 = json.load(f)"
   ]
  },
  {
   "cell_type": "code",
   "execution_count": 29,
   "id": "356317ed",
   "metadata": {},
   "outputs": [
    {
     "data": {
      "text/plain": [
       "dict_keys(['task1', 'task2', 'task3', 'task4', 'task5', 'task6'])"
      ]
     },
     "execution_count": 29,
     "metadata": {},
     "output_type": "execute_result"
    }
   ],
   "source": [
    "data1.keys()"
   ]
  },
  {
   "cell_type": "code",
   "execution_count": 30,
   "id": "a31eddde",
   "metadata": {},
   "outputs": [
    {
     "data": {
      "text/plain": [
       "{'input': {},\n",
       " 'name': 'Chart Classification',\n",
       " 'output': {'chart_type': 'vertical bar'}}"
      ]
     },
     "execution_count": 30,
     "metadata": {},
     "output_type": "execute_result"
    }
   ],
   "source": [
    "data1['task1']"
   ]
  },
  {
   "cell_type": "code",
   "execution_count": 19,
   "id": "0993993a",
   "metadata": {},
   "outputs": [
    {
     "data": {
      "text/plain": [
       "{'input': {'task1_output': {'chart_type': 'vertical bar'},\n",
       "  'task2_output': {'text_blocks': [{'id': 0,\n",
       "     'polygon': {'x0': 37,\n",
       "      'x1': 51,\n",
       "      'x2': 51,\n",
       "      'x3': 37,\n",
       "      'y0': 19,\n",
       "      'y1': 19,\n",
       "      'y2': 30,\n",
       "      'y3': 30},\n",
       "     'text': '50'},\n",
       "    {'id': 1,\n",
       "     'polygon': {'x0': 37,\n",
       "      'x1': 51,\n",
       "      'x2': 51,\n",
       "      'x3': 37,\n",
       "      'y0': 52,\n",
       "      'y1': 52,\n",
       "      'y2': 63,\n",
       "      'y3': 63},\n",
       "     'text': '48'},\n",
       "    {'id': 2,\n",
       "     'polygon': {'x0': 37,\n",
       "      'x1': 51,\n",
       "      'x2': 51,\n",
       "      'x3': 37,\n",
       "      'y0': 86,\n",
       "      'y1': 86,\n",
       "      'y2': 97,\n",
       "      'y3': 97},\n",
       "     'text': '46'},\n",
       "    {'id': 3,\n",
       "     'polygon': {'x0': 37,\n",
       "      'x1': 51,\n",
       "      'x2': 51,\n",
       "      'x3': 37,\n",
       "      'y0': 119,\n",
       "      'y1': 119,\n",
       "      'y2': 130,\n",
       "      'y3': 130},\n",
       "     'text': '44'},\n",
       "    {'id': 4,\n",
       "     'polygon': {'x0': 37,\n",
       "      'x1': 51,\n",
       "      'x2': 51,\n",
       "      'x3': 37,\n",
       "      'y0': 153,\n",
       "      'y1': 153,\n",
       "      'y2': 164,\n",
       "      'y3': 164},\n",
       "     'text': '42'},\n",
       "    {'id': 5,\n",
       "     'polygon': {'x0': 37,\n",
       "      'x1': 51,\n",
       "      'x2': 51,\n",
       "      'x3': 37,\n",
       "      'y0': 186,\n",
       "      'y1': 186,\n",
       "      'y2': 197,\n",
       "      'y3': 197},\n",
       "     'text': '40'},\n",
       "    {'id': 6,\n",
       "     'polygon': {'x0': 37,\n",
       "      'x1': 51,\n",
       "      'x2': 51,\n",
       "      'x3': 37,\n",
       "      'y0': 220,\n",
       "      'y1': 220,\n",
       "      'y2': 231,\n",
       "      'y3': 231},\n",
       "     'text': '38'},\n",
       "    {'id': 7,\n",
       "     'polygon': {'x0': 126,\n",
       "      'x1': 200,\n",
       "      'x2': 200,\n",
       "      'x3': 126,\n",
       "      'y0': 239,\n",
       "      'y1': 239,\n",
       "      'y2': 250,\n",
       "      'y3': 250},\n",
       "     'text': 'SNP -3608T>C'},\n",
       "    {'id': 8,\n",
       "     'polygon': {'x0': 300,\n",
       "      'x1': 391,\n",
       "      'x2': 391,\n",
       "      'x3': 300,\n",
       "      'y0': 38,\n",
       "      'y1': 38,\n",
       "      'y2': 50,\n",
       "      'y3': 50},\n",
       "     'text': 'French controls'},\n",
       "    {'id': 9,\n",
       "     'polygon': {'x0': 300,\n",
       "      'x1': 423,\n",
       "      'x2': 423,\n",
       "      'x3': 300,\n",
       "      'y0': 74,\n",
       "      'y1': 74,\n",
       "      'y2': 105,\n",
       "      'y3': 105},\n",
       "     'text': 'French controls from general population'},\n",
       "    {'id': 10,\n",
       "     'polygon': {'x0': 300,\n",
       "      'x1': 441,\n",
       "      'x2': 441,\n",
       "      'x3': 300,\n",
       "      'y0': 111,\n",
       "      'y1': 111,\n",
       "      'y2': 142,\n",
       "      'y3': 142},\n",
       "     'text': 'French moderate obese\\nsubjects'},\n",
       "    {'id': 11,\n",
       "     'polygon': {'x0': 300,\n",
       "      'x1': 426,\n",
       "      'x2': 426,\n",
       "      'x3': 300,\n",
       "      'y0': 149,\n",
       "      'y1': 149,\n",
       "      'y2': 180,\n",
       "      'y3': 180},\n",
       "     'text': 'French morbid obese subjects pooled'},\n",
       "    {'id': 12,\n",
       "     'polygon': {'x0': 300,\n",
       "      'x1': 418,\n",
       "      'x2': 418,\n",
       "      'x3': 300,\n",
       "      'y0': 186,\n",
       "      'y1': 186,\n",
       "      'y2': 216,\n",
       "      'y3': 216},\n",
       "     'text': 'Swiss morbid obese subjects'},\n",
       "    {'id': 13,\n",
       "     'polygon': {'x0': 21,\n",
       "      'x1': 34,\n",
       "      'x2': 34,\n",
       "      'x3': 21,\n",
       "      'y0': 52,\n",
       "      'y1': 52,\n",
       "      'y2': 196,\n",
       "      'y3': 196},\n",
       "     'text': '-3608T allele frequency (%)'}]},\n",
       "  'task3_output': {'text_roles': [{'id': 0, 'role': 'tick_label'},\n",
       "    {'id': 1, 'role': 'tick_label'},\n",
       "    {'id': 2, 'role': 'tick_label'},\n",
       "    {'id': 3, 'role': 'tick_label'},\n",
       "    {'id': 4, 'role': 'tick_label'},\n",
       "    {'id': 5, 'role': 'tick_label'},\n",
       "    {'id': 6, 'role': 'tick_label'},\n",
       "    {'id': 7, 'role': 'axis_title'},\n",
       "    {'id': 8, 'role': 'legend_label'},\n",
       "    {'id': 9, 'role': 'legend_label'},\n",
       "    {'id': 10, 'role': 'legend_label'},\n",
       "    {'id': 11, 'role': 'legend_label'},\n",
       "    {'id': 12, 'role': 'legend_label'},\n",
       "    {'id': 13, 'role': 'axis_title'}]},\n",
       "  'task4_output': {'_plot_bb': {'height': 201,\n",
       "    'width': 209,\n",
       "    'x0': 60,\n",
       "    'y0': 25},\n",
       "   'axes': {'_x-tick-type': 'separators',\n",
       "    '_x2-tick-type': None,\n",
       "    '_y-tick-type': 'markers',\n",
       "    '_y2-tick-type': None,\n",
       "    'x-axis': [],\n",
       "    'x-axis-2': [],\n",
       "    'y-axis': [{'id': 0, 'tick_pt': {'x': 60, 'y': 25}},\n",
       "     {'id': 1, 'tick_pt': {'x': 60, 'y': 59}},\n",
       "     {'id': 2, 'tick_pt': {'x': 60, 'y': 92}},\n",
       "     {'id': 3, 'tick_pt': {'x': 60, 'y': 125}},\n",
       "     {'id': 4, 'tick_pt': {'x': 60, 'y': 159}},\n",
       "     {'id': 5, 'tick_pt': {'x': 60, 'y': 192}},\n",
       "     {'id': 6, 'tick_pt': {'x': 60, 'y': 226}}],\n",
       "    'y-axis-2': []}},\n",
       "  'task5_output': {'legend_pairs': [{'bb': {'height': 7,\n",
       "      'width': 9,\n",
       "      'x0': 289,\n",
       "      'y0': 40},\n",
       "     'id': 8},\n",
       "    {'bb': {'height': 7, 'width': 9, 'x0': 289, 'y0': 77}, 'id': 9},\n",
       "    {'bb': {'height': 7, 'width': 9, 'x0': 289, 'y0': 114}, 'id': 10},\n",
       "    {'bb': {'height': 7, 'width': 9, 'x0': 289, 'y0': 152}, 'id': 11},\n",
       "    {'bb': {'height': 7, 'width': 9, 'x0': 289, 'y0': 188}, 'id': 12}]}},\n",
       " 'name': 'Data Extraction',\n",
       " 'output': {'data series': [{'data': [{'x': '[unnamed category #0]',\n",
       "      'y': 42.37043189368771}],\n",
       "    'name': 'French controls'},\n",
       "   {'data': [{'x': '[unnamed category #0]', 'y': 45.2109634551495}],\n",
       "    'name': 'French controls from general population'},\n",
       "   {'data': [{'x': '[unnamed category #0]', 'y': 48.48504983388704}],\n",
       "    'name': 'French moderate obese\\nsubjects'},\n",
       "   {'data': [{'x': '[unnamed category #0]', 'y': 49.39700996677741}],\n",
       "    'name': 'French morbid obese subjects pooled'},\n",
       "   {'data': [{'x': '[unnamed category #0]', 'y': 49.33720930232558}],\n",
       "    'name': 'Swiss morbid obese subjects'}],\n",
       "  'visual elements': {'bars': [{'height': 72,\n",
       "     'width': 20,\n",
       "     'x0': 74,\n",
       "     'y0': 153},\n",
       "    {'height': 120, 'width': 20, 'x0': 114, 'y0': 105},\n",
       "    {'height': 175, 'width': 20, 'x0': 154, 'y0': 50},\n",
       "    {'height': 190, 'width': 20, 'x0': 194, 'y0': 35},\n",
       "    {'height': 189, 'width': 20, 'x0': 234, 'y0': 36}],\n",
       "   'boxplots': [],\n",
       "   'lines': [],\n",
       "   'scatter points': []}}}"
      ]
     },
     "execution_count": 19,
     "metadata": {},
     "output_type": "execute_result"
    }
   ],
   "source": [
    "data1['task6']"
   ]
  },
  {
   "cell_type": "markdown",
   "id": "c9353ba9",
   "metadata": {},
   "source": [
    "For full data extraction, this is task 6 -- so see how many of vertical/horizontal bars there AND have task 6 info: "
   ]
  },
  {
   "cell_type": "code",
   "execution_count": 24,
   "id": "c889ed0c",
   "metadata": {},
   "outputs": [
    {
     "data": {
      "text/plain": [
       "['/Users/jnaiman/Downloads/tmp/JCDL2025/other_datasets/RealCQA/jsons/PMC4508853___fgene-06-00245-g005.json',\n",
       " '/Users/jnaiman/Downloads/tmp/JCDL2025/other_datasets/RealCQA/jsons/PMC1866440___1471-2156-4-S1-S102-2.json',\n",
       " '/Users/jnaiman/Downloads/tmp/JCDL2025/other_datasets/RealCQA/jsons/PMC4049506___1471-2458-14-497-1.json']"
      ]
     },
     "execution_count": 24,
     "metadata": {},
     "output_type": "execute_result"
    }
   ],
   "source": [
    "files = glob(data_dir + 'jsons*/*json')\n",
    "files[:3]"
   ]
  },
  {
   "cell_type": "code",
   "execution_count": 76,
   "id": "13b9bbf8",
   "metadata": {},
   "outputs": [],
   "source": [
    "bar_numerical = []\n",
    "\n",
    "for file in files:\n",
    "    with open(file,'r') as f:\n",
    "        data1 = json.load(f)\n",
    "\n",
    "    #import sys; sys.exit()\n",
    "\n",
    "    # check for \"bar\" in the thing\n",
    "    hasNumerical = False\n",
    "    if 'bar' in data1['task1']['output']['chart_type'].lower():\n",
    "        if 'task6' not in data1:\n",
    "            continue\n",
    "        if data1['task6'] is not None:\n",
    "            # get data series\n",
    "            data_series = data1['task6']['output']['data series']\n",
    "            # go through each point and see if numerical\n",
    "            hasN = []\n",
    "            for d in data_series:\n",
    "                dd = d['data']\n",
    "                for d2 in dd:\n",
    "                    hasNx = False; hasNy = False\n",
    "                    try:\n",
    "                        x = float(d2['x'])\n",
    "                        hasNx = True\n",
    "                    except:\n",
    "                        pass\n",
    "                    try:\n",
    "                        y = float(d2['y'])\n",
    "                        hasNy = True\n",
    "                    except:\n",
    "                        pass\n",
    "                    if hasNx and hasNy:\n",
    "                        hasN.append(True)\n",
    "            hasN = np.unique(hasN)   \n",
    "            if len(hasN) == 1 and hasN[0]:\n",
    "                hasNumerical = True         \n",
    "\n",
    "            if hasNumerical: \n",
    "                bar_numerical.append(file)\n",
    "                #import sys; sys.exit()\n",
    "\n",
    "bar_numerical = np.unique(bar_numerical)"
   ]
  },
  {
   "cell_type": "code",
   "execution_count": 77,
   "id": "6b3c7b99",
   "metadata": {},
   "outputs": [
    {
     "data": {
      "text/plain": [
       "374"
      ]
     },
     "execution_count": 77,
     "metadata": {},
     "output_type": "execute_result"
    }
   ],
   "source": [
    "len(bar_numerical)"
   ]
  },
  {
   "cell_type": "code",
   "execution_count": null,
   "id": "8614331f",
   "metadata": {},
   "outputs": [],
   "source": []
  },
  {
   "cell_type": "code",
   "execution_count": null,
   "id": "e5d8ca4e",
   "metadata": {},
   "outputs": [],
   "source": []
  },
  {
   "cell_type": "markdown",
   "id": "e93b460f",
   "metadata": {},
   "source": [
    "So, no purely numerical data it looks like."
   ]
  },
  {
   "cell_type": "markdown",
   "id": "9f58f7c7",
   "metadata": {},
   "source": [
    "How many that have task 6 AND is vertical/horizontal bar?"
   ]
  },
  {
   "cell_type": "code",
   "execution_count": 66,
   "id": "a2c177d9",
   "metadata": {},
   "outputs": [],
   "source": [
    "files_bars = []\n",
    "\n",
    "for file in files:\n",
    "    with open(file,'r') as f:\n",
    "        data1 = json.load(f)\n",
    "\n",
    "    # check for \"bar\" in the thing\n",
    "    if 'bar' in data1['task1']['output']['chart_type'].lower():\n",
    "        if 'task6' not in data1:\n",
    "            continue\n",
    "        if data1['task6'] is not None:\n",
    "            files_bars.append(file)\n",
    "\n",
    "files_bars = np.unique(files_bars)"
   ]
  },
  {
   "cell_type": "code",
   "execution_count": 67,
   "id": "d6811b6b",
   "metadata": {},
   "outputs": [
    {
     "data": {
      "text/plain": [
       "2164"
      ]
     },
     "execution_count": 67,
     "metadata": {},
     "output_type": "execute_result"
    }
   ],
   "source": [
    "len(files_bars)"
   ]
  },
  {
   "cell_type": "code",
   "execution_count": 68,
   "id": "46592c05",
   "metadata": {},
   "outputs": [
    {
     "data": {
      "text/plain": [
       "array(['/Users/jnaiman/Downloads/tmp/JCDL2025/other_datasets/RealCQA/jsons/PMC4687126___12889_2015_2651_Fig1_HTML.json',\n",
       "       '/Users/jnaiman/Downloads/tmp/JCDL2025/other_datasets/RealCQA/jsons2/PMC5459003___materials-10-00559-g005.json',\n",
       "       '/Users/jnaiman/Downloads/tmp/JCDL2025/other_datasets/RealCQA/jsons/PMC1326229___1471-2350-6-43-3.json',\n",
       "       '/Users/jnaiman/Downloads/tmp/JCDL2025/other_datasets/RealCQA/jsons2/PMC5664695___ijerph-14-01194-g003.json',\n",
       "       '/Users/jnaiman/Downloads/tmp/JCDL2025/other_datasets/RealCQA/jsons/PMC4454970___ijerph-12-05329-g001.json',\n",
       "       '/Users/jnaiman/Downloads/tmp/JCDL2025/other_datasets/RealCQA/jsons/PMC3160377___1471-2458-11-572-1.json',\n",
       "       '/Users/jnaiman/Downloads/tmp/JCDL2025/other_datasets/RealCQA/jsons/PMC2583910___pgen.1000281.g001.json',\n",
       "       '/Users/jnaiman/Downloads/tmp/JCDL2025/other_datasets/RealCQA/jsons/PMC4847021___ijerph-13-00359-g001.json',\n",
       "       '/Users/jnaiman/Downloads/tmp/JCDL2025/other_datasets/RealCQA/jsons/PMC3118131___1471-2156-12-48-2.json',\n",
       "       '/Users/jnaiman/Downloads/tmp/JCDL2025/other_datasets/RealCQA/jsons2/PMC5580617___ijerph-14-00914-g002.json'],\n",
       "      dtype='<U136')"
      ]
     },
     "execution_count": 68,
     "metadata": {},
     "output_type": "execute_result"
    }
   ],
   "source": [
    "np.random.choice(files_bars, size=10)"
   ]
  },
  {
   "cell_type": "markdown",
   "id": "24180187",
   "metadata": {},
   "source": [
    "## Test a few more.\n",
    "\n",
    "this one has numerical data at the bottom: PMC3118131___1471-2156-12-48-2"
   ]
  },
  {
   "cell_type": "code",
   "execution_count": 69,
   "id": "b2b7c243",
   "metadata": {},
   "outputs": [],
   "source": [
    "# load one\n",
    "with open(data_dir + 'jsons/PMC3118131___1471-2156-12-48-2.json','r') as f:\n",
    "    data1 = json.load(f)"
   ]
  },
  {
   "cell_type": "code",
   "execution_count": 70,
   "id": "f09b1925",
   "metadata": {},
   "outputs": [],
   "source": [
    "data_series = data1['task6']['output']['data series']"
   ]
  },
  {
   "cell_type": "code",
   "execution_count": 71,
   "id": "e3113a92",
   "metadata": {},
   "outputs": [
    {
     "data": {
      "text/plain": [
       "[{'data': [{'x': '1', 'y': 0.46},\n",
       "   {'x': '2', 'y': 0.5},\n",
       "   {'x': '3', 'y': 0.25},\n",
       "   {'x': '4', 'y': 0.05},\n",
       "   {'x': '5', 'y': 0.1},\n",
       "   {'x': '6', 'y': 0.06},\n",
       "   {'x': '7', 'y': 0.06},\n",
       "   {'x': '8', 'y': 0.08},\n",
       "   {'x': '9', 'y': 0.08},\n",
       "   {'x': '10', 'y': 0.12},\n",
       "   {'x': '11', 'y': 0.11},\n",
       "   {'x': '12', 'y': 0.1},\n",
       "   {'x': '13', 'y': 0.16}],\n",
       "  'name': '[unnamed data series #0]'}]"
      ]
     },
     "execution_count": 71,
     "metadata": {},
     "output_type": "execute_result"
    }
   ],
   "source": [
    "data_series"
   ]
  },
  {
   "cell_type": "code",
   "execution_count": 72,
   "id": "49d61cca",
   "metadata": {},
   "outputs": [
    {
     "name": "stdout",
     "output_type": "stream",
     "text": [
      "{'x': '1', 'y': 0.46}\n",
      "{'x': '2', 'y': 0.5}\n",
      "{'x': '3', 'y': 0.25}\n",
      "{'x': '4', 'y': 0.05}\n",
      "{'x': '5', 'y': 0.1}\n",
      "{'x': '6', 'y': 0.06}\n",
      "{'x': '7', 'y': 0.06}\n",
      "{'x': '8', 'y': 0.08}\n",
      "{'x': '9', 'y': 0.08}\n",
      "{'x': '10', 'y': 0.12}\n",
      "{'x': '11', 'y': 0.11}\n",
      "{'x': '12', 'y': 0.1}\n",
      "{'x': '13', 'y': 0.16}\n"
     ]
    }
   ],
   "source": [
    "for d in data_series:\n",
    "    dd = d['data']\n",
    "    for d2 in dd:\n",
    "        print(d2)"
   ]
  },
  {
   "cell_type": "code",
   "execution_count": null,
   "id": "ee92ab87",
   "metadata": {},
   "outputs": [],
   "source": []
  }
 ],
 "metadata": {
  "kernelspec": {
   "display_name": "JCDL2025",
   "language": "python",
   "name": "python3"
  },
  "language_info": {
   "codemirror_mode": {
    "name": "ipython",
    "version": 3
   },
   "file_extension": ".py",
   "mimetype": "text/x-python",
   "name": "python",
   "nbconvert_exporter": "python",
   "pygments_lexer": "ipython3",
   "version": "3.12.11"
  }
 },
 "nbformat": 4,
 "nbformat_minor": 5
}
