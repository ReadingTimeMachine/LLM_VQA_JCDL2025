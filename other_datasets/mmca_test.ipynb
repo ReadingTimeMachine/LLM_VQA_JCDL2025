{
 "cells": [
  {
   "cell_type": "code",
   "execution_count": 2,
   "id": "97e8984d",
   "metadata": {},
   "outputs": [
    {
     "data": {
      "application/vnd.jupyter.widget-view+json": {
       "model_id": "c8d851e0e83f4114bd9e20f0be9643a6",
       "version_major": 2,
       "version_minor": 0
      },
      "text/plain": [
       "README.md: 0.00B [00:00, ?B/s]"
      ]
     },
     "metadata": {},
     "output_type": "display_data"
    },
    {
     "data": {
      "application/vnd.jupyter.widget-view+json": {
       "model_id": "eb106c1aaa814d0ca73699a6b6c4ba00",
       "version_major": 2,
       "version_minor": 0
      },
      "text/plain": [
       "(…)mc_chart_text_alignment_arxiv_text.jsonl:   0%|          | 0.00/233M [00:00<?, ?B/s]"
      ]
     },
     "metadata": {},
     "output_type": "display_data"
    },
    {
     "data": {
      "application/vnd.jupyter.widget-view+json": {
       "model_id": "1b98567853fb4c6ebcc9925daf1426b2",
       "version_major": 2,
       "version_minor": 0
      },
      "text/plain": [
       "Generating train split:   0%|          | 0/250000 [00:00<?, ? examples/s]"
      ]
     },
     "metadata": {},
     "output_type": "display_data"
    }
   ],
   "source": [
    "from datasets import load_dataset\n",
    "\n",
    "ds = load_dataset(\"xywang1/MMC\", \"MMC-Alignment\")"
   ]
  },
  {
   "cell_type": "code",
   "execution_count": 3,
   "id": "b0218d09",
   "metadata": {},
   "outputs": [],
   "source": [
    "import pandas as pd"
   ]
  },
  {
   "cell_type": "code",
   "execution_count": 5,
   "id": "8480123c",
   "metadata": {},
   "outputs": [
    {
     "data": {
      "text/html": [
       "<div>\n",
       "<style scoped>\n",
       "    .dataframe tbody tr th:only-of-type {\n",
       "        vertical-align: middle;\n",
       "    }\n",
       "\n",
       "    .dataframe tbody tr th {\n",
       "        vertical-align: top;\n",
       "    }\n",
       "\n",
       "    .dataframe thead th {\n",
       "        text-align: right;\n",
       "    }\n",
       "</style>\n",
       "<table border=\"1\" class=\"dataframe\">\n",
       "  <thead>\n",
       "    <tr style=\"text-align: right;\">\n",
       "      <th></th>\n",
       "      <th>image_id</th>\n",
       "      <th>caption</th>\n",
       "      <th>reference_sentence_in_article</th>\n",
       "    </tr>\n",
       "  </thead>\n",
       "  <tbody>\n",
       "    <tr>\n",
       "      <th>0</th>\n",
       "      <td>1803.02009v2-Figure4-1.png</td>\n",
       "      <td>Fig. 4: Comparisons with global pose estimatio...</td>\n",
       "      <td>The robustness of MIS-SLAM is significantly im...</td>\n",
       "    </tr>\n",
       "    <tr>\n",
       "      <th>1</th>\n",
       "      <td>2007.08158v1-Figure9-1.png</td>\n",
       "      <td>Fig. 9. Average squared distance between the d...</td>\n",
       "      <td>path are formed (leading to a reduced Tt). We ...</td>\n",
       "    </tr>\n",
       "    <tr>\n",
       "      <th>2</th>\n",
       "      <td>1609.08686v2-Figure5-1.png</td>\n",
       "      <td>Fig. 5. Probability of incorrect recovery (err...</td>\n",
       "      <td>trial, a subset of training set shown in Fig. ...</td>\n",
       "    </tr>\n",
       "    <tr>\n",
       "      <th>3</th>\n",
       "      <td>1706.08739v1-Figure4.19-1.png</td>\n",
       "      <td>Fig. 4.19 Probability of decoding failure, PF ...</td>\n",
       "      <td>Figure 4.18 shows the number of inactivations ...</td>\n",
       "    </tr>\n",
       "    <tr>\n",
       "      <th>4</th>\n",
       "      <td>1207.1469v1-Figure9-1.png</td>\n",
       "      <td>Fig. 9. Results for exact and asymptotic RMSE ...</td>\n",
       "      <td>We now evaluate the accuracy of the asymptotic...</td>\n",
       "    </tr>\n",
       "    <tr>\n",
       "      <th>...</th>\n",
       "      <td>...</td>\n",
       "      <td>...</td>\n",
       "      <td>...</td>\n",
       "    </tr>\n",
       "    <tr>\n",
       "      <th>249995</th>\n",
       "      <td>1607.00405v1-Figure6-1.png</td>\n",
       "      <td>Fig. 6. The results of matching accuracy of 2,...</td>\n",
       "      <td>In Fig.6 we show the overall matching accuracy...</td>\n",
       "    </tr>\n",
       "    <tr>\n",
       "      <th>249996</th>\n",
       "      <td>1507.00525v1-Figure14-1.png</td>\n",
       "      <td>Fig. 14. Membership functions for output 2</td>\n",
       "      <td>The membership functions for the output 2 are ...</td>\n",
       "    </tr>\n",
       "    <tr>\n",
       "      <th>249997</th>\n",
       "      <td>1412.6575v4-Figure2-1.png</td>\n",
       "      <td>Figure 2: Aggregated precision of top length-3...</td>\n",
       "      <td>We also look at the results for length-3 rules...</td>\n",
       "    </tr>\n",
       "    <tr>\n",
       "      <th>249998</th>\n",
       "      <td>1904.12924v1-Figure6-1.png</td>\n",
       "      <td>Figure 6. In this image, we see that the expec...</td>\n",
       "      <td>where Shonest ⊂ [Nnet] is the set of honest mi...</td>\n",
       "    </tr>\n",
       "    <tr>\n",
       "      <th>249999</th>\n",
       "      <td>1702.08826v1-Figure5-1.png</td>\n",
       "      <td>Figure 5: Error Probabilities for the ranking ...</td>\n",
       "      <td>(associated to the width of the RMSE-distribut...</td>\n",
       "    </tr>\n",
       "  </tbody>\n",
       "</table>\n",
       "<p>250000 rows × 3 columns</p>\n",
       "</div>"
      ],
      "text/plain": [
       "                             image_id  \\\n",
       "0          1803.02009v2-Figure4-1.png   \n",
       "1          2007.08158v1-Figure9-1.png   \n",
       "2          1609.08686v2-Figure5-1.png   \n",
       "3       1706.08739v1-Figure4.19-1.png   \n",
       "4           1207.1469v1-Figure9-1.png   \n",
       "...                               ...   \n",
       "249995     1607.00405v1-Figure6-1.png   \n",
       "249996    1507.00525v1-Figure14-1.png   \n",
       "249997      1412.6575v4-Figure2-1.png   \n",
       "249998     1904.12924v1-Figure6-1.png   \n",
       "249999     1702.08826v1-Figure5-1.png   \n",
       "\n",
       "                                                  caption  \\\n",
       "0       Fig. 4: Comparisons with global pose estimatio...   \n",
       "1       Fig. 9. Average squared distance between the d...   \n",
       "2       Fig. 5. Probability of incorrect recovery (err...   \n",
       "3       Fig. 4.19 Probability of decoding failure, PF ...   \n",
       "4       Fig. 9. Results for exact and asymptotic RMSE ...   \n",
       "...                                                   ...   \n",
       "249995  Fig. 6. The results of matching accuracy of 2,...   \n",
       "249996         Fig. 14. Membership functions for output 2   \n",
       "249997  Figure 2: Aggregated precision of top length-3...   \n",
       "249998  Figure 6. In this image, we see that the expec...   \n",
       "249999  Figure 5: Error Probabilities for the ranking ...   \n",
       "\n",
       "                            reference_sentence_in_article  \n",
       "0       The robustness of MIS-SLAM is significantly im...  \n",
       "1       path are formed (leading to a reduced Tt). We ...  \n",
       "2       trial, a subset of training set shown in Fig. ...  \n",
       "3       Figure 4.18 shows the number of inactivations ...  \n",
       "4       We now evaluate the accuracy of the asymptotic...  \n",
       "...                                                   ...  \n",
       "249995  In Fig.6 we show the overall matching accuracy...  \n",
       "249996  The membership functions for the output 2 are ...  \n",
       "249997  We also look at the results for length-3 rules...  \n",
       "249998  where Shonest ⊂ [Nnet] is the set of honest mi...  \n",
       "249999  (associated to the width of the RMSE-distribut...  \n",
       "\n",
       "[250000 rows x 3 columns]"
      ]
     },
     "execution_count": 5,
     "metadata": {},
     "output_type": "execute_result"
    }
   ],
   "source": [
    "ds['train'].to_pandas()"
   ]
  },
  {
   "cell_type": "code",
   "execution_count": 6,
   "id": "23f3bd23",
   "metadata": {},
   "outputs": [
    {
     "data": {
      "application/vnd.jupyter.widget-view+json": {
       "model_id": "d42521c3c2a0401b8a3d0214ef471f0d",
       "version_major": 2,
       "version_minor": 0
      },
      "text/plain": [
       "mmc_benchmark_text.jsonl:   0%|          | 0.00/722k [00:00<?, ?B/s]"
      ]
     },
     "metadata": {},
     "output_type": "display_data"
    },
    {
     "data": {
      "application/vnd.jupyter.widget-view+json": {
       "model_id": "33a54a2287be4b11b2b50531f083999e",
       "version_major": 2,
       "version_minor": 0
      },
      "text/plain": [
       "mmc_benchmark_mqa_text.jsonl:   0%|          | 0.00/187k [00:00<?, ?B/s]"
      ]
     },
     "metadata": {},
     "output_type": "display_data"
    },
    {
     "data": {
      "application/vnd.jupyter.widget-view+json": {
       "model_id": "58a657c878114e4f9ebee4be619c2fc4",
       "version_major": 2,
       "version_minor": 0
      },
      "text/plain": [
       "Generating test split:   0%|          | 0/2934 [00:00<?, ? examples/s]"
      ]
     },
     "metadata": {},
     "output_type": "display_data"
    }
   ],
   "source": [
    "from datasets import load_dataset\n",
    "\n",
    "ds2 = load_dataset(\"xywang1/MMC\", \"MMC-Benchmark\")"
   ]
  },
  {
   "cell_type": "code",
   "execution_count": 7,
   "id": "f4740bcf",
   "metadata": {},
   "outputs": [
    {
     "data": {
      "text/plain": [
       "DatasetDict({\n",
       "    test: Dataset({\n",
       "        features: ['image_id', 'instruction', 'label', 'task'],\n",
       "        num_rows: 2934\n",
       "    })\n",
       "})"
      ]
     },
     "execution_count": 7,
     "metadata": {},
     "output_type": "execute_result"
    }
   ],
   "source": [
    "ds2"
   ]
  },
  {
   "cell_type": "code",
   "execution_count": 9,
   "id": "91edd2a8",
   "metadata": {},
   "outputs": [
    {
     "data": {
      "text/html": [
       "<div>\n",
       "<style scoped>\n",
       "    .dataframe tbody tr th:only-of-type {\n",
       "        vertical-align: middle;\n",
       "    }\n",
       "\n",
       "    .dataframe tbody tr th {\n",
       "        vertical-align: top;\n",
       "    }\n",
       "\n",
       "    .dataframe thead th {\n",
       "        text-align: right;\n",
       "    }\n",
       "</style>\n",
       "<table border=\"1\" class=\"dataframe\">\n",
       "  <thead>\n",
       "    <tr style=\"text-align: right;\">\n",
       "      <th></th>\n",
       "      <th>image_id</th>\n",
       "      <th>instruction</th>\n",
       "      <th>label</th>\n",
       "      <th>task</th>\n",
       "    </tr>\n",
       "  </thead>\n",
       "  <tbody>\n",
       "    <tr>\n",
       "      <th>0</th>\n",
       "      <td>image_benchmark-4000.png</td>\n",
       "      <td>' There was a significant increase in somethin...</td>\n",
       "      <td>true</td>\n",
       "      <td>analysis</td>\n",
       "    </tr>\n",
       "    <tr>\n",
       "      <th>1</th>\n",
       "      <td>image_benchmark-4000.png</td>\n",
       "      <td>' There was a decrease or no change in somethi...</td>\n",
       "      <td>false</td>\n",
       "      <td>analysis</td>\n",
       "    </tr>\n",
       "    <tr>\n",
       "      <th>2</th>\n",
       "      <td>image_benchmark-7477.png</td>\n",
       "      <td>' The data is being represented using an area ...</td>\n",
       "      <td>true</td>\n",
       "      <td>details</td>\n",
       "    </tr>\n",
       "    <tr>\n",
       "      <th>3</th>\n",
       "      <td>image_benchmark-7477.png</td>\n",
       "      <td>' The data is being represented using a bar ch...</td>\n",
       "      <td>false</td>\n",
       "      <td>details</td>\n",
       "    </tr>\n",
       "    <tr>\n",
       "      <th>4</th>\n",
       "      <td>image_benchmark-2482.png</td>\n",
       "      <td>' The range of the y-axis in the bar plot is f...</td>\n",
       "      <td>true</td>\n",
       "      <td>details</td>\n",
       "    </tr>\n",
       "    <tr>\n",
       "      <th>...</th>\n",
       "      <td>...</td>\n",
       "      <td>...</td>\n",
       "      <td>...</td>\n",
       "      <td>...</td>\n",
       "    </tr>\n",
       "    <tr>\n",
       "      <th>2929</th>\n",
       "      <td>image_mqa_724.jpg</td>\n",
       "      <td>Among heath, computer science, sports, travel,...</td>\n",
       "      <td>computer science</td>\n",
       "      <td></td>\n",
       "    </tr>\n",
       "    <tr>\n",
       "      <th>2930</th>\n",
       "      <td>image_mqa_785.jpg</td>\n",
       "      <td>Among heath, computer science, sports, travel,...</td>\n",
       "      <td>stock_market</td>\n",
       "      <td></td>\n",
       "    </tr>\n",
       "    <tr>\n",
       "      <th>2931</th>\n",
       "      <td>image_mqa_46.jpg</td>\n",
       "      <td>What is the range of the y-axis? a) 0.00 to 0....</td>\n",
       "      <td>c) 0.00 to 0.35</td>\n",
       "      <td></td>\n",
       "    </tr>\n",
       "    <tr>\n",
       "      <th>2932</th>\n",
       "      <td>image_mqa_655.jpg</td>\n",
       "      <td>Among heath, computer science, sports, travel,...</td>\n",
       "      <td>computer science</td>\n",
       "      <td></td>\n",
       "    </tr>\n",
       "    <tr>\n",
       "      <th>2933</th>\n",
       "      <td>image_mqa_231.jpg</td>\n",
       "      <td>Question: What is the title of the line diagra...</td>\n",
       "      <td>A) \"Amount of money invested in rail transpor...</td>\n",
       "      <td></td>\n",
       "    </tr>\n",
       "  </tbody>\n",
       "</table>\n",
       "<p>2934 rows × 4 columns</p>\n",
       "</div>"
      ],
      "text/plain": [
       "                      image_id  \\\n",
       "0     image_benchmark-4000.png   \n",
       "1     image_benchmark-4000.png   \n",
       "2     image_benchmark-7477.png   \n",
       "3     image_benchmark-7477.png   \n",
       "4     image_benchmark-2482.png   \n",
       "...                        ...   \n",
       "2929         image_mqa_724.jpg   \n",
       "2930         image_mqa_785.jpg   \n",
       "2931          image_mqa_46.jpg   \n",
       "2932         image_mqa_655.jpg   \n",
       "2933         image_mqa_231.jpg   \n",
       "\n",
       "                                            instruction  \\\n",
       "0     ' There was a significant increase in somethin...   \n",
       "1     ' There was a decrease or no change in somethi...   \n",
       "2     ' The data is being represented using an area ...   \n",
       "3     ' The data is being represented using a bar ch...   \n",
       "4     ' The range of the y-axis in the bar plot is f...   \n",
       "...                                                 ...   \n",
       "2929  Among heath, computer science, sports, travel,...   \n",
       "2930  Among heath, computer science, sports, travel,...   \n",
       "2931  What is the range of the y-axis? a) 0.00 to 0....   \n",
       "2932  Among heath, computer science, sports, travel,...   \n",
       "2933  Question: What is the title of the line diagra...   \n",
       "\n",
       "                                                  label      task  \n",
       "0                                                  true  analysis  \n",
       "1                                                 false  analysis  \n",
       "2                                                  true   details  \n",
       "3                                                 false   details  \n",
       "4                                                  true   details  \n",
       "...                                                 ...       ...  \n",
       "2929                                   computer science            \n",
       "2930                                       stock_market            \n",
       "2931                                    c) 0.00 to 0.35            \n",
       "2932                                   computer science            \n",
       "2933   A) \"Amount of money invested in rail transpor...            \n",
       "\n",
       "[2934 rows x 4 columns]"
      ]
     },
     "execution_count": 9,
     "metadata": {},
     "output_type": "execute_result"
    }
   ],
   "source": [
    "ds2['test'].to_pandas()"
   ]
  },
  {
   "cell_type": "code",
   "execution_count": 10,
   "id": "c47f3ffe",
   "metadata": {},
   "outputs": [
    {
     "data": {
      "application/vnd.jupyter.widget-view+json": {
       "model_id": "8965e57d9f8e4f4a9b8c4ac2dbd36a16",
       "version_major": 2,
       "version_minor": 0
      },
      "text/plain": [
       "mmc_instruction_arxiv_text.jsonl:   0%|          | 0.00/138M [00:00<?, ?B/s]"
      ]
     },
     "metadata": {},
     "output_type": "display_data"
    },
    {
     "data": {
      "application/vnd.jupyter.widget-view+json": {
       "model_id": "9ff2f9e2af934a8aa9274ce095f66bb4",
       "version_major": 2,
       "version_minor": 0
      },
      "text/plain": [
       "mmc_instruction_non-arxiv_text.jsonl:   0%|          | 0.00/24.4M [00:00<?, ?B/s]"
      ]
     },
     "metadata": {},
     "output_type": "display_data"
    },
    {
     "data": {
      "application/vnd.jupyter.widget-view+json": {
       "model_id": "ee4c3385d73642b5bb84594692efc01e",
       "version_major": 2,
       "version_minor": 0
      },
      "text/plain": [
       "Generating train split:   0%|          | 0/409887 [00:00<?, ? examples/s]"
      ]
     },
     "metadata": {},
     "output_type": "display_data"
    }
   ],
   "source": [
    "from datasets import load_dataset\n",
    "\n",
    "ds3 = load_dataset(\"xywang1/MMC\", \"MMC-Instruction\")"
   ]
  },
  {
   "cell_type": "code",
   "execution_count": 11,
   "id": "ace03176",
   "metadata": {},
   "outputs": [
    {
     "data": {
      "text/plain": [
       "DatasetDict({\n",
       "    train: Dataset({\n",
       "        features: ['image_id', 'question', 'answer'],\n",
       "        num_rows: 409887\n",
       "    })\n",
       "})"
      ]
     },
     "execution_count": 11,
     "metadata": {},
     "output_type": "execute_result"
    }
   ],
   "source": [
    "ds3"
   ]
  },
  {
   "cell_type": "code",
   "execution_count": 12,
   "id": "429f4b8d",
   "metadata": {},
   "outputs": [
    {
     "data": {
      "text/html": [
       "<div>\n",
       "<style scoped>\n",
       "    .dataframe tbody tr th:only-of-type {\n",
       "        vertical-align: middle;\n",
       "    }\n",
       "\n",
       "    .dataframe tbody tr th {\n",
       "        vertical-align: top;\n",
       "    }\n",
       "\n",
       "    .dataframe thead th {\n",
       "        text-align: right;\n",
       "    }\n",
       "</style>\n",
       "<table border=\"1\" class=\"dataframe\">\n",
       "  <thead>\n",
       "    <tr style=\"text-align: right;\">\n",
       "      <th></th>\n",
       "      <th>image_id</th>\n",
       "      <th>question</th>\n",
       "      <th>answer</th>\n",
       "    </tr>\n",
       "  </thead>\n",
       "  <tbody>\n",
       "    <tr>\n",
       "      <th>0</th>\n",
       "      <td>1212.1100v1-Figure12-1.png</td>\n",
       "      <td>What are the limitations of the graph?</td>\n",
       "      <td>One limitation of the graph is that it only sh...</td>\n",
       "    </tr>\n",
       "    <tr>\n",
       "      <th>1</th>\n",
       "      <td>1904.01802v1-Figure3-1.png</td>\n",
       "      <td>Why does KL divergence help to improve the per...</td>\n",
       "      <td>KL divergence is a measure of the difference b...</td>\n",
       "    </tr>\n",
       "    <tr>\n",
       "      <th>2</th>\n",
       "      <td>1201.3901v3-Figure2-1.png</td>\n",
       "      <td>What are the implications of the graph for the...</td>\n",
       "      <td>The graph in Figure 2 provides insights into t...</td>\n",
       "    </tr>\n",
       "    <tr>\n",
       "      <th>3</th>\n",
       "      <td>1911.10814v1-Figure8-1.png</td>\n",
       "      <td>What are the key takeaways from the graph?</td>\n",
       "      <td>The key takeaways from the graph are that the ...</td>\n",
       "    </tr>\n",
       "    <tr>\n",
       "      <th>4</th>\n",
       "      <td>1606.05777v3-Figure3-1.png</td>\n",
       "      <td>What is the purpose of the graph?</td>\n",
       "      <td>The graph compares the MSEs of ACAIIR and IACA...</td>\n",
       "    </tr>\n",
       "    <tr>\n",
       "      <th>...</th>\n",
       "      <td>...</td>\n",
       "      <td>...</td>\n",
       "      <td>...</td>\n",
       "    </tr>\n",
       "    <tr>\n",
       "      <th>409882</th>\n",
       "      <td>7212.png</td>\n",
       "      <td>What is the title of the line chart and what d...</td>\n",
       "      <td>The title of the line chart is \"Moldova: Dist...</td>\n",
       "    </tr>\n",
       "    <tr>\n",
       "      <th>409883</th>\n",
       "      <td>4701.png</td>\n",
       "      <td>Offer a thorough analysis of the image.</td>\n",
       "      <td>Production increased steadily in numbers as ti...</td>\n",
       "    </tr>\n",
       "    <tr>\n",
       "      <th>409884</th>\n",
       "      <td>4848.png</td>\n",
       "      <td>What is the range of years represented on the ...</td>\n",
       "      <td>The range of years represented on the x-axis ...</td>\n",
       "    </tr>\n",
       "    <tr>\n",
       "      <th>409885</th>\n",
       "      <td>8144.png</td>\n",
       "      <td>How much did Babcock International Group's dep...</td>\n",
       "      <td>Babcock International Group's dependency on M...</td>\n",
       "    </tr>\n",
       "    <tr>\n",
       "      <th>409886</th>\n",
       "      <td>3801.png</td>\n",
       "      <td>What is the unit of measurement for the averag...</td>\n",
       "      <td>The average ticket price is measured in U.S. ...</td>\n",
       "    </tr>\n",
       "  </tbody>\n",
       "</table>\n",
       "<p>409887 rows × 3 columns</p>\n",
       "</div>"
      ],
      "text/plain": [
       "                          image_id  \\\n",
       "0       1212.1100v1-Figure12-1.png   \n",
       "1       1904.01802v1-Figure3-1.png   \n",
       "2        1201.3901v3-Figure2-1.png   \n",
       "3       1911.10814v1-Figure8-1.png   \n",
       "4       1606.05777v3-Figure3-1.png   \n",
       "...                            ...   \n",
       "409882                    7212.png   \n",
       "409883                    4701.png   \n",
       "409884                    4848.png   \n",
       "409885                    8144.png   \n",
       "409886                    3801.png   \n",
       "\n",
       "                                                 question  \\\n",
       "0                  What are the limitations of the graph?   \n",
       "1       Why does KL divergence help to improve the per...   \n",
       "2       What are the implications of the graph for the...   \n",
       "3              What are the key takeaways from the graph?   \n",
       "4                       What is the purpose of the graph?   \n",
       "...                                                   ...   \n",
       "409882  What is the title of the line chart and what d...   \n",
       "409883            Offer a thorough analysis of the image.   \n",
       "409884  What is the range of years represented on the ...   \n",
       "409885  How much did Babcock International Group's dep...   \n",
       "409886  What is the unit of measurement for the averag...   \n",
       "\n",
       "                                                   answer  \n",
       "0       One limitation of the graph is that it only sh...  \n",
       "1       KL divergence is a measure of the difference b...  \n",
       "2       The graph in Figure 2 provides insights into t...  \n",
       "3       The key takeaways from the graph are that the ...  \n",
       "4       The graph compares the MSEs of ACAIIR and IACA...  \n",
       "...                                                   ...  \n",
       "409882   The title of the line chart is \"Moldova: Dist...  \n",
       "409883  Production increased steadily in numbers as ti...  \n",
       "409884   The range of years represented on the x-axis ...  \n",
       "409885   Babcock International Group's dependency on M...  \n",
       "409886   The average ticket price is measured in U.S. ...  \n",
       "\n",
       "[409887 rows x 3 columns]"
      ]
     },
     "execution_count": 12,
     "metadata": {},
     "output_type": "execute_result"
    }
   ],
   "source": [
    "ds3['train'].to_pandas()"
   ]
  },
  {
   "cell_type": "code",
   "execution_count": null,
   "id": "2642856c",
   "metadata": {},
   "outputs": [],
   "source": []
  },
  {
   "cell_type": "code",
   "execution_count": null,
   "id": "a94ee564",
   "metadata": {},
   "outputs": [],
   "source": []
  }
 ],
 "metadata": {
  "kernelspec": {
   "display_name": "JCDL2025",
   "language": "python",
   "name": "python3"
  },
  "language_info": {
   "codemirror_mode": {
    "name": "ipython",
    "version": 3
   },
   "file_extension": ".py",
   "mimetype": "text/x-python",
   "name": "python",
   "nbconvert_exporter": "python",
   "pygments_lexer": "ipython3",
   "version": "3.12.11"
  }
 },
 "nbformat": 4,
 "nbformat_minor": 5
}
