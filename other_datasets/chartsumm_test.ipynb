{
 "cells": [
  {
   "cell_type": "code",
   "execution_count": 1,
   "id": "71af17f4",
   "metadata": {},
   "outputs": [],
   "source": [
    "data_dir = '/Users/jnaiman/Downloads/tmp/JCDL2025/other_datasets/ChartSumm/'"
   ]
  },
  {
   "cell_type": "code",
   "execution_count": 2,
   "id": "c516c7ae",
   "metadata": {},
   "outputs": [],
   "source": [
    "import json"
   ]
  },
  {
   "cell_type": "code",
   "execution_count": 3,
   "id": "19d3e59f",
   "metadata": {},
   "outputs": [],
   "source": [
    "with open(data_dir + 'train_s.json','r') as f:\n",
    "    data_s = json.load(f)"
   ]
  },
  {
   "cell_type": "code",
   "execution_count": 5,
   "id": "11a5083d",
   "metadata": {},
   "outputs": [
    {
     "data": {
      "text/plain": [
       "{'x_label': 'x_label',\n",
       " 'y_label': ['Which party would you vote for in the May 2019 European Parliament elections?'],\n",
       " 'data': {'x_label': ['The Brexit Party',\n",
       "   'Liberal Democrats',\n",
       "   'Labour',\n",
       "   'Green',\n",
       "   'Conservatives',\n",
       "   'Other',\n",
       "   'Change UK',\n",
       "   'UKIP'],\n",
       "  'Which party would you vote for in the May 2019 European Parliament elections?': [37.0,\n",
       "   19.0,\n",
       "   13.0,\n",
       "   12.0,\n",
       "   7.0,\n",
       "   6.0,\n",
       "   4.0,\n",
       "   3.0]},\n",
       " 'title': 'UK voting intention in the European Parliament elections as of May 2019',\n",
       " 'summary': 'This statistic presents the voting intention of adults in the United Kingdom , for the European Elections due to take place on May 23 , 2019 . The recently formed Brexit Party had the highest share of adults intending to vote for them at 37 percent , with the governing Conservative Party trailing in fifth at just seven percent .',\n",
       " 'image': 'train_s_0.png'}"
      ]
     },
     "execution_count": 5,
     "metadata": {},
     "output_type": "execute_result"
    }
   ],
   "source": [
    "data_s[0]"
   ]
  },
  {
   "cell_type": "code",
   "execution_count": 6,
   "id": "9a0a6346",
   "metadata": {},
   "outputs": [
    {
     "data": {
      "text/plain": [
       "{'x_label': 'year',\n",
       " 'y_label': ['Worldwide number of battery electric vehicles in use from 2016 to 2020 (in millions)'],\n",
       " 'data': {'year': [2016, 2017, 2018, 2019, 2020],\n",
       "  'Worldwide number of battery electric vehicles in use from 2016 to 2020 (in millions)': [1.2,\n",
       "   1.9,\n",
       "   3.1,\n",
       "   4.8,\n",
       "   6.8]},\n",
       " 'title': 'Battery electric vehicles in use - worldwide 2016-2020',\n",
       " 'summary': 'There were some 6.8 million battery electric vehicles in use globally in 2020 . That year , more than three million new battery electric vehicles were added to the worldwide fleet .',\n",
       " 'image': 'train_s_10.png'}"
      ]
     },
     "execution_count": 6,
     "metadata": {},
     "output_type": "execute_result"
    }
   ],
   "source": [
    "data_s[10]"
   ]
  },
  {
   "cell_type": "code",
   "execution_count": 7,
   "id": "d5a5ead8",
   "metadata": {},
   "outputs": [],
   "source": [
    "with open(data_dir + 'train_k.json','r') as f:\n",
    "    data_k = json.load(f)"
   ]
  },
  {
   "cell_type": "code",
   "execution_count": 9,
   "id": "b85ffe23",
   "metadata": {},
   "outputs": [
    {
     "data": {
      "text/plain": [
       "{'x_label': 'Year',\n",
       " 'y_label': ['Adjusted net intake rate for primary education'],\n",
       " 'data': {'Year': [1974, 1993],\n",
       "  'Adjusted net intake rate for primary education': [23.5892696380615,\n",
       "   19.8518695831299]},\n",
       " 'title': 'Afghanistan - Adjusted net intake rate for primary education',\n",
       " 'summary': 'Afghanistan adjusted net intake rate for primary education was 19.9 % in 1993 , down by 0.00 % from 1974 .',\n",
       " 'image': 'train_k_0.png'}"
      ]
     },
     "execution_count": 9,
     "metadata": {},
     "output_type": "execute_result"
    }
   ],
   "source": [
    "data_k[0]"
   ]
  },
  {
   "cell_type": "code",
   "execution_count": 10,
   "id": "80a44ac7",
   "metadata": {},
   "outputs": [
    {
     "data": {
      "text/plain": [
       "{'x_label': 'Year',\n",
       " 'y_label': ['Leprosy reported cases'],\n",
       " 'data': {'Year': [2016, 2017, 2018, 2019, 2020],\n",
       "  'Leprosy reported cases': [0.0, 0.0, 0.0, 0.0, 0.0]},\n",
       " 'title': 'Monaco - Leprosy reported cases',\n",
       " 'summary': 'Between 2016 and 2020 , Monaco leprosy cases remained stable at around 0 .',\n",
       " 'image': 'train_k_11.png'}"
      ]
     },
     "execution_count": 10,
     "metadata": {},
     "output_type": "execute_result"
    }
   ],
   "source": [
    "data_k[11]"
   ]
  },
  {
   "cell_type": "code",
   "execution_count": null,
   "id": "0302f4b9",
   "metadata": {},
   "outputs": [],
   "source": []
  }
 ],
 "metadata": {
  "kernelspec": {
   "display_name": "JCDL2025",
   "language": "python",
   "name": "python3"
  },
  "language_info": {
   "codemirror_mode": {
    "name": "ipython",
    "version": 3
   },
   "file_extension": ".py",
   "mimetype": "text/x-python",
   "name": "python",
   "nbconvert_exporter": "python",
   "pygments_lexer": "ipython3",
   "version": "3.12.11"
  }
 },
 "nbformat": 4,
 "nbformat_minor": 5
}
