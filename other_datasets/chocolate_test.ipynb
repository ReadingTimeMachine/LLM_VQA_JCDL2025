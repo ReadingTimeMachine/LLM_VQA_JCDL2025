{
 "cells": [
  {
   "cell_type": "code",
   "execution_count": 1,
   "id": "7b41a429",
   "metadata": {},
   "outputs": [
    {
     "data": {
      "application/vnd.jupyter.widget-view+json": {
       "model_id": "b0159a2f106f444f80913a37b222a3fb",
       "version_major": 2,
       "version_minor": 0
      },
      "text/plain": [
       "README.md: 0.00B [00:00, ?B/s]"
      ]
     },
     "metadata": {},
     "output_type": "display_data"
    },
    {
     "data": {
      "application/vnd.jupyter.widget-view+json": {
       "model_id": "aa58d71d540b4a20880bea7c85d82911",
       "version_major": 2,
       "version_minor": 0
      },
      "text/plain": [
       "chocolate.json: 0.00B [00:00, ?B/s]"
      ]
     },
     "metadata": {},
     "output_type": "display_data"
    },
    {
     "data": {
      "application/vnd.jupyter.widget-view+json": {
       "model_id": "dede054f38824d3d900e3cbe23e35c3d",
       "version_major": 2,
       "version_minor": 0
      },
      "text/plain": [
       "Generating test split:   0%|          | 0/1187 [00:00<?, ? examples/s]"
      ]
     },
     "metadata": {},
     "output_type": "display_data"
    }
   ],
   "source": [
    "from datasets import load_dataset\n",
    "\n",
    "# Login using e.g. `huggingface-cli login` to access this dataset\n",
    "ds = load_dataset(\"khhuang/CHOCOLATE\")"
   ]
  },
  {
   "cell_type": "code",
   "execution_count": 2,
   "id": "7012d2e1",
   "metadata": {},
   "outputs": [
    {
     "data": {
      "text/plain": [
       "DatasetDict({\n",
       "    test: Dataset({\n",
       "        features: ['sentences', 'labels', 'model', 'dataset', 'image_path', '_id', 'split', 'caption_consistent'],\n",
       "        num_rows: 1187\n",
       "    })\n",
       "})"
      ]
     },
     "execution_count": 2,
     "metadata": {},
     "output_type": "execute_result"
    }
   ],
   "source": [
    "ds"
   ]
  },
  {
   "cell_type": "code",
   "execution_count": 3,
   "id": "d6b00d35",
   "metadata": {},
   "outputs": [],
   "source": [
    "df = ds['test'].to_pandas()"
   ]
  },
  {
   "cell_type": "code",
   "execution_count": 4,
   "id": "098e36bf",
   "metadata": {},
   "outputs": [
    {
     "data": {
      "text/html": [
       "<div>\n",
       "<style scoped>\n",
       "    .dataframe tbody tr th:only-of-type {\n",
       "        vertical-align: middle;\n",
       "    }\n",
       "\n",
       "    .dataframe tbody tr th {\n",
       "        vertical-align: top;\n",
       "    }\n",
       "\n",
       "    .dataframe thead th {\n",
       "        text-align: right;\n",
       "    }\n",
       "</style>\n",
       "<table border=\"1\" class=\"dataframe\">\n",
       "  <thead>\n",
       "    <tr style=\"text-align: right;\">\n",
       "      <th></th>\n",
       "      <th>sentences</th>\n",
       "      <th>labels</th>\n",
       "      <th>model</th>\n",
       "      <th>dataset</th>\n",
       "      <th>image_path</th>\n",
       "      <th>_id</th>\n",
       "      <th>split</th>\n",
       "      <th>caption_consistent</th>\n",
       "    </tr>\n",
       "  </thead>\n",
       "  <tbody>\n",
       "    <tr>\n",
       "      <th>0</th>\n",
       "      <td>[The share of massively managed assets in the ...</td>\n",
       "      <td>[[], [label_error]]</td>\n",
       "      <td>matcha</td>\n",
       "      <td>vistext</td>\n",
       "      <td>https://raw.githubusercontent.com/khuangaf/mul...</td>\n",
       "      <td>matcha-vistext_3769</td>\n",
       "      <td>FT</td>\n",
       "      <td>False</td>\n",
       "    </tr>\n",
       "    <tr>\n",
       "      <th>1</th>\n",
       "      <td>[The chart presents data on opinions regarding...</td>\n",
       "      <td>[[], [], [label_error], [label_error, value_er...</td>\n",
       "      <td>gpt4v</td>\n",
       "      <td>pew</td>\n",
       "      <td>https://raw.githubusercontent.com/khuangaf/mul...</td>\n",
       "      <td>gpt4v-pew_multi_col-3923</td>\n",
       "      <td>LVLM</td>\n",
       "      <td>False</td>\n",
       "    </tr>\n",
       "    <tr>\n",
       "      <th>2</th>\n",
       "      <td>[The chart presents the age structure of Alger...</td>\n",
       "      <td>[[], [trend_error], [trend_error], [trend_error]]</td>\n",
       "      <td>gpt4v</td>\n",
       "      <td>vistext</td>\n",
       "      <td>https://raw.githubusercontent.com/khuangaf/mul...</td>\n",
       "      <td>gpt4v-vistext_7279</td>\n",
       "      <td>LVLM</td>\n",
       "      <td>False</td>\n",
       "    </tr>\n",
       "    <tr>\n",
       "      <th>3</th>\n",
       "      <td>[The table is difficult to interpret due to in...</td>\n",
       "      <td>[[nonsense_error], [nonsense_error], [nonsense...</td>\n",
       "      <td>deplot</td>\n",
       "      <td>pew</td>\n",
       "      <td>https://raw.githubusercontent.com/khuangaf/mul...</td>\n",
       "      <td>deplot-pew_multi_col-6663</td>\n",
       "      <td>LLM</td>\n",
       "      <td>False</td>\n",
       "    </tr>\n",
       "    <tr>\n",
       "      <th>4</th>\n",
       "      <td>[The highest share of respondents was for chec...</td>\n",
       "      <td>[[], [], [label_error]]</td>\n",
       "      <td>unichart</td>\n",
       "      <td>vistext</td>\n",
       "      <td>https://raw.githubusercontent.com/khuangaf/mul...</td>\n",
       "      <td>unichart-vistext_1170</td>\n",
       "      <td>FT</td>\n",
       "      <td>False</td>\n",
       "    </tr>\n",
       "    <tr>\n",
       "      <th>...</th>\n",
       "      <td>...</td>\n",
       "      <td>...</td>\n",
       "      <td>...</td>\n",
       "      <td>...</td>\n",
       "      <td>...</td>\n",
       "      <td>...</td>\n",
       "      <td>...</td>\n",
       "      <td>...</td>\n",
       "    </tr>\n",
       "    <tr>\n",
       "      <th>1182</th>\n",
       "      <td>[The chart shows that the majority of the coun...</td>\n",
       "      <td>[[ooc_error], [ooc_error]]</td>\n",
       "      <td>matcha</td>\n",
       "      <td>vistext</td>\n",
       "      <td>https://raw.githubusercontent.com/khuangaf/mul...</td>\n",
       "      <td>matcha-vistext_6187</td>\n",
       "      <td>FT</td>\n",
       "      <td>False</td>\n",
       "    </tr>\n",
       "    <tr>\n",
       "      <th>1183</th>\n",
       "      <td>[Russia has the highest pet ownership in Europ...</td>\n",
       "      <td>[[], []]</td>\n",
       "      <td>unichart</td>\n",
       "      <td>vistext</td>\n",
       "      <td>https://raw.githubusercontent.com/khuangaf/mul...</td>\n",
       "      <td>unichart-vistext_6910</td>\n",
       "      <td>FT</td>\n",
       "      <td>True</td>\n",
       "    </tr>\n",
       "    <tr>\n",
       "      <th>1184</th>\n",
       "      <td>[The table given provides a view of people's p...</td>\n",
       "      <td>[[], [], [], [], []]</td>\n",
       "      <td>deplot</td>\n",
       "      <td>pew</td>\n",
       "      <td>https://raw.githubusercontent.com/khuangaf/mul...</td>\n",
       "      <td>deplot-pew_multi_col-5829</td>\n",
       "      <td>LLM</td>\n",
       "      <td>True</td>\n",
       "    </tr>\n",
       "    <tr>\n",
       "      <th>1185</th>\n",
       "      <td>[The table represents the most viewed YouTube ...</td>\n",
       "      <td>[[], [], [], [], [], [], []]</td>\n",
       "      <td>deplot</td>\n",
       "      <td>vistext</td>\n",
       "      <td>https://raw.githubusercontent.com/khuangaf/mul...</td>\n",
       "      <td>deplot-vistext_3107</td>\n",
       "      <td>LLM</td>\n",
       "      <td>True</td>\n",
       "    </tr>\n",
       "    <tr>\n",
       "      <th>1186</th>\n",
       "      <td>[The number of Kia cars sold in Italy has incr...</td>\n",
       "      <td>[[], [label_error], []]</td>\n",
       "      <td>chartt5</td>\n",
       "      <td>vistext</td>\n",
       "      <td>https://raw.githubusercontent.com/khuangaf/mul...</td>\n",
       "      <td>chartt5-vistext_3701</td>\n",
       "      <td>FT</td>\n",
       "      <td>False</td>\n",
       "    </tr>\n",
       "  </tbody>\n",
       "</table>\n",
       "<p>1187 rows × 8 columns</p>\n",
       "</div>"
      ],
      "text/plain": [
       "                                              sentences  \\\n",
       "0     [The share of massively managed assets in the ...   \n",
       "1     [The chart presents data on opinions regarding...   \n",
       "2     [The chart presents the age structure of Alger...   \n",
       "3     [The table is difficult to interpret due to in...   \n",
       "4     [The highest share of respondents was for chec...   \n",
       "...                                                 ...   \n",
       "1182  [The chart shows that the majority of the coun...   \n",
       "1183  [Russia has the highest pet ownership in Europ...   \n",
       "1184  [The table given provides a view of people's p...   \n",
       "1185  [The table represents the most viewed YouTube ...   \n",
       "1186  [The number of Kia cars sold in Italy has incr...   \n",
       "\n",
       "                                                 labels     model  dataset  \\\n",
       "0                                   [[], [label_error]]    matcha  vistext   \n",
       "1     [[], [], [label_error], [label_error, value_er...     gpt4v      pew   \n",
       "2     [[], [trend_error], [trend_error], [trend_error]]     gpt4v  vistext   \n",
       "3     [[nonsense_error], [nonsense_error], [nonsense...    deplot      pew   \n",
       "4                               [[], [], [label_error]]  unichart  vistext   \n",
       "...                                                 ...       ...      ...   \n",
       "1182                         [[ooc_error], [ooc_error]]    matcha  vistext   \n",
       "1183                                           [[], []]  unichart  vistext   \n",
       "1184                               [[], [], [], [], []]    deplot      pew   \n",
       "1185                       [[], [], [], [], [], [], []]    deplot  vistext   \n",
       "1186                            [[], [label_error], []]   chartt5  vistext   \n",
       "\n",
       "                                             image_path  \\\n",
       "0     https://raw.githubusercontent.com/khuangaf/mul...   \n",
       "1     https://raw.githubusercontent.com/khuangaf/mul...   \n",
       "2     https://raw.githubusercontent.com/khuangaf/mul...   \n",
       "3     https://raw.githubusercontent.com/khuangaf/mul...   \n",
       "4     https://raw.githubusercontent.com/khuangaf/mul...   \n",
       "...                                                 ...   \n",
       "1182  https://raw.githubusercontent.com/khuangaf/mul...   \n",
       "1183  https://raw.githubusercontent.com/khuangaf/mul...   \n",
       "1184  https://raw.githubusercontent.com/khuangaf/mul...   \n",
       "1185  https://raw.githubusercontent.com/khuangaf/mul...   \n",
       "1186  https://raw.githubusercontent.com/khuangaf/mul...   \n",
       "\n",
       "                            _id split  caption_consistent  \n",
       "0           matcha-vistext_3769    FT               False  \n",
       "1      gpt4v-pew_multi_col-3923  LVLM               False  \n",
       "2            gpt4v-vistext_7279  LVLM               False  \n",
       "3     deplot-pew_multi_col-6663   LLM               False  \n",
       "4         unichart-vistext_1170    FT               False  \n",
       "...                         ...   ...                 ...  \n",
       "1182        matcha-vistext_6187    FT               False  \n",
       "1183      unichart-vistext_6910    FT                True  \n",
       "1184  deplot-pew_multi_col-5829   LLM                True  \n",
       "1185        deplot-vistext_3107   LLM                True  \n",
       "1186       chartt5-vistext_3701    FT               False  \n",
       "\n",
       "[1187 rows x 8 columns]"
      ]
     },
     "execution_count": 4,
     "metadata": {},
     "output_type": "execute_result"
    }
   ],
   "source": [
    "df"
   ]
  },
  {
   "cell_type": "code",
   "execution_count": 5,
   "id": "49386830",
   "metadata": {},
   "outputs": [
    {
     "data": {
      "text/plain": [
       "'https://raw.githubusercontent.com/khuangaf/multimodal_fec_annotation/master/images/vistext_3769.png'"
      ]
     },
     "execution_count": 5,
     "metadata": {},
     "output_type": "execute_result"
    }
   ],
   "source": [
    "df.iloc[0]['image_path']"
   ]
  },
  {
   "cell_type": "code",
   "execution_count": null,
   "id": "555e19cc",
   "metadata": {},
   "outputs": [],
   "source": []
  },
  {
   "cell_type": "code",
   "execution_count": null,
   "id": "3ffb4d47",
   "metadata": {},
   "outputs": [],
   "source": []
  },
  {
   "cell_type": "code",
   "execution_count": null,
   "id": "d7ad9119",
   "metadata": {},
   "outputs": [],
   "source": []
  }
 ],
 "metadata": {
  "kernelspec": {
   "display_name": "JCDL2025",
   "language": "python",
   "name": "python3"
  },
  "language_info": {
   "codemirror_mode": {
    "name": "ipython",
    "version": 3
   },
   "file_extension": ".py",
   "mimetype": "text/x-python",
   "name": "python",
   "nbconvert_exporter": "python",
   "pygments_lexer": "ipython3",
   "version": "3.12.11"
  }
 },
 "nbformat": 4,
 "nbformat_minor": 5
}
