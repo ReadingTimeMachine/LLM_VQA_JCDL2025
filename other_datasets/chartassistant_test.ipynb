{
 "cells": [
  {
   "cell_type": "markdown",
   "id": "a7548a44",
   "metadata": {},
   "source": [
    "Test out some of the data with the ChartAssistant/ChartSFT(?) dataset."
   ]
  },
  {
   "cell_type": "code",
   "execution_count": 1,
   "id": "8e649815",
   "metadata": {},
   "outputs": [],
   "source": [
    "base_dir = '/Users/jnaiman/Downloads/tmp/JCDL2025/other_datasets/ChartAssistant/'"
   ]
  },
  {
   "cell_type": "code",
   "execution_count": 2,
   "id": "39ac8146",
   "metadata": {},
   "outputs": [],
   "source": [
    "import pandas as pd\n",
    "from glob import glob"
   ]
  },
  {
   "cell_type": "code",
   "execution_count": 3,
   "id": "3b247ec7",
   "metadata": {},
   "outputs": [],
   "source": [
    "file = base_dir + 'chart_upload.json'"
   ]
  },
  {
   "cell_type": "code",
   "execution_count": 27,
   "id": "a59fa220",
   "metadata": {},
   "outputs": [],
   "source": [
    "df_in = pd.read_json(file)"
   ]
  },
  {
   "cell_type": "code",
   "execution_count": 69,
   "id": "1ae70c4e",
   "metadata": {},
   "outputs": [],
   "source": [
    "# create image type\n",
    "df = df_in.copy()\n",
    "image_type = []\n",
    "image_link = []\n",
    "chart_type = []\n",
    "for i in range(len(df)):\n",
    "    img = df.iloc[i]['image']\n",
    "    img_link = img.replace('/mnt/petrelfs/share_data/mengfanqing1/mengfanqing', '')\n",
    "    img_link = img_link.replace('/mnt/petrelfs/mengfanqing','')\n",
    "    img_link = img_link.replace('/mnt/petrelfs/share_data/luquanfeng','')\n",
    "    img_link = img_link.replace('/mnt/petrelfs/share_data', '')\n",
    "    if 'arxiv/' in img:\n",
    "        image_type.append('arxiv')\n",
    "        chart_type.append('unknown')\n",
    "        #import sys; sys.exit()\n",
    "    elif 'mathqa/' in img:\n",
    "        image_type.append('mathqa')\n",
    "        #print(img)\n",
    "        chart_type.append('unknown')\n",
    "    elif 'referqa/' in img:\n",
    "        image_type.append('referqa')\n",
    "        #print(img)\n",
    "        chart_type.append(img.split('_')[-1].split('.png')[0])\n",
    "    elif 'unichart' in img.lower():\n",
    "        image_type.append('unichart')\n",
    "        #print(img)\n",
    "        chart_type.append('unknown')\n",
    "    elif 'ScigraphQA' in img:\n",
    "        image_type.append('scigraphqa')\n",
    "        #print(img)\n",
    "        chart_type.append('unknown')\n",
    "    elif 'plotqa' in img.lower():\n",
    "        image_type.append('plotqa')\n",
    "        #print(img)\n",
    "        chart_type.append('unknown')\n",
    "    elif 'chart-to-text' in img.lower():\n",
    "        image_type.append('chart-to-text')\n",
    "        #print(img)\n",
    "        chart_type.append('unknown')\n",
    "    elif 'chart2text' in img.lower():\n",
    "        image_type.append('chart2text')\n",
    "        chart_type.append('unknown')\n",
    "    elif 'vistext' in img.lower():\n",
    "        image_type.append('vistext')\n",
    "        #print(img)\n",
    "        chart_type.append('unknown')\n",
    "    elif 'referring_box' in img.lower():\n",
    "        image_type.append('referring_box')\n",
    "        #print(img)\n",
    "        chart_type.append('unknown')\n",
    "    elif 'chartqa' in img.lower():\n",
    "        image_type.append('chartqa')\n",
    "        #print(img)\n",
    "        chart_type.append('unknown')\n",
    "    elif 'chartsummdata' in img.lower():\n",
    "        image_type.append('chartsummdata')\n",
    "        #print(img)\n",
    "        chart_type.append('unknown')\n",
    "    elif 'opencqa' in img.lower():\n",
    "        image_type.append('opencqa')\n",
    "        #print(img)\n",
    "        chart_type.append('unknown')\n",
    "    elif 'table_ocr' in img.lower():\n",
    "        image_type.append('tableocr')\n",
    "        #print(img)\n",
    "        ctype = img.split('/img/')[-1].split('.png')[0]\n",
    "        ind = ctype.index('_') + 1\n",
    "        chart_type.append(ctype[ind:])\n",
    "    elif '/dataset/' in img:\n",
    "        image_type.append('unknown dataset')\n",
    "        chart_type.append(img.split('/')[-2])\n",
    "    else:\n",
    "        print('img:', img)\n",
    "        import sys; sys.exit()\n",
    "    image_link.append(img_link)\n",
    "\n",
    "    # if 'stack' in chart_type[-1]:\n",
    "    #     import sys; sys.exit()\n",
    "\n",
    "    #image_type.append(df.iloc[i]['image'].split('/')[-2])\n",
    "\n",
    "df['image type'] = image_type\n",
    "df['image link'] = image_link\n",
    "df['chart type'] = chart_type"
   ]
  },
  {
   "cell_type": "code",
   "execution_count": 70,
   "id": "729b4255",
   "metadata": {},
   "outputs": [],
   "source": [
    "#chart_type[-1]"
   ]
  },
  {
   "cell_type": "code",
   "execution_count": 71,
   "id": "3450ac64",
   "metadata": {},
   "outputs": [],
   "source": [
    "#img"
   ]
  },
  {
   "cell_type": "code",
   "execution_count": 72,
   "id": "bc068c76",
   "metadata": {},
   "outputs": [
    {
     "data": {
      "text/plain": [
       "image type\n",
       "scigraphqa         659309\n",
       "plotqa             590090\n",
       "arxiv              431673\n",
       "mathqa             274724\n",
       "referqa            151020\n",
       "referring_box      151020\n",
       "unichart           120568\n",
       "chartsummdata       75927\n",
       "chartqa             75818\n",
       "chart-to-text       38854\n",
       "vistext             19938\n",
       "opencqa             19695\n",
       "tableocr            15233\n",
       "chart2text           6875\n",
       "unknown dataset      2324\n",
       "Name: count, dtype: int64"
      ]
     },
     "execution_count": 72,
     "metadata": {},
     "output_type": "execute_result"
    }
   ],
   "source": [
    "df['image type'].value_counts()"
   ]
  },
  {
   "cell_type": "code",
   "execution_count": 73,
   "id": "209b782b",
   "metadata": {},
   "outputs": [
    {
     "data": {
      "text/plain": [
       "<Axes: xlabel='image type'>"
      ]
     },
     "execution_count": 73,
     "metadata": {},
     "output_type": "execute_result"
    },
    {
     "data": {
      "image/png": "[encoded data removed]",
      "text/plain": [
       "<Figure size 640x480 with 1 Axes>"
      ]
     },
     "metadata": {},
     "output_type": "display_data"
    }
   ],
   "source": [
    "df['image type'].value_counts().plot(kind='bar')"
   ]
  },
  {
   "cell_type": "code",
   "execution_count": 74,
   "id": "6030e8f7",
   "metadata": {},
   "outputs": [
    {
     "data": {
      "text/plain": [
       "chart type\n",
       "unknown             2464491\n",
       "box                   61581\n",
       "arrow                 56855\n",
       "box1                  16433\n",
       "arrow1                16151\n",
       "pie                    9743\n",
       "nightingale_rose       5490\n",
       "hbar_categorical        462\n",
       "vbar_categorical        412\n",
       "hbar_stack              399\n",
       "vbar_stack              390\n",
       "dot_line                244\n",
       "line                    211\n",
       "line_area               206\n",
       "Name: count, dtype: int64"
      ]
     },
     "execution_count": 74,
     "metadata": {},
     "output_type": "execute_result"
    }
   ],
   "source": [
    "df['chart type'].value_counts()"
   ]
  },
  {
   "cell_type": "code",
   "execution_count": 75,
   "id": "d33a0267",
   "metadata": {},
   "outputs": [
    {
     "data": {
      "text/html": [
       "<div>\n",
       "<style scoped>\n",
       "    .dataframe tbody tr th:only-of-type {\n",
       "        vertical-align: middle;\n",
       "    }\n",
       "\n",
       "    .dataframe tbody tr th {\n",
       "        vertical-align: top;\n",
       "    }\n",
       "\n",
       "    .dataframe thead th {\n",
       "        text-align: right;\n",
       "    }\n",
       "</style>\n",
       "<table border=\"1\" class=\"dataframe\">\n",
       "  <thead>\n",
       "    <tr style=\"text-align: right;\">\n",
       "      <th></th>\n",
       "      <th>image</th>\n",
       "      <th>conversations</th>\n",
       "      <th>image type</th>\n",
       "      <th>image link</th>\n",
       "      <th>chart type</th>\n",
       "    </tr>\n",
       "  </thead>\n",
       "  <tbody>\n",
       "    <tr>\n",
       "      <th>358</th>\n",
       "      <td>/mnt/petrelfs/share_data/table_ocr/pie/img/25_...</td>\n",
       "      <td>[{'from': 'human', 'value': 'convert this char...</td>\n",
       "      <td>tableocr</td>\n",
       "      <td>/table_ocr/pie/img/25_nightingale_rose.png</td>\n",
       "      <td>nightingale_rose</td>\n",
       "    </tr>\n",
       "    <tr>\n",
       "      <th>1172</th>\n",
       "      <td>/mnt/petrelfs/share_data/table_ocr/pie/img/155...</td>\n",
       "      <td>[{'from': 'human', 'value': 'convert this char...</td>\n",
       "      <td>tableocr</td>\n",
       "      <td>/table_ocr/pie/img/15568_nightingale_rose.png</td>\n",
       "      <td>nightingale_rose</td>\n",
       "    </tr>\n",
       "    <tr>\n",
       "      <th>1189</th>\n",
       "      <td>/mnt/petrelfs/share_data/table_ocr/pie/img/114...</td>\n",
       "      <td>[{'from': 'human', 'value': 'convert this char...</td>\n",
       "      <td>tableocr</td>\n",
       "      <td>/table_ocr/pie/img/11499_nightingale_rose.png</td>\n",
       "      <td>nightingale_rose</td>\n",
       "    </tr>\n",
       "    <tr>\n",
       "      <th>1342</th>\n",
       "      <td>/mnt/petrelfs/share_data/table_ocr/pie/img/332...</td>\n",
       "      <td>[{'from': 'human', 'value': 'convert this char...</td>\n",
       "      <td>tableocr</td>\n",
       "      <td>/table_ocr/pie/img/33276_nightingale_rose.png</td>\n",
       "      <td>nightingale_rose</td>\n",
       "    </tr>\n",
       "    <tr>\n",
       "      <th>1743</th>\n",
       "      <td>/mnt/petrelfs/share_data/table_ocr/pie/img/306...</td>\n",
       "      <td>[{'from': 'human', 'value': 'convert this char...</td>\n",
       "      <td>tableocr</td>\n",
       "      <td>/table_ocr/pie/img/30626_nightingale_rose.png</td>\n",
       "      <td>nightingale_rose</td>\n",
       "    </tr>\n",
       "    <tr>\n",
       "      <th>...</th>\n",
       "      <td>...</td>\n",
       "      <td>...</td>\n",
       "      <td>...</td>\n",
       "      <td>...</td>\n",
       "      <td>...</td>\n",
       "    </tr>\n",
       "    <tr>\n",
       "      <th>2631259</th>\n",
       "      <td>/mnt/petrelfs/share_data/table_ocr/pie/img/193...</td>\n",
       "      <td>[{'from': 'human', 'value': 'convert this char...</td>\n",
       "      <td>tableocr</td>\n",
       "      <td>/table_ocr/pie/img/19304_nightingale_rose.png</td>\n",
       "      <td>nightingale_rose</td>\n",
       "    </tr>\n",
       "    <tr>\n",
       "      <th>2631913</th>\n",
       "      <td>/mnt/petrelfs/share_data/table_ocr/pie/img/342...</td>\n",
       "      <td>[{'from': 'human', 'value': 'convert this char...</td>\n",
       "      <td>tableocr</td>\n",
       "      <td>/table_ocr/pie/img/34250_nightingale_rose.png</td>\n",
       "      <td>nightingale_rose</td>\n",
       "    </tr>\n",
       "    <tr>\n",
       "      <th>2632010</th>\n",
       "      <td>/mnt/petrelfs/share_data/table_ocr/pie/img/348...</td>\n",
       "      <td>[{'from': 'human', 'value': 'convert this char...</td>\n",
       "      <td>tableocr</td>\n",
       "      <td>/table_ocr/pie/img/34850_nightingale_rose.png</td>\n",
       "      <td>nightingale_rose</td>\n",
       "    </tr>\n",
       "    <tr>\n",
       "      <th>2632565</th>\n",
       "      <td>/mnt/petrelfs/share_data/table_ocr/pie/img/201...</td>\n",
       "      <td>[{'from': 'human', 'value': 'convert this char...</td>\n",
       "      <td>tableocr</td>\n",
       "      <td>/table_ocr/pie/img/2016_nightingale_rose.png</td>\n",
       "      <td>nightingale_rose</td>\n",
       "    </tr>\n",
       "    <tr>\n",
       "      <th>2632807</th>\n",
       "      <td>/mnt/petrelfs/share_data/table_ocr/pie/img/633...</td>\n",
       "      <td>[{'from': 'human', 'value': 'convert this char...</td>\n",
       "      <td>tableocr</td>\n",
       "      <td>/table_ocr/pie/img/6335_nightingale_rose.png</td>\n",
       "      <td>nightingale_rose</td>\n",
       "    </tr>\n",
       "  </tbody>\n",
       "</table>\n",
       "<p>5490 rows × 5 columns</p>\n",
       "</div>"
      ],
      "text/plain": [
       "                                                     image  \\\n",
       "358      /mnt/petrelfs/share_data/table_ocr/pie/img/25_...   \n",
       "1172     /mnt/petrelfs/share_data/table_ocr/pie/img/155...   \n",
       "1189     /mnt/petrelfs/share_data/table_ocr/pie/img/114...   \n",
       "1342     /mnt/petrelfs/share_data/table_ocr/pie/img/332...   \n",
       "1743     /mnt/petrelfs/share_data/table_ocr/pie/img/306...   \n",
       "...                                                    ...   \n",
       "2631259  /mnt/petrelfs/share_data/table_ocr/pie/img/193...   \n",
       "2631913  /mnt/petrelfs/share_data/table_ocr/pie/img/342...   \n",
       "2632010  /mnt/petrelfs/share_data/table_ocr/pie/img/348...   \n",
       "2632565  /mnt/petrelfs/share_data/table_ocr/pie/img/201...   \n",
       "2632807  /mnt/petrelfs/share_data/table_ocr/pie/img/633...   \n",
       "\n",
       "                                             conversations image type  \\\n",
       "358      [{'from': 'human', 'value': 'convert this char...   tableocr   \n",
       "1172     [{'from': 'human', 'value': 'convert this char...   tableocr   \n",
       "1189     [{'from': 'human', 'value': 'convert this char...   tableocr   \n",
       "1342     [{'from': 'human', 'value': 'convert this char...   tableocr   \n",
       "1743     [{'from': 'human', 'value': 'convert this char...   tableocr   \n",
       "...                                                    ...        ...   \n",
       "2631259  [{'from': 'human', 'value': 'convert this char...   tableocr   \n",
       "2631913  [{'from': 'human', 'value': 'convert this char...   tableocr   \n",
       "2632010  [{'from': 'human', 'value': 'convert this char...   tableocr   \n",
       "2632565  [{'from': 'human', 'value': 'convert this char...   tableocr   \n",
       "2632807  [{'from': 'human', 'value': 'convert this char...   tableocr   \n",
       "\n",
       "                                            image link        chart type  \n",
       "358         /table_ocr/pie/img/25_nightingale_rose.png  nightingale_rose  \n",
       "1172     /table_ocr/pie/img/15568_nightingale_rose.png  nightingale_rose  \n",
       "1189     /table_ocr/pie/img/11499_nightingale_rose.png  nightingale_rose  \n",
       "1342     /table_ocr/pie/img/33276_nightingale_rose.png  nightingale_rose  \n",
       "1743     /table_ocr/pie/img/30626_nightingale_rose.png  nightingale_rose  \n",
       "...                                                ...               ...  \n",
       "2631259  /table_ocr/pie/img/19304_nightingale_rose.png  nightingale_rose  \n",
       "2631913  /table_ocr/pie/img/34250_nightingale_rose.png  nightingale_rose  \n",
       "2632010  /table_ocr/pie/img/34850_nightingale_rose.png  nightingale_rose  \n",
       "2632565   /table_ocr/pie/img/2016_nightingale_rose.png  nightingale_rose  \n",
       "2632807   /table_ocr/pie/img/6335_nightingale_rose.png  nightingale_rose  \n",
       "\n",
       "[5490 rows x 5 columns]"
      ]
     },
     "execution_count": 75,
     "metadata": {},
     "output_type": "execute_result"
    }
   ],
   "source": [
    "df[df['chart type'] == 'nightingale_rose']"
   ]
  },
  {
   "cell_type": "code",
   "execution_count": 68,
   "id": "7774242f",
   "metadata": {},
   "outputs": [],
   "source": [
    "# for i,d in df[df['image type'] == 'unknown dataset'].iterrows():\n",
    "#     print(d['image'])"
   ]
  },
  {
   "cell_type": "code",
   "execution_count": 39,
   "id": "cfe7996d",
   "metadata": {},
   "outputs": [
    {
     "data": {
      "text/plain": [
       "image            /mnt/petrelfs/share_data/luquanfeng/dataset/va...\n",
       "conversations    [{'from': 'human', 'value': 'convert this char...\n",
       "image type                                         unknown dataset\n",
       "image link                  /dataset/val/hbar_categorical/4662.png\n",
       "Name: 291, dtype: object"
      ]
     },
     "execution_count": 39,
     "metadata": {},
     "output_type": "execute_result"
    }
   ],
   "source": [
    "d[1]"
   ]
  },
  {
   "cell_type": "code",
   "execution_count": 7,
   "id": "206eea47",
   "metadata": {},
   "outputs": [
    {
     "data": {
      "text/plain": [
       "[{'from': 'human',\n",
       "  'value': 'Please use commandline to solve the math question: What is the difference between the highest and the second highest % of children under 5 who received treatment of Malaria ?'},\n",
       " {'from': 'gpt',\n",
       "  'value': \"{'step1': {'func1': 'select', 'arg1': 'malaria', 'output1': ['10.000', '0.900']}, 'step2': {'func2': 'numpy.sort', 'arg2': 'output1', 'output2': 'sorted_arr'}, 'step3': {'func3': 'getitem', 'arg3': ['sorted_arr', '-1'], 'output3': 'maximum'}, 'step4': {'func4': 'numpy.delete', 'arg4': ['sorted_arr', '-1'], 'output4': 'new_arr'}, 'step5': {'func5': 'getitem', 'arg5': ['new_arr', '-1'], 'output5': 'second_maximum'}, 'step6': {'func6': 'numpy.subtract', 'arg6': ['maximum', 'second_maximum'], 'output6': 'diff'}}\"}]"
      ]
     },
     "execution_count": 7,
     "metadata": {},
     "output_type": "execute_result"
    }
   ],
   "source": [
    "df.iloc[0]['conversationsa']"
   ]
  },
  {
   "cell_type": "code",
   "execution_count": 9,
   "id": "c3bfda55",
   "metadata": {},
   "outputs": [
    {
     "data": {
      "text/plain": [
       "'mathqa'"
      ]
     },
     "execution_count": 9,
     "metadata": {},
     "output_type": "execute_result"
    }
   ],
   "source": [
    "df.iloc[0]['image'].split('/')[-2]"
   ]
  },
  {
   "cell_type": "code",
   "execution_count": null,
   "id": "30531e3e",
   "metadata": {},
   "outputs": [],
   "source": []
  },
  {
   "cell_type": "code",
   "execution_count": null,
   "id": "7bdd318f",
   "metadata": {},
   "outputs": [],
   "source": []
  },
  {
   "cell_type": "code",
   "execution_count": null,
   "id": "6e95000b",
   "metadata": {},
   "outputs": [],
   "source": []
  }
 ],
 "metadata": {
  "kernelspec": {
   "display_name": "JCDL2025",
   "language": "python",
   "name": "python3"
  },
  "language_info": {
   "codemirror_mode": {
    "name": "ipython",
    "version": 3
   },
   "file_extension": ".py",
   "mimetype": "text/x-python",
   "name": "python",
   "nbconvert_exporter": "python",
   "pygments_lexer": "ipython3",
   "version": "3.12.11"
  }
 },
 "nbformat": 4,
 "nbformat_minor": 5
}
