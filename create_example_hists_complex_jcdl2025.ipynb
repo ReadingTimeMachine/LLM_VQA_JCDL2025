{
 "cells": [
  {
   "cell_type": "code",
   "execution_count": 310,
   "id": "a384e543",
   "metadata": {},
   "outputs": [],
   "source": [
    "# save files\n",
    "fullproc_r = './resources/' # for words/names\n",
    "\n",
    "# where to save the figures that are created\n",
    "#fake_figs_dir = './example_hists/' # saving in github only for small numbers\n",
    "# stop overwriting what is there\n",
    "fake_figs_dir = '~/Downloads/tmp/JCDL2025/visual_qa_histograms/example_hists_complex/' # large dataset, same format\n",
    "#fake_figs_dir = '~/LLM_VQA_JCDL2025/example_hists/fewshot/' # for fewshot learning\n",
    "\n",
    "\n",
    "# format for saving images?\n",
    "#img_format = ['pdf','jpeg']\n",
    "img_format = ['jpeg']\n",
    "\n",
    "# save diagnostic plot with all items labeled?\n",
    "save_diagnostic_plot = True\n",
    "\n",
    "# randomize names?\n",
    "randomize_names = True"
   ]
  },
  {
   "cell_type": "code",
   "execution_count": 311,
   "id": "82acb676",
   "metadata": {},
   "outputs": [],
   "source": [
    "import numpy as np\n",
    "import matplotlib.pyplot as plt\n",
    "from PIL import Image\n",
    "import cv2 as cv\n",
    "import pickle\n",
    "import pandas as pd\n",
    "#import string\n",
    "from glob import glob\n",
    "from mpl_toolkits.axes_grid1 import make_axes_locatable\n",
    "from PIL import ImageColor\n",
    "import json\n",
    "import os\n",
    "from copy import deepcopy\n",
    "import copy\n",
    "\n",
    "from utils.metric_utils.utilities import isRectangleOverlap\n",
    "\n",
    "import time\n",
    "\n",
    "import matplotlib as mpl\n",
    "import os\n",
    "os.environ[\"PATH\"] += os.pathsep + '/Library/TeX/texbin'\n",
    "mpl.rcParams['text.usetex'] = True\n",
    "mpl.rcParams['text.latex.preamble'] = r'\\usepackage{amsmath} \\usepackage{amssymb}' #for \\text command\n",
    "\n",
    "# written libs -- will update locally\n",
    "from utils.synthetic_fig_utils import subset_by_percent, \\\n",
    " get_nrows_and_ncols, normalize_params_prob, get_ticks, get_titles_or_labels, \\\n",
    " get_font_info\n",
    "\n",
    "from utils.plot_utils import get_contour_plot, get_histogram_plot, \\\n",
    "   get_line_plot, get_scatter_plot, make_plot, colorbar_mods#, get_line_plot\n",
    "\n",
    "from utils.text_utils import get_popular_nouns, get_inline_math\n",
    "\n",
    "# create a bunch of fake figures\n",
    "from utils.synthetic_fig_utils import normalize_params_prob\n",
    "from utils.plot_parameters import plot_types_params, panel_params, \\\n",
    "  title_params, xlabel_params, colorbar_params, \\\n",
    "  ylabel_params, aspect_fig_params, dpi_params, tight_layout_params, \\\n",
    "  fontsizes, base\n",
    "\n",
    "from utils.data_utils import get_data, NumpyEncoder\n",
    "import numpy as np\n",
    "\n",
    "import utils.distribution_utils\n",
    "\n",
    "from importlib import reload\n",
    "from utils.plot_qa_utils import log_scale_ax\n",
    "import utils.distribution_utils\n",
    "import utils.data_utils\n",
    "reload(utils.distribution_utils)\n",
    "reload(utils.data_utils)\n",
    "from utils.data_utils import get_data\n",
    "import utils.plot_classes_utils\n",
    "reload(utils.plot_classes_utils)\n",
    "\n",
    "from utils.synthetic_fig_utils import add_titles_and_labels\n",
    "\n",
    "import utils.plot_utils\n",
    "import utils.data_utils\n",
    "import utils.plot_classes_utils\n",
    "reload(utils.plot_classes_utils)\n",
    "reload(utils.data_utils)\n",
    "reload(utils.plot_utils)\n",
    "from utils.plot_utils import make_plot, make_base_plot\n",
    "from utils.data_utils import get_data\n",
    "\n",
    "from utils.plot_utils import markers, make_base_plot\n",
    "\n",
    "import utils.synthetic_fig_utils\n",
    "reload(utils.synthetic_fig_utils)\n",
    "from utils.synthetic_fig_utils import collect_plot_data_axes\n",
    "\n",
    "marker_sizes = np.arange(0,10)+1\n",
    "line_list_thick = np.arange(1,10)\n",
    "\n",
    "use_uniques = True # use unique inlines\n",
    "verbose = True\n",
    "\n",
    "from sys import path\n",
    "path.append('/Library/TeX/texbin/')\n",
    "\n",
    "# debug\n",
    "from importlib import reload\n",
    "\n",
    "# for seed\n",
    "from sys import maxsize as maxint\n",
    "\n",
    "import warnings\n",
    "warnings.filterwarnings(\"error\")"
   ]
  },
  {
   "cell_type": "code",
   "execution_count": 312,
   "id": "a78c71f0",
   "metadata": {},
   "outputs": [],
   "source": [
    "# for some versions\n",
    "fake_figs_dir = os.path.expanduser(fake_figs_dir)\n",
    "#fake_figs_dir"
   ]
  },
  {
   "cell_type": "code",
   "execution_count": 313,
   "id": "4d785d10",
   "metadata": {},
   "outputs": [],
   "source": [
    "# check directories\n",
    "img_dir = fake_figs_dir + '/imgs/'\n",
    "if not os.path.exists(img_dir):\n",
    "    os.mkdir(img_dir)\n",
    "    print('made:', img_dir)\n",
    "json_dir = fake_figs_dir + '/jsons/'\n",
    "if not os.path.exists(json_dir):\n",
    "    os.mkdir(json_dir)\n",
    "    print('made:', json_dir)"
   ]
  },
  {
   "cell_type": "code",
   "execution_count": 314,
   "id": "b066179c",
   "metadata": {},
   "outputs": [],
   "source": [
    "# get fonts -- see \"cnn_create_synthetic_ticks\" in FullProcess\n",
    "dfont = pd.read_csv(fullproc_r + 'fonts.csv')\n",
    "\n",
    "# check that location is there\n",
    "drop_names = []\n",
    "for fl in dfont['font location']:\n",
    "    if not os.path.exists(fl):\n",
    "        drop_names.append(False)\n",
    "    else:\n",
    "        drop_names.append(True)\n",
    "\n",
    "font_names = dfont.loc[drop_names]['font name'].values\n",
    "\n",
    "# # for plot styles\n",
    "# plot_styles = plt.style.available\n",
    "\n",
    "# plot_types_qa = ['line', 'scatter', 'histogram']\n",
    "\n",
    "plot_styles = ['default']"
   ]
  },
  {
   "cell_type": "code",
   "execution_count": 315,
   "id": "52bbd3e2",
   "metadata": {},
   "outputs": [],
   "source": [
    "# stats for doing calculations\n",
    "stats = {'minimum':np.min, 'maximum':np.max, 'median':np.median, 'mean':np.mean}\n",
    "\n",
    "# some things to try\n",
    "aspect_cut = {'min':0.3, 'max':4.0}"
   ]
  },
  {
   "cell_type": "code",
   "execution_count": 316,
   "id": "9f0dc2a5",
   "metadata": {},
   "outputs": [
    {
     "name": "stdout",
     "output_type": "stream",
     "text": [
      "16254 343520\n",
      "shape of output= (5098, 5)\n",
      "shape of output= (36335, 5)\n",
      "number of inlines =  33201\n"
     ]
    }
   ],
   "source": [
    "# XYZ -- IS THIS USED NOW??\n",
    "# get popular words for titles/axis\n",
    "popular_nouns = get_popular_nouns(fullproc_r + 'data/')\n",
    "\n",
    "# get inline math formulas\n",
    "inlines = get_inline_math(fullproc_r,\n",
    "                          recreate_inlines=False,\n",
    "                         use_uniques=use_uniques)"
   ]
  },
  {
   "cell_type": "markdown",
   "id": "3949dc13",
   "metadata": {},
   "source": [
    "## Update plotting params"
   ]
  },
  {
   "cell_type": "markdown",
   "id": "05193107",
   "metadata": {},
   "source": [
    "### Plot type params"
   ]
  },
  {
   "cell_type": "code",
   "execution_count": 317,
   "id": "c1be6ee7",
   "metadata": {},
   "outputs": [],
   "source": [
    "plot_params = plot_types_params.copy()"
   ]
  },
  {
   "cell_type": "code",
   "execution_count": 318,
   "id": "5a9fe905",
   "metadata": {},
   "outputs": [],
   "source": [
    "# prob for getting a histogram\n",
    "plot_params['histogram']['prob'] = 1\n",
    "\n",
    "# XYZ: since auto-setting plot_type later, can probably get away with none of the stuff in this cell\n",
    "# probability of getting a scatter plot\n",
    "plot_params['scatter']['prob'] = 0\n",
    "# probability of getting a line\n",
    "plot_params['line']['prob'] = 0\n",
    "# prob of getting a contour plot\n",
    "plot_params['contour']['prob'] = 0"
   ]
  },
  {
   "cell_type": "code",
   "execution_count": 319,
   "id": "2d767f07",
   "metadata": {},
   "outputs": [],
   "source": [
    "linestyles_hist = ['-'] #, '--', ':'] # only use a subset of the linestyles\n",
    "\n",
    "plot_params['histogram'] = plot_params['histogram'].copy()\n",
    "\n",
    "# no horizontal plots\n",
    "plot_params['histogram']['horizontal prob'] = 0.25\n",
    "\n",
    "# random distributions\n",
    "plot_params['histogram']['distribution']['random']['prob'] = 1\n",
    "\n",
    "# gaussian mixture model\n",
    "plot_params['histogram']['distribution']['gmm']['prob'] = 1\n",
    "plot_params['histogram']['distribution']['gmm']['nclusters'] = {'min': 1, 'max': 5}\n",
    "plot_params['histogram']['distribution']['gmm']['nsamples'] = {'min': 10, 'max': 50}\n",
    "\n",
    "# linear distributions prob\n",
    "plot_params['histogram']['distribution']['linear']['prob'] = 1"
   ]
  },
  {
   "cell_type": "code",
   "execution_count": 320,
   "id": "ba79bd07",
   "metadata": {},
   "outputs": [],
   "source": [
    "# choices = []; probs = []\n",
    "# for k,v in plot_params_out.items():\n",
    "#     choices.append(k)\n",
    "#     probs.append(v['prob'])\n",
    "\n",
    "# plot_type = rng.choice(choices, p=probs)\n",
    "# plot_type\n",
    "plot_type = 'histogram' # fix this"
   ]
  },
  {
   "cell_type": "markdown",
   "id": "b958d73a-fd58-46b5-9af3-b91cda577b56",
   "metadata": {},
   "source": [
    "### Other parameters"
   ]
  },
  {
   "cell_type": "code",
   "execution_count": 321,
   "id": "8b36fa32-a85d-4dbe-a4f5-bf0be3685094",
   "metadata": {},
   "outputs": [],
   "source": [
    "# for ease of things, lets not do equations here\n",
    "title_params['equation']['prob'] = 0.25 # probability any word will be equation\n",
    "xlabel_params['equation']['prob'] = 0.25 # probability any word will be equation\n",
    "ylabel_params['equation']['prob'] = 0.25 # probability any word will be equation"
   ]
  },
  {
   "cell_type": "markdown",
   "id": "2fae2d31-cdf8-4fde-9302-5f91d9767a7c",
   "metadata": {},
   "source": [
    "Renormalize all probabilities:"
   ]
  },
  {
   "cell_type": "code",
   "execution_count": 322,
   "id": "a1cd495c-be76-4d40-bc74-86e5efecf417",
   "metadata": {},
   "outputs": [
    {
     "name": "stdout",
     "output_type": "stream",
     "text": [
      "plot_types_params['histogram']['distribution'] probabilities did not add to 1! total = 3\n",
      "renormalizing...\n",
      "now:  [0.3333333333333333, 0.3333333333333333, 0.3333333333333333]\n"
     ]
    },
    {
     "data": {
      "text/plain": [
       "{'line': {'prob': 0,\n",
       "  'npoints': {'min': 10, 'max': 11},\n",
       "  'line thick': {'min': 1, 'max': 5},\n",
       "  'nlines': {'min': 2, 'max': 3},\n",
       "  'xmin': -10000,\n",
       "  'xmax': 10000,\n",
       "  'ymin': -10000,\n",
       "  'ymax': 10000,\n",
       "  'prob same x': 0.1,\n",
       "  'markers': {'prob': 0.5, 'size': {'min': 1, 'max': 20}},\n",
       "  'error bars': {'elinewidth': {'min': 1, 'max': 5},\n",
       "   'x': {'prob': 0.25, 'size': {'min': 0.01, 'max': 0.1}},\n",
       "   'y': {'prob': 0.25, 'size': {'min': 0.01, 'max': 0.1}}},\n",
       "  'distribution': {'random': {'prob': 0.3333333333333333},\n",
       "   'linear': {'prob': 0.3333333333333333,\n",
       "    'intersect': (-100, 100),\n",
       "    'slope': (-5, 5),\n",
       "    'noise': (0, 0.25)},\n",
       "   'gmm': {'prob': 0.3333333333333333,\n",
       "    'histogram as line': {'prob': 0.25, 'factor': 1000},\n",
       "    'nclusters': {'min': 1, 'max': 20},\n",
       "    'nsamples': {'min': 10, 'max': 500},\n",
       "    'cluster std': {'min': -2, 'max': 0.5},\n",
       "    'noise': {'min': 0.05, 'max': 0.25}}}},\n",
       " 'histogram': {'prob': 1,\n",
       "  'npoints': {'min': 10, 'max': 10000},\n",
       "  'nbins': {'min': 1, 'max': 100},\n",
       "  'rwidth': {'min': 0.2, 'max': 1.0},\n",
       "  'line thick': {'prob': 0.5, 'min': 1, 'max': 5},\n",
       "  'nlines': {'min': 2, 'max': 3},\n",
       "  'xmin': -10000,\n",
       "  'xmax': 10000,\n",
       "  'error bars': {'elinewidth': {'min': 1, 'max': 5},\n",
       "   'x': {'prob': 1, 'size': {'min': 0.01, 'max': 0.1}}},\n",
       "  'horizontal prob': 0.25,\n",
       "  'distribution': {'random': {'prob': 0.3333333333333333},\n",
       "   'linear': {'prob': 0.3333333333333333,\n",
       "    'intersect': (-100, 100),\n",
       "    'slope': (-5, 5),\n",
       "    'noise': (0, 0.25)},\n",
       "   'gmm': {'prob': 0.3333333333333333,\n",
       "    'xmin': -10000,\n",
       "    'xmax': 10000,\n",
       "    'ymin': -10000,\n",
       "    'ymax': 10000,\n",
       "    'nclusters': {'min': 1, 'max': 5},\n",
       "    'nsamples': {'min': 10, 'max': 50},\n",
       "    'cluster std': {'min': -1, 'max': 1.5},\n",
       "    'noise': {'min': 0.05, 'max': 0.25}}}},\n",
       " 'scatter': {'prob': 0,\n",
       "  'npoints': {'min': 10, 'max': 100},\n",
       "  'markers': {'size': {'min': 1, 'max': 30}},\n",
       "  'colors': {'min': -100, 'max': 100},\n",
       "  'colormap scatter': {'prob': 0.95},\n",
       "  'color bar': {'location probs': {'right': 0.5882352941176471,\n",
       "    'left': 0.05882352941176471,\n",
       "    'top': 0.29411764705882354,\n",
       "    'bottom': 0.05882352941176471},\n",
       "   'label prob': 0.5,\n",
       "   'size percent': {'min': 0.05, 'max': 0.15},\n",
       "   'pad': {'min': 0.01, 'max': 0.2}},\n",
       "  'xmin': -10000,\n",
       "  'xmax': 10000,\n",
       "  'ymin': -10000,\n",
       "  'ymax': 10000,\n",
       "  'error bars': {'elinewidth': {'min': 1, 'max': 5},\n",
       "   'x': {'prob': 0.25, 'size': {'min': 0.01, 'max': 0.1}},\n",
       "   'y': {'prob': 0.25, 'size': {'min': 0.01, 'max': 0.1}}},\n",
       "  'distribution': {'random': {'prob': 0.3333333333333333},\n",
       "   'linear': {'prob': 0.3333333333333333,\n",
       "    'intersect': (-100, 100),\n",
       "    'slope': (-5, 5),\n",
       "    'noise': (0, 0.25),\n",
       "    'color noise prob': 0.5},\n",
       "   'gmm': {'prob': 0.3333333333333333,\n",
       "    'upsample factor log': {'min': 2, 'max': 6},\n",
       "    'nclusters': {'min': 1, 'max': 5},\n",
       "    'nsamples': {'min': 1000, 'max': 50000},\n",
       "    'cluster std': {'min': -1, 'max': 0.5},\n",
       "    'noise': {'min': 0.05, 'max': 0.25},\n",
       "    'color noise prob': 0.5,\n",
       "    'max points': 200}}},\n",
       " 'contour': {'prob': 0,\n",
       "  'npoints': {'nx': {'min': 10, 'max': 500}, 'ny': {'min': 10, 'max': 500}},\n",
       "  'nlines': {'min': 3, 'max': 10},\n",
       "  'colors': {'min': -100, 'max': 100},\n",
       "  'colormap contour': {'prob': 0.95},\n",
       "  'color bar': {'location probs': {'right': 0.5882352941176471,\n",
       "    'left': 0.05882352941176471,\n",
       "    'top': 0.29411764705882354,\n",
       "    'bottom': 0.05882352941176471},\n",
       "   'label prob': 0.5,\n",
       "   'size percent': {'min': 0.05, 'max': 0.15},\n",
       "   'pad': {'min': 0.01, 'max': 0.2}},\n",
       "  'image or contour': {'prob': {'image': 0.3333333333333333,\n",
       "    'contour': 0.3333333333333333,\n",
       "    'both': 0.3333333333333333},\n",
       "   'both contours': {'prob gray': 0.95}},\n",
       "  'xmin': -10000,\n",
       "  'xmax': 10000,\n",
       "  'ymin': -10000,\n",
       "  'ymax': 10000,\n",
       "  'aspect ratio limit': 2.0,\n",
       "  'distribution': {'random': {'prob': 0.3333333333333333},\n",
       "   'linear': {'prob': 0.3333333333333333,\n",
       "    'intersect': (-100, 100),\n",
       "    'slope': (-5, 5),\n",
       "    'noise': (0, 0.25)},\n",
       "   'gmm': {'prob': 0.3333333333333333,\n",
       "    'nclusters': {'min': 1, 'max': 500},\n",
       "    'upsample factor log': {'min': 0, 'max': 0.5},\n",
       "    'cluster std': {'min': -1, 'max': 1.5},\n",
       "    'noise': {'min': 0.05, 'max': 0.25},\n",
       "    'color noise prob': 0.5}}}}"
      ]
     },
     "execution_count": 322,
     "metadata": {},
     "output_type": "execute_result"
    }
   ],
   "source": [
    "# reload for debug\n",
    "import utils.synthetic_fig_utils\n",
    "reload(utils)\n",
    "reload(utils.synthetic_fig_utils)\n",
    "from utils.synthetic_fig_utils import normalize_params_prob\n",
    "\n",
    "plot_params_out, panel_params, \\\n",
    "  title_params, xlabel_params, \\\n",
    "  ylabel_params = normalize_params_prob(plot_params.copy(), panel_params, \n",
    "                                        title_params, xlabel_params, \n",
    "                                        ylabel_params, colorbar_params)\n",
    "\n",
    "plot_params_out"
   ]
  },
  {
   "cell_type": "markdown",
   "id": "5231b45e",
   "metadata": {},
   "source": [
    "### Run the thing"
   ]
  },
  {
   "cell_type": "code",
   "execution_count": 323,
   "id": "2751985c",
   "metadata": {},
   "outputs": [
    {
     "name": "stdout",
     "output_type": "stream",
     "text": [
      "seed_outer = 4586818368082342421\n"
     ]
    }
   ],
   "source": [
    "# Set a seed if you want a reproducible thing\n",
    "seed_outer = np.random.randint(maxint)\n",
    "#seed_outer = 7526304181034464103\n",
    "#seed_outer = 6700012876856450103\n",
    "\n",
    "print('seed_outer =',seed_outer)\n",
    "rng_outer = np.random.default_rng(seed_outer)"
   ]
  },
  {
   "cell_type": "code",
   "execution_count": 345,
   "id": "27aa8e6c",
   "metadata": {},
   "outputs": [
    {
     "name": "stdout",
     "output_type": "stream",
     "text": [
      "seed =  80720491258656906\n"
     ]
    }
   ],
   "source": [
    "# \"Inner\" seed -- for things like distributions and whatnot\n",
    "seed = np.random.randint(maxint)\n",
    "#seed = 2870146871786070273\n",
    "#seed = 7067533564274193147\n",
    "print('seed = ', seed)\n",
    "# based on seed, make random number generator, see: https://numpy.org/doc/2.2/reference/random/generator.html\n",
    "rng = np.random.default_rng(seed)\n",
    "\n",
    "# for titles\n",
    "seed_titles = np.random.randint(maxint)\n",
    "rng_titles = np.random.default_rng(seed_titles)\n",
    "\n",
    "# for fonts\n",
    "seed_font = np.random.randint(maxint)\n",
    "rng_font = np.random.default_rng(seed_font)\n",
    "\n",
    "# aspect ratio\n",
    "seed_aspect = np.random.randint(maxint)\n",
    "rng_aspect = np.random.default_rng(seed_aspect)\n",
    "\n",
    "# used?\n",
    "#condition_overlap_xticklabels = True"
   ]
  },
  {
   "cell_type": "code",
   "execution_count": 325,
   "id": "e8cce8c4",
   "metadata": {},
   "outputs": [
    {
     "data": {
      "text/plain": [
       "dict_keys(['number prob', 'layout prob', 'to even above'])"
      ]
     },
     "execution_count": 325,
     "metadata": {},
     "output_type": "execute_result"
    }
   ],
   "source": [
    "panel_params.keys()"
   ]
  },
  {
   "cell_type": "markdown",
   "id": "bf03f9e5",
   "metadata": {},
   "source": [
    "## Example auto-generated figure"
   ]
  },
  {
   "cell_type": "code",
   "execution_count": 326,
   "id": "d3b29234",
   "metadata": {},
   "outputs": [
    {
     "data": {
      "text/plain": [
       "(0.5, 2.0)"
      ]
     },
     "execution_count": 326,
     "metadata": {},
     "output_type": "execute_result"
    }
   ],
   "source": [
    "aspect_fig_params['min'], aspect_fig_params['max']"
   ]
  },
  {
   "cell_type": "code",
   "execution_count": 327,
   "id": "3d28ba6e",
   "metadata": {},
   "outputs": [
    {
     "name": "stdout",
     "output_type": "stream",
     "text": [
      "Color map: spring_r\n",
      "Plot style: default\n",
      "Aspect ratio: 0.7221249178184244\n",
      "DPI: 177\n"
     ]
    }
   ],
   "source": [
    "# set some things to keep standard across images\n",
    "\n",
    "tight_layout = True\n",
    "\n",
    "color_map = rng_outer.choice(plt.colormaps()) # choose a color map\n",
    "\n",
    "plot_style = rng_outer.choice(plot_styles) # choose a plotting style\n",
    "\n",
    "npanels, panel_style, nrows, ncols = 1, 'square', 1, 1 # keep single image\n",
    "\n",
    "aspect_fig = rng_outer.uniform(low=aspect_fig_params['min'], high=aspect_fig_params['max'])\n",
    "\n",
    "dpi = int(rng_outer.uniform(low=dpi_params['min'], high=dpi_params['max']))\n",
    "\n",
    "print('Color map:', color_map)\n",
    "print('Plot style:', plot_style)\n",
    "print('Aspect ratio:', aspect_fig)\n",
    "print('DPI:', dpi)"
   ]
  },
  {
   "cell_type": "code",
   "execution_count": 328,
   "id": "4a4a2738",
   "metadata": {},
   "outputs": [
    {
     "name": "stdout",
     "output_type": "stream",
     "text": [
      "Font info: {'fontname': 'Heiti TC'}\n"
     ]
    }
   ],
   "source": [
    "# use the \"fixed\" RNG outer\n",
    "# get all font stuffs\n",
    "title_fontsize, colorbar_fontsize, xlabel_fontsize, ylabel_fontsize, \\\n",
    "    xlabel_ticks_fontsize, ylabel_ticks_fontsize, \\\n",
    "                        csfont = get_font_info(fontsizes, font_names, rng=rng_titles)\n",
    "print('Font info:', csfont)"
   ]
  },
  {
   "cell_type": "markdown",
   "id": "28cf8de7",
   "metadata": {},
   "source": [
    "Get distribution based on randomized selection:"
   ]
  },
  {
   "cell_type": "code",
   "execution_count": 329,
   "id": "a5da3de5",
   "metadata": {},
   "outputs": [
    {
     "name": "stdout",
     "output_type": "stream",
     "text": [
      "Distribution Type: random\n"
     ]
    }
   ],
   "source": [
    "# get distribution type\n",
    "dist_params = plot_params_out[plot_type]['distribution'] \n",
    "choices_d = []; probs_d = []\n",
    "for k,v in dist_params.items():\n",
    "    choices_d.append(k)\n",
    "    probs_d.append(v['prob'])\n",
    "\n",
    "distribution_type = np.random.choice(choices_d, p=probs_d)\n",
    "print('Distribution Type:', distribution_type)"
   ]
  },
  {
   "cell_type": "code",
   "execution_count": 330,
   "id": "a83ecfe7",
   "metadata": {},
   "outputs": [
    {
     "name": "stdout",
     "output_type": "stream",
     "text": [
      "xmin, xmax =  -2125.29546716693 4263.362586832879\n"
     ]
    }
   ],
   "source": [
    "xmin,xmax = log_scale_ax()\n",
    "plot_params_out[plot_type]['xmin']=xmin\n",
    "plot_params_out[plot_type]['xmax']=xmax\n",
    "print('xmin, xmax = ', xmin, xmax)"
   ]
  },
  {
   "cell_type": "code",
   "execution_count": 331,
   "id": "06f92482",
   "metadata": {},
   "outputs": [],
   "source": [
    "success_get_data = False\n",
    "while not success_get_data:\n",
    "    data_for_plot = get_data(plot_params_out[plot_type], \n",
    "                             plot_type=plot_type, distribution=distribution_type, rng=rng)\n",
    "    if len(data_for_plot['xs']) > 0 and plot_type == 'histogram':\n",
    "        success_get_data = True"
   ]
  },
  {
   "cell_type": "code",
   "execution_count": 332,
   "id": "0d8a7ded",
   "metadata": {},
   "outputs": [],
   "source": [
    "def get_new_title(title_fontsize, rng, fontsize_min=8):\n",
    "\n",
    "    title_fontsize -= 1\n",
    "    err = False\n",
    "\n",
    "    if title_fontsize < fontsize_min:\n",
    "        err = True\n",
    "        print(\"[ERROR]: can't make font size smaller, gonna grab new words for title and try again...\")\n",
    "        #xlabels_pull = xlabel # keep same\n",
    "        #ylabels_pull = ylabel\n",
    "        title_fontsize, _, _, _, _, _, _ = get_font_info(fontsizes, font_names, rng=rng)\n",
    "        # title, _, _ = add_titles_and_labels(ax, xlabel, ylabel, titles_pull, \n",
    "        #                                     title_params, csfont, title_fontsize, \n",
    "        #                 xlabel_params, ylabel_params, xlabel_fontsize, ylabel_fontsize,\n",
    "        #                 inlines, xlabel_ticks_fontsize, ylabel_ticks_fontsize,\n",
    "        #                 rng=rng)\n",
    "    return title_fontsize, err\n",
    "\n",
    "\n",
    "def get_new_xylabels(xlabel_fontsize, ylabel_fontsize, rng, fontsize_min = 8):\n",
    "    xlabel_fontsize -= 1\n",
    "    ylabel_fontsize -= 1    \n",
    "    err = False\n",
    "\n",
    "    if xlabel_fontsize < fontsize_min or ylabel_fontsize < fontsize_min:\n",
    "        err = True\n",
    "        print(\"[ERROR]: can't make font size smaller, gonna grab new words for x/y axis labels and try again...\")\n",
    "        _, _, xlabel_fontsize, ylabel_fontsize, _, _, _ = get_font_info(fontsizes, font_names, rng=rng)\n",
    "        # _, xlabel, ylabel = add_titles_and_labels(ax, xlabels_pull, ylabels_pull, title, \n",
    "        #                                     title_params, csfont, title_fontsize, \n",
    "        #                 xlabel_params, ylabel_params, xlabel_fontsize, ylabel_fontsize,\n",
    "        #                 inlines, xlabel_ticks_fontsize, ylabel_ticks_fontsize,\n",
    "        #                 rng=rng)\n",
    "    return xlabel_fontsize, ylabel_fontsize, err"
   ]
  },
  {
   "cell_type": "code",
   "execution_count": 333,
   "id": "a976b5dd",
   "metadata": {},
   "outputs": [],
   "source": [
    "from utils.figure_gen_utils.misc import add_annotations"
   ]
  },
  {
   "cell_type": "code",
   "execution_count": 346,
   "id": "f86e9915",
   "metadata": {},
   "outputs": [
    {
     "name": "stdout",
     "output_type": "stream",
     "text": [
      "figsize (w,h) = (1.4442498356368487, 2)\n"
     ]
    },
    {
     "data": {
      "text/plain": [
       "<Figure size 640x480 with 0 Axes>"
      ]
     },
     "metadata": {},
     "output_type": "display_data"
    },
    {
     "data": {
      "image/png": "[encoded data removed]",
      "text/plain": [
       "<Figure size 255.632x354 with 1 Axes>"
      ]
     },
     "metadata": {},
     "output_type": "display_data"
    },
    {
     "name": "stdout",
     "output_type": "stream",
     "text": [
      "made it here\n",
      "[ERROR]: aspect ratio off\n",
      "figsize (w,h) = (1.4268864874971583, 2)\n"
     ]
    },
    {
     "data": {
      "text/plain": [
       "<Figure size 640x480 with 0 Axes>"
      ]
     },
     "metadata": {},
     "output_type": "display_data"
    },
    {
     "data": {
      "image/png": "[encoded data removed]",
      "text/plain": [
       "<Figure size 252.559x354 with 1 Axes>"
      ]
     },
     "metadata": {},
     "output_type": "display_data"
    },
    {
     "name": "stdout",
     "output_type": "stream",
     "text": [
      "made it here\n",
      "[ERROR]: aspect ratio off\n",
      "figsize (w,h) = (2.2634562071768642, 2)\n"
     ]
    },
    {
     "data": {
      "text/plain": [
       "<Figure size 640x480 with 0 Axes>"
      ]
     },
     "metadata": {},
     "output_type": "display_data"
    },
    {
     "data": {
      "image/png": "[encoded data removed]",
      "text/plain": [
       "<Figure size 400.632x354 with 1 Axes>"
      ]
     },
     "metadata": {},
     "output_type": "display_data"
    },
    {
     "name": "stdout",
     "output_type": "stream",
     "text": [
      "made it here\n",
      "[ERROR]: x/y axis off page, making smaller...\n",
      "   x/y axis labels: $\\mathrm{S/N}\\gtrsim100$  CORRECTION SENSE\n",
      "   new fontsizes (x,y): 13 13\n",
      "figsize (w,h) = (2.2634562071768642, 2)\n"
     ]
    },
    {
     "data": {
      "text/plain": [
       "<Figure size 640x480 with 0 Axes>"
      ]
     },
     "metadata": {},
     "output_type": "display_data"
    },
    {
     "data": {
      "image/png": "[encoded data removed]",
      "text/plain": [
       "<Figure size 400.632x354 with 1 Axes>"
      ]
     },
     "metadata": {},
     "output_type": "display_data"
    },
    {
     "name": "stdout",
     "output_type": "stream",
     "text": [
      "made it here\n",
      "saved: /Users/jnaiman/Downloads/tmp/JCDL2025/visual_qa_histograms/example_hists_complex/imgs/Picture1.png\n",
      " ------ Plot #0 ------ \n",
      "Plot type:histogram\n",
      "Distribution:random\n",
      "\n",
      "SUCCESS\n",
      "DONE MAKING PLOT!\n"
     ]
    },
    {
     "data": {
      "text/plain": [
       "<Figure size 640x480 with 0 Axes>"
      ]
     },
     "metadata": {},
     "output_type": "display_data"
    }
   ],
   "source": [
    "fontsize_min = 8 # minimum to try to shrink titles\n",
    "aspect_cut = {'min':0.3, 'max':4.0}\n",
    "\n",
    "\n",
    "success_plot = False # overall plot\n",
    "\n",
    "# flags for various things\n",
    "success_titles = False\n",
    "# redo_gen_fig = True\n",
    "# redo_gen_plot = True\n",
    "# redo_gen_titles = True\n",
    "# redo_gen_axis_labels = True\n",
    "\n",
    "# keep titles\n",
    "xlabels_pull = deepcopy(popular_nouns)\n",
    "ylabels_pull = deepcopy(popular_nouns)\n",
    "titles_pull = deepcopy(popular_nouns)\n",
    "\n",
    "grace_ticks = 5 # ignore tick marks that are outside the box by this -- invisible most likely\n",
    "itriesMax = 100\n",
    "\n",
    "ifigure = 0\n",
    "itries = 0\n",
    "while not success_plot and itries <= itriesMax:\n",
    "    itries += 1\n",
    "    #print('at top')\n",
    "    rng = np.random.default_rng(seed)\n",
    "    while not success_titles: # ensure we catch any errors with bad fonts\n",
    "        try:\n",
    "            #if redo_gen_fig:\n",
    "            #print('hi')\n",
    "            fig, axes, plot_inds = make_base_plot(plot_style, color_map, dpi, nrows, ncols, aspect_fig,\n",
    "                            base=2, verbose=True, tight_layout = tight_layout)\n",
    "                #redo_gen_fig = False\n",
    "\n",
    "            #if redo_gen_plot:\n",
    "            #print('hi2')\n",
    "            data_from_plot, ax = make_plot(plot_params_out[plot_type], data_for_plot, \n",
    "                                    axes[0], plot_type=plot_type, linestyles=linestyles_hist, \n",
    "                                    rng=rng)\n",
    "                #redo_gen_plot = False\n",
    "\n",
    "            # get title and axis words\n",
    "            #if redo_gen_titles:\n",
    "            #print('hi3')\n",
    "            title, xlabel, ylabel = add_titles_and_labels(axes[0], xlabels_pull, ylabels_pull, titles_pull, \n",
    "                                                    title_params, csfont, title_fontsize, \n",
    "                                xlabel_params, ylabel_params, xlabel_fontsize, ylabel_fontsize,\n",
    "                                inlines, xlabel_ticks_fontsize, ylabel_ticks_fontsize,\n",
    "                                rng=rng_titles)\n",
    "            # set \"pulls\" to save, reset letter as needed\n",
    "            try:\n",
    "                xlabels_pull = xlabel.get_text()\n",
    "            except:\n",
    "                if type(xlabel) == type([]) or type(xlabel) == type('hi'):\n",
    "                    xlabels_pull = xlabel\n",
    "                else:\n",
    "                    lfkasjl\n",
    "            try:\n",
    "                ylabels_pull = ylabel.get_text()\n",
    "            except:\n",
    "                if type(ylabel) == type([]) or type(ylabel) == type('hi'):\n",
    "                    ylabels_pull = ylabel\n",
    "                else:\n",
    "                    flasj\n",
    "            try:\n",
    "                titles_pull = title.get_text()\n",
    "            except:\n",
    "                if type(title) == type([]) or type(title) == type('hi'):\n",
    "                    titles_pull = title\n",
    "                else:\n",
    "                    flasj\n",
    "            #     redo_gen_titles = False\n",
    "            # if redo_gen_axis_labels:\n",
    "            #     _, xlabel, ylabel = add_titles_and_labels(axes[0], xlabels_pull, ylabels_pull, titles_pull, \n",
    "            #                                         title_params, csfont, title_fontsize, \n",
    "            #                     xlabel_params, ylabel_params, xlabel_fontsize, ylabel_fontsize,\n",
    "            #                     inlines, xlabel_ticks_fontsize, ylabel_ticks_fontsize,\n",
    "            #                     rng=rng)   \n",
    "            #     redo_gen_axis_labels = False    \n",
    "            #print('hi4')         \n",
    "            success_titles = True\n",
    "            plt.draw()\n",
    "            plt.pause(0.001)\n",
    "        except Exception as e:\n",
    "            plt.close('all')\n",
    "            #print(\"HERE\")\n",
    "            if 'missing from font' in str(e):\n",
    "                print('[ERROR]: missing font (' + str(e) + '), will try with new font')\n",
    "                seed_font = np.random.randint(maxint)\n",
    "                rng_font = np.random.default_rng(seed_font)\n",
    "                _, _, _, _, _, _, csfont = get_font_info(fontsizes, font_names, rng=rng_font)\n",
    "                success_titles = False\n",
    "            else:\n",
    "                print('[ERROR]: other error - ', str(e))\n",
    "                laslfjasl\n",
    "            continue\n",
    "\n",
    "    print('made it here')\n",
    "    plt.set_cmap(color_map) # do again\n",
    "    fig.tight_layout()\n",
    "    # collect data\n",
    "    fig.canvas.draw()\n",
    "    width, height = fig.canvas.get_width_height()\n",
    "    # save data\n",
    "    datas = {}\n",
    "    # figure datas\n",
    "    datas['figure'] = {'dpi':dpi, 'base':base, 'aspect ratio': aspect_fig, \n",
    "                        'nrows':nrows, 'ncols':ncols, \n",
    "                        'plot style':plot_style, \n",
    "                        'color map':color_map,\n",
    "                        'title fontsize':title_fontsize, \n",
    "                        'xlabel fontsize':xlabel_fontsize,\n",
    "                        'ylabel fontsize':ylabel_fontsize, \n",
    "                    'plot indexes':plot_inds}\n",
    "    for iplot,ax in enumerate(axes): ### XYZ, only 1 axis here\n",
    "        datas['plot' + str(iplot)] = collect_plot_data_axes(ax, fig,\n",
    "                        height, width,\n",
    "                        data_from_plot, data_for_plot, \n",
    "                        plot_type, title, \n",
    "                        xlabel, ylabel,\n",
    "                        distribution_type, verbose=True)\n",
    "        \n",
    "\n",
    "    ########### CHECKS ##########\n",
    "    # 1. Check for square with weird aspect ratio\n",
    "    success_aspect = True\n",
    "    # check for thin/fat squares\n",
    "    for k,v in datas.items():\n",
    "        if 'plot' in k: # a plot key\n",
    "            w = v['square']['xmax']-v['square']['xmin']\n",
    "            h = v['square']['ymax']-v['square']['ymin']\n",
    "            if w/h > aspect_cut['max'] or w/h < aspect_cut['min']:\n",
    "                success_aspect = False\n",
    "\n",
    "    if not success_aspect:\n",
    "        print('[ERROR]: aspect ratio off')\n",
    "        # regenerate figure with new aspect ratio\n",
    "        success_titles = False\n",
    "        seed_aspect = np.random.randint(maxint)\n",
    "        rng_aspect = np.random.default_rng(seed_aspect)\n",
    "        aspect_fig = rng_aspect.uniform(low=aspect_fig_params['min'], high=aspect_fig_params['max'])\n",
    "        # redo_gen_fig = True\n",
    "        # redo_gen_plot = True\n",
    "        continue\n",
    "\n",
    "\n",
    "    # check for overlaps of x/y axis labels, tickmarks or anything outside of the figbox\n",
    "    success_axis_labels = True\n",
    "    success_title_label = True\n",
    "    for k,v in datas.items():\n",
    "        if 'plot' in k: # a plot key\n",
    "            # check if x is out of bounds\n",
    "            for axislabel in ['xlabel', 'ylabel']:\n",
    "                if v[axislabel]['xmin'] < 0 or v[axislabel]['xmax'] > width or \\\n",
    "                    v[axislabel]['ymin'] < 0 or v[axislabel]['ymax'] > height:\n",
    "                    success_axis_labels = False\n",
    "            # also title\n",
    "            if 'title' in v:\n",
    "                if v['title']['xmin'] < 0 or v['title']['xmax'] > width or \\\n",
    "                    v['title']['ymin'] < 0 or v['title']['ymax'] > height:\n",
    "                    success_title_label = False\n",
    "\n",
    "        if not success_axis_labels:\n",
    "            print('[ERROR]: x/y axis off page, making smaller...')\n",
    "            print('   x/y axis labels:', xlabels_pull, ylabels_pull)\n",
    "            xlabel_fontsize, ylabel_fontsize, err = get_new_xylabels(xlabel_fontsize, ylabel_fontsize, rng, \n",
    "                                                                                fontsize_min = fontsize_min)\n",
    "            # regenerate x/y titles if fontsize too small\n",
    "            success_titles = False\n",
    "            # redo_gen_fig = True\n",
    "            # redo_gen_plot = True\n",
    "            if err: # regenerate labels\n",
    "                #print(\"HERE\")\n",
    "                xlabels_pull = deepcopy(popular_nouns)\n",
    "                ylabels_pull = deepcopy(popular_nouns)\n",
    "                # reset RNG for labels\n",
    "                seed_titles = np.random.randint(maxint)\n",
    "                rng_titles = np.random.default_rng(seed_titles)\n",
    "                #redo_gen_axis_labels = True\n",
    "                #break # I think...\n",
    "            else:\n",
    "                print('   new fontsizes (x,y):', xlabel_fontsize, ylabel_fontsize)\n",
    "\n",
    "        if not success_axis_labels and err:\n",
    "            continue\n",
    "\n",
    "\n",
    "        if not success_title_label:\n",
    "            print('[ERROR]: title axis off page, making smaller...')\n",
    "            # print('   title:', titles_pull)\n",
    "            # print('   width,height:', width, height)\n",
    "            # print('   title xmin,ymin,xmax,ymax:', datas['plot0']['title'])\n",
    "            # # debug\n",
    "            # fig.savefig(fake_figs_dir + 'imgs/Picture' + str(ifigure+1) + '.png', dpi=dpi)#, bbox_inches='tight')\n",
    "            # img_diag = np.array(Image.open(fake_figs_dir + 'imgs/Picture' + str(ifigure+1) + '.png').convert('RGB'))\n",
    "            # imgplot = add_annotations(img_diag, img_diag, deepcopy(datas))  \n",
    "            # plt.imshow(imgplot)\n",
    "            # import sys; sys.exit()\n",
    "            title_fontsize, err = get_new_title(title_fontsize, rng, \n",
    "                                                fontsize_min=fontsize_min)\n",
    "            # regenerate titles if fontsize too small\n",
    "            success_titles = False\n",
    "            # redo_gen_fig = True\n",
    "            # redo_gen_plot = True\n",
    "            if err:\n",
    "                #redo_gen_titles = True\n",
    "                #print(\"HERE2\")\n",
    "                titles_pull = deepcopy(popular_nouns)\n",
    "                # reset RNG for labels\n",
    "                seed_titles = np.random.randint(maxint)\n",
    "                rng_titles = np.random.default_rng(seed_titles)\n",
    "            else:\n",
    "                print('   new fontsize:', title_fontsize)\n",
    "\n",
    "            #break # I think...            \n",
    "\n",
    "\n",
    "    if not success_title_label or not success_axis_labels:\n",
    "        continue\n",
    "            \n",
    "\n",
    "    # now check overlapping boxes\n",
    "    # first make boxes\n",
    "    boxes_check = []\n",
    "    success_boxes = True\n",
    "    for k,v in datas.items():\n",
    "        if 'plot' in k: # a plot key\n",
    "            # square!\n",
    "            boxes_check.append(([v['square']['xmin'], v['square']['ymin'], \n",
    "                                        v['square']['xmax'], v['square']['ymax']], 'square'))\n",
    "            if 'title' in v:\n",
    "                boxes_check.append( ([v['title']['xmin'], v['title']['ymin'], \n",
    "                                        v['title']['xmax'], v['title']['ymax']], 'title') )\n",
    "            # xlabel\n",
    "            boxes_check.append( ([v['xlabel']['xmin'], v['xlabel']['ymin'], \n",
    "                                        v['xlabel']['xmax'], v['xlabel']['ymax']], 'xlabel') )\n",
    "            # ylabel\n",
    "            boxes_check.append( ([v['ylabel']['xmin'], v['ylabel']['ymin'], \n",
    "                                        v['ylabel']['xmax'], v['ylabel']['ymax']],'ylabel')  )\n",
    "            # x/yticks\n",
    "            for t in ['x','y']:\n",
    "                for tick in v[t+'ticks']:\n",
    "                    # ignore things that are outside square\n",
    "                    if tick['tx'] < v['square']['xmin']-grace_ticks or tick['tx'] > v['square']['xmax']+grace_ticks or \\\n",
    "                      tick['ty'] < v['square']['ymin']-grace_ticks or tick['ty'] > v['square']['ymax']+grace_ticks:\n",
    "                        continue\n",
    "                    boxes_check.append( ([tick['xmin'],tick['ymin'],tick['xmax'],tick['ymax']],t+'-tick labels') )\n",
    "            # x/y offset labels\n",
    "            for t in ['x','y']:\n",
    "                if t + '-offset text' in v:\n",
    "                    tick = v[t + '-offset text']\n",
    "                    boxes_check.append( ([tick['xmin'],tick['ymin'],tick['xmax'],tick['ymax']],t+'-offset text') )\n",
    "\n",
    "            # if colorbar, add this\n",
    "            if 'color bar' in v:\n",
    "                boxes_check.append(([v['color bar']['xmin'], v['color bar']['ymin'], \n",
    "                                        v['color bar']['xmax'], v['color bar']['ymax']],'colorbar'))\n",
    "                # also check for label\n",
    "                if 'label' in v['color bar']:\n",
    "                    xmin = v['color bar']['label']['xmin']\n",
    "                    ymin = v['color bar']['label']['ymin']\n",
    "                    xmax = v['color bar']['label']['xmax']\n",
    "                    ymax = v['color bar']['label']['ymax']\n",
    "                    boxes_check.append(([xmin,ymin,xmax,ymax],'colorbar label'))\n",
    "                # and offset text\n",
    "                if 'offset text' in v['color bar']:\n",
    "                    xmin = v['color bar']['offset text']['xmin']\n",
    "                    ymin = v['color bar']['offset text']['ymin']\n",
    "                    xmax = v['color bar']['offset text']['xmax']\n",
    "                    ymax = v['color bar']['offset text']['ymax']\n",
    "                    boxes_check.append(([xmin,ymin,xmax,ymax],'colorbar offset text'))\n",
    "                    \n",
    "            # colorbar ticks\n",
    "            if 'color bar ticks' in v:\n",
    "                for tick in v['color bar ticks']:\n",
    "                    boxes_check.append( ([tick['xmin'],tick['ymin'],tick['xmax'],tick['ymax']], 'colorbar tick') )\n",
    "\n",
    "    # now run and check all boxes -- look for overlap of all boxes\n",
    "    names_overlap = []\n",
    "    for ib1,(box1,name1) in enumerate(boxes_check):\n",
    "        for ib2,(box2,name2) in enumerate(boxes_check):\n",
    "            if ib1 != ib2: # ib1 < ib2?\n",
    "                if isRectangleOverlap( box1, box2 ):\n",
    "                    names_overlap.append( (name1, name2) )\n",
    "                    success_boxes = False\n",
    "\n",
    "\n",
    "    # for diagnostics! -- move to after success of fig!\n",
    "    fig.savefig(fake_figs_dir + 'imgs/Picture' + str(ifigure+1) + '.png', dpi=dpi)#, bbox_inches='tight')\n",
    "    print('saved:', fake_figs_dir + 'imgs/Picture' + str(ifigure+1) + '.png')\n",
    "\n",
    "    # check if issue opening plot\n",
    "    e = ''\n",
    "    try:\n",
    "        img = np.array(Image.open(fake_figs_dir + 'imgs/Picture' + str(ifigure+1) + '.png'))\n",
    "    except Exception as e:\n",
    "        success_titles = False\n",
    "        # redo_gen_fig = True\n",
    "        # redo_gen_plot = True\n",
    "        if verbose: \n",
    "            print('[ERROR]: Issue with opening image!')\n",
    "            if str(e) != '': print('Full error:', str(e))\n",
    "\n",
    "\n",
    "    img_diag = np.array(Image.open(fake_figs_dir + 'imgs/Picture' + str(ifigure+1) + '.png').convert('RGB'))\n",
    "    imgplot = add_annotations(img_diag, img_diag, deepcopy(datas))            \n",
    "\n",
    "    if not success_boxes: # check who overlaps with who\n",
    "        print('[ERROR]: overlapping boxes!')\n",
    "        # figure out what to do for each box\n",
    "        # get unique overlaps\n",
    "        s1 = np.unique(names_overlap, axis=0)\n",
    "        # sort\n",
    "        s2 = np.unique(np.sort(s1, axis=1),axis=0)\n",
    "\n",
    "        plt.imshow(imgplot)\n",
    "        import sys; sys.exit()\n",
    "\n",
    "        ######## check boxes ##########\n",
    "        reset_fonts = False\n",
    "        for b1,b2 in s2:\n",
    "            # for ticks overlapping with things\n",
    "            if 'tick' in b1 and 'tick' in b2: # overlapping ticks, smallen\n",
    "                xlabel_ticks_fontsize -= 1\n",
    "                ylabel_ticks_fontsize -= 1\n",
    "                success_titles = False\n",
    "                break\n",
    "            elif ( ('tick' in b1) and ('tick' not in b2) and  ('xlabel' in b2) ) or ( ('tick' in b2) and ('tick' not in b1) and  ('xlabel' in b1) ): # xlabel cross over\n",
    "                if xlabel_fontsize > xlabel_ticks_fontsize: # axis label still bigger\n",
    "                    xlabel_ticks_fontsize -= 1\n",
    "                    ylabel_ticks_fontsize -= 1\n",
    "                else:\n",
    "                    xlabel_fontsize -= 1\n",
    "                success_titles = False\n",
    "                break            \n",
    "            elif ( ('tick' in b1) and ('tick' not in b2) and  ('ylabel' in b2) ) or ( ('tick' in b2) and ('tick' not in b1) and  ('ylabel' in b1) ): # ylabel cross over\n",
    "                if ylabel_fontsize > ylabel_ticks_fontsize: # axis label still bigger\n",
    "                    xlabel_ticks_fontsize -= 1\n",
    "                    ylabel_ticks_fontsize -= 1\n",
    "                else:\n",
    "                    ylabel_fontsize -= 1\n",
    "                success_titles = False\n",
    "                break   \n",
    "            elif ( ('tick' in b1) and ('tick' not in b2) and  ('title' in b2) ) or ( ('tick' in b2) and ('tick' not in b1) and  ('title' in b1) ): # title cross over\n",
    "                if title_fontsize > ylabel_ticks_fontsize or title_fontsize > xlabel_ticks_fontsize: # axis label still bigger\n",
    "                    xlabel_ticks_fontsize -= 1\n",
    "                    ylabel_ticks_fontsize -= 1\n",
    "                else:\n",
    "                    title_fontsize -= 1\n",
    "                success_titles = False\n",
    "                break   \n",
    "            elif ( ('xlabel' in b1) or ('xlabel' in b2) or ('ylabel' in b1) or ('ylabel' in b2) ): # overlap\n",
    "                ylabel_fontsize -= 1\n",
    "                xlabel_fontsize -= 1\n",
    "                success_titles = False\n",
    "                break\n",
    "            elif ('title' in b1) or ('title' in b2):\n",
    "                title_fontsize -= 1\n",
    "                success_titles = False\n",
    "                break\n",
    "            else: # no idea!\n",
    "                reset_fonts = True\n",
    "\n",
    "        # full rest of fonts\n",
    "        for fs in [xlabel_fontsize, ylabel_fontsize, ylabel_ticks_fontsize, xlabel_ticks_fontsize, title_fontsize]:\n",
    "            if fs < fontsize_min:\n",
    "                reset_fonts = True    \n",
    "\n",
    "        if reset_fonts:\n",
    "            xlabels_pull = deepcopy(popular_nouns)\n",
    "            ylabels_pull = deepcopy(popular_nouns)\n",
    "            titles_pull = deepcopy(popular_nouns)\n",
    "            # reset RNG for labels\n",
    "            seed_titles = np.random.randint(maxint)\n",
    "            rng_titles = np.random.default_rng(seed_titles)\n",
    "\n",
    "        continue # back to top\n",
    "\n",
    "\n",
    "        #plt.imshow(imgplot)\n",
    "        #names_overlap = np.unique(names_overlap)\n",
    "        #import sys; sys.exit()\n",
    "\n",
    "    success_plot = True # hurray if we've made it this far!\n",
    "    # if all went well, reset seed\n",
    "    seed = np.random.randint(maxint)\n",
    "    #rng = np.random.default_rng(seed)\n",
    "\n",
    "    print('SUCCESS')\n",
    "    plt.close(fig)\n",
    "    #import sys; sys.exit()\n",
    "    # dump full data\n",
    "    dumped = json.dumps(datas, cls=NumpyEncoder)\n",
    "    with open(fake_figs_dir + 'jsons/Picture' + str(ifigure+1) + '_fullData.json', 'w') as f:\n",
    "        json.dump(dumped, f)\n",
    "\n",
    "        # HERE -- check for overlapping boxes of:\n",
    "        # x/y axis labels -- make smaller or pull new ones\n",
    "        # title -- make smaller or pull new ones\n",
    "        # square -- might not have to worry about this one? or if flagged, then make smaller the thing (title, etc) ?\n",
    "        # x/y tick marks -- if x/y tick marks overlap -- try making them smaller, but if continue to overlap, redo whole plot -- redo_gen_fig = True & repull fonts\n",
    "\n",
    "if success_plot:\n",
    "    print('DONE MAKING PLOT!')\n",
    "else:\n",
    "    print(\"--- maxed out tries, plot failed ---\")"
   ]
  },
  {
   "cell_type": "code",
   "execution_count": 344,
   "id": "183a2c03",
   "metadata": {},
   "outputs": [
    {
     "data": {
      "text/plain": [
       "False"
      ]
     },
     "execution_count": 344,
     "metadata": {},
     "output_type": "execute_result"
    }
   ],
   "source": [
    "success_aspect"
   ]
  },
  {
   "cell_type": "code",
   "execution_count": null,
   "id": "1667eb5e",
   "metadata": {},
   "outputs": [],
   "source": []
  },
  {
   "cell_type": "code",
   "execution_count": null,
   "id": "1ddb08d2",
   "metadata": {},
   "outputs": [],
   "source": []
  },
  {
   "cell_type": "code",
   "execution_count": 336,
   "id": "bbf43764",
   "metadata": {},
   "outputs": [
    {
     "data": {
      "text/plain": [
       "{'xmin': 121.98343376161458,\n",
       " 'ymin': 26.550000000000004,\n",
       " 'xmax': 216.60843376161458,\n",
       " 'ymax': 57.550000000000004,\n",
       " 'words': 'Boxes'}"
      ]
     },
     "execution_count": 336,
     "metadata": {},
     "output_type": "execute_result"
    }
   ],
   "source": [
    "datas['plot0']['xlabel']"
   ]
  },
  {
   "cell_type": "code",
   "execution_count": 337,
   "id": "a4c1c8a0",
   "metadata": {},
   "outputs": [
    {
     "data": {
      "text/plain": [
       "{'xmin': 149.4710833568702,\n",
       " 'ymin': 120.59166666666667,\n",
       " 'xmax': 188.28339028434837,\n",
       " 'ymax': 281.70000000000005}"
      ]
     },
     "execution_count": 337,
     "metadata": {},
     "output_type": "execute_result"
    }
   ],
   "source": [
    "datas['plot0']['square']"
   ]
  },
  {
   "cell_type": "code",
   "execution_count": 338,
   "id": "7f4eda62",
   "metadata": {},
   "outputs": [
    {
     "data": {
      "text/plain": [
       "array([['x-tick labels', 'y-tick labels']], dtype='<U13')"
      ]
     },
     "execution_count": 338,
     "metadata": {},
     "output_type": "execute_result"
    }
   ],
   "source": [
    "s2"
   ]
  },
  {
   "cell_type": "code",
   "execution_count": null,
   "id": "45563e03",
   "metadata": {},
   "outputs": [],
   "source": []
  },
  {
   "cell_type": "code",
   "execution_count": 339,
   "id": "b3c01f63",
   "metadata": {},
   "outputs": [
    {
     "name": "stdout",
     "output_type": "stream",
     "text": [
      "h0\n"
     ]
    }
   ],
   "source": [
    "reset_fonts = False\n",
    "for b1,b2 in s2:\n",
    "    # for ticks overlapping with things\n",
    "    if 'tick' in b1 and 'tick' in b2: # overlapping ticks, smallen\n",
    "        print('h0')\n",
    "        #xlabel_ticks_fontsize -= 1\n",
    "        #ylabel_ticks_fontsize -= 1\n",
    "        success_titles = False\n",
    "        break\n",
    "    elif ( ('tick' in b1) and ('tick' not in b2) and  ('xlabel' in b2) ) or ( ('tick' in b2) and ('tick' not in b1) and  ('xlabel' in b1) ): # xlabel cross over\n",
    "        if xlabel_fontsize > xlabel_ticks_fontsize: # axis label still bigger\n",
    "            print('h1')\n",
    "            #import sys; sys.exit()\n",
    "            #xlabel_ticks_fontsize -= 1\n",
    "            #ylabel_ticks_fontsize -= 1\n",
    "        else:\n",
    "            print('h2')\n",
    "            #import sys; sys.exit()\n",
    "            #xlabel_fontsize -= 1\n",
    "        success_titles = False\n",
    "        break            \n",
    "    elif ( ('tick' in b1) and ('tick' not in b2) and  ('ylabel' in b2) ) or ( ('tick' in b2) and ('tick' not in b1) and  ('ylabel' in b1) ): # ylabel cross over\n",
    "        if ylabel_fontsize > ylabel_ticks_fontsize: # axis label still bigger\n",
    "            print('h3')\n",
    "            #xlabel_ticks_fontsize -= 1\n",
    "            #ylabel_ticks_fontsize -= 1\n",
    "        else:\n",
    "            print('h4')\n",
    "            #ylabel_fontsize -= 1\n",
    "        success_titles = False\n",
    "        break   \n",
    "    elif ( ('tick' in b1) and ('tick' not in b2) and  ('title' in b2) ) or ( ('tick' in b2) and ('tick' not in b1) and  ('title' in b1) ): # title cross over\n",
    "        if title_fontsize > ylabel_ticks_fontsize or title_fontsize > xlabel_ticks_fontsize: # axis label still bigger\n",
    "            print('h5')\n",
    "            #xlabel_ticks_fontsize -= 1\n",
    "            #ylabel_ticks_fontsize -= 1\n",
    "        else:\n",
    "            print('h6')\n",
    "            #title_fontsize -= 1\n",
    "        success_titles = False\n",
    "        break   \n",
    "    elif ( ('xlabel' in b1) or ('xlabel' in b2) or ('ylabel' in b1) or ('ylabel' in b2) ): # overlap\n",
    "        print('h7')\n",
    "        #ylabel_fontsize -= 1\n",
    "        #xlabel_fontsize -= 1\n",
    "        success_titles = False\n",
    "        break\n",
    "    elif ('title' in b1) or ('title' in b2):\n",
    "        print('h8')\n",
    "        #title_fontsize -= 1\n",
    "        success_titles = False\n",
    "        break\n",
    "    else: # no idea!\n",
    "        print('h9')\n",
    "        reset_fonts = True\n",
    "\n",
    "# full rest of fonts\n",
    "for fs in [xlabel_fontsize, ylabel_fontsize, ylabel_ticks_fontsize, xlabel_ticks_fontsize, title_fontsize]:\n",
    "    if fs < fontsize_min:\n",
    "        reset_fonts = True    \n",
    "\n",
    "if reset_fonts:\n",
    "    xlabels_pull = deepcopy(popular_nouns)\n",
    "    ylabels_pull = deepcopy(popular_nouns)\n",
    "    titles_pull = deepcopy(popular_nouns)\n",
    "    # reset RNG for labels\n",
    "    seed_titles = np.random.randint(maxint)\n",
    "    rng_titles = np.random.default_rng(seed_titles)"
   ]
  },
  {
   "cell_type": "code",
   "execution_count": 340,
   "id": "fb85a033",
   "metadata": {},
   "outputs": [
    {
     "data": {
      "text/plain": [
       "False"
      ]
     },
     "execution_count": 340,
     "metadata": {},
     "output_type": "execute_result"
    }
   ],
   "source": [
    "reset_fonts"
   ]
  },
  {
   "cell_type": "code",
   "execution_count": 341,
   "id": "46339dab",
   "metadata": {},
   "outputs": [],
   "source": [
    "# for k,v in datas.items():\n",
    "#     if 'plot' in k: # a plot key\n",
    "#         # x/yticks\n",
    "#         for t in ['x','y']:\n",
    "#             for tick in v[t+'ticks']:\n",
    "#                 # ignore things that are outside square\n",
    "#                 if tick['tx'] < v['square']['xmin']-grace_ticks or tick['tx'] > v['square']['xmax']+grace_ticks or \\\n",
    "#                   tick['ty'] < v['square']['ymin']-grace_ticks or tick['ty'] > v['square']['ymax']+grace_ticks:\n",
    "#                     continue\n",
    "#                 boxes_check.append( ([tick['xmin'],tick['ymin'],tick['xmax'],tick['ymax']],t+'-tick labels') )"
   ]
  },
  {
   "cell_type": "code",
   "execution_count": 342,
   "id": "60d52e2f",
   "metadata": {},
   "outputs": [],
   "source": [
    "#boxes_check"
   ]
  },
  {
   "cell_type": "code",
   "execution_count": 343,
   "id": "d64b07d0",
   "metadata": {},
   "outputs": [
    {
     "data": {
      "text/plain": [
       "{'xmin': 149.4710833568702,\n",
       " 'ymin': 120.59166666666667,\n",
       " 'xmax': 188.28339028434837,\n",
       " 'ymax': 281.70000000000005}"
      ]
     },
     "execution_count": 343,
     "metadata": {},
     "output_type": "execute_result"
    }
   ],
   "source": [
    "v['square']"
   ]
  },
  {
   "cell_type": "code",
   "execution_count": null,
   "id": "e884794f",
   "metadata": {},
   "outputs": [],
   "source": []
  }
 ],
 "metadata": {
  "kernelspec": {
   "display_name": "JCDL2025",
   "language": "python",
   "name": "python3"
  },
  "language_info": {
   "codemirror_mode": {
    "name": "ipython",
    "version": 3
   },
   "file_extension": ".py",
   "mimetype": "text/x-python",
   "name": "python",
   "nbconvert_exporter": "python",
   "pygments_lexer": "ipython3",
   "version": "3.12.11"
  }
 },
 "nbformat": 4,
 "nbformat_minor": 5
}
