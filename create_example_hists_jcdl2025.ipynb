{
 "cells": [
  {
   "cell_type": "code",
   "execution_count": null,
   "id": "a384e543",
   "metadata": {},
   "outputs": [],
   "source": [
    "# save files\n",
    "fullproc_r = './resources/' # for words/names\n",
    "\n",
    "# where to save the figures that are created\n",
    "#fake_figs_dir = './example_hists/' # saving in github only for small numbers\n",
    "# stop overwriting what is there\n",
    "fake_figs_dir = '/Users/jnaiman/Downloads/tmp/JCDL2025/example_hists/'\n",
    "#fake_figs_dir = '/Users/jnaiman/LLM_VQA_JCDL2025/example_hists/fewshot/' # for fewshot learning\n",
    "\n",
    "\n",
    "# format for saving images?\n",
    "#img_format = ['pdf','jpeg']\n",
    "img_format = ['jpeg']\n",
    "\n",
    "# save diagnostic plot with all items labeled?\n",
    "save_diagnostic_plot = True\n",
    "\n",
    "# randomize names?\n",
    "randomize_names = True"
   ]
  },
  {
   "cell_type": "code",
   "execution_count": 99,
   "id": "82acb676",
   "metadata": {},
   "outputs": [],
   "source": [
    "import numpy as np\n",
    "import matplotlib.pyplot as plt\n",
    "from PIL import Image\n",
    "import cv2 as cv\n",
    "import pickle\n",
    "import pandas as pd\n",
    "#import string\n",
    "from glob import glob\n",
    "from mpl_toolkits.axes_grid1 import make_axes_locatable\n",
    "from PIL import ImageColor\n",
    "import json\n",
    "import os\n",
    "from copy import deepcopy\n",
    "import copy\n",
    "\n",
    "from utils.metric_utils.utilities import isRectangleOverlap\n",
    "\n",
    "import time\n",
    "\n",
    "import matplotlib as mpl\n",
    "import os\n",
    "os.environ[\"PATH\"] += os.pathsep + '/Library/TeX/texbin'\n",
    "mpl.rcParams['text.usetex'] = True\n",
    "mpl.rcParams['text.latex.preamble'] = r'\\usepackage{amsmath} \\usepackage{amssymb}' #for \\text command\n",
    "\n",
    "# written libs -- will update locally\n",
    "from utils.synthetic_fig_utils import subset_by_percent, \\\n",
    " get_nrows_and_ncols, normalize_params_prob, get_ticks, get_titles_or_labels, \\\n",
    " get_font_info\n",
    "\n",
    "from utils.plot_utils import get_contour_plot, get_histogram_plot, \\\n",
    "   get_line_plot, get_scatter_plot, make_plot, colorbar_mods#, get_line_plot\n",
    "\n",
    "from utils.text_utils import get_popular_nouns, get_inline_math\n",
    "\n",
    "# create a bunch of fake figures\n",
    "from utils.synthetic_fig_utils import normalize_params_prob\n",
    "from utils.plot_parameters import plot_types_params, panel_params, \\\n",
    "  title_params, xlabel_params, colorbar_params, \\\n",
    "  ylabel_params, aspect_fig_params, dpi_params, tight_layout_params, \\\n",
    "  fontsizes, base\n",
    "\n",
    "from utils.data_utils import get_data, NumpyEncoder\n",
    "import numpy as np\n",
    "\n",
    "import utils.distribution_utils\n",
    "\n",
    "from utils.plot_utils import markers, make_base_plot\n",
    "marker_sizes = np.arange(0,10)+1\n",
    "line_list_thick = np.arange(1,10)\n",
    "\n",
    "use_uniques = True # use unique inlines\n",
    "verbose = True\n",
    "\n",
    "from sys import path\n",
    "path.append('/Library/TeX/texbin/')\n",
    "\n",
    "# debug\n",
    "from importlib import reload\n",
    "\n",
    "# for seed\n",
    "from sys import maxsize as maxint\n",
    "\n",
    "import warnings\n",
    "warnings.filterwarnings(\"error\")"
   ]
  },
  {
   "cell_type": "code",
   "execution_count": 100,
   "id": "4d785d10",
   "metadata": {},
   "outputs": [],
   "source": [
    "# check directories\n",
    "img_dir = fake_figs_dir + '/imgs/'\n",
    "if not os.path.exists(img_dir):\n",
    "    os.mkdir(img_dir)\n",
    "    print('made:', img_dir)\n",
    "json_dir = fake_figs_dir + '/jsons/'\n",
    "if not os.path.exists(json_dir):\n",
    "    os.mkdir(json_dir)\n",
    "    print('made:', json_dir)"
   ]
  },
  {
   "cell_type": "code",
   "execution_count": 101,
   "id": "b066179c",
   "metadata": {},
   "outputs": [],
   "source": [
    "# get fonts -- see \"cnn_create_synthetic_ticks\" in FullProcess\n",
    "dfont = pd.read_csv(fullproc_r + 'fonts.csv')\n",
    "\n",
    "# check that location is there\n",
    "drop_names = []\n",
    "for fl in dfont['font location']:\n",
    "    if not os.path.exists(fl):\n",
    "        drop_names.append(False)\n",
    "    else:\n",
    "        drop_names.append(True)\n",
    "\n",
    "font_names = dfont.loc[drop_names]['font name'].values\n",
    "\n",
    "# # for plot styles\n",
    "# plot_styles = plt.style.available\n",
    "\n",
    "# plot_types_qa = ['line', 'scatter', 'histogram']\n",
    "\n",
    "plot_styles = ['default']"
   ]
  },
  {
   "cell_type": "code",
   "execution_count": 102,
   "id": "52bbd3e2",
   "metadata": {},
   "outputs": [],
   "source": [
    "# stats for doing calculations\n",
    "stats = {'minimum':np.min, 'maximum':np.max, 'median':np.median, 'mean':np.mean}\n",
    "\n",
    "# some things to try\n",
    "aspect_cut = {'min':0.3, 'max':4.0}"
   ]
  },
  {
   "cell_type": "code",
   "execution_count": null,
   "id": "9f0dc2a5",
   "metadata": {},
   "outputs": [
    {
     "name": "stdout",
     "output_type": "stream",
     "text": [
      "16254 343520\n",
      "shape of output= (5098, 5)\n",
      "shape of output= (36335, 5)\n",
      "number of inlines =  33201\n"
     ]
    }
   ],
   "source": [
    "# XYZ -- IS THIS USED NOW??\n",
    "# get popular words for titles/axis\n",
    "popular_nouns = get_popular_nouns(fullproc_r + 'data/')\n",
    "\n",
    "# get inline math formulas\n",
    "inlines = get_inline_math(fullproc_r,\n",
    "                          recreate_inlines=False,\n",
    "                         use_uniques=use_uniques)"
   ]
  },
  {
   "cell_type": "markdown",
   "id": "3949dc13",
   "metadata": {},
   "source": [
    "## Update plotting params"
   ]
  },
  {
   "cell_type": "markdown",
   "id": "05193107",
   "metadata": {},
   "source": [
    "### Plot type params"
   ]
  },
  {
   "cell_type": "code",
   "execution_count": 104,
   "id": "c1be6ee7",
   "metadata": {},
   "outputs": [],
   "source": [
    "plot_params = plot_types_params.copy()"
   ]
  },
  {
   "cell_type": "code",
   "execution_count": 105,
   "id": "5a9fe905",
   "metadata": {},
   "outputs": [],
   "source": [
    "# prob for getting a histogram\n",
    "plot_params['histogram']['prob'] = 1\n",
    "\n",
    "# probability of getting a scatter plot\n",
    "plot_params['scatter']['prob'] = 0\n",
    "# probability of getting a line\n",
    "plot_params['line']['prob'] = 0\n",
    "# prob of getting a contour plot\n",
    "plot_params['contour']['prob'] = 0"
   ]
  },
  {
   "cell_type": "code",
   "execution_count": 106,
   "id": "2d767f07",
   "metadata": {},
   "outputs": [],
   "source": [
    "linestyles_hist = ['-'] # only use a subset of the linestyles\n",
    "\n",
    "plot_params['histogram'] = plot_params['histogram'].copy()\n",
    "\n",
    "# no horizontal plots\n",
    "plot_params['histogram']['horizontal prob'] = 0.0\n",
    "\n",
    "# random distributions\n",
    "plot_params['histogram']['distribution']['random']['prob'] = 0\n",
    "\n",
    "# gaussian mixture model\n",
    "plot_params['histogram']['distribution']['gmm']['prob'] = 1\n",
    "plot_params['histogram']['distribution']['gmm']['nclusters'] = {'min': 1, 'max': 5}\n",
    "plot_params['histogram']['distribution']['gmm']['nsamples'] = {'min': 10, 'max': 50}\n",
    "\n",
    "# linear distributions prob\n",
    "plot_params['histogram']['distribution']['linear']['prob'] = 1"
   ]
  },
  {
   "cell_type": "markdown",
   "id": "b958d73a-fd58-46b5-9af3-b91cda577b56",
   "metadata": {},
   "source": [
    "### Other parameters"
   ]
  },
  {
   "cell_type": "code",
   "execution_count": 107,
   "id": "8b36fa32-a85d-4dbe-a4f5-bf0be3685094",
   "metadata": {},
   "outputs": [],
   "source": [
    "# for ease of things, lets not do equations here\n",
    "title_params['equation']['prob'] = 0.0 # probability any word will be equation\n",
    "xlabel_params['equation']['prob'] = 0.0 # probability any word will be equation\n",
    "ylabel_params['equation']['prob'] = 0.0 # probability any word will be equation"
   ]
  },
  {
   "cell_type": "markdown",
   "id": "2fae2d31-cdf8-4fde-9302-5f91d9767a7c",
   "metadata": {},
   "source": [
    "Renormalize all probabilities:"
   ]
  },
  {
   "cell_type": "code",
   "execution_count": 108,
   "id": "a1cd495c-be76-4d40-bc74-86e5efecf417",
   "metadata": {},
   "outputs": [
    {
     "name": "stdout",
     "output_type": "stream",
     "text": [
      "plot_types_params['histogram']['distribution'] probabilities did not add to 1! total = 2\n",
      "renormalizing...\n",
      "now:  [0.0, 0.5, 0.5]\n"
     ]
    },
    {
     "data": {
      "text/plain": [
       "{'line': {'prob': 0,\n",
       "  'npoints': {'min': 10, 'max': 11},\n",
       "  'line thick': {'min': 1, 'max': 5},\n",
       "  'nlines': {'min': 2, 'max': 3},\n",
       "  'xmin': -10000,\n",
       "  'xmax': 10000,\n",
       "  'ymin': -10000,\n",
       "  'ymax': 10000,\n",
       "  'prob same x': 0.1,\n",
       "  'markers': {'prob': 0.5, 'size': {'min': 1, 'max': 20}},\n",
       "  'error bars': {'elinewidth': {'min': 1, 'max': 5},\n",
       "   'x': {'prob': 0.25, 'size': {'min': 0.01, 'max': 0.1}},\n",
       "   'y': {'prob': 0.25, 'size': {'min': 0.01, 'max': 0.1}}},\n",
       "  'distribution': {'random': {'prob': 0.3333333333333333},\n",
       "   'linear': {'prob': 0.3333333333333333,\n",
       "    'intersect': (-100, 100),\n",
       "    'slope': (-5, 5),\n",
       "    'noise': (0, 0.25)},\n",
       "   'gmm': {'prob': 0.3333333333333333,\n",
       "    'histogram as line': {'prob': 0.25, 'factor': 1000},\n",
       "    'nclusters': {'min': 1, 'max': 20},\n",
       "    'nsamples': {'min': 10, 'max': 500},\n",
       "    'cluster std': {'min': -2, 'max': 0.5},\n",
       "    'noise': {'min': 0.05, 'max': 0.25}}}},\n",
       " 'histogram': {'prob': 1,\n",
       "  'npoints': {'min': 10, 'max': 10000},\n",
       "  'nbins': {'min': 1, 'max': 100},\n",
       "  'rwidth': {'min': 0.2, 'max': 1.0},\n",
       "  'line thick': {'prob': 0.5, 'min': 1, 'max': 5},\n",
       "  'nlines': {'min': 2, 'max': 3},\n",
       "  'xmin': -10000,\n",
       "  'xmax': 10000,\n",
       "  'error bars': {'elinewidth': {'min': 1, 'max': 5},\n",
       "   'x': {'prob': 1, 'size': {'min': 0.01, 'max': 0.1}}},\n",
       "  'horizontal prob': 0.0,\n",
       "  'distribution': {'random': {'prob': 0.0},\n",
       "   'linear': {'prob': 0.5,\n",
       "    'intersect': (-100, 100),\n",
       "    'slope': (-5, 5),\n",
       "    'noise': (0, 0.25)},\n",
       "   'gmm': {'prob': 0.5,\n",
       "    'xmin': -10000,\n",
       "    'xmax': 10000,\n",
       "    'ymin': -10000,\n",
       "    'ymax': 10000,\n",
       "    'nclusters': {'min': 1, 'max': 5},\n",
       "    'nsamples': {'min': 10, 'max': 50},\n",
       "    'cluster std': {'min': -2, 'max': 0.0},\n",
       "    'noise': {'min': 0.05, 'max': 0.1}}}},\n",
       " 'scatter': {'prob': 0,\n",
       "  'npoints': {'min': 10, 'max': 100},\n",
       "  'markers': {'size': {'min': 1, 'max': 30}},\n",
       "  'colors': {'min': -100, 'max': 100},\n",
       "  'colormap scatter': {'prob': 0.95},\n",
       "  'color bar': {'location probs': {'right': 0.5882352941176471,\n",
       "    'left': 0.05882352941176471,\n",
       "    'top': 0.29411764705882354,\n",
       "    'bottom': 0.05882352941176471},\n",
       "   'label prob': 0.5,\n",
       "   'size percent': {'min': 0.05, 'max': 0.15},\n",
       "   'pad': {'min': 0.01, 'max': 0.2}},\n",
       "  'xmin': -10000,\n",
       "  'xmax': 10000,\n",
       "  'ymin': -10000,\n",
       "  'ymax': 10000,\n",
       "  'error bars': {'elinewidth': {'min': 1, 'max': 5},\n",
       "   'x': {'prob': 0.25, 'size': {'min': 0.01, 'max': 0.1}},\n",
       "   'y': {'prob': 0.25, 'size': {'min': 0.01, 'max': 0.1}}},\n",
       "  'distribution': {'random': {'prob': 0.3333333333333333},\n",
       "   'linear': {'prob': 0.3333333333333333,\n",
       "    'intersect': (-100, 100),\n",
       "    'slope': (-5, 5),\n",
       "    'noise': (0, 0.25),\n",
       "    'color noise prob': 0.5},\n",
       "   'gmm': {'prob': 0.3333333333333333,\n",
       "    'upsample factor log': {'min': 2, 'max': 6},\n",
       "    'nclusters': {'min': 1, 'max': 5},\n",
       "    'nsamples': {'min': 1000, 'max': 50000},\n",
       "    'cluster std': {'min': -1, 'max': 0.5},\n",
       "    'noise': {'min': 0.05, 'max': 0.25},\n",
       "    'color noise prob': 0.5,\n",
       "    'max points': 200}}},\n",
       " 'contour': {'prob': 0,\n",
       "  'npoints': {'nx': {'min': 10, 'max': 500}, 'ny': {'min': 10, 'max': 500}},\n",
       "  'nlines': {'min': 3, 'max': 10},\n",
       "  'colors': {'min': -100, 'max': 100},\n",
       "  'colormap contour': {'prob': 0.95},\n",
       "  'color bar': {'location probs': {'right': 0.5882352941176471,\n",
       "    'left': 0.05882352941176471,\n",
       "    'top': 0.29411764705882354,\n",
       "    'bottom': 0.05882352941176471},\n",
       "   'label prob': 0.5,\n",
       "   'size percent': {'min': 0.05, 'max': 0.15},\n",
       "   'pad': {'min': 0.01, 'max': 0.2}},\n",
       "  'image or contour': {'prob': {'image': 0.3333333333333333,\n",
       "    'contour': 0.3333333333333333,\n",
       "    'both': 0.3333333333333333},\n",
       "   'both contours': {'prob gray': 0.95}},\n",
       "  'xmin': -10000,\n",
       "  'xmax': 10000,\n",
       "  'ymin': -10000,\n",
       "  'ymax': 10000,\n",
       "  'aspect ratio limit': 2.0,\n",
       "  'distribution': {'random': {'prob': 0.3333333333333333},\n",
       "   'linear': {'prob': 0.3333333333333333,\n",
       "    'intersect': (-100, 100),\n",
       "    'slope': (-5, 5),\n",
       "    'noise': (0, 0.25)},\n",
       "   'gmm': {'prob': 0.3333333333333333,\n",
       "    'nclusters': {'min': 1, 'max': 500},\n",
       "    'upsample factor log': {'min': 0, 'max': 0.5},\n",
       "    'cluster std': {'min': -1, 'max': 1.5},\n",
       "    'noise': {'min': 0.05, 'max': 0.25},\n",
       "    'color noise prob': 0.5}}}}"
      ]
     },
     "execution_count": 108,
     "metadata": {},
     "output_type": "execute_result"
    }
   ],
   "source": [
    "# reload for debug\n",
    "import utils.synthetic_fig_utils\n",
    "reload(utils)\n",
    "reload(utils.synthetic_fig_utils)\n",
    "from utils.synthetic_fig_utils import normalize_params_prob\n",
    "\n",
    "plot_params_out, panel_params, \\\n",
    "  title_params, xlabel_params, \\\n",
    "  ylabel_params = normalize_params_prob(plot_params.copy(), panel_params, \n",
    "                                        title_params, xlabel_params, \n",
    "                                        ylabel_params, colorbar_params)\n",
    "\n",
    "plot_params_out"
   ]
  },
  {
   "cell_type": "markdown",
   "id": "5231b45e",
   "metadata": {},
   "source": [
    "### Run the thing"
   ]
  },
  {
   "cell_type": "code",
   "execution_count": 109,
   "id": "2751985c",
   "metadata": {},
   "outputs": [
    {
     "name": "stdout",
     "output_type": "stream",
     "text": [
      "seed_outer = 6700012876856450103\n"
     ]
    }
   ],
   "source": [
    "# Set a seed if you want a reproducible thing\n",
    "seed_outer = np.random.randint(maxint)\n",
    "#seed_outer = 7526304181034464103\n",
    "seed_outer = 6700012876856450103\n",
    "\n",
    "print('seed_outer =',seed_outer)\n",
    "rng_outer = np.random.default_rng(seed_outer)"
   ]
  },
  {
   "cell_type": "code",
   "execution_count": 110,
   "id": "27aa8e6c",
   "metadata": {},
   "outputs": [
    {
     "name": "stdout",
     "output_type": "stream",
     "text": [
      "seed =  7067533564274193147\n"
     ]
    }
   ],
   "source": [
    "# \"Inner\" seed -- for things like distributions and whatnot\n",
    "seed = np.random.randint(maxint)\n",
    "#seed = 2870146871786070273\n",
    "seed = 7067533564274193147\n",
    "print('seed = ', seed)\n",
    "# based on seed, make random number generator, see: https://numpy.org/doc/2.2/reference/random/generator.html\n",
    "rng = np.random.default_rng(seed)\n",
    "condition_overlap_xticklabels = True"
   ]
  },
  {
   "cell_type": "code",
   "execution_count": 111,
   "id": "3d28ba6e",
   "metadata": {},
   "outputs": [],
   "source": [
    "# set some things to keep standard across images\n",
    "\n",
    "tight_layout = True\n",
    "\n",
    "color_map = 'Blues' #rng_outer.choice(plt.colormaps())\n",
    "\n",
    "plot_style = 'default' #rng_outer.choice(plot_styles)\n",
    "\n",
    "npanels, panel_style, nrows, ncols = 1, 'square', 1, 1 #get_nrows_and_ncols(panel_params, rng=rng_outer)\n",
    "\n",
    "aspect_fig = 0.9\n",
    "\n",
    "dpi =  300 # int(rng_outer.uniform(low=dpi_params['min'], high=dpi_params['max']))"
   ]
  },
  {
   "cell_type": "code",
   "execution_count": 112,
   "id": "4a4a2738",
   "metadata": {},
   "outputs": [],
   "source": [
    "# use the \"fixed\" RNG outer\n",
    "# get all font stuffs\n",
    "title_fontsize, colorbar_fontsize, xlabel_fontsize, ylabel_fontsize, \\\n",
    "    xlabel_ticks_fontsize, ylabel_ticks_fontsize, \\\n",
    "                        csfont = get_font_info(fontsizes, font_names, rng=rng_outer)"
   ]
  },
  {
   "cell_type": "code",
   "execution_count": null,
   "id": "2d9e0d13",
   "metadata": {},
   "outputs": [],
   "source": []
  },
  {
   "cell_type": "code",
   "execution_count": 113,
   "id": "4910eae0",
   "metadata": {},
   "outputs": [
    {
     "data": {
      "text/plain": [
       "'histogram'"
      ]
     },
     "execution_count": 113,
     "metadata": {},
     "output_type": "execute_result"
    }
   ],
   "source": [
    "choices = []; probs = []\n",
    "for k,v in plot_params_out.items():\n",
    "    choices.append(k)\n",
    "    probs.append(v['prob'])\n",
    "\n",
    "plot_type = rng.choice(choices, p=probs)\n",
    "plot_type"
   ]
  },
  {
   "cell_type": "code",
   "execution_count": 114,
   "id": "f70f1ae0",
   "metadata": {},
   "outputs": [],
   "source": [
    "distribution_type = 'gmm'\n",
    "xmin, xmax = -1, 1 # for now\n",
    "\n",
    "# now specific for *this plot*\n",
    "plot_params_here = plot_params_out.copy()\n",
    "\n",
    "plot_params_here['histogram']['xmin'] = xmin\n",
    "plot_params_here['histogram']['xmax'] = xmax\n",
    "\n",
    "plot_params_here['histogram']['distribution']['gmm']['nclusters'] = {'min': 1, 'max': 1}\n",
    "plot_params_here['histogram']['distribution']['gmm']['nsamples'] = {'min': 10000, 'max': 10000}\n",
    "#plot_params_here['histogram']['distribution']['gmm']['xmin'] = xmin # are these even used??\n",
    "#plot_params_here['histogram']['distribution']['gmm']['xmax'] = xmax # are these even used??\n",
    "\n",
    "dist_params = plot_params_here[plot_type]['distribution'] "
   ]
  },
  {
   "cell_type": "code",
   "execution_count": 115,
   "id": "1e68796f",
   "metadata": {},
   "outputs": [
    {
     "data": {
      "text/plain": [
       "{'random': {'prob': 0.0},\n",
       " 'linear': {'prob': 0.5,\n",
       "  'intersect': (-100, 100),\n",
       "  'slope': (-5, 5),\n",
       "  'noise': (0, 0.25)},\n",
       " 'gmm': {'prob': 0.5,\n",
       "  'xmin': -10000,\n",
       "  'xmax': 10000,\n",
       "  'ymin': -10000,\n",
       "  'ymax': 10000,\n",
       "  'nclusters': {'min': 1, 'max': 1},\n",
       "  'nsamples': {'min': 10000, 'max': 10000},\n",
       "  'cluster std': {'min': -2, 'max': 0.0},\n",
       "  'noise': {'min': 0.05, 'max': 0.1}}}"
      ]
     },
     "execution_count": 115,
     "metadata": {},
     "output_type": "execute_result"
    }
   ],
   "source": [
    "dist_params"
   ]
  },
  {
   "cell_type": "code",
   "execution_count": 116,
   "id": "3502e136",
   "metadata": {},
   "outputs": [
    {
     "name": "stdout",
     "output_type": "stream",
     "text": [
      "seed =  1447015714443077272\n"
     ]
    },
    {
     "data": {
      "text/plain": [
       "{'xs': array([-0.39105836, -0.46889473, -0.42954083, ..., -0.35594158,\n",
       "        -0.4412008 , -0.35393472]),\n",
       " 'ys': [],\n",
       " 'xerrs': True,\n",
       " 'data params': {'nsamples': 10000,\n",
       "  'nclusters': 1,\n",
       "  'centers': array([[-0.43094513]]),\n",
       "  'cluster_std': array([0.02843432]),\n",
       "  'noise level': 0.08931109252030045}}"
      ]
     },
     "execution_count": 116,
     "metadata": {},
     "output_type": "execute_result"
    }
   ],
   "source": [
    "import utils.distribution_utils\n",
    "import utils.data_utils\n",
    "reload(utils.distribution_utils)\n",
    "reload(utils.data_utils)\n",
    "from utils.data_utils import get_data\n",
    "import utils.plot_classes_utils\n",
    "reload(utils.plot_classes_utils)\n",
    "\n",
    "seed = np.random.randint(maxint)\n",
    "print('seed = ', seed)\n",
    "rng = np.random.default_rng(seed)\n",
    "\n",
    "data_for_plot = get_data(plot_params_here[plot_type],\n",
    "                plot_type=plot_type,\n",
    "                        distribution=distribution_type, \n",
    "                        rng=rng)\n",
    "data_for_plot"
   ]
  },
  {
   "cell_type": "code",
   "execution_count": 117,
   "id": "17320654",
   "metadata": {},
   "outputs": [
    {
     "data": {
      "text/plain": [
       "'histogram'"
      ]
     },
     "execution_count": 117,
     "metadata": {},
     "output_type": "execute_result"
    }
   ],
   "source": [
    "str(plot_type)"
   ]
  },
  {
   "cell_type": "code",
   "execution_count": 118,
   "id": "f060f6f1",
   "metadata": {},
   "outputs": [],
   "source": [
    "from utils.synthetic_fig_utils import add_titles_and_labels\n",
    "\n",
    "import utils.plot_utils\n",
    "import utils.data_utils\n",
    "import utils.plot_classes_utils\n",
    "reload(utils.plot_classes_utils)\n",
    "reload(utils.data_utils)\n",
    "reload(utils.plot_utils)\n",
    "from utils.plot_utils import make_plot, make_base_plot\n",
    "from utils.data_utils import get_data"
   ]
  },
  {
   "cell_type": "code",
   "execution_count": 119,
   "id": "3ea32095",
   "metadata": {},
   "outputs": [
    {
     "name": "stdout",
     "output_type": "stream",
     "text": [
      "figsize (w,h) = (2.666, 2)\n"
     ]
    },
    {
     "data": {
      "text/plain": [
       "<Figure size 640x480 with 0 Axes>"
      ]
     },
     "metadata": {},
     "output_type": "display_data"
    },
    {
     "data": {
      "image/png": "[encoded data removed]",
      "text/plain": [
       "<Figure size 799.8x600 with 1 Axes>"
      ]
     },
     "metadata": {},
     "output_type": "display_data"
    }
   ],
   "source": [
    "aspect_fig = 1.333\n",
    "\n",
    "fig, axes, plot_inds = make_base_plot(plot_style, color_map, dpi, nrows, ncols, aspect_fig,\n",
    "                   base=2, verbose=True, tight_layout = tight_layout)\n",
    "\n",
    "data_from_plot, ax = make_plot(plot_params_here[plot_type], data_for_plot, \n",
    "                        axes[0], plot_type=plot_type, linestyles=linestyles_hist, \n",
    "                        rng=rng, \n",
    "                        barcolor='cyan', linecolor=(0,0,0), hasErr = False, lthick=1, nbins=10, rwidth=1.0)\n",
    "\n",
    "title, xlabel, ylabel = add_titles_and_labels(axes[0], 'x title', 'y axis', 'title', \n",
    "                                              title_params, csfont, title_fontsize, \n",
    "                          xlabel_params, ylabel_params, xlabel_fontsize, ylabel_fontsize,\n",
    "                          inlines, xlabel_ticks_fontsize, ylabel_ticks_fontsize,\n",
    "                          rng=rng)"
   ]
  },
  {
   "cell_type": "code",
   "execution_count": 120,
   "id": "5954119c",
   "metadata": {},
   "outputs": [
    {
     "data": {
      "text/plain": [
       "{'xs': array([-0.39105836, -0.46889473, -0.42954083, ..., -0.35594158,\n",
       "        -0.4412008 , -0.35393472]),\n",
       " 'ys': [],\n",
       " 'xerrs': True,\n",
       " 'data params': {'nsamples': 10000,\n",
       "  'nclusters': 1,\n",
       "  'centers': array([[-0.43094513]]),\n",
       "  'cluster_std': array([0.02843432]),\n",
       "  'noise level': 0.08931109252030045}}"
      ]
     },
     "execution_count": 120,
     "metadata": {},
     "output_type": "execute_result"
    }
   ],
   "source": [
    "data_for_plot"
   ]
  },
  {
   "cell_type": "code",
   "execution_count": 121,
   "id": "a15798db",
   "metadata": {},
   "outputs": [
    {
     "data": {
      "text/plain": [
       "{'data': (array([   5.,   47.,  325., 1227., 2749., 2969., 1907.,  624.,  134.,\n",
       "           13.]),\n",
       "  array([-0.62722573, -0.58961847, -0.55201121, -0.51440396, -0.4767967 ,\n",
       "         -0.43918945, -0.40158219, -0.36397494, -0.32636768, -0.28876043,\n",
       "         -0.25115317]),\n",
       "  <BarContainer object of 10 artists>),\n",
       " 'plot params': {'linethick': 1,\n",
       "  'linestyles': '-',\n",
       "  'bar color': 'cyan',\n",
       "  'edge color': [array([0, 0, 0])],\n",
       "  'orientation': 'vertical',\n",
       "  'rwidth': 1.0,\n",
       "  'nbins': 10}}"
      ]
     },
     "execution_count": 121,
     "metadata": {},
     "output_type": "execute_result"
    }
   ],
   "source": [
    "data_from_plot"
   ]
  },
  {
   "cell_type": "markdown",
   "id": "c78a47fc",
   "metadata": {},
   "source": [
    "Loop for several distributions and save:"
   ]
  },
  {
   "cell_type": "code",
   "execution_count": 122,
   "id": "6de0aa77",
   "metadata": {},
   "outputs": [],
   "source": [
    "import utils.histogram_plot_qa_utils\n",
    "reload(utils.histogram_plot_qa_utils)\n",
    "\n",
    "from utils.histogram_plot_qa_utils import q_nbars_hist_plot_plotnums, q_stats_hists, q_gmm_ngaussians_hists"
   ]
  },
  {
   "cell_type": "code",
   "execution_count": 123,
   "id": "d564a7c7",
   "metadata": {},
   "outputs": [],
   "source": [
    "import utils.synthetic_fig_utils\n",
    "reload(utils.synthetic_fig_utils)\n",
    "from utils.synthetic_fig_utils import collect_plot_data_axes"
   ]
  },
  {
   "cell_type": "code",
   "execution_count": 124,
   "id": "6fbb87b6",
   "metadata": {},
   "outputs": [],
   "source": [
    "import utils.plot_qa_utils\n",
    "reload(utils.plot_qa_utils)\n",
    "from utils.plot_qa_utils import init_qa_pairs"
   ]
  },
  {
   "cell_type": "code",
   "execution_count": null,
   "id": "b993f05b",
   "metadata": {},
   "outputs": [],
   "source": []
  },
  {
   "cell_type": "code",
   "execution_count": null,
   "id": "b21dbf12",
   "metadata": {},
   "outputs": [
    {
     "name": "stdout",
     "output_type": "stream",
     "text": [
      "QUESTION: You are a helpful assistant that can analyze images.  How many bars are there in the specified figure panel? Please format the output as a json as {\"nbars\":\"\"} for this figure panel, where the \"nbars\" value should be an integer.\n",
      "ANSWER: {'nbars': 40}\n",
      "QUESTION: You are a helpful assistant that can analyze images.  What are the minimum data values  in this figure panel?  Please format the output as a json as {\"minimum x\":\"\"} for this figure panel, where the \"minimum x\" value should be a float, calculated from the data values used to create the plot.\n",
      "ANSWER: {'minimum': {'plot0': {'minimum x': 0.13900026617122288}}}\n",
      "QUESTION: You are a helpful assistant that can analyze images.  What are the maximum data values  in this figure panel?  Please format the output as a json as {\"maximum x\":\"\"} for this figure panel, where the \"maximum x\" value should be a float, calculated from the data values used to create the plot.\n",
      "ANSWER: {'maximum': {'plot0': {'maximum x': 0.8639469354197858}}}\n",
      "QUESTION: You are a helpful assistant that can analyze images.  What are the median data values  in this figure panel?  Please format the output as a json as {\"median x\":\"\"} for this figure panel, where the \"median x\" value should be a float, calculated from the data values used to create the plot.\n",
      "ANSWER: {'median': {'plot0': {'median x': 0.7307020864971021}}}\n",
      "QUESTION: You are a helpful assistant that can analyze images.  What are the mean data values  in this figure panel?  Please format the output as a json as {\"mean x\":\"\"} for this figure panel, where the \"mean x\" value should be a float, calculated from the data values used to create the plot.\n",
      "ANSWER: {'mean': {'plot0': {'mean x': 0.7165222325275489}}}\n",
      "QUESTION: You are a helpful assistant that can analyze images.  How many gaussians were used to generate the data for the plot in the figure panel? Please format the output as a json as {\"ngaussians\":\"\"} for this figure panel, where the \"ngaussians\" value should be an integer.\n",
      "ANSWER: {'plot0': {'ngaussians': 1}}\n",
      "QUESTION: You are a helpful assistant that can analyze images.  How many bars are there in the specified figure panel? Please format the output as a json as {\"nbars\":\"\"} for this figure panel, where the \"nbars\" value should be an integer.\n",
      "ANSWER: {'nbars': 40}\n",
      "QUESTION: You are a helpful assistant that can analyze images.  What are the minimum data values  in this figure panel?  Please format the output as a json as {\"minimum x\":\"\"} for this figure panel, where the \"minimum x\" value should be a float, calculated from the data values used to create the plot.\n",
      "ANSWER: {'minimum': {'plot0': {'minimum x': -0.25218857452183635}}}\n",
      "QUESTION: You are a helpful assistant that can analyze images.  What are the maximum data values  in this figure panel?  Please format the output as a json as {\"maximum x\":\"\"} for this figure panel, where the \"maximum x\" value should be a float, calculated from the data values used to create the plot.\n",
      "ANSWER: {'maximum': {'plot0': {'maximum x': 0.1822712032072291}}}\n",
      "QUESTION: You are a helpful assistant that can analyze images.  What are the median data values  in this figure panel?  Please format the output as a json as {\"median x\":\"\"} for this figure panel, where the \"median x\" value should be a float, calculated from the data values used to create the plot.\n",
      "ANSWER: {'median': {'plot0': {'median x': 0.039898711235307145}}}\n",
      "QUESTION: You are a helpful assistant that can analyze images.  What are the mean data values  in this figure panel?  Please format the output as a json as {\"mean x\":\"\"} for this figure panel, where the \"mean x\" value should be a float, calculated from the data values used to create the plot.\n",
      "ANSWER: {'mean': {'plot0': {'mean x': 0.01273041772960662}}}\n",
      "QUESTION: You are a helpful assistant that can analyze images.  How many gaussians were used to generate the data for the plot in the figure panel? Please format the output as a json as {\"ngaussians\":\"\"} for this figure panel, where the \"ngaussians\" value should be an integer.\n",
      "ANSWER: {'plot0': {'ngaussians': 2}}\n",
      "QUESTION: You are a helpful assistant that can analyze images.  How many bars are there in the specified figure panel? Please format the output as a json as {\"nbars\":\"\"} for this figure panel, where the \"nbars\" value should be an integer.\n",
      "ANSWER: {'nbars': 40}\n",
      "QUESTION: You are a helpful assistant that can analyze images.  What are the minimum data values  in this figure panel?  Please format the output as a json as {\"minimum x\":\"\"} for this figure panel, where the \"minimum x\" value should be a float, calculated from the data values used to create the plot.\n",
      "ANSWER: {'minimum': {'plot0': {'minimum x': -0.8501624286150025}}}\n",
      "QUESTION: You are a helpful assistant that can analyze images.  What are the maximum data values  in this figure panel?  Please format the output as a json as {\"maximum x\":\"\"} for this figure panel, where the \"maximum x\" value should be a float, calculated from the data values used to create the plot.\n",
      "ANSWER: {'maximum': {'plot0': {'maximum x': -0.6015815586897361}}}\n",
      "QUESTION: You are a helpful assistant that can analyze images.  What are the median data values  in this figure panel?  Please format the output as a json as {\"median x\":\"\"} for this figure panel, where the \"median x\" value should be a float, calculated from the data values used to create the plot.\n",
      "ANSWER: {'median': {'plot0': {'median x': -0.6791605869812498}}}\n",
      "QUESTION: You are a helpful assistant that can analyze images.  What are the mean data values  in this figure panel?  Please format the output as a json as {\"mean x\":\"\"} for this figure panel, where the \"mean x\" value should be a float, calculated from the data values used to create the plot.\n",
      "ANSWER: {'mean': {'plot0': {'mean x': -0.6962450692814744}}}\n",
      "QUESTION: You are a helpful assistant that can analyze images.  How many gaussians were used to generate the data for the plot in the figure panel? Please format the output as a json as {\"ngaussians\":\"\"} for this figure panel, where the \"ngaussians\" value should be an integer.\n",
      "ANSWER: {'plot0': {'ngaussians': 5}}\n",
      "QUESTION: You are a helpful assistant that can analyze images.  How many bars are there in the specified figure panel? Please format the output as a json as {\"nbars\":\"\"} for this figure panel, where the \"nbars\" value should be an integer.\n",
      "ANSWER: {'nbars': 15}\n",
      "QUESTION: You are a helpful assistant that can analyze images.  What are the minimum data values  in this figure panel?  Please format the output as a json as {\"minimum x\":\"\"} for this figure panel, where the \"minimum x\" value should be a float, calculated from the data values used to create the plot.\n",
      "ANSWER: {'minimum': {'plot0': {'minimum x': -0.41333419490450096}}}\n",
      "QUESTION: You are a helpful assistant that can analyze images.  What are the maximum data values  in this figure panel?  Please format the output as a json as {\"maximum x\":\"\"} for this figure panel, where the \"maximum x\" value should be a float, calculated from the data values used to create the plot.\n",
      "ANSWER: {'maximum': {'plot0': {'maximum x': -0.25762598403740644}}}\n",
      "QUESTION: You are a helpful assistant that can analyze images.  What are the median data values  in this figure panel?  Please format the output as a json as {\"median x\":\"\"} for this figure panel, where the \"median x\" value should be a float, calculated from the data values used to create the plot.\n",
      "ANSWER: {'median': {'plot0': {'median x': -0.31425863931030584}}}\n",
      "QUESTION: You are a helpful assistant that can analyze images.  What are the mean data values  in this figure panel?  Please format the output as a json as {\"mean x\":\"\"} for this figure panel, where the \"mean x\" value should be a float, calculated from the data values used to create the plot.\n",
      "ANSWER: {'mean': {'plot0': {'mean x': -0.3146795463626837}}}\n",
      "QUESTION: You are a helpful assistant that can analyze images.  How many gaussians were used to generate the data for the plot in the figure panel? Please format the output as a json as {\"ngaussians\":\"\"} for this figure panel, where the \"ngaussians\" value should be an integer.\n",
      "ANSWER: {'plot0': {'ngaussians': 1}}\n",
      "QUESTION: You are a helpful assistant that can analyze images.  How many bars are there in the specified figure panel? Please format the output as a json as {\"nbars\":\"\"} for this figure panel, where the \"nbars\" value should be an integer.\n",
      "ANSWER: {'nbars': 15}\n",
      "QUESTION: You are a helpful assistant that can analyze images.  What are the minimum data values  in this figure panel?  Please format the output as a json as {\"minimum x\":\"\"} for this figure panel, where the \"minimum x\" value should be a float, calculated from the data values used to create the plot.\n",
      "ANSWER: {'minimum': {'plot0': {'minimum x': -0.16625769835132193}}}\n",
      "QUESTION: You are a helpful assistant that can analyze images.  What are the maximum data values  in this figure panel?  Please format the output as a json as {\"maximum x\":\"\"} for this figure panel, where the \"maximum x\" value should be a float, calculated from the data values used to create the plot.\n",
      "ANSWER: {'maximum': {'plot0': {'maximum x': 0.7550048727511185}}}\n",
      "QUESTION: You are a helpful assistant that can analyze images.  What are the median data values  in this figure panel?  Please format the output as a json as {\"median x\":\"\"} for this figure panel, where the \"median x\" value should be a float, calculated from the data values used to create the plot.\n",
      "ANSWER: {'median': {'plot0': {'median x': 0.21055672532854464}}}\n",
      "QUESTION: You are a helpful assistant that can analyze images.  What are the mean data values  in this figure panel?  Please format the output as a json as {\"mean x\":\"\"} for this figure panel, where the \"mean x\" value should be a float, calculated from the data values used to create the plot.\n",
      "ANSWER: {'mean': {'plot0': {'mean x': 0.3550622345703511}}}\n",
      "QUESTION: You are a helpful assistant that can analyze images.  How many gaussians were used to generate the data for the plot in the figure panel? Please format the output as a json as {\"ngaussians\":\"\"} for this figure panel, where the \"ngaussians\" value should be an integer.\n",
      "ANSWER: {'plot0': {'ngaussians': 2}}\n",
      "QUESTION: You are a helpful assistant that can analyze images.  How many bars are there in the specified figure panel? Please format the output as a json as {\"nbars\":\"\"} for this figure panel, where the \"nbars\" value should be an integer.\n",
      "ANSWER: {'nbars': 15}\n",
      "QUESTION: You are a helpful assistant that can analyze images.  What are the minimum data values  in this figure panel?  Please format the output as a json as {\"minimum x\":\"\"} for this figure panel, where the \"minimum x\" value should be a float, calculated from the data values used to create the plot.\n",
      "ANSWER: {'minimum': {'plot0': {'minimum x': -0.5875919711698757}}}\n",
      "QUESTION: You are a helpful assistant that can analyze images.  What are the maximum data values  in this figure panel?  Please format the output as a json as {\"maximum x\":\"\"} for this figure panel, where the \"maximum x\" value should be a float, calculated from the data values used to create the plot.\n",
      "ANSWER: {'maximum': {'plot0': {'maximum x': 0.15303832739754847}}}\n",
      "QUESTION: You are a helpful assistant that can analyze images.  What are the median data values  in this figure panel?  Please format the output as a json as {\"median x\":\"\"} for this figure panel, where the \"median x\" value should be a float, calculated from the data values used to create the plot.\n",
      "ANSWER: {'median': {'plot0': {'median x': -0.23898998390809867}}}\n",
      "QUESTION: You are a helpful assistant that can analyze images.  What are the mean data values  in this figure panel?  Please format the output as a json as {\"mean x\":\"\"} for this figure panel, where the \"mean x\" value should be a float, calculated from the data values used to create the plot.\n",
      "ANSWER: {'mean': {'plot0': {'mean x': -0.30565376070932}}}\n",
      "QUESTION: You are a helpful assistant that can analyze images.  How many gaussians were used to generate the data for the plot in the figure panel? Please format the output as a json as {\"ngaussians\":\"\"} for this figure panel, where the \"ngaussians\" value should be an integer.\n",
      "ANSWER: {'plot0': {'ngaussians': 3}}\n"
     ]
    },
    {
     "data": {
      "text/plain": [
       "<Figure size 640x480 with 0 Axes>"
      ]
     },
     "metadata": {},
     "output_type": "display_data"
    },
    {
     "data": {
      "image/png": "[encoded data removed]",
      "text/plain": [
       "<Figure size 799.8x600 with 1 Axes>"
      ]
     },
     "metadata": {},
     "output_type": "display_data"
    }
   ],
   "source": [
    "# Maybe different number of bars?: 10, 20, 50 – fix number of gaussians at 2\n",
    "# Maybe different number of gaussians? 1, 2, 3, 5 – fix bars at 50\n",
    "\n",
    "\n",
    "# for ID pairs\n",
    "if randomize_names:\n",
    "    id_pairs = {'ids':[], 'ncluster':[], 'nbars':[]}\n",
    "\n",
    "\n",
    "# for main run\n",
    "# nparams = [\n",
    "#     {'nb':10, 'nc':2},\n",
    "#     {'nb':20, 'nc':2},\n",
    "#     {'nb':45, 'nc':2},\n",
    "#     {'nb':60, 'nc':2}, # updated so no overlap\n",
    "#     # different set\n",
    "#     {'nb':50, 'nc':1},\n",
    "#     {'nb':50, 'nc':2}, \n",
    "#     {'nb':50, 'nc':3},\n",
    "#     {'nb':50, 'nc':5}\n",
    "# ]\n",
    "#ntrials = 10\n",
    "\n",
    "# for fewshot\n",
    "nparams = [\n",
    "    # different set\n",
    "    {'nb':40, 'nc':1},\n",
    "    {'nb':40, 'nc':2}, \n",
    "    {'nb':40, 'nc':5},\n",
    "    {'nb':15, 'nc':1},\n",
    "    {'nb':15, 'nc':2}, \n",
    "    {'nb':15, 'nc':3}\n",
    "    ]\n",
    "ntrials = 1\n",
    "\n",
    "\n",
    "\n",
    "\n",
    "cluster_std = {'min':-2, 'max':0.0} # in 10^\n",
    "\n",
    "noise = {'min': 0.05, 'max': 0.1}\n",
    "\n",
    "plot_json = []\n",
    "\n",
    "\n",
    "verbose_qa = True\n",
    "\n",
    "# check for github\n",
    "if 'LLM_VQA_JCDL2025' in fake_figs_dir and ntrials > 10:\n",
    "    print('Limiting trials for saving in github.  Change the \"fake_figs_dir\" param to a local address')\n",
    "    ntrials = 10\n",
    "\n",
    "\n",
    "# grab IDs\n",
    "ids = []\n",
    "ids_possible = np.linspace(0,len(nparams)*ntrials-1, len(nparams)*ntrials).astype('int')\n",
    "np.random.shuffle(ids_possible)\n",
    "id_count = 0\n",
    "for n in range(ntrials):\n",
    "    for nparam in nparams:\n",
    "        nclust = nparam['nc']\n",
    "        nbins = nparam['nb']\n",
    "\n",
    "        # id_here = np.random.randint(0, 9999)\n",
    "        # while id_here in ids: # make sure unique\n",
    "        #     id_here = np.random.randint(0, 9999)\n",
    "        # ids.append(id_here)\n",
    "\n",
    "        id_here = ids_possible[id_count]\n",
    "        id_count += 1\n",
    "        id_pairs['ids'].append(id_here)\n",
    "        id_pairs['ncluster'].append(nclust)\n",
    "        id_pairs['nbars'].append(nbins)\n",
    "\n",
    "        # this becomes more important when we have multiple axes and more complex plots\n",
    "        data_for_plots = []\n",
    "        plot_types = []\n",
    "        data_from_plots = []\n",
    "        titles = []; xlabels = []; ylabels = []; \n",
    "        cbars = []; cbar_labels = []; cbar_words = []; cbar_nums = []\n",
    "        end_time = time.time()\n",
    "        distribution_types = []\n",
    "        # in case axes change\n",
    "        axes_save = []; cbar_axes_save = []\n",
    "\n",
    "        plot_params_loop = plot_params_here.copy()\n",
    "        plot_params_loop['histogram']['distribution']['gmm']['nclusters'] = {'min': nclust, 'max': nclust}\n",
    "        plot_params_loop['histogram']['distribution']['gmm']['cluster std'] = cluster_std\n",
    "        plot_params_loop['histogram']['distribution']['gmm']['noise'] = noise\n",
    "        data_for_plot = get_data(plot_params_loop[plot_type],\n",
    "                        plot_type=plot_type,\n",
    "                                distribution=distribution_type, \n",
    "                                rng=rng)\n",
    "        # pltjson = {}\n",
    "        # pltjson['nclusters'] = nclust\n",
    "        # pltjson['data for plot'] = data_for_plot.copy()\n",
    "\n",
    "        # fig, axes, plot_inds = make_base_plot(plot_style, color_map, dpi, nrows, ncols, \n",
    "        #             base=2, verbose=False, tight_layout = tight_layout)\n",
    "        fig, axes, plot_inds = make_base_plot(plot_style, color_map, dpi, \n",
    "                                              nrows, ncols, aspect_fig,\n",
    "                        base=2, verbose=False, tight_layout = tight_layout)\n",
    "\n",
    "        for iplot, ax in enumerate(axes):\n",
    "            data_from_plot, ax = make_plot(plot_params_loop[plot_type], data_for_plot, \n",
    "                                    ax, plot_type=plot_type, linestyles=linestyles_hist, \n",
    "                                    rng=rng, \n",
    "                                    barcolor='cyan', linecolor=(0,0,0), hasErr = False, lthick=1, nbins=nbins, rwidth=1.0)\n",
    "            #pltjson['data from plot'] = data_from_plot.copy()\n",
    "\n",
    "            # add title/x/y labels\n",
    "            # title, xlabel, ylabel = add_titles_and_labels(ax, 'x title', 'y axis', 'title', \n",
    "            #                                     title_params, csfont, title_fontsize, \n",
    "            #                 xlabel_params, inlines, xlabel_ticks_fontsize, ylabel_ticks_fontsize,\n",
    "            #                 rng=rng)\n",
    "            title, xlabel, ylabel = add_titles_and_labels(axes[0], 'x title', 'y axis', 'title', \n",
    "                                                        title_params, csfont, title_fontsize, \n",
    "                                    xlabel_params, ylabel_params, xlabel_fontsize, ylabel_fontsize,\n",
    "                                    inlines, xlabel_ticks_fontsize, ylabel_ticks_fontsize,\n",
    "                                    rng=rng)\n",
    "\n",
    "            # save image\n",
    "            base_name = 'nclust_' + str(nclust) + '_trial' + str(n)\n",
    "            if randomize_names:\n",
    "                base_name = 'id_' + str(id_here).zfill(4)\n",
    "            for imgf in img_format:\n",
    "                fig.savefig(img_dir + base_name + '.' + imgf)\n",
    "\n",
    "            ####### SAVE DATA ########\n",
    "            # save data for parsing later -- only a single plot right now\n",
    "            data_for_plots.append(data_for_plot)\n",
    "            plot_types.append(plot_type)\n",
    "            data_from_plots.append(data_from_plot)\n",
    "            titles.append(title)\n",
    "            xlabels.append(xlabel)\n",
    "            ylabels.append(ylabel)\n",
    "            distribution_types.append(distribution_type)\n",
    "\n",
    "        fig.canvas.draw()\n",
    "        width, height = fig.canvas.get_width_height()\n",
    "        # save data\n",
    "        datas = {}\n",
    "        # figure datas\n",
    "        datas['figure'] = {'dpi':dpi, 'base':base, 'aspect ratio': aspect_fig, \n",
    "                            'nrows':nrows, 'ncols':ncols, \n",
    "                            'plot style':plot_style, \n",
    "                            'color map':color_map,\n",
    "                            'title fontsize':title_fontsize, \n",
    "                            'xlabel fontsize':xlabel_fontsize,\n",
    "                            'ylabel fontsize':ylabel_fontsize, \n",
    "                        'plot indexes':plot_inds}\n",
    "        for iplot,ax in enumerate(axes): ### XYZ, colorbar\n",
    "            # datas['plot' + str(iplot)] = collect_plot_data_axes(ax, \n",
    "            #                height, width,\n",
    "            #                data_from_plots[iplot], data_for_plots[iplot], \n",
    "            #                plot_types[iplot], titles[iplot], \n",
    "            #                xlabels[iplot], ylabels[iplot],\n",
    "            #                distribution_types[iplot], verbose=True)\n",
    "            datas['plot' + str(iplot)] = collect_plot_data_axes(ax, fig,\n",
    "                           height, width,\n",
    "                           data_from_plots[iplot], data_for_plots[iplot], \n",
    "                           plot_types[iplot], titles[iplot], \n",
    "                           xlabels[iplot], ylabels[iplot],\n",
    "                           distribution_types[iplot], verbose=True)#, \n",
    "                           #cbar_label=cbar_labels[iplot], cbar_word=cbar_words[iplot], \n",
    "                           #cbar_ax=cbar_ax)\n",
    "            \n",
    "\n",
    "        ######## GENERATE QA BASE #######\n",
    "        qa_pairs = init_qa_pairs()\n",
    "        for iplot in range(len((axes))):\n",
    "            if datas['plot'+str(iplot)]['type'] == 'histogram':\n",
    "                ############ L1 #############\n",
    "                # number of bars\n",
    "                if len(axes) > 1:\n",
    "                    qa_pairs = q_nbars_hist_plot_plotnums(datas, qa_pairs, plot_num = iplot, use_words=False, verbose=verbose_qa)\n",
    "                qa_pairs = q_nbars_hist_plot_plotnums(datas, qa_pairs, plot_num = iplot, use_words=True, verbose=verbose_qa)\n",
    "\n",
    "                ###### L2 #######\n",
    "                # stats items\n",
    "                for k,v in stats.items():\n",
    "                    if len(axes) > 1:\n",
    "                        qa_pairs = q_stats_hists(datas, qa_pairs, stat={k:v}, plot_num=iplot, use_words=False, verbose=verbose_qa)\n",
    "                    qa_pairs = q_stats_hists(datas, qa_pairs, stat={k:v}, plot_num=iplot, use_words=True, verbose=verbose_qa)\n",
    "\n",
    "                ###### L3 ######\n",
    "                # if GMM -- how many gaussians?\n",
    "                hasGMM = False\n",
    "                if 'data params' not in datas['plot'+str(iplot)]['data']:\n",
    "                    #print('Not a gmm relationship!')\n",
    "                    pass\n",
    "                else:\n",
    "                    if datas['plot'+str(iplot)]['distribution'] == 'gmm':\n",
    "                        hasGMM = True\n",
    "                if hasGMM:       \n",
    "                    qa_pairs = q_gmm_ngaussians_hists(datas, qa_pairs, plot_num=iplot, use_words=True, verbose=verbose_qa)\n",
    "\n",
    "        datas['VQA'] = qa_pairs\n",
    "\n",
    "\n",
    "        #import sys; sys.exit()\n",
    "\n",
    "        # dump full data\n",
    "        dumped = json.dumps(datas, cls=NumpyEncoder)\n",
    "        with open(json_dir + base_name + '.json', 'w') as f:\n",
    "            json.dump(dumped, f)\n",
    "\n",
    "        #plot_json.append(pltjson.copy())\n",
    "# save randomized file\n",
    "if randomize_names:\n",
    "    df_ids = pd.DataFrame(id_pairs)\n",
    "    df_ids.to_csv(fake_figs_dir + 'randomized_trials.csv', index=False)\n",
    "    "
   ]
  },
  {
   "cell_type": "code",
   "execution_count": 95,
   "id": "c4c42070",
   "metadata": {},
   "outputs": [
    {
     "data": {
      "text/plain": [
       "80"
      ]
     },
     "execution_count": 95,
     "metadata": {},
     "output_type": "execute_result"
    }
   ],
   "source": [
    "ids_possible = np.linspace(0,len(nparams)*ntrials-1, len(nparams)*ntrials).astype('int')\n",
    "np.random.shuffle(ids_possible)\n",
    "len(ids_possible)"
   ]
  },
  {
   "cell_type": "code",
   "execution_count": 96,
   "id": "75173cda-2b70-4b78-8495-3e45ea9e9828",
   "metadata": {},
   "outputs": [
    {
     "data": {
      "text/plain": [
       "array([18, 36, 58, 29, 67, 61, 37, 79,  5, 74, 49, 66, 23,  3,  9, 11, 72,\n",
       "       56, 42, 46, 26, 28, 16,  2, 33, 19, 40, 62, 21, 65,  6, 76, 17, 45,\n",
       "       53, 73, 71, 57,  0, 55, 64, 31, 13,  8, 32, 10, 30, 43, 20, 44, 70,\n",
       "       51, 47, 14, 77, 75, 35, 54, 15,  7, 63, 69, 38, 22, 68,  1, 25, 48,\n",
       "       24, 39,  4, 12, 27, 60, 59, 50, 41, 78, 34, 52])"
      ]
     },
     "execution_count": 96,
     "metadata": {},
     "output_type": "execute_result"
    }
   ],
   "source": [
    "ids_possible"
   ]
  },
  {
   "cell_type": "markdown",
   "id": "d0f7ccac",
   "metadata": {},
   "source": [
    "Practice reading in:"
   ]
  },
  {
   "cell_type": "code",
   "execution_count": 65,
   "id": "036df21d",
   "metadata": {},
   "outputs": [],
   "source": [
    "import json\n",
    "data_file = json_dir + 'nclust_4_trial8.json'\n",
    "with open(data_file,'r') as f:\n",
    "    t = json.load(f)\n",
    "    datas = json.loads(t)"
   ]
  },
  {
   "cell_type": "code",
   "execution_count": 38,
   "id": "ea12312c",
   "metadata": {},
   "outputs": [
    {
     "data": {
      "text/plain": [
       "{'Level 1': {'Figure-level questions': {},\n",
       "  'Plot-level questions': {'nbars ': {'plot0': {'Q': 'You are a helpful assistant that can analyze images.  How many bars are there in the specified figure panel? Please format the output as a json as {\"nbars\":\"\"} for this figure panel, where the \"nbars\" value should be an integer.',\n",
       "     'A': {'nbars ': 50},\n",
       "     'persona': 'You are a helpful assistant that can analyze images.',\n",
       "     'context': '',\n",
       "     'question': 'How many bars are there in the specified figure panel?',\n",
       "     'format': 'Please format the output as a json as {\"nbars\":\"\"} for this figure panel, where the \"nbars\" value should be an integer.'}}}},\n",
       " 'Level 2': {'Plot-level questions': {'minimum ': {'plot0': {'Q': 'You are a helpful assistant that can analyze images.  What are the minimum data values in this figure panel?  Please format the output as a json as {\"minimum x\":\"\"} for this figure panel, where the \"minimum\" value should be a float, calculated from the data values used to create the plot.',\n",
       "     'A': {'minimum ': {'minimum x': 0.16207413623731676}},\n",
       "     'persona': 'You are a helpful assistant that can analyze images.',\n",
       "     'context': '',\n",
       "     'question': 'What are the minimum data values in this figure panel? ',\n",
       "     'format': 'Please format the output as a json as {\"minimum x\":\"\"} for this figure panel, where the \"minimum\" value should be a float, calculated from the data values used to create the plot.'}},\n",
       "   'maximum ': {'plot0': {'Q': 'You are a helpful assistant that can analyze images.  What are the maximum data values in this figure panel?  Please format the output as a json as {\"maximum x\":\"\"} for this figure panel, where the \"maximum\" value should be a float, calculated from the data values used to create the plot.',\n",
       "     'A': {'maximum ': {'maximum x': 0.9040028397744991}},\n",
       "     'persona': 'You are a helpful assistant that can analyze images.',\n",
       "     'context': '',\n",
       "     'question': 'What are the maximum data values in this figure panel? ',\n",
       "     'format': 'Please format the output as a json as {\"maximum x\":\"\"} for this figure panel, where the \"maximum\" value should be a float, calculated from the data values used to create the plot.'}},\n",
       "   'median ': {'plot0': {'Q': 'You are a helpful assistant that can analyze images.  What are the median data values in this figure panel?  Please format the output as a json as {\"median x\":\"\"} for this figure panel, where the \"median\" value should be a float, calculated from the data values used to create the plot.',\n",
       "     'A': {'median ': {'median x': 0.7776717312778343}},\n",
       "     'persona': 'You are a helpful assistant that can analyze images.',\n",
       "     'context': '',\n",
       "     'question': 'What are the median data values in this figure panel? ',\n",
       "     'format': 'Please format the output as a json as {\"median x\":\"\"} for this figure panel, where the \"median\" value should be a float, calculated from the data values used to create the plot.'}},\n",
       "   'mean ': {'plot0': {'Q': 'You are a helpful assistant that can analyze images.  What are the mean data values in this figure panel?  Please format the output as a json as {\"mean x\":\"\"} for this figure panel, where the \"mean\" value should be a float, calculated from the data values used to create the plot.',\n",
       "     'A': {'mean ': {'mean x': 0.7076898362071107}},\n",
       "     'persona': 'You are a helpful assistant that can analyze images.',\n",
       "     'context': '',\n",
       "     'question': 'What are the mean data values in this figure panel? ',\n",
       "     'format': 'Please format the output as a json as {\"mean x\":\"\"} for this figure panel, where the \"mean\" value should be a float, calculated from the data values used to create the plot.'}}}},\n",
       " 'Level 3': {'Plot-level questions': {'ngaussians ': {'plot0': {'Q': 'You are a helpful assistant that can analyze images.  How many gaussians were used to generate the data for the plot in the figure panel? Please format the output as a json as {\"ngaussians\":\"\"} for this figure panel, where the \"ngaussians\" value should be an integer.',\n",
       "     'A': {'ngaussians ': 4},\n",
       "     'persona': 'You are a helpful assistant that can analyze images.',\n",
       "     'context': '',\n",
       "     'question': 'How many gaussians were used to generate the data for the plot in the figure panel?',\n",
       "     'format': 'Please format the output as a json as {\"ngaussians\":\"\"} for this figure panel, where the \"ngaussians\" value should be an integer.'}}}}}"
      ]
     },
     "execution_count": 38,
     "metadata": {},
     "output_type": "execute_result"
    }
   ],
   "source": [
    "datas['VQA']"
   ]
  },
  {
   "cell_type": "code",
   "execution_count": 66,
   "id": "a25a5dc3",
   "metadata": {},
   "outputs": [
    {
     "data": {
      "text/plain": [
       "{'nbars ': {'plot0': {'Q': 'You are a helpful assistant that can analyze images.  How many bars are there in the specified figure panel? Please format the output as a json as {\"nbars\":\"\"} for this figure panel, where the \"nbars\" value should be an integer.',\n",
       "   'A': {'nbars ': 50},\n",
       "   'persona': 'You are a helpful assistant that can analyze images.',\n",
       "   'context': '',\n",
       "   'question': 'How many bars are there in the specified figure panel?',\n",
       "   'format': 'Please format the output as a json as {\"nbars\":\"\"} for this figure panel, where the \"nbars\" value should be an integer.'}}}"
      ]
     },
     "execution_count": 66,
     "metadata": {},
     "output_type": "execute_result"
    }
   ],
   "source": [
    "datas['VQA']['Level 1']['Plot-level questions']"
   ]
  },
  {
   "cell_type": "code",
   "execution_count": null,
   "id": "342dd112",
   "metadata": {},
   "outputs": [],
   "source": []
  },
  {
   "cell_type": "code",
   "execution_count": null,
   "id": "934a3e3a",
   "metadata": {},
   "outputs": [],
   "source": []
  }
 ],
 "metadata": {
  "kernelspec": {
   "display_name": "JCDL2025",
   "language": "python",
   "name": "python3"
  },
  "language_info": {
   "codemirror_mode": {
    "name": "ipython",
    "version": 3
   },
   "file_extension": ".py",
   "mimetype": "text/x-python",
   "name": "python",
   "nbconvert_exporter": "python",
   "pygments_lexer": "ipython3",
   "version": "3.12.11"
  }
 },
 "nbformat": 4,
 "nbformat_minor": 5
}
