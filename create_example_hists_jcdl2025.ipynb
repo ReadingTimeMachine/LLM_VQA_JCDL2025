{
 "cells": [
  {
   "cell_type": "code",
   "execution_count": 1,
   "id": "a384e543",
   "metadata": {},
   "outputs": [],
   "source": [
    "# save files\n",
    "fullproc_r = '/Users/jnaiman/LMM_Figure_Parsing/resources/' # for words/names\n",
    "\n",
    "# extra fonts (downloaded) -- these mimic old-timey fonts\n",
    "extra_font_dir = '/Users/jnaiman/Dropbox/wwt_image_extraction/FullProcess_resources/fonts/' # see this dir for README for how these were installed\n",
    "extra_font_search_dir = '/opt/anaconda3/envs/FullProcess/fonts/' # check env here for font to be there\n",
    "\n",
    "# where to save the figures that are created\n",
    "fake_figs_dir = '/Users/jnaiman/Dropbox/wwt_image_extraction/Paper_JCDL2025/example_hists/'\n",
    "\n",
    "# save diagnostic plot with all items labeled?\n",
    "save_diagnostic_plot = True"
   ]
  },
  {
   "cell_type": "code",
   "execution_count": 2,
   "id": "82acb676",
   "metadata": {},
   "outputs": [],
   "source": [
    "import numpy as np\n",
    "import matplotlib.pyplot as plt\n",
    "from PIL import Image\n",
    "import cv2 as cv\n",
    "import pickle\n",
    "import pandas as pd\n",
    "#import string\n",
    "from glob import glob\n",
    "from mpl_toolkits.axes_grid1 import make_axes_locatable\n",
    "from PIL import ImageColor\n",
    "import json\n",
    "import os\n",
    "from copy import deepcopy\n",
    "import copy\n",
    "\n",
    "from utils.metric_utils.utilities import isRectangleOverlap\n",
    "\n",
    "import time\n",
    "\n",
    "import matplotlib as mpl\n",
    "import os\n",
    "os.environ[\"PATH\"] += os.pathsep + '/Library/TeX/texbin'\n",
    "mpl.rcParams['text.usetex'] = True\n",
    "mpl.rcParams['text.latex.preamble'] = r'\\usepackage{amsmath} \\usepackage{amssymb}' #for \\text command\n",
    "\n",
    "# written libs -- will update locally\n",
    "from utils.synthetic_fig_utils import subset_by_percent, \\\n",
    " get_nrows_and_ncols, normalize_params_prob, get_ticks, get_titles_or_labels, \\\n",
    " get_font_info\n",
    "\n",
    "from utils.plot_utils import get_contour_plot, get_histogram_plot, \\\n",
    "   get_line_plot, get_scatter_plot, make_plot, colorbar_mods#, get_line_plot\n",
    "\n",
    "from utils.text_utils import get_popular_nouns, get_inline_math\n",
    "\n",
    "# create a bunch of fake figures\n",
    "from utils.synthetic_fig_utils import normalize_params_prob\n",
    "from utils.plot_parameters import plot_types_params, panel_params, \\\n",
    "  title_params, xlabel_params, colorbar_params, \\\n",
    "  ylabel_params, aspect_fig_params, dpi_params, tight_layout_params, \\\n",
    "  fontsizes, base\n",
    "\n",
    "from utils.data_utils import get_data, NumpyEncoder\n",
    "\n",
    "import utils.distribution_utils\n",
    "\n",
    "from utils.plot_utils import markers\n",
    "marker_sizes = np.arange(0,10)+1\n",
    "line_list_thick = np.arange(1,10)\n",
    "\n",
    "use_uniques = True # use unique inlines\n",
    "verbose = True\n",
    "\n",
    "from sys import path\n",
    "path.append('/Library/TeX/texbin/')\n",
    "\n",
    "# debug\n",
    "from importlib import reload\n",
    "\n",
    "# for seed\n",
    "from sys import maxsize as maxint\n",
    "\n",
    "import warnings\n",
    "warnings.filterwarnings(\"error\")"
   ]
  },
  {
   "cell_type": "code",
   "execution_count": 3,
   "id": "b066179c",
   "metadata": {},
   "outputs": [],
   "source": [
    "# get fonts -- see \"cnn_create_synthetic_ticks\" in FullProcess\n",
    "dfont = pd.read_csv(fullproc_r + 'fonts.csv')\n",
    "\n",
    "# check that location is there\n",
    "drop_names = []\n",
    "for fl in dfont['font location']:\n",
    "    if not os.path.exists(fl):\n",
    "        drop_names.append(False)\n",
    "    else:\n",
    "        drop_names.append(True)\n",
    "\n",
    "font_names = dfont.loc[drop_names]['font name'].values\n",
    "\n",
    "# # for plot styles\n",
    "# plot_styles = plt.style.available\n",
    "\n",
    "# plot_types_qa = ['line', 'scatter', 'histogram']\n",
    "\n",
    "plot_styles = ['default']"
   ]
  },
  {
   "cell_type": "code",
   "execution_count": 4,
   "id": "52bbd3e2",
   "metadata": {},
   "outputs": [],
   "source": [
    "# stats for doing calculations\n",
    "stats = {'minimum':np.min, 'maximum':np.max, 'median':np.median, 'mean':np.mean}\n",
    "\n",
    "# some things to try\n",
    "aspect_cut = {'min':0.3, 'max':4.0}"
   ]
  },
  {
   "cell_type": "code",
   "execution_count": 5,
   "id": "9f0dc2a5",
   "metadata": {},
   "outputs": [
    {
     "name": "stdout",
     "output_type": "stream",
     "text": [
      "16253 343492\n",
      "shape of output= (5097, 5)\n",
      "shape of output= (36332, 5)\n",
      "number of inlines =  33201\n"
     ]
    }
   ],
   "source": [
    "# get popular words for titles/axis\n",
    "popular_nouns = get_popular_nouns(fullproc_r + 'data/')\n",
    "\n",
    "# get inline math formulas\n",
    "inlines = get_inline_math(fullproc_r,\n",
    "                          recreate_inlines=False,\n",
    "                         use_uniques=use_uniques)"
   ]
  },
  {
   "cell_type": "markdown",
   "id": "3949dc13",
   "metadata": {},
   "source": [
    "## Update plotting params"
   ]
  },
  {
   "cell_type": "markdown",
   "id": "05193107",
   "metadata": {},
   "source": [
    "### Plot type params"
   ]
  },
  {
   "cell_type": "code",
   "execution_count": 6,
   "id": "c1be6ee7",
   "metadata": {},
   "outputs": [],
   "source": [
    "plot_params = plot_types_params.copy()"
   ]
  },
  {
   "cell_type": "code",
   "execution_count": 7,
   "id": "5a9fe905",
   "metadata": {},
   "outputs": [],
   "source": [
    "# only histograms for this one\n",
    "\n",
    "# probability of getting a scatter plot\n",
    "plot_params['scatter']['prob'] = 0\n",
    "# probability of getting a line\n",
    "plot_params['line']['prob'] = 0\n",
    "# prob of getting a contour plot\n",
    "plot_params['contour']['prob'] = 0\n",
    "# prob of getting an image of the sky\n",
    "plot_params['image of the sky']['prob'] = 0"
   ]
  },
  {
   "cell_type": "code",
   "execution_count": 8,
   "id": "2d767f07",
   "metadata": {},
   "outputs": [],
   "source": [
    "# prob for getting a histogram\n",
    "plot_params['histogram']['prob'] = 1\n",
    "\n",
    "\n",
    "linestyles_hist = ['-'] # only use a subset of the linestyles\n",
    "\n",
    "plot_params['histogram'] = plot_params['histogram'].copy()\n",
    "\n",
    "# no horizontal plots\n",
    "plot_params['histogram']['horizontal prob'] = 0.0\n",
    "\n",
    "# random distributions\n",
    "plot_params['histogram']['distribution']['random']['prob'] = 0\n",
    "\n",
    "# gaussian mixture model\n",
    "plot_params['histogram']['distribution']['gmm']['prob'] = 1\n",
    "plot_params['histogram']['distribution']['gmm']['nclusters'] = {'min': 1, 'max': 5}\n",
    "plot_params['histogram']['distribution']['gmm']['nsamples'] = {'min': 10, 'max': 50}\n",
    "\n",
    "# linear distributions prob\n",
    "plot_params['histogram']['distribution']['linear']['prob'] = 1"
   ]
  },
  {
   "cell_type": "markdown",
   "id": "b958d73a-fd58-46b5-9af3-b91cda577b56",
   "metadata": {},
   "source": [
    "### Other parameters"
   ]
  },
  {
   "cell_type": "code",
   "execution_count": 9,
   "id": "fb8bfe5e-0ea1-4ea4-bc3d-b54cc1efa174",
   "metadata": {},
   "outputs": [],
   "source": [
    "panel_params['number prob']['median'] = 4 # smaller, usually use 4-ish, 1 for debugging\n",
    "panel_params['number prob']['max'] = 25 # 2 for debugging, 25 for typical run"
   ]
  },
  {
   "cell_type": "code",
   "execution_count": 10,
   "id": "8b36fa32-a85d-4dbe-a4f5-bf0be3685094",
   "metadata": {},
   "outputs": [],
   "source": [
    "# for ease of things, lets not do equations here\n",
    "title_params['equation']['prob'] = 0.0 # probability any word will be equation\n",
    "xlabel_params['equation']['prob'] = 0.0 # probability any word will be equation\n",
    "ylabel_params['equation']['prob'] = 0.0 # probability any word will be equation"
   ]
  },
  {
   "cell_type": "markdown",
   "id": "2fae2d31-cdf8-4fde-9302-5f91d9767a7c",
   "metadata": {},
   "source": [
    "Renormalize all probabilities:"
   ]
  },
  {
   "cell_type": "code",
   "execution_count": 11,
   "id": "a1cd495c-be76-4d40-bc74-86e5efecf417",
   "metadata": {},
   "outputs": [
    {
     "name": "stdout",
     "output_type": "stream",
     "text": [
      "title_params capatilize did not add to 1! total = 1.2999999999999998\n",
      "renormalizing...\n",
      "now:  {'none': 0.07692307692307694, 'first': 0.3846153846153847, 'all': 0.5384615384615385}\n",
      "xlabel_params capatilize did not add to 1! total = 1.2999999999999998\n",
      "renormalizing...\n",
      "now:  {'none': 0.07692307692307694, 'first': 0.3846153846153847, 'all': 0.5384615384615385}\n",
      "ylabel_params capatilize did not add to 1! total = 1.2999999999999998\n",
      "renormalizing...\n",
      "now:  {'none': 0.07692307692307694, 'first': 0.3846153846153847, 'all': 0.5384615384615385}\n",
      "colorbar_params capatilize did not add to 1! total = 1.2999999999999998\n",
      "renormalizing...\n",
      "now:  {'none': 0.07692307692307694, 'first': 0.3846153846153847, 'all': 0.5384615384615385}\n",
      "plot_types_params['scatter']['color bar']['location probs'] did not add to 1! total = 0.8500000000000001\n",
      "renormalizing...\n",
      "now:  {'right': 0.588235294117647, 'left': 0.058823529411764705, 'top': 0.2941176470588235, 'bottom': 0.058823529411764705}\n",
      "plot_types_params['contour']['color bar']['location probs'] did not add to 1! total = 0.8500000000000001\n",
      "renormalizing...\n",
      "now:  {'right': 0.588235294117647, 'left': 0.058823529411764705, 'top': 0.2941176470588235, 'bottom': 0.058823529411764705}\n",
      "plot_types_params['contour']['image or contour']['prob'] did not add to 1! total = 3.0\n",
      "renormalizing...\n",
      "now:  {'image': 0.3333333333333333, 'contour': 0.3333333333333333, 'both': 0.3333333333333333}\n",
      "plot_types_params['image of the sky']['color bar']['location probs'] did not add to 1! total = 0.8500000000000001\n",
      "renormalizing...\n",
      "now:  {'right': 0.588235294117647, 'left': 0.058823529411764705, 'top': 0.2941176470588235, 'bottom': 0.058823529411764705}\n",
      "plot_types_params['image of the sky']['image or contour']['prob'] did not add to 1! total = 3.0\n",
      "renormalizing...\n",
      "now:  {'image': 0.3333333333333333, 'contour': 0.3333333333333333, 'both': 0.3333333333333333}\n",
      "plot_types_params['line']['distribution'] probabilities did not add to 1! total = 3\n",
      "renormalizing...\n",
      "now:  [0.3333333333333333, 0.3333333333333333, 0.3333333333333333]\n",
      "plot_types_params['histogram']['distribution'] probabilities did not add to 1! total = 2\n",
      "renormalizing...\n",
      "now:  [0.0, 0.5, 0.5]\n",
      "plot_types_params['scatter']['distribution'] probabilities did not add to 1! total = 3\n",
      "renormalizing...\n",
      "now:  [0.3333333333333333, 0.3333333333333333, 0.3333333333333333]\n",
      "plot_types_params['contour']['distribution'] probabilities did not add to 1! total = 3\n",
      "renormalizing...\n",
      "now:  [0.3333333333333333, 0.3333333333333333, 0.3333333333333333]\n",
      "plot_types_params['image of the sky']['distribution'] probabilities did not add to 1! total = 2\n",
      "renormalizing...\n",
      "now:  [0.5, 0.5]\n"
     ]
    },
    {
     "data": {
      "text/plain": [
       "{'line': {'prob': 0,\n",
       "  'npoints': {'min': 10, 'max': 11},\n",
       "  'line thick': {'min': 1, 'max': 5},\n",
       "  'nlines': {'min': 2, 'max': 3},\n",
       "  'xmin': -10000,\n",
       "  'xmax': 10000,\n",
       "  'ymin': -10000,\n",
       "  'ymax': 10000,\n",
       "  'prob same x': 0.1,\n",
       "  'markers': {'prob': 0.5, 'size': {'min': 1, 'max': 20}},\n",
       "  'error bars': {'elinewidth': {'min': 1, 'max': 5},\n",
       "   'x': {'prob': 0.25, 'size': {'min': 0.01, 'max': 0.1}},\n",
       "   'y': {'prob': 0.25, 'size': {'min': 0.01, 'max': 0.1}}},\n",
       "  'distribution': {'random': {'prob': 0.3333333333333333},\n",
       "   'linear': {'prob': 0.3333333333333333,\n",
       "    'intersect': (-100, 100),\n",
       "    'slope': (-5, 5),\n",
       "    'noise': (0, 0.25)},\n",
       "   'gmm': {'prob': 0.3333333333333333,\n",
       "    'histogram as line': {'prob': 0.25, 'factor': 1000},\n",
       "    'nclusters': {'min': 1, 'max': 20},\n",
       "    'nsamples': {'min': 10, 'max': 500},\n",
       "    'cluster std': {'min': -2, 'max': 0.5},\n",
       "    'noise': {'min': 0.05, 'max': 0.25}}}},\n",
       " 'histogram': {'prob': 1,\n",
       "  'npoints': {'min': 10, 'max': 10000},\n",
       "  'nbins': {'min': 1, 'max': 100},\n",
       "  'rwidth': {'min': 0.2, 'max': 1.0},\n",
       "  'line thick': {'prob': 0.5, 'min': 1, 'max': 5},\n",
       "  'nlines': {'min': 2, 'max': 3},\n",
       "  'xmin': -10000,\n",
       "  'xmax': 10000,\n",
       "  'error bars': {'elinewidth': {'min': 1, 'max': 5},\n",
       "   'x': {'prob': 1, 'size': {'min': 0.01, 'max': 0.1}}},\n",
       "  'horizontal prob': 0.0,\n",
       "  'distribution': {'random': {'prob': 0.0},\n",
       "   'linear': {'prob': 0.5,\n",
       "    'intersect': (-100, 100),\n",
       "    'slope': (-5, 5),\n",
       "    'noise': (0, 0.25)},\n",
       "   'gmm': {'prob': 0.5,\n",
       "    'xmin': -10000,\n",
       "    'xmax': 10000,\n",
       "    'ymin': -10000,\n",
       "    'ymax': 10000,\n",
       "    'nclusters': {'min': 1, 'max': 5},\n",
       "    'nsamples': {'min': 10, 'max': 50},\n",
       "    'cluster std': {'min': -1, 'max': 1.5},\n",
       "    'noise': {'min': 0.05, 'max': 0.25}}}},\n",
       " 'scatter': {'prob': 0,\n",
       "  'npoints': {'min': 10, 'max': 100},\n",
       "  'markers': {'size': {'min': 1, 'max': 30}},\n",
       "  'colors': {'min': -100, 'max': 100},\n",
       "  'colormap scatter': {'prob': 0.95},\n",
       "  'color bar': {'location probs': {'right': 0.588235294117647,\n",
       "    'left': 0.058823529411764705,\n",
       "    'top': 0.2941176470588235,\n",
       "    'bottom': 0.058823529411764705},\n",
       "   'label prob': 0.5,\n",
       "   'size percent': {'min': 0.05, 'max': 0.15},\n",
       "   'pad': {'min': 0.01, 'max': 0.2}},\n",
       "  'xmin': -10000,\n",
       "  'xmax': 10000,\n",
       "  'ymin': -10000,\n",
       "  'ymax': 10000,\n",
       "  'error bars': {'elinewidth': {'min': 1, 'max': 5},\n",
       "   'x': {'prob': 0.25, 'size': {'min': 0.01, 'max': 0.1}},\n",
       "   'y': {'prob': 0.25, 'size': {'min': 0.01, 'max': 0.1}}},\n",
       "  'distribution': {'random': {'prob': 0.3333333333333333},\n",
       "   'linear': {'prob': 0.3333333333333333,\n",
       "    'intersect': (-100, 100),\n",
       "    'slope': (-5, 5),\n",
       "    'noise': (0, 0.25),\n",
       "    'color noise prob': 0.5},\n",
       "   'gmm': {'prob': 0.3333333333333333,\n",
       "    'upsample factor log': {'min': 2, 'max': 6},\n",
       "    'nclusters': {'min': 1, 'max': 5},\n",
       "    'nsamples': {'min': 1000, 'max': 50000},\n",
       "    'cluster std': {'min': -1, 'max': 0.5},\n",
       "    'noise': {'min': 0.05, 'max': 0.25},\n",
       "    'color noise prob': 0.5,\n",
       "    'max points': 200}}},\n",
       " 'contour': {'prob': 0,\n",
       "  'npoints': {'nx': {'min': 10, 'max': 500}, 'ny': {'min': 10, 'max': 500}},\n",
       "  'nlines': {'min': 3, 'max': 10},\n",
       "  'colors': {'min': -100, 'max': 100},\n",
       "  'colormap contour': {'prob': 0.95},\n",
       "  'color bar': {'location probs': {'right': 0.588235294117647,\n",
       "    'left': 0.058823529411764705,\n",
       "    'top': 0.2941176470588235,\n",
       "    'bottom': 0.058823529411764705},\n",
       "   'label prob': 0.5,\n",
       "   'size percent': {'min': 0.05, 'max': 0.15},\n",
       "   'pad': {'min': 0.01, 'max': 0.2}},\n",
       "  'image or contour': {'prob': {'image': 0.3333333333333333,\n",
       "    'contour': 0.3333333333333333,\n",
       "    'both': 0.3333333333333333},\n",
       "   'both contours': {'prob gray': 0.95}},\n",
       "  'xmin': -10000,\n",
       "  'xmax': 10000,\n",
       "  'ymin': -10000,\n",
       "  'ymax': 10000,\n",
       "  'distribution': {'random': {'prob': 0.3333333333333333},\n",
       "   'linear': {'prob': 0.3333333333333333,\n",
       "    'intersect': (-100, 100),\n",
       "    'slope': (-5, 5),\n",
       "    'noise': (0, 0.25)},\n",
       "   'gmm': {'prob': 0.3333333333333333,\n",
       "    'nclusters': {'min': 1, 'max': 500},\n",
       "    'upsample factor log': {'min': 0, 'max': 0.5},\n",
       "    'cluster std': {'min': -1, 'max': 1.5},\n",
       "    'noise': {'min': 0.05, 'max': 0.25},\n",
       "    'color noise prob': 0.5}}},\n",
       " 'image of the sky': {'prob': 0,\n",
       "  'npoints': {'nx': {'min': 10, 'max': 500}, 'ny': {'min': 10, 'max': 500}},\n",
       "  'nlines': {'min': 3, 'max': 10},\n",
       "  'colors': {'min': -100, 'max': 100},\n",
       "  'colormap contour': {'prob': 0.95},\n",
       "  'color bar': {'location probs': {'right': 0.588235294117647,\n",
       "    'left': 0.058823529411764705,\n",
       "    'top': 0.2941176470588235,\n",
       "    'bottom': 0.058823529411764705},\n",
       "   'label prob': 0.5,\n",
       "   'size percent': {'min': 0.05, 'max': 0.15},\n",
       "   'pad': {'min': 0.01, 'max': 0.2}},\n",
       "  'image or contour': {'prob': {'image': 0.3333333333333333,\n",
       "    'contour': 0.3333333333333333,\n",
       "    'both': 0.3333333333333333},\n",
       "   'both contours': {'prob gray': 0.95}},\n",
       "  'xy labels ra/dec': [{'x': 'ra', 'y': 'dec'},\n",
       "   {'x': 'ra.', 'y': 'dec.'},\n",
       "   {'x': 'right ascension', 'y': 'declination'},\n",
       "   {'x': '$\\\\alpha$', 'y': '$\\\\delta$'}],\n",
       "  'show temporal': {'prob': 0.5,\n",
       "   'styles': [{'start': 'J', 'end': ''},\n",
       "    {'start': '(J', 'end': ')'},\n",
       "    {'start': '(', 'end': ')'},\n",
       "    {'start': '(B', 'end': ')'}]},\n",
       "  'distribution': {'gmm': {'prob': 0.5,\n",
       "    'nclusters': {'min': 1, 'max': 500},\n",
       "    'upsample factor log': {'min': 0, 'max': 0.5},\n",
       "    'cluster std': {'min': -1, 'max': 1.5},\n",
       "    'noise': {'min': 0.05, 'max': 0.25},\n",
       "    'color noise prob': 0.5,\n",
       "    'centers': {'center_ra': {'min': 0, 'max': 360},\n",
       "     'center_dec': {'min': -90, 'max': 90},\n",
       "     'center_scale': {'min': 3.5999999999999996,\n",
       "      'max': 36000,\n",
       "      'scale': 'log'}}},\n",
       "   'sky': {'prob': 0.5,\n",
       "    'object wavelength table': 'object_wavelength_pairs.pickle',\n",
       "    'query images dir': 'astroquery_images/',\n",
       "    'missing obj/surveys list': 'obj_survey_missing_list.csv',\n",
       "    'image width': 300,\n",
       "    'image height': 300,\n",
       "    'resolution': {'min': 0.5, 'max': 1.0}}}}}"
      ]
     },
     "execution_count": 11,
     "metadata": {},
     "output_type": "execute_result"
    }
   ],
   "source": [
    "# reload for debug\n",
    "import utils.synthetic_fig_utils\n",
    "reload(utils)\n",
    "reload(utils.synthetic_fig_utils)\n",
    "from utils.synthetic_fig_utils import normalize_params_prob\n",
    "\n",
    "plot_params_out, panel_params, \\\n",
    "  title_params, xlabel_params, \\\n",
    "  ylabel_params = normalize_params_prob(plot_params.copy(), panel_params, \n",
    "                                        title_params, xlabel_params, \n",
    "                                        ylabel_params, colorbar_params)\n",
    "\n",
    "plot_params_out"
   ]
  },
  {
   "cell_type": "markdown",
   "id": "5231b45e",
   "metadata": {},
   "source": [
    "### Run the thing"
   ]
  },
  {
   "cell_type": "code",
   "execution_count": 12,
   "id": "2751985c",
   "metadata": {},
   "outputs": [
    {
     "name": "stdout",
     "output_type": "stream",
     "text": [
      "seed_outer = 6700012876856450103\n"
     ]
    }
   ],
   "source": [
    "# Set a seed if you want a reproducible thing\n",
    "seed_outer = np.random.randint(maxint)\n",
    "#seed_outer = 7526304181034464103\n",
    "seed_outer = 6700012876856450103\n",
    "\n",
    "print('seed_outer =',seed_outer)\n",
    "rng_outer = np.random.default_rng(seed_outer)"
   ]
  },
  {
   "cell_type": "code",
   "execution_count": 13,
   "id": "27aa8e6c",
   "metadata": {},
   "outputs": [
    {
     "name": "stdout",
     "output_type": "stream",
     "text": [
      "seed =  7067533564274193147\n"
     ]
    }
   ],
   "source": [
    "# \"Inner\" seed -- for things like distributions and whatnot\n",
    "seed = np.random.randint(maxint)\n",
    "#seed = 2870146871786070273\n",
    "seed = 7067533564274193147\n",
    "print('seed = ', seed)\n",
    "# based on seed, make random number generator, see: https://numpy.org/doc/2.2/reference/random/generator.html\n",
    "rng = np.random.default_rng(seed)\n",
    "condition_overlap_xticklabels = True"
   ]
  },
  {
   "cell_type": "code",
   "execution_count": 14,
   "id": "3d28ba6e",
   "metadata": {},
   "outputs": [],
   "source": [
    "# set some things to keep standard across images\n",
    "\n",
    "tight_layout = True\n",
    "\n",
    "color_map = 'Blues' #rng_outer.choice(plt.colormaps())\n",
    "\n",
    "plot_style = 'default' #rng_outer.choice(plot_styles)\n",
    "\n",
    "npanels, panel_style, nrows, ncols = 1, 'square', 1, 1 #get_nrows_and_ncols(panel_params, rng=rng_outer)\n",
    "\n",
    "aspect_fig = 0.9\n",
    "\n",
    "dpi =  300 # int(rng_outer.uniform(low=dpi_params['min'], high=dpi_params['max']))"
   ]
  },
  {
   "cell_type": "code",
   "execution_count": 15,
   "id": "4a4a2738",
   "metadata": {},
   "outputs": [],
   "source": [
    "# use the \"fixed\" RNG outer\n",
    "# get all font stuffs\n",
    "title_fontsize, colorbar_fontsize, xlabel_fontsize, ylabel_fontsize, \\\n",
    "    xlabel_ticks_fontsize, ylabel_ticks_fontsize, \\\n",
    "                        csfont = get_font_info(fontsizes, font_names, rng=rng_outer)"
   ]
  },
  {
   "cell_type": "code",
   "execution_count": null,
   "id": "5880bc59",
   "metadata": {},
   "outputs": [],
   "source": [
    "def make_base_plot(plot_style, color_map, dpi, nrows, ncols, \n",
    "                   base=5, verbose=True, tight_layout = True):\n",
    "    plt.close('all')\n",
    "    plt.style.use(plot_style)\n",
    "    plt.set_cmap(color_map) \n",
    "    figsize = (base*ncols*aspect_fig, base*nrows) # w,h\n",
    "    if verbose: print('figsize (w,h) =', figsize)\n",
    "\n",
    "    if tight_layout:\n",
    "        fig = plt.figure(figsize=figsize, dpi=dpi,layout='tight')\n",
    "    else:\n",
    "        fig = plt.figure(figsize=figsize, dpi=dpi)\n",
    "\n",
    "    axes = []\n",
    "    for i in range(nrows):\n",
    "        for j in range(ncols):\n",
    "            iplot = (i*nrows) + j\n",
    "            ax = fig.add_subplot(nrows, ncols, iplot + 1)\n",
    "            axes.append(ax)\n",
    "\n",
    "    return fig, axes #, axes, plot_inds"
   ]
  },
  {
   "cell_type": "code",
   "execution_count": null,
   "id": "8b7684e6",
   "metadata": {},
   "outputs": [],
   "source": []
  },
  {
   "cell_type": "code",
   "execution_count": null,
   "id": "2d9e0d13",
   "metadata": {},
   "outputs": [],
   "source": []
  },
  {
   "cell_type": "code",
   "execution_count": 17,
   "id": "4910eae0",
   "metadata": {},
   "outputs": [
    {
     "data": {
      "text/plain": [
       "np.str_('histogram')"
      ]
     },
     "execution_count": 17,
     "metadata": {},
     "output_type": "execute_result"
    }
   ],
   "source": [
    "choices = []; probs = []\n",
    "for k,v in plot_params_out.items():\n",
    "    choices.append(k)\n",
    "    probs.append(v['prob'])\n",
    "\n",
    "plot_type = rng.choice(choices, p=probs)\n",
    "plot_type"
   ]
  },
  {
   "cell_type": "code",
   "execution_count": 22,
   "id": "f70f1ae0",
   "metadata": {},
   "outputs": [],
   "source": [
    "distribution_type = 'gmm'\n",
    "xmin, xmax = -1, 1 # for now\n",
    "\n",
    "# now specific for *this plot*\n",
    "plot_params_here = plot_params_out.copy()\n",
    "\n",
    "plot_params_here['histogram']['xmin'] = xmin\n",
    "plot_params_here['histogram']['xmax'] = xmax\n",
    "\n",
    "plot_params_here['histogram']['distribution']['gmm']['nclusters'] = {'min': 1, 'max': 1}\n",
    "plot_params_here['histogram']['distribution']['gmm']['nsamples'] = {'min': 10000, 'max': 10000}\n",
    "#plot_params_here['histogram']['distribution']['gmm']['xmin'] = xmin # are these even used??\n",
    "#plot_params_here['histogram']['distribution']['gmm']['xmax'] = xmax # are these even used??\n",
    "\n",
    "dist_params = plot_params_here[plot_type]['distribution'] "
   ]
  },
  {
   "cell_type": "code",
   "execution_count": 31,
   "id": "1e68796f",
   "metadata": {},
   "outputs": [
    {
     "data": {
      "text/plain": [
       "{'random': {'prob': 0.0},\n",
       " 'linear': {'prob': 0.5,\n",
       "  'intersect': (-100, 100),\n",
       "  'slope': (-5, 5),\n",
       "  'noise': (0, 0.25)},\n",
       " 'gmm': {'prob': 0.5,\n",
       "  'xmin': -10000,\n",
       "  'xmax': 10000,\n",
       "  'ymin': -10000,\n",
       "  'ymax': 10000,\n",
       "  'nclusters': {'min': 5, 'max': 5},\n",
       "  'nsamples': {'min': 10000, 'max': 10000},\n",
       "  'cluster std': {'min': -1, 'max': 1.5},\n",
       "  'noise': {'min': 0.05, 'max': 0.25}}}"
      ]
     },
     "execution_count": 31,
     "metadata": {},
     "output_type": "execute_result"
    }
   ],
   "source": [
    "dist_params"
   ]
  },
  {
   "cell_type": "code",
   "execution_count": 23,
   "id": "3502e136",
   "metadata": {},
   "outputs": [
    {
     "data": {
      "text/plain": [
       "{'xs': array([0.82055095, 0.82375684, 0.82172528, ..., 0.86056228, 0.87080305,\n",
       "        0.83310381]),\n",
       " 'ys': [],\n",
       " 'xerrs': True,\n",
       " 'data params': {'nsamples': 10000,\n",
       "  'nclusters': 1,\n",
       "  'centers': array([[0.85855147]]),\n",
       "  'cluster_std': array([0.14265167]),\n",
       "  'noise level': 0.1049343528642392}}"
      ]
     },
     "execution_count": 23,
     "metadata": {},
     "output_type": "execute_result"
    }
   ],
   "source": [
    "import utils.distribution_utils\n",
    "reload(utils.distribution_utils)\n",
    "\n",
    "data_for_plot = get_data(plot_params_here[plot_type],\n",
    "                plot_type=plot_type,\n",
    "                        distribution=distribution_type, \n",
    "                        rng=rng)\n",
    "data_for_plot"
   ]
  },
  {
   "cell_type": "code",
   "execution_count": 24,
   "id": "3ea32095",
   "metadata": {},
   "outputs": [
    {
     "name": "stdout",
     "output_type": "stream",
     "text": [
      "figsize (w,h) = (1.8, 2)\n"
     ]
    },
    {
     "data": {
      "text/plain": [
       "<Figure size 640x480 with 0 Axes>"
      ]
     },
     "metadata": {},
     "output_type": "display_data"
    },
    {
     "data": {
      "image/png": "[encoded data removed]",
      "text/plain": [
       "<Figure size 540x600 with 1 Axes>"
      ]
     },
     "metadata": {},
     "output_type": "display_data"
    }
   ],
   "source": [
    "import utils.plot_utils\n",
    "reload(utils.plot_utils)\n",
    "from utils.plot_utils import make_plot\n",
    "\n",
    "fig, axes = make_base_plot(plot_style, color_map, dpi, nrows, ncols, \n",
    "                   base=2, verbose=True, tight_layout = tight_layout)\n",
    "\n",
    "data_from_plot, ax = make_plot(plot_params_here[plot_type], data_for_plot, \n",
    "                        axes[0], plot_type=plot_type, linestyles=linestyles_hist, \n",
    "                        rng=rng, \n",
    "                        barcolor='cyan', linecolor=(0,0,0), hasErr = False, lthick=1, nbins=10, rwidth=1.0)"
   ]
  },
  {
   "cell_type": "code",
   "execution_count": 25,
   "id": "baea33c8",
   "metadata": {},
   "outputs": [
    {
     "data": {
      "text/plain": [
       "{'data': (array([266., 270., 277., 283., 302., 317., 306., 310., 298., 306.]),\n",
       "  array([0.77411229, 0.78546148, 0.79681067, 0.80815986, 0.81950905,\n",
       "         0.83085824, 0.84220744, 0.85355663, 0.86490582, 0.87625501,\n",
       "         0.8876042 ]),\n",
       "  <BarContainer object of 10 artists>),\n",
       " 'plot params': {'linethick': 1,\n",
       "  'linestyles': np.str_('-'),\n",
       "  'bar color': 'cyan',\n",
       "  'edge color': [array([0, 0, 0])],\n",
       "  'orientation': 'vertical',\n",
       "  'rwidth': 1.0,\n",
       "  'nbins': 10}}"
      ]
     },
     "execution_count": 25,
     "metadata": {},
     "output_type": "execute_result"
    }
   ],
   "source": [
    "data_from_plot"
   ]
  },
  {
   "cell_type": "code",
   "execution_count": 26,
   "id": "5954119c",
   "metadata": {},
   "outputs": [
    {
     "data": {
      "text/plain": [
       "{'xs': array([0.82055095, 0.82375684, 0.82172528, ..., 0.86056228, 0.87080305,\n",
       "        0.83310381]),\n",
       " 'ys': [],\n",
       " 'xerrs': True,\n",
       " 'data params': {'nsamples': 10000,\n",
       "  'nclusters': 1,\n",
       "  'centers': array([[0.85855147]]),\n",
       "  'cluster_std': array([0.14265167]),\n",
       "  'noise level': 0.1049343528642392}}"
      ]
     },
     "execution_count": 26,
     "metadata": {},
     "output_type": "execute_result"
    }
   ],
   "source": [
    "data_for_plot"
   ]
  },
  {
   "cell_type": "markdown",
   "id": "c78a47fc",
   "metadata": {},
   "source": [
    "Loop for several distributions and save:"
   ]
  },
  {
   "cell_type": "code",
   "execution_count": 27,
   "id": "6de0aa77",
   "metadata": {},
   "outputs": [],
   "source": [
    "from utils.histogram_plot_qa_utils import q_nbars_hist_plot_plotnums, q_colors_hist_plot_plotnums, \\\n",
    "  q_colorlines_hist_plot_plotnums, q_linethickness_hists, q_barpoints_bars, q_stats_hists, \\\n",
    "  q_errorbars_existance_lines, q_errorbars_size_histogram, q_distribution_hists, \\\n",
    "  q_linear_equation_hists, q_gmm_equation_hists"
   ]
  },
  {
   "cell_type": "code",
   "execution_count": 35,
   "id": "d564a7c7",
   "metadata": {},
   "outputs": [],
   "source": [
    "#plot_params_loop['histogram']['distribution']['gmm']"
   ]
  },
  {
   "cell_type": "code",
   "execution_count": 41,
   "id": "b21dbf12",
   "metadata": {},
   "outputs": [
    {
     "name": "stdout",
     "output_type": "stream",
     "text": [
      "[4.36377957]\n",
      "\n",
      "[2.91877679 9.77527658]\n",
      "\n",
      "[1.5779798  5.6204009  3.78883827]\n",
      "\n",
      "[1.74285523 0.83691345 1.18559213 1.64229853]\n",
      "\n",
      "[0.08645531 0.02222943 0.0774624  0.03973638 0.04457009]\n",
      "\n",
      "[0.00175354]\n",
      "\n",
      "[6.40774732 2.13193474]\n",
      "\n",
      "[3.65280163 1.48697638 5.32684336]\n",
      "\n",
      "[1.10832372 1.10827136 2.72594669 0.74548857]\n",
      "\n",
      "[0.08958639 0.06159103 0.11203133 0.26570663 0.11010244]\n",
      "\n",
      "[0.1540576]\n",
      "\n",
      "[1.47587567 0.95597151]\n",
      "\n",
      "[0.35470783 0.78758116 2.61561286]\n",
      "\n",
      "[0.57008793 0.96497046 0.72942749 2.90981118]\n",
      "\n",
      "[2.59302716 4.87314685 5.57890297 4.19237982 1.81244793]\n",
      "\n",
      "[0.03082174]\n",
      "\n",
      "[3.23409568 6.7944415 ]\n",
      "\n",
      "[4.32738359 3.25564571 1.23449617]\n",
      "\n",
      "[14.61846806  6.18896923  2.44678188 12.94648369]\n",
      "\n",
      "[0.18975172 0.11840188 0.6545711  0.16476026 1.1305477 ]\n",
      "\n",
      "[2.283114]\n",
      "\n",
      "[2.01827657 0.83613634]\n",
      "\n",
      "[1.99889819 4.13371697 1.73067907]\n",
      "\n",
      "[2.00640268 0.35953961 2.48493171 0.44133817]\n",
      "\n",
      "[0.62975659 0.60302566 0.17782714 0.57432941 0.16068665]\n",
      "\n",
      "[0.72428251]\n",
      "\n",
      "[ 6.80944221 11.90540525]\n",
      "\n",
      "[1.06506957 4.5064859  2.66868102]\n",
      "\n",
      "[6.39793223 2.53417232 3.08493171 2.30740881]\n",
      "\n",
      "[1.07402328 0.78079192 0.25373032 0.44726888 0.14335279]\n",
      "\n",
      "[9.56253085]\n",
      "\n",
      "[1.85253546 0.80086741]\n",
      "\n",
      "[11.11362931  5.76074053  3.04036773]\n",
      "\n",
      "[10.60696015  8.12487398  1.96612709  6.20817105]\n",
      "\n",
      "[1.25779688 1.92572684 0.67071259 0.63835553 2.51281016]\n",
      "\n",
      "[0.50886406]\n",
      "\n",
      "[0.43679109 0.37470338]\n",
      "\n",
      "[1.02299825 1.21873031 1.14112046]\n",
      "\n",
      "[4.60008667 3.40361345 3.05180737 0.86476518]\n",
      "\n",
      "[3.42948444 1.16481297 0.76536753 2.36608112 0.68413205]\n",
      "\n",
      "[0.42106115]\n",
      "\n",
      "[4.07280814 0.6593663 ]\n",
      "\n",
      "[0.62091776 0.43197327 0.1512025 ]\n",
      "\n",
      "[ 1.47810216 10.34364124  5.33928143  6.13787995]\n",
      "\n",
      "[ 4.97432235  5.67131965 14.84121865  3.56165685 13.28736004]\n",
      "\n",
      "[6.7600121]\n",
      "\n",
      "[4.19886854 1.33557805]\n",
      "\n",
      "[1.57673629 5.94201353 2.40928629]\n",
      "\n",
      "[3.24728247 3.88205984 3.83852037 3.41101779]\n",
      "\n",
      "[0.62135815 0.35208244 2.9006121  0.53303725 0.90338402]\n",
      "\n"
     ]
    },
    {
     "data": {
      "text/plain": [
       "<Figure size 640x480 with 0 Axes>"
      ]
     },
     "metadata": {},
     "output_type": "display_data"
    },
    {
     "data": {
      "image/png": "[encoded data removed]",
      "text/plain": [
       "<Figure size 540x600 with 1 Axes>"
      ]
     },
     "metadata": {},
     "output_type": "display_data"
    }
   ],
   "source": [
    "nclusters = [1, 2, 3, 4, 5]\n",
    "\n",
    "cluster_std = {'min':0.001, 'max':1.0}\n",
    "\n",
    "plot_json = []\n",
    "\n",
    "ntrials = 10\n",
    "\n",
    "for n in range(ntrials):\n",
    "    for nclust in nclusters:\n",
    "        plot_params_loop = plot_params_here.copy()\n",
    "        plot_params_loop['histogram']['distribution']['gmm']['nclusters'] = {'min': nclust, 'max': nclust}\n",
    "        plot_params_loop['histogram']['distribution']['gmm']['cluster std'] = cluster_std\n",
    "        data_for_plot = get_data(plot_params_loop[plot_type],\n",
    "                        plot_type=plot_type,\n",
    "                                distribution=distribution_type, \n",
    "                                rng=rng)\n",
    "        pltjson = {}\n",
    "        pltjson['nclusters'] = nclust\n",
    "        pltjson['data for plot'] = data_for_plot.copy()\n",
    "\n",
    "        fig, axes = make_base_plot(plot_style, color_map, dpi, nrows, ncols, \n",
    "                    base=2, verbose=False, tight_layout = tight_layout)\n",
    "\n",
    "        data_from_plot, ax = make_plot(plot_params_loop[plot_type], data_for_plot, \n",
    "                                axes[0], plot_type=plot_type, linestyles=linestyles_hist, \n",
    "                                rng=rng, \n",
    "                                barcolor='cyan', linecolor=(0,0,0), hasErr = False, lthick=1, nbins=50, rwidth=1.0)\n",
    "        pltjson['data from plot'] = data_from_plot.copy()\n",
    "        print(data_for_plot['data params']['cluster_std'])\n",
    "        print('')\n",
    "\n",
    "        # save image\n",
    "        fig.savefig(fake_figs_dir + 'nclust_' + str(nclust) + '_trial' + str(n) + '.pdf')\n",
    "\n",
    "\n",
    "        #plot_json.append(pltjson.copy())"
   ]
  },
  {
   "cell_type": "code",
   "execution_count": 29,
   "id": "c4c42070",
   "metadata": {},
   "outputs": [
    {
     "data": {
      "text/plain": [
       "'/Users/jnaiman/Dropbox/wwt_image_extraction/Paper_JCDL2025/example_hists/'"
      ]
     },
     "execution_count": 29,
     "metadata": {},
     "output_type": "execute_result"
    }
   ],
   "source": [
    "fake_figs_dir"
   ]
  },
  {
   "cell_type": "code",
   "execution_count": null,
   "id": "75173cda-2b70-4b78-8495-3e45ea9e9828",
   "metadata": {},
   "outputs": [],
   "source": []
  }
 ],
 "metadata": {
  "kernelspec": {
   "display_name": "FullProcess",
   "language": "python",
   "name": "python3"
  },
  "language_info": {
   "codemirror_mode": {
    "name": "ipython",
    "version": 3
   },
   "file_extension": ".py",
   "mimetype": "text/x-python",
   "name": "python",
   "nbconvert_exporter": "python",
   "pygments_lexer": "ipython3",
   "version": "3.12.8"
  }
 },
 "nbformat": 4,
 "nbformat_minor": 5
}
