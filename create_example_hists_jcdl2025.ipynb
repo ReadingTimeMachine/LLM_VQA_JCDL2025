{
 "cells": [
  {
   "cell_type": "code",
   "execution_count": 2,
   "id": "a384e543",
   "metadata": {},
   "outputs": [],
   "source": [
    "# save files\n",
    "fullproc_r = '/Users/jnaiman/LMM_Figure_Parsing/resources/' # for words/names\n",
    "\n",
    "# extra fonts (downloaded) -- these mimic old-timey fonts\n",
    "extra_font_dir = '/Users/jnaiman/Dropbox/wwt_image_extraction/FullProcess_resources/fonts/' # see this dir for README for how these were installed\n",
    "extra_font_search_dir = '/opt/anaconda3/envs/FullProcess/fonts/' # check env here for font to be there\n",
    "\n",
    "# where to save the figures that are created\n",
    "fake_figs_dir = '/Users/jnaiman/Dropbox/wwt_image_extraction/Paper_JCDL2025/example_hists/'\n",
    "\n",
    "# save diagnostic plot with all items labeled?\n",
    "save_diagnostic_plot = True"
   ]
  },
  {
   "cell_type": "code",
   "execution_count": 25,
   "id": "82acb676",
   "metadata": {},
   "outputs": [],
   "source": [
    "import numpy as np\n",
    "import matplotlib.pyplot as plt\n",
    "from PIL import Image\n",
    "import cv2 as cv\n",
    "import pickle\n",
    "import pandas as pd\n",
    "#import string\n",
    "from glob import glob\n",
    "from mpl_toolkits.axes_grid1 import make_axes_locatable\n",
    "from PIL import ImageColor\n",
    "import json\n",
    "import os\n",
    "from copy import deepcopy\n",
    "import copy\n",
    "\n",
    "from utils.metric_utils.utilities import isRectangleOverlap\n",
    "\n",
    "import time\n",
    "\n",
    "import matplotlib as mpl\n",
    "import os\n",
    "os.environ[\"PATH\"] += os.pathsep + '/Library/TeX/texbin'\n",
    "mpl.rcParams['text.usetex'] = True\n",
    "mpl.rcParams['text.latex.preamble'] = r'\\usepackage{amsmath} \\usepackage{amssymb}' #for \\text command\n",
    "\n",
    "# written libs -- will update locally\n",
    "from utils.synthetic_fig_utils import subset_by_percent, \\\n",
    " get_nrows_and_ncols, normalize_params_prob, get_ticks, get_titles_or_labels, \\\n",
    " get_font_info\n",
    "\n",
    "from utils.plot_utils import get_contour_plot, get_histogram_plot, \\\n",
    "   get_line_plot, get_scatter_plot, make_plot, colorbar_mods#, get_line_plot\n",
    "\n",
    "from utils.text_utils import get_popular_nouns, get_inline_math\n",
    "\n",
    "# create a bunch of fake figures\n",
    "from utils.synthetic_fig_utils import normalize_params_prob\n",
    "from utils.plot_parameters import plot_types_params, panel_params, \\\n",
    "  title_params, xlabel_params, colorbar_params, \\\n",
    "  ylabel_params, aspect_fig_params, dpi_params, tight_layout_params, \\\n",
    "  fontsizes, base\n",
    "\n",
    "from utils.data_utils import get_data, NumpyEncoder\n",
    "import numpy as np\n",
    "\n",
    "import utils.distribution_utils\n",
    "\n",
    "from utils.plot_utils import markers\n",
    "marker_sizes = np.arange(0,10)+1\n",
    "line_list_thick = np.arange(1,10)\n",
    "\n",
    "use_uniques = True # use unique inlines\n",
    "verbose = True\n",
    "\n",
    "from sys import path\n",
    "path.append('/Library/TeX/texbin/')\n",
    "\n",
    "# debug\n",
    "from importlib import reload\n",
    "\n",
    "# for seed\n",
    "from sys import maxsize as maxint\n",
    "\n",
    "import warnings\n",
    "warnings.filterwarnings(\"error\")"
   ]
  },
  {
   "cell_type": "code",
   "execution_count": 4,
   "id": "b066179c",
   "metadata": {},
   "outputs": [],
   "source": [
    "# get fonts -- see \"cnn_create_synthetic_ticks\" in FullProcess\n",
    "dfont = pd.read_csv(fullproc_r + 'fonts.csv')\n",
    "\n",
    "# check that location is there\n",
    "drop_names = []\n",
    "for fl in dfont['font location']:\n",
    "    if not os.path.exists(fl):\n",
    "        drop_names.append(False)\n",
    "    else:\n",
    "        drop_names.append(True)\n",
    "\n",
    "font_names = dfont.loc[drop_names]['font name'].values\n",
    "\n",
    "# # for plot styles\n",
    "# plot_styles = plt.style.available\n",
    "\n",
    "# plot_types_qa = ['line', 'scatter', 'histogram']\n",
    "\n",
    "plot_styles = ['default']"
   ]
  },
  {
   "cell_type": "code",
   "execution_count": 5,
   "id": "52bbd3e2",
   "metadata": {},
   "outputs": [],
   "source": [
    "# stats for doing calculations\n",
    "stats = {'minimum':np.min, 'maximum':np.max, 'median':np.median, 'mean':np.mean}\n",
    "\n",
    "# some things to try\n",
    "aspect_cut = {'min':0.3, 'max':4.0}"
   ]
  },
  {
   "cell_type": "code",
   "execution_count": 8,
   "id": "9f0dc2a5",
   "metadata": {},
   "outputs": [
    {
     "name": "stdout",
     "output_type": "stream",
     "text": [
      "16253 343492\n",
      "shape of output= (5097, 5)\n",
      "shape of output= (36332, 5)\n",
      "number of inlines =  33201\n"
     ]
    }
   ],
   "source": [
    "# get popular words for titles/axis\n",
    "popular_nouns = get_popular_nouns(fullproc_r + 'data/')\n",
    "\n",
    "# get inline math formulas\n",
    "inlines = get_inline_math(fullproc_r,\n",
    "                          recreate_inlines=False,\n",
    "                         use_uniques=use_uniques)"
   ]
  },
  {
   "cell_type": "markdown",
   "id": "3949dc13",
   "metadata": {},
   "source": [
    "## Update plotting params"
   ]
  },
  {
   "cell_type": "markdown",
   "id": "05193107",
   "metadata": {},
   "source": [
    "### Plot type params"
   ]
  },
  {
   "cell_type": "code",
   "execution_count": 9,
   "id": "c1be6ee7",
   "metadata": {},
   "outputs": [],
   "source": [
    "plot_params = plot_types_params.copy()"
   ]
  },
  {
   "cell_type": "code",
   "execution_count": 10,
   "id": "5a9fe905",
   "metadata": {},
   "outputs": [],
   "source": [
    "# only histograms for this one\n",
    "\n",
    "# probability of getting a scatter plot\n",
    "plot_params['scatter']['prob'] = 0\n",
    "# probability of getting a line\n",
    "plot_params['line']['prob'] = 0\n",
    "# prob of getting a contour plot\n",
    "plot_params['contour']['prob'] = 0\n",
    "# prob of getting an image of the sky\n",
    "plot_params['image of the sky']['prob'] = 0"
   ]
  },
  {
   "cell_type": "code",
   "execution_count": 11,
   "id": "2d767f07",
   "metadata": {},
   "outputs": [],
   "source": [
    "# prob for getting a histogram\n",
    "plot_params['histogram']['prob'] = 1\n",
    "\n",
    "\n",
    "linestyles_hist = ['-'] # only use a subset of the linestyles\n",
    "\n",
    "plot_params['histogram'] = plot_params['histogram'].copy()\n",
    "\n",
    "# no horizontal plots\n",
    "plot_params['histogram']['horizontal prob'] = 0.0\n",
    "\n",
    "# random distributions\n",
    "plot_params['histogram']['distribution']['random']['prob'] = 0\n",
    "\n",
    "# gaussian mixture model\n",
    "plot_params['histogram']['distribution']['gmm']['prob'] = 1\n",
    "plot_params['histogram']['distribution']['gmm']['nclusters'] = {'min': 1, 'max': 5}\n",
    "plot_params['histogram']['distribution']['gmm']['nsamples'] = {'min': 10, 'max': 50}\n",
    "\n",
    "# linear distributions prob\n",
    "plot_params['histogram']['distribution']['linear']['prob'] = 1"
   ]
  },
  {
   "cell_type": "markdown",
   "id": "b958d73a-fd58-46b5-9af3-b91cda577b56",
   "metadata": {},
   "source": [
    "### Other parameters"
   ]
  },
  {
   "cell_type": "code",
   "execution_count": 12,
   "id": "fb8bfe5e-0ea1-4ea4-bc3d-b54cc1efa174",
   "metadata": {},
   "outputs": [],
   "source": [
    "panel_params['number prob']['median'] = 4 # smaller, usually use 4-ish, 1 for debugging\n",
    "panel_params['number prob']['max'] = 25 # 2 for debugging, 25 for typical run"
   ]
  },
  {
   "cell_type": "code",
   "execution_count": 13,
   "id": "8b36fa32-a85d-4dbe-a4f5-bf0be3685094",
   "metadata": {},
   "outputs": [],
   "source": [
    "# for ease of things, lets not do equations here\n",
    "title_params['equation']['prob'] = 0.0 # probability any word will be equation\n",
    "xlabel_params['equation']['prob'] = 0.0 # probability any word will be equation\n",
    "ylabel_params['equation']['prob'] = 0.0 # probability any word will be equation"
   ]
  },
  {
   "cell_type": "markdown",
   "id": "2fae2d31-cdf8-4fde-9302-5f91d9767a7c",
   "metadata": {},
   "source": [
    "Renormalize all probabilities:"
   ]
  },
  {
   "cell_type": "code",
   "execution_count": 15,
   "id": "a1cd495c-be76-4d40-bc74-86e5efecf417",
   "metadata": {},
   "outputs": [
    {
     "name": "stdout",
     "output_type": "stream",
     "text": [
      "title_params capatilize did not add to 1! total = 1.0000000000000002\n",
      "renormalizing...\n",
      "now:  {'none': 0.07692307692307693, 'first': 0.3846153846153846, 'all': 0.5384615384615384}\n",
      "xlabel_params capatilize did not add to 1! total = 1.0000000000000002\n",
      "renormalizing...\n",
      "now:  {'none': 0.07692307692307693, 'first': 0.3846153846153846, 'all': 0.5384615384615384}\n",
      "ylabel_params capatilize did not add to 1! total = 1.0000000000000002\n",
      "renormalizing...\n",
      "now:  {'none': 0.07692307692307693, 'first': 0.3846153846153846, 'all': 0.5384615384615384}\n",
      "colorbar_params capatilize did not add to 1! total = 1.0000000000000002\n",
      "renormalizing...\n",
      "now:  {'none': 0.07692307692307693, 'first': 0.3846153846153846, 'all': 0.5384615384615384}\n",
      "plot_types_params['scatter']['color bar']['location probs'] did not add to 1! total = 0.9999999999999999\n",
      "renormalizing...\n",
      "now:  {'right': 0.5882352941176471, 'left': 0.05882352941176471, 'top': 0.29411764705882354, 'bottom': 0.05882352941176471}\n",
      "plot_types_params['contour']['color bar']['location probs'] did not add to 1! total = 0.9999999999999999\n",
      "renormalizing...\n",
      "now:  {'right': 0.5882352941176471, 'left': 0.05882352941176471, 'top': 0.29411764705882354, 'bottom': 0.05882352941176471}\n",
      "plot_types_params['image of the sky']['color bar']['location probs'] did not add to 1! total = 0.9999999999999999\n",
      "renormalizing...\n",
      "now:  {'right': 0.5882352941176471, 'left': 0.05882352941176471, 'top': 0.29411764705882354, 'bottom': 0.05882352941176471}\n"
     ]
    },
    {
     "data": {
      "text/plain": [
       "{'line': {'prob': 0,\n",
       "  'npoints': {'min': 10, 'max': 11},\n",
       "  'line thick': {'min': 1, 'max': 5},\n",
       "  'nlines': {'min': 2, 'max': 3},\n",
       "  'xmin': -10000,\n",
       "  'xmax': 10000,\n",
       "  'ymin': -10000,\n",
       "  'ymax': 10000,\n",
       "  'prob same x': 0.1,\n",
       "  'markers': {'prob': 0.5, 'size': {'min': 1, 'max': 20}},\n",
       "  'error bars': {'elinewidth': {'min': 1, 'max': 5},\n",
       "   'x': {'prob': 0.25, 'size': {'min': 0.01, 'max': 0.1}},\n",
       "   'y': {'prob': 0.25, 'size': {'min': 0.01, 'max': 0.1}}},\n",
       "  'distribution': {'random': {'prob': 0.3333333333333333},\n",
       "   'linear': {'prob': 0.3333333333333333,\n",
       "    'intersect': (-100, 100),\n",
       "    'slope': (-5, 5),\n",
       "    'noise': (0, 0.25)},\n",
       "   'gmm': {'prob': 0.3333333333333333,\n",
       "    'histogram as line': {'prob': 0.25, 'factor': 1000},\n",
       "    'nclusters': {'min': 1, 'max': 20},\n",
       "    'nsamples': {'min': 10, 'max': 500},\n",
       "    'cluster std': {'min': -2, 'max': 0.5},\n",
       "    'noise': {'min': 0.05, 'max': 0.25}}}},\n",
       " 'histogram': {'prob': 1,\n",
       "  'npoints': {'min': 10, 'max': 10000},\n",
       "  'nbins': {'min': 1, 'max': 100},\n",
       "  'rwidth': {'min': 0.2, 'max': 1.0},\n",
       "  'line thick': {'prob': 0.5, 'min': 1, 'max': 5},\n",
       "  'nlines': {'min': 2, 'max': 3},\n",
       "  'xmin': -10000,\n",
       "  'xmax': 10000,\n",
       "  'error bars': {'elinewidth': {'min': 1, 'max': 5},\n",
       "   'x': {'prob': 1, 'size': {'min': 0.01, 'max': 0.1}}},\n",
       "  'horizontal prob': 0.0,\n",
       "  'distribution': {'random': {'prob': 0.0},\n",
       "   'linear': {'prob': 0.5,\n",
       "    'intersect': (-100, 100),\n",
       "    'slope': (-5, 5),\n",
       "    'noise': (0, 0.25)},\n",
       "   'gmm': {'prob': 0.5,\n",
       "    'xmin': -10000,\n",
       "    'xmax': 10000,\n",
       "    'ymin': -10000,\n",
       "    'ymax': 10000,\n",
       "    'nclusters': {'min': 1, 'max': 5},\n",
       "    'nsamples': {'min': 10, 'max': 50},\n",
       "    'cluster std': {'min': -1, 'max': 1.5},\n",
       "    'noise': {'min': 0.05, 'max': 0.25}}}},\n",
       " 'scatter': {'prob': 0,\n",
       "  'npoints': {'min': 10, 'max': 100},\n",
       "  'markers': {'size': {'min': 1, 'max': 30}},\n",
       "  'colors': {'min': -100, 'max': 100},\n",
       "  'colormap scatter': {'prob': 0.95},\n",
       "  'color bar': {'location probs': {'right': 0.5882352941176471,\n",
       "    'left': 0.05882352941176471,\n",
       "    'top': 0.29411764705882354,\n",
       "    'bottom': 0.05882352941176471},\n",
       "   'label prob': 0.5,\n",
       "   'size percent': {'min': 0.05, 'max': 0.15},\n",
       "   'pad': {'min': 0.01, 'max': 0.2}},\n",
       "  'xmin': -10000,\n",
       "  'xmax': 10000,\n",
       "  'ymin': -10000,\n",
       "  'ymax': 10000,\n",
       "  'error bars': {'elinewidth': {'min': 1, 'max': 5},\n",
       "   'x': {'prob': 0.25, 'size': {'min': 0.01, 'max': 0.1}},\n",
       "   'y': {'prob': 0.25, 'size': {'min': 0.01, 'max': 0.1}}},\n",
       "  'distribution': {'random': {'prob': 0.3333333333333333},\n",
       "   'linear': {'prob': 0.3333333333333333,\n",
       "    'intersect': (-100, 100),\n",
       "    'slope': (-5, 5),\n",
       "    'noise': (0, 0.25),\n",
       "    'color noise prob': 0.5},\n",
       "   'gmm': {'prob': 0.3333333333333333,\n",
       "    'upsample factor log': {'min': 2, 'max': 6},\n",
       "    'nclusters': {'min': 1, 'max': 5},\n",
       "    'nsamples': {'min': 1000, 'max': 50000},\n",
       "    'cluster std': {'min': -1, 'max': 0.5},\n",
       "    'noise': {'min': 0.05, 'max': 0.25},\n",
       "    'color noise prob': 0.5,\n",
       "    'max points': 200}}},\n",
       " 'contour': {'prob': 0,\n",
       "  'npoints': {'nx': {'min': 10, 'max': 500}, 'ny': {'min': 10, 'max': 500}},\n",
       "  'nlines': {'min': 3, 'max': 10},\n",
       "  'colors': {'min': -100, 'max': 100},\n",
       "  'colormap contour': {'prob': 0.95},\n",
       "  'color bar': {'location probs': {'right': 0.5882352941176471,\n",
       "    'left': 0.05882352941176471,\n",
       "    'top': 0.29411764705882354,\n",
       "    'bottom': 0.05882352941176471},\n",
       "   'label prob': 0.5,\n",
       "   'size percent': {'min': 0.05, 'max': 0.15},\n",
       "   'pad': {'min': 0.01, 'max': 0.2}},\n",
       "  'image or contour': {'prob': {'image': 0.3333333333333333,\n",
       "    'contour': 0.3333333333333333,\n",
       "    'both': 0.3333333333333333},\n",
       "   'both contours': {'prob gray': 0.95}},\n",
       "  'xmin': -10000,\n",
       "  'xmax': 10000,\n",
       "  'ymin': -10000,\n",
       "  'ymax': 10000,\n",
       "  'distribution': {'random': {'prob': 0.3333333333333333},\n",
       "   'linear': {'prob': 0.3333333333333333,\n",
       "    'intersect': (-100, 100),\n",
       "    'slope': (-5, 5),\n",
       "    'noise': (0, 0.25)},\n",
       "   'gmm': {'prob': 0.3333333333333333,\n",
       "    'nclusters': {'min': 1, 'max': 500},\n",
       "    'upsample factor log': {'min': 0, 'max': 0.5},\n",
       "    'cluster std': {'min': -1, 'max': 1.5},\n",
       "    'noise': {'min': 0.05, 'max': 0.25},\n",
       "    'color noise prob': 0.5}}},\n",
       " 'image of the sky': {'prob': 0,\n",
       "  'npoints': {'nx': {'min': 10, 'max': 500}, 'ny': {'min': 10, 'max': 500}},\n",
       "  'nlines': {'min': 3, 'max': 10},\n",
       "  'colors': {'min': -100, 'max': 100},\n",
       "  'colormap contour': {'prob': 0.95},\n",
       "  'color bar': {'location probs': {'right': 0.5882352941176471,\n",
       "    'left': 0.05882352941176471,\n",
       "    'top': 0.29411764705882354,\n",
       "    'bottom': 0.05882352941176471},\n",
       "   'label prob': 0.5,\n",
       "   'size percent': {'min': 0.05, 'max': 0.15},\n",
       "   'pad': {'min': 0.01, 'max': 0.2}},\n",
       "  'image or contour': {'prob': {'image': 0.3333333333333333,\n",
       "    'contour': 0.3333333333333333,\n",
       "    'both': 0.3333333333333333},\n",
       "   'both contours': {'prob gray': 0.95}},\n",
       "  'xy labels ra/dec': [{'x': 'ra', 'y': 'dec'},\n",
       "   {'x': 'ra.', 'y': 'dec.'},\n",
       "   {'x': 'right ascension', 'y': 'declination'},\n",
       "   {'x': '$\\\\alpha$', 'y': '$\\\\delta$'}],\n",
       "  'show temporal': {'prob': 0.5,\n",
       "   'styles': [{'start': 'J', 'end': ''},\n",
       "    {'start': '(J', 'end': ')'},\n",
       "    {'start': '(', 'end': ')'},\n",
       "    {'start': '(B', 'end': ')'}]},\n",
       "  'distribution': {'gmm': {'prob': 0.5,\n",
       "    'nclusters': {'min': 1, 'max': 500},\n",
       "    'upsample factor log': {'min': 0, 'max': 0.5},\n",
       "    'cluster std': {'min': -1, 'max': 1.5},\n",
       "    'noise': {'min': 0.05, 'max': 0.25},\n",
       "    'color noise prob': 0.5,\n",
       "    'centers': {'center_ra': {'min': 0, 'max': 360},\n",
       "     'center_dec': {'min': -90, 'max': 90},\n",
       "     'center_scale': {'min': 3.5999999999999996,\n",
       "      'max': 36000,\n",
       "      'scale': 'log'}}},\n",
       "   'sky': {'prob': 0.5,\n",
       "    'object wavelength table': 'object_wavelength_pairs.pickle',\n",
       "    'query images dir': 'astroquery_images/',\n",
       "    'missing obj/surveys list': 'obj_survey_missing_list.csv',\n",
       "    'image width': 300,\n",
       "    'image height': 300,\n",
       "    'resolution': {'min': 0.5, 'max': 1.0}}}}}"
      ]
     },
     "execution_count": 15,
     "metadata": {},
     "output_type": "execute_result"
    }
   ],
   "source": [
    "# reload for debug\n",
    "import utils.synthetic_fig_utils\n",
    "reload(utils)\n",
    "reload(utils.synthetic_fig_utils)\n",
    "from utils.synthetic_fig_utils import normalize_params_prob\n",
    "\n",
    "plot_params_out, panel_params, \\\n",
    "  title_params, xlabel_params, \\\n",
    "  ylabel_params = normalize_params_prob(plot_params.copy(), panel_params, \n",
    "                                        title_params, xlabel_params, \n",
    "                                        ylabel_params, colorbar_params)\n",
    "\n",
    "plot_params_out"
   ]
  },
  {
   "cell_type": "markdown",
   "id": "5231b45e",
   "metadata": {},
   "source": [
    "### Run the thing"
   ]
  },
  {
   "cell_type": "code",
   "execution_count": 16,
   "id": "2751985c",
   "metadata": {},
   "outputs": [
    {
     "name": "stdout",
     "output_type": "stream",
     "text": [
      "seed_outer = 6700012876856450103\n"
     ]
    }
   ],
   "source": [
    "# Set a seed if you want a reproducible thing\n",
    "seed_outer = np.random.randint(maxint)\n",
    "#seed_outer = 7526304181034464103\n",
    "seed_outer = 6700012876856450103\n",
    "\n",
    "print('seed_outer =',seed_outer)\n",
    "rng_outer = np.random.default_rng(seed_outer)"
   ]
  },
  {
   "cell_type": "code",
   "execution_count": 17,
   "id": "27aa8e6c",
   "metadata": {},
   "outputs": [
    {
     "name": "stdout",
     "output_type": "stream",
     "text": [
      "seed =  7067533564274193147\n"
     ]
    }
   ],
   "source": [
    "# \"Inner\" seed -- for things like distributions and whatnot\n",
    "seed = np.random.randint(maxint)\n",
    "#seed = 2870146871786070273\n",
    "seed = 7067533564274193147\n",
    "print('seed = ', seed)\n",
    "# based on seed, make random number generator, see: https://numpy.org/doc/2.2/reference/random/generator.html\n",
    "rng = np.random.default_rng(seed)\n",
    "condition_overlap_xticklabels = True"
   ]
  },
  {
   "cell_type": "code",
   "execution_count": 18,
   "id": "3d28ba6e",
   "metadata": {},
   "outputs": [],
   "source": [
    "# set some things to keep standard across images\n",
    "\n",
    "tight_layout = True\n",
    "\n",
    "color_map = 'Blues' #rng_outer.choice(plt.colormaps())\n",
    "\n",
    "plot_style = 'default' #rng_outer.choice(plot_styles)\n",
    "\n",
    "npanels, panel_style, nrows, ncols = 1, 'square', 1, 1 #get_nrows_and_ncols(panel_params, rng=rng_outer)\n",
    "\n",
    "aspect_fig = 0.9\n",
    "\n",
    "dpi =  300 # int(rng_outer.uniform(low=dpi_params['min'], high=dpi_params['max']))"
   ]
  },
  {
   "cell_type": "code",
   "execution_count": 19,
   "id": "4a4a2738",
   "metadata": {},
   "outputs": [],
   "source": [
    "# use the \"fixed\" RNG outer\n",
    "# get all font stuffs\n",
    "title_fontsize, colorbar_fontsize, xlabel_fontsize, ylabel_fontsize, \\\n",
    "    xlabel_ticks_fontsize, ylabel_ticks_fontsize, \\\n",
    "                        csfont = get_font_info(fontsizes, font_names, rng=rng_outer)"
   ]
  },
  {
   "cell_type": "code",
   "execution_count": 20,
   "id": "5880bc59",
   "metadata": {},
   "outputs": [],
   "source": [
    "def make_base_plot(plot_style, color_map, dpi, nrows, ncols, \n",
    "                   base=5, verbose=True, tight_layout = True):\n",
    "    plt.close('all')\n",
    "    plt.style.use(plot_style)\n",
    "    plt.set_cmap(color_map) \n",
    "    figsize = (base*ncols*aspect_fig, base*nrows) # w,h\n",
    "    if verbose: print('figsize (w,h) =', figsize)\n",
    "\n",
    "    if tight_layout:\n",
    "        fig = plt.figure(figsize=figsize, dpi=dpi,layout='tight')\n",
    "    else:\n",
    "        fig = plt.figure(figsize=figsize, dpi=dpi)\n",
    "\n",
    "    axes = []\n",
    "    for i in range(nrows):\n",
    "        for j in range(ncols):\n",
    "            iplot = (i*nrows) + j\n",
    "            ax = fig.add_subplot(nrows, ncols, iplot + 1)\n",
    "            axes.append(ax)\n",
    "\n",
    "    return fig, axes #, axes, plot_inds"
   ]
  },
  {
   "cell_type": "code",
   "execution_count": null,
   "id": "8b7684e6",
   "metadata": {},
   "outputs": [],
   "source": []
  },
  {
   "cell_type": "code",
   "execution_count": null,
   "id": "2d9e0d13",
   "metadata": {},
   "outputs": [],
   "source": []
  },
  {
   "cell_type": "code",
   "execution_count": 21,
   "id": "4910eae0",
   "metadata": {},
   "outputs": [
    {
     "data": {
      "text/plain": [
       "'histogram'"
      ]
     },
     "execution_count": 21,
     "metadata": {},
     "output_type": "execute_result"
    }
   ],
   "source": [
    "choices = []; probs = []\n",
    "for k,v in plot_params_out.items():\n",
    "    choices.append(k)\n",
    "    probs.append(v['prob'])\n",
    "\n",
    "plot_type = rng.choice(choices, p=probs)\n",
    "plot_type"
   ]
  },
  {
   "cell_type": "code",
   "execution_count": 22,
   "id": "f70f1ae0",
   "metadata": {},
   "outputs": [],
   "source": [
    "distribution_type = 'gmm'\n",
    "xmin, xmax = -1, 1 # for now\n",
    "\n",
    "# now specific for *this plot*\n",
    "plot_params_here = plot_params_out.copy()\n",
    "\n",
    "plot_params_here['histogram']['xmin'] = xmin\n",
    "plot_params_here['histogram']['xmax'] = xmax\n",
    "\n",
    "plot_params_here['histogram']['distribution']['gmm']['nclusters'] = {'min': 1, 'max': 1}\n",
    "plot_params_here['histogram']['distribution']['gmm']['nsamples'] = {'min': 10000, 'max': 10000}\n",
    "#plot_params_here['histogram']['distribution']['gmm']['xmin'] = xmin # are these even used??\n",
    "#plot_params_here['histogram']['distribution']['gmm']['xmax'] = xmax # are these even used??\n",
    "\n",
    "dist_params = plot_params_here[plot_type]['distribution'] "
   ]
  },
  {
   "cell_type": "code",
   "execution_count": 23,
   "id": "1e68796f",
   "metadata": {},
   "outputs": [
    {
     "data": {
      "text/plain": [
       "{'random': {'prob': 0.0},\n",
       " 'linear': {'prob': 0.5,\n",
       "  'intersect': (-100, 100),\n",
       "  'slope': (-5, 5),\n",
       "  'noise': (0, 0.25)},\n",
       " 'gmm': {'prob': 0.5,\n",
       "  'xmin': -10000,\n",
       "  'xmax': 10000,\n",
       "  'ymin': -10000,\n",
       "  'ymax': 10000,\n",
       "  'nclusters': {'min': 1, 'max': 1},\n",
       "  'nsamples': {'min': 10000, 'max': 10000},\n",
       "  'cluster std': {'min': -1, 'max': 1.5},\n",
       "  'noise': {'min': 0.05, 'max': 0.25}}}"
      ]
     },
     "execution_count": 23,
     "metadata": {},
     "output_type": "execute_result"
    }
   ],
   "source": [
    "dist_params"
   ]
  },
  {
   "cell_type": "code",
   "execution_count": 24,
   "id": "3502e136",
   "metadata": {},
   "outputs": [
    {
     "data": {
      "text/plain": [
       "{'xs': array([0.82055095, 0.82375684, 0.82172528, ..., 0.86056228, 0.87080305,\n",
       "        0.83310381]),\n",
       " 'ys': [],\n",
       " 'xerrs': True,\n",
       " 'data params': {'nsamples': 10000,\n",
       "  'nclusters': 1,\n",
       "  'centers': array([[0.85855147]]),\n",
       "  'cluster_std': array([0.14265167]),\n",
       "  'noise level': 0.1049343528642392}}"
      ]
     },
     "execution_count": 24,
     "metadata": {},
     "output_type": "execute_result"
    }
   ],
   "source": [
    "import utils.distribution_utils\n",
    "reload(utils.distribution_utils)\n",
    "\n",
    "data_for_plot = get_data(plot_params_here[plot_type],\n",
    "                plot_type=plot_type,\n",
    "                        distribution=distribution_type, \n",
    "                        rng=rng)\n",
    "data_for_plot"
   ]
  },
  {
   "cell_type": "code",
   "execution_count": 51,
   "id": "f060f6f1",
   "metadata": {},
   "outputs": [],
   "source": [
    "def add_titles_and_labels(ax, popular_nouns_x, popular_nouns_y, popular_nouns_title, \n",
    "                          title_params, csfont, title_fontsize, \n",
    "                          xlabel_params, inlines, xlabel_ticks_fontsize, ylabel_ticks_fontsize,\n",
    "                          rng=np.random):\n",
    "    p = rng.uniform(0,1)\n",
    "    if p < title_params['prob']:\n",
    "        title_words = get_titles_or_labels(popular_nouns_title, title_params['capitalize'],\n",
    "                                    title_params['equation'], inlines,\n",
    "                                    nwords=rng.integers(low=title_params['n words']['min'],\n",
    "                                                            high=title_params['n words']['max']+1), \n",
    "                                                            rng=rng)\n",
    "        title = ax.set_title(title_words, fontsize = title_fontsize, **csfont)\n",
    "    else:\n",
    "        title = ''\n",
    "\n",
    "    xlabel_words = get_titles_or_labels(popular_nouns_x, xlabel_params['capitalize'],\n",
    "                                xlabel_params['equation'], inlines,\n",
    "                                nwords=rng.integers(low=xlabel_params['n words']['min'],\n",
    "                                                        high=xlabel_params['n words']['max']+1),\n",
    "                                                        rng=rng)\n",
    "    ylabel_words = get_titles_or_labels(popular_nouns_y, ylabel_params['capitalize'],\n",
    "                                ylabel_params['equation'], inlines,\n",
    "                                nwords=rng.integers(low=ylabel_params['n words']['min'],\n",
    "                                                        high=ylabel_params['n words']['max']+1),\n",
    "                                                        rng=rng)\n",
    "    \n",
    "    xlabel = ax.set_xlabel(xlabel_words, fontsize=xlabel_fontsize, **csfont)\n",
    "    ylabel = ax.set_ylabel(ylabel_words, fontsize=ylabel_fontsize, **csfont)\n",
    "\n",
    "    # set ticksizes\n",
    "    ax.tick_params(axis='x', which='major', labelsize=xlabel_ticks_fontsize, labelfontfamily=csfont['fontname'])\n",
    "    ax.tick_params(axis='y', which='major', labelsize=ylabel_ticks_fontsize, labelfontfamily=csfont['fontname'])\n",
    "\n",
    "    return title, xlabel, ylabel\n"
   ]
  },
  {
   "cell_type": "code",
   "execution_count": 52,
   "id": "3ea32095",
   "metadata": {},
   "outputs": [
    {
     "name": "stdout",
     "output_type": "stream",
     "text": [
      "figsize (w,h) = (1.8, 2)\n"
     ]
    },
    {
     "data": {
      "text/plain": [
       "<Figure size 640x480 with 0 Axes>"
      ]
     },
     "metadata": {},
     "output_type": "display_data"
    },
    {
     "data": {
      "image/png": "[encoded data removed]",
      "text/plain": [
       "<Figure size 540x600 with 1 Axes>"
      ]
     },
     "metadata": {},
     "output_type": "display_data"
    }
   ],
   "source": [
    "import utils.plot_utils\n",
    "reload(utils.plot_utils)\n",
    "from utils.plot_utils import make_plot\n",
    "\n",
    "popular_nouns_x = ['x axis']\n",
    "popular_nouns_y = ['y axis']\n",
    "popular_nouns_title = ['title']\n",
    "\n",
    "fig, axes = make_base_plot(plot_style, color_map, dpi, nrows, ncols, \n",
    "                   base=2, verbose=True, tight_layout = tight_layout)\n",
    "\n",
    "data_from_plot, ax = make_plot(plot_params_here[plot_type], data_for_plot, \n",
    "                        axes[0], plot_type=plot_type, linestyles=linestyles_hist, \n",
    "                        rng=rng, \n",
    "                        barcolor='cyan', linecolor=np.array((0,0,0)).astype('float'), hasErr = False, lthick=1, nbins=10, rwidth=1.0)\n",
    "\n",
    "\n",
    "title, xlabel, ylabel = add_titles_and_labels(ax, popular_nouns_x, popular_nouns_y, popular_nouns_title, \n",
    "                                              title_params, csfont, title_fontsize, \n",
    "                          xlabel_params, inlines, xlabel_ticks_fontsize, ylabel_ticks_fontsize,\n",
    "                          rng=rng)"
   ]
  },
  {
   "cell_type": "code",
   "execution_count": 43,
   "id": "baea33c8",
   "metadata": {},
   "outputs": [
    {
     "data": {
      "text/plain": [
       "(array([266., 270., 277., 283., 302., 317., 306., 310., 298., 306.]),\n",
       " array([0.77411229, 0.78546148, 0.79681067, 0.80815986, 0.81950905,\n",
       "        0.83085824, 0.84220744, 0.85355663, 0.86490582, 0.87625501,\n",
       "        0.8876042 ]),\n",
       " <BarContainer object of 10 artists>)"
      ]
     },
     "execution_count": 43,
     "metadata": {},
     "output_type": "execute_result"
    },
    {
     "data": {
      "image/png": "[encoded data removed]",
      "text/plain": [
       "<Figure size 640x480 with 1 Axes>"
      ]
     },
     "metadata": {},
     "output_type": "display_data"
    }
   ],
   "source": [
    "plt.hist(data_for_plot['xs'], color=[np.array([0, 0, 0])])#, edgecolor=(0,0,0))"
   ]
  },
  {
   "cell_type": "code",
   "execution_count": 26,
   "id": "5954119c",
   "metadata": {},
   "outputs": [
    {
     "data": {
      "text/plain": [
       "{'xs': array([0.82055095, 0.82375684, 0.82172528, ..., 0.86056228, 0.87080305,\n",
       "        0.83310381]),\n",
       " 'ys': [],\n",
       " 'xerrs': True,\n",
       " 'data params': {'nsamples': 10000,\n",
       "  'nclusters': 1,\n",
       "  'centers': array([[0.85855147]]),\n",
       "  'cluster_std': array([0.14265167]),\n",
       "  'noise level': 0.1049343528642392}}"
      ]
     },
     "execution_count": 26,
     "metadata": {},
     "output_type": "execute_result"
    }
   ],
   "source": [
    "data_for_plot"
   ]
  },
  {
   "cell_type": "markdown",
   "id": "c78a47fc",
   "metadata": {},
   "source": [
    "Loop for several distributions and save:"
   ]
  },
  {
   "cell_type": "code",
   "execution_count": 27,
   "id": "6de0aa77",
   "metadata": {},
   "outputs": [],
   "source": [
    "from utils.histogram_plot_qa_utils import q_nbars_hist_plot_plotnums, q_colors_hist_plot_plotnums, \\\n",
    "  q_colorlines_hist_plot_plotnums, q_linethickness_hists, q_barpoints_bars, q_stats_hists, \\\n",
    "  q_errorbars_existance_lines, q_errorbars_size_histogram, q_distribution_hists, \\\n",
    "  q_linear_equation_hists, q_gmm_equation_hists"
   ]
  },
  {
   "cell_type": "code",
   "execution_count": 50,
   "id": "d564a7c7",
   "metadata": {},
   "outputs": [
    {
     "data": {
      "text/plain": [
       "{'prob': 0.5,\n",
       " 'xmin': -10000,\n",
       " 'xmax': 10000,\n",
       " 'ymin': -10000,\n",
       " 'ymax': 10000,\n",
       " 'nclusters': {'min': 5, 'max': 5},\n",
       " 'nsamples': {'min': 10000, 'max': 10000},\n",
       " 'cluster std': {'min': -1, 'max': 0.0},\n",
       " 'noise': {'min': 0.05, 'max': 0.25}}"
      ]
     },
     "execution_count": 50,
     "metadata": {},
     "output_type": "execute_result"
    }
   ],
   "source": [
    "plot_params_loop['histogram']['distribution']['gmm']"
   ]
  },
  {
   "cell_type": "code",
   "execution_count": 48,
   "id": "7f45eaab",
   "metadata": {},
   "outputs": [
    {
     "data": {
      "text/plain": [
       "np.float64(0.0)"
      ]
     },
     "execution_count": 48,
     "metadata": {},
     "output_type": "execute_result"
    }
   ],
   "source": [
    "np.log10(1)"
   ]
  },
  {
   "cell_type": "code",
   "execution_count": null,
   "id": "a62e85e1",
   "metadata": {},
   "outputs": [
    {
     "data": {
      "text/plain": [
       "(1.0023052380778996, 1e-05)"
      ]
     },
     "execution_count": 46,
     "metadata": {},
     "output_type": "execute_result"
    }
   ],
   "source": []
  },
  {
   "cell_type": "code",
   "execution_count": null,
   "id": "b21dbf12",
   "metadata": {},
   "outputs": [
    {
     "name": "stdout",
     "output_type": "stream",
     "text": [
      "[0.03347728]\n",
      "\n",
      "[0.20480413 0.05816331]\n",
      "\n",
      "[0.44073209 0.05365305 0.0919253 ]\n",
      "\n",
      "[0.00426272 0.04718612 0.0047905  0.00154328]\n",
      "\n",
      "[0.13842184 0.03065702 0.84884826 0.89937676 0.416444  ]\n",
      "\n",
      "[0.09995897]\n",
      "\n",
      "[0.01497706 0.21718388]\n",
      "\n",
      "[1.45992245 0.39059943 0.04085045]\n",
      "\n",
      "[0.0796495  0.66076019 0.02661407 0.0468536 ]\n",
      "\n",
      "[0.02737766 0.00360687 0.00414794 0.0952566  0.12729212]\n",
      "\n",
      "[0.21336092]\n",
      "\n",
      "[0.10527033 0.08634688]\n",
      "\n",
      "[1.29459229 0.59434596 0.09598851]\n",
      "\n",
      "[0.08672916 0.00904968 0.03532988 0.02015981]\n",
      "\n",
      "[0.16595984 0.01251845 0.01944978 0.52687905 0.03220452]\n",
      "\n",
      "[0.02385524]\n",
      "\n",
      "[0.04425953 0.16690867]\n",
      "\n",
      "[0.4518619  1.34018709 0.11296863]\n",
      "\n",
      "[0.72597889 0.07551416 0.01150822 0.22016778]\n",
      "\n",
      "[0.0816402  0.02366478 0.01622091 0.25140574 0.11786768]\n",
      "\n",
      "[0.28998427]\n",
      "\n",
      "[0.55828584 0.0138227 ]\n",
      "\n",
      "[0.11273586 0.92845862 1.17976882]\n",
      "\n",
      "[0.03950808 0.01740531 0.00739557 0.48133875]\n",
      "\n",
      "[0.42161403 0.16066913 0.15511238 0.33139978 0.0277185 ]\n",
      "\n",
      "[0.03947154]\n",
      "\n",
      "[0.77279455 0.01160212]\n",
      "\n",
      "[0.08693684 0.05989029 0.00773267]\n",
      "\n",
      "[0.135804   0.09163256 0.04658302 0.02228919]\n",
      "\n",
      "[0.00082667 0.00150746 0.04130729 0.00315677 0.00212389]\n",
      "\n",
      "[0.32767239]\n",
      "\n",
      "[0.06476339 0.06176371]\n",
      "\n",
      "[0.63439456 0.24336922 0.12519415]\n",
      "\n",
      "[0.17811059 0.11276792 0.20228121 0.01194211]\n",
      "\n",
      "[0.31586434 0.22005041 0.03511576 0.56629979 0.20427858]\n",
      "\n",
      "[0.32586017]\n",
      "\n",
      "[0.00645939 0.00801142]\n",
      "\n",
      "[0.39889518 0.70809803 0.48188355]\n",
      "\n",
      "[0.02499812 0.3912431  0.30924258 0.15936293]\n",
      "\n",
      "[0.37542272 0.02378077 0.11378711 0.82649637 0.71398499]\n",
      "\n",
      "[0.00066794]\n",
      "\n",
      "[0.03541833 0.00354981]\n",
      "\n",
      "[0.1538417  0.06969161 0.71361991]\n",
      "\n",
      "[0.02594671 0.08335844 0.00685139 0.24814345]\n",
      "\n",
      "[0.00314482 0.00462046 0.00547298 0.01775733 0.00567227]\n",
      "\n",
      "[0.04633712]\n",
      "\n",
      "[0.06694797 0.04825764]\n",
      "\n",
      "[0.34638727 0.20319895 0.03008298]\n",
      "\n",
      "[1.02738351 0.22601784 0.01865884 0.57750404]\n",
      "\n",
      "[0.16857322 0.23697407 0.01223546 0.52801417 0.82088157]\n",
      "\n"
     ]
    },
    {
     "data": {
      "text/plain": [
       "<Figure size 640x480 with 0 Axes>"
      ]
     },
     "metadata": {},
     "output_type": "display_data"
    },
    {
     "data": {
      "image/png": "[encoded data removed]",
      "text/plain": [
       "<Figure size 540x600 with 1 Axes>"
      ]
     },
     "metadata": {},
     "output_type": "display_data"
    }
   ],
   "source": [
    "nclusters = [1, 2, 3, 4, 5]\n",
    "\n",
    "cluster_std = {'min':-2, 'max':0.0} # in 10^\n",
    "\n",
    "noise = {'min': 0.05, 'max': 0.1}\n",
    "\n",
    "plot_json = []\n",
    "\n",
    "ntrials = 10\n",
    "\n",
    "for n in range(ntrials):\n",
    "    for nclust in nclusters:\n",
    "        plot_params_loop = plot_params_here.copy()\n",
    "        plot_params_loop['histogram']['distribution']['gmm']['nclusters'] = {'min': nclust, 'max': nclust}\n",
    "        plot_params_loop['histogram']['distribution']['gmm']['cluster std'] = cluster_std\n",
    "        plot_params_loop['histogram']['distribution']['gmm']['noise'] = noise\n",
    "        data_for_plot = get_data(plot_params_loop[plot_type],\n",
    "                        plot_type=plot_type,\n",
    "                                distribution=distribution_type, \n",
    "                                rng=rng)\n",
    "        pltjson = {}\n",
    "        pltjson['nclusters'] = nclust\n",
    "        pltjson['data for plot'] = data_for_plot.copy()\n",
    "\n",
    "        fig, axes = make_base_plot(plot_style, color_map, dpi, nrows, ncols, \n",
    "                    base=2, verbose=False, tight_layout = tight_layout)\n",
    "\n",
    "        data_from_plot, ax = make_plot(plot_params_loop[plot_type], data_for_plot, \n",
    "                                axes[0], plot_type=plot_type, linestyles=linestyles_hist, \n",
    "                                rng=rng, \n",
    "                                barcolor='cyan', linecolor=(0,0,0), hasErr = False, lthick=1, nbins=50, rwidth=1.0)\n",
    "        pltjson['data from plot'] = data_from_plot.copy()\n",
    "        # print(data_for_plot['data params']['cluster_std'])\n",
    "        # print('')\n",
    "\n",
    "        # save image\n",
    "        fig.savefig(fake_figs_dir + 'nclust_' + str(nclust) + '_trial' + str(n) + '.pdf')\n",
    "\n",
    "\n",
    "        #plot_json.append(pltjson.copy())"
   ]
  },
  {
   "cell_type": "code",
   "execution_count": 29,
   "id": "c4c42070",
   "metadata": {},
   "outputs": [
    {
     "data": {
      "text/plain": [
       "'/Users/jnaiman/Dropbox/wwt_image_extraction/Paper_JCDL2025/example_hists/'"
      ]
     },
     "execution_count": 29,
     "metadata": {},
     "output_type": "execute_result"
    }
   ],
   "source": [
    "fake_figs_dir"
   ]
  },
  {
   "cell_type": "code",
   "execution_count": null,
   "id": "75173cda-2b70-4b78-8495-3e45ea9e9828",
   "metadata": {},
   "outputs": [],
   "source": []
  }
 ],
 "metadata": {
  "kernelspec": {
   "display_name": "FullProcess",
   "language": "python",
   "name": "python3"
  },
  "language_info": {
   "codemirror_mode": {
    "name": "ipython",
    "version": 3
   },
   "file_extension": ".py",
   "mimetype": "text/x-python",
   "name": "python",
   "nbconvert_exporter": "python",
   "pygments_lexer": "ipython3",
   "version": "3.10.9"
  }
 },
 "nbformat": 4,
 "nbformat_minor": 5
}
