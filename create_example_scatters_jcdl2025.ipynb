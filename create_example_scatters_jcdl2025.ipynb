{
 "cells": [
  {
   "cell_type": "code",
   "execution_count": 1,
   "id": "a384e543",
   "metadata": {},
   "outputs": [],
   "source": [
    "# save files\n",
    "fullproc_r = './resources/' # for words/names\n",
    "\n",
    "# where to save the figures that are created\n",
    "fake_figs_dir = './example_scatters/' # saving in github only for small numbers\n",
    "# stop overwriting what is there\n",
    "#fake_figs_dir = '/Users/jnaiman/Downloads/tmp/JCDL2025/example_scatters/'\n",
    "\n",
    "# format for saving images?\n",
    "img_format = ['jpeg']\n",
    "\n",
    "# save diagnostic plot with all items labeled?\n",
    "save_diagnostic_plot = True"
   ]
  },
  {
   "cell_type": "code",
   "execution_count": 2,
   "id": "04d8c43d",
   "metadata": {},
   "outputs": [],
   "source": [
    "# import matplotlib.pyplot as plt\n",
    "# plt.errorbar?"
   ]
  },
  {
   "cell_type": "code",
   "execution_count": 3,
   "id": "82acb676",
   "metadata": {},
   "outputs": [],
   "source": [
    "# debug\n",
    "from importlib import reload\n",
    "\n",
    "import numpy as np\n",
    "import matplotlib.pyplot as plt\n",
    "from PIL import Image\n",
    "import cv2 as cv\n",
    "import pickle\n",
    "import pandas as pd\n",
    "#import string\n",
    "from glob import glob\n",
    "from mpl_toolkits.axes_grid1 import make_axes_locatable\n",
    "from PIL import ImageColor\n",
    "import json\n",
    "import os\n",
    "from copy import deepcopy\n",
    "import copy\n",
    "\n",
    "from utils.metric_utils.utilities import isRectangleOverlap\n",
    "\n",
    "import time\n",
    "\n",
    "import matplotlib as mpl\n",
    "import os\n",
    "os.environ[\"PATH\"] += os.pathsep + '/Library/TeX/texbin'\n",
    "mpl.rcParams['text.usetex'] = True\n",
    "mpl.rcParams['text.latex.preamble'] = r'\\usepackage{amsmath} \\usepackage{amssymb}' #for \\text command\n",
    "\n",
    "# written libs -- will update locally\n",
    "from utils.synthetic_fig_utils import subset_by_percent, \\\n",
    " get_nrows_and_ncols, normalize_params_prob, get_ticks, get_titles_or_labels, \\\n",
    " get_font_info\n",
    "\n",
    "import utils.plot_utils\n",
    "reload(utils.plot_utils)\n",
    "from utils.plot_utils import get_contour_plot, get_histogram_plot, \\\n",
    "   get_line_plot, get_scatter_plot, make_plot, colorbar_mods, make_base_plot#, get_line_plot\n",
    "\n",
    "from utils.text_utils import get_popular_nouns, get_inline_math\n",
    "\n",
    "# create a bunch of fake figures\n",
    "import utils.synthetic_fig_utils\n",
    "reload(utils.synthetic_fig_utils)\n",
    "from utils.synthetic_fig_utils import normalize_params_prob, add_titles_and_labels\n",
    "from utils.plot_parameters import plot_types_params, panel_params, \\\n",
    "  title_params, xlabel_params, colorbar_params, \\\n",
    "  ylabel_params, aspect_fig_params, dpi_params, tight_layout_params, \\\n",
    "  fontsizes, base\n",
    "\n",
    "from utils.data_utils import get_data, NumpyEncoder\n",
    "import numpy as np\n",
    "\n",
    "import utils.distribution_utils\n",
    "\n",
    "from utils.plot_utils import markers\n",
    "marker_sizes = np.arange(0,10)+1\n",
    "line_list_thick = np.arange(1,10)\n",
    "\n",
    "use_uniques = True # use unique inlines\n",
    "verbose = True\n",
    "\n",
    "from sys import path\n",
    "path.append('/Library/TeX/texbin/')\n",
    "\n",
    "\n",
    "\n",
    "# for seed\n",
    "from sys import maxsize as maxint\n",
    "\n",
    "import warnings\n",
    "warnings.filterwarnings(\"error\")"
   ]
  },
  {
   "cell_type": "code",
   "execution_count": 14,
   "id": "4d785d10",
   "metadata": {},
   "outputs": [],
   "source": [
    "# check directories\n",
    "img_dir = fake_figs_dir + '/imgs/'\n",
    "if not os.path.exists(img_dir):\n",
    "    os.mkdir(img_dir)\n",
    "    print('made:', img_dir)\n",
    "json_dir = fake_figs_dir + '/jsons/'\n",
    "if not os.path.exists(json_dir):\n",
    "    os.mkdir(json_dir)\n",
    "    print('made:', json_dir)"
   ]
  },
  {
   "cell_type": "code",
   "execution_count": 15,
   "id": "b066179c",
   "metadata": {},
   "outputs": [],
   "source": [
    "# get fonts -- see \"cnn_create_synthetic_ticks\" in FullProcess\n",
    "dfont = pd.read_csv(fullproc_r + 'fonts.csv')\n",
    "\n",
    "# check that location is there\n",
    "drop_names = []\n",
    "for fl in dfont['font location']:\n",
    "    if not os.path.exists(fl):\n",
    "        drop_names.append(False)\n",
    "    else:\n",
    "        drop_names.append(True)\n",
    "\n",
    "font_names = dfont.loc[drop_names]['font name'].values\n",
    "\n",
    "# # for plot styles\n",
    "# plot_styles = plt.style.available\n",
    "\n",
    "# plot_types_qa = ['line', 'scatter', 'histogram']\n",
    "\n",
    "plot_styles = ['default']"
   ]
  },
  {
   "cell_type": "code",
   "execution_count": 16,
   "id": "52bbd3e2",
   "metadata": {},
   "outputs": [],
   "source": [
    "# stats for doing calculations\n",
    "stats = {'minimum':np.min, 'maximum':np.max, 'median':np.median, 'mean':np.mean}\n",
    "\n",
    "# some things to try\n",
    "aspect_cut = {'min':0.3, 'max':4.0}"
   ]
  },
  {
   "cell_type": "code",
   "execution_count": 17,
   "id": "9f0dc2a5",
   "metadata": {},
   "outputs": [
    {
     "name": "stdout",
     "output_type": "stream",
     "text": [
      "16253 343492\n",
      "shape of output= (5097, 5)\n",
      "shape of output= (36332, 5)\n",
      "number of inlines =  33201\n"
     ]
    }
   ],
   "source": [
    "# get popular words for titles/axis\n",
    "popular_nouns = get_popular_nouns(fullproc_r + 'data/')\n",
    "\n",
    "# get inline math formulas\n",
    "inlines = get_inline_math(fullproc_r,\n",
    "                          recreate_inlines=False,\n",
    "                         use_uniques=use_uniques)"
   ]
  },
  {
   "cell_type": "markdown",
   "id": "3949dc13",
   "metadata": {},
   "source": [
    "## Update plotting params"
   ]
  },
  {
   "cell_type": "markdown",
   "id": "05193107",
   "metadata": {},
   "source": [
    "### Plot type params"
   ]
  },
  {
   "cell_type": "code",
   "execution_count": 18,
   "id": "c1be6ee7",
   "metadata": {},
   "outputs": [],
   "source": [
    "plot_params = plot_types_params.copy()"
   ]
  },
  {
   "cell_type": "code",
   "execution_count": 19,
   "id": "5a9fe905",
   "metadata": {},
   "outputs": [],
   "source": [
    "# probability of getting a scatter plot -- only scatters here\n",
    "plot_params['scatter']['prob'] = 1\n",
    "\n",
    "# probability of getting a line \n",
    "plot_params['line']['prob'] = 0\n",
    "# prob of getting a contour plot\n",
    "plot_params['contour']['prob'] = 0\n",
    "# prob for getting a histogram\n",
    "plot_params['histogram']['prob'] = 0"
   ]
  },
  {
   "cell_type": "markdown",
   "id": "b958d73a-fd58-46b5-9af3-b91cda577b56",
   "metadata": {},
   "source": [
    "### Other parameters"
   ]
  },
  {
   "cell_type": "code",
   "execution_count": 20,
   "id": "8b36fa32-a85d-4dbe-a4f5-bf0be3685094",
   "metadata": {},
   "outputs": [],
   "source": [
    "# for ease of things, lets not do equations here\n",
    "title_params['equation']['prob'] = 0.0 # probability any word will be equation\n",
    "xlabel_params['equation']['prob'] = 0.0 # probability any word will be equation\n",
    "ylabel_params['equation']['prob'] = 0.0 # probability any word will be equation"
   ]
  },
  {
   "cell_type": "markdown",
   "id": "2fae2d31-cdf8-4fde-9302-5f91d9767a7c",
   "metadata": {},
   "source": [
    "Renormalize all probabilities:"
   ]
  },
  {
   "cell_type": "code",
   "execution_count": 21,
   "id": "a1cd495c-be76-4d40-bc74-86e5efecf417",
   "metadata": {},
   "outputs": [
    {
     "name": "stdout",
     "output_type": "stream",
     "text": [
      "title_params capatilize did not add to 1! total = 1.0000000000000002\n",
      "renormalizing...\n",
      "now:  {'none': 0.07692307692307693, 'first': 0.3846153846153846, 'all': 0.5384615384615384}\n",
      "xlabel_params capatilize did not add to 1! total = 1.0000000000000002\n",
      "renormalizing...\n",
      "now:  {'none': 0.07692307692307693, 'first': 0.3846153846153846, 'all': 0.5384615384615384}\n",
      "ylabel_params capatilize did not add to 1! total = 1.0000000000000002\n",
      "renormalizing...\n",
      "now:  {'none': 0.07692307692307693, 'first': 0.3846153846153846, 'all': 0.5384615384615384}\n",
      "colorbar_params capatilize did not add to 1! total = 1.0000000000000002\n",
      "renormalizing...\n",
      "now:  {'none': 0.07692307692307693, 'first': 0.3846153846153846, 'all': 0.5384615384615384}\n",
      "plot_types_params['scatter']['color bar']['location probs'] did not add to 1! total = 0.9999999999999999\n",
      "renormalizing...\n",
      "now:  {'right': 0.5882352941176471, 'left': 0.05882352941176471, 'top': 0.29411764705882354, 'bottom': 0.05882352941176471}\n",
      "plot_types_params['contour']['color bar']['location probs'] did not add to 1! total = 0.9999999999999999\n",
      "renormalizing...\n",
      "now:  {'right': 0.5882352941176471, 'left': 0.05882352941176471, 'top': 0.29411764705882354, 'bottom': 0.05882352941176471}\n"
     ]
    },
    {
     "data": {
      "text/plain": [
       "{'line': {'prob': 0,\n",
       "  'npoints': {'min': 10, 'max': 11},\n",
       "  'line thick': {'min': 1, 'max': 5},\n",
       "  'nlines': {'min': 2, 'max': 3},\n",
       "  'xmin': -10000,\n",
       "  'xmax': 10000,\n",
       "  'ymin': -10000,\n",
       "  'ymax': 10000,\n",
       "  'prob same x': 0.1,\n",
       "  'markers': {'prob': 0.5, 'size': {'min': 1, 'max': 20}},\n",
       "  'error bars': {'elinewidth': {'min': 1, 'max': 5},\n",
       "   'x': {'prob': 0.25, 'size': {'min': 0.01, 'max': 0.1}},\n",
       "   'y': {'prob': 0.25, 'size': {'min': 0.01, 'max': 0.1}}},\n",
       "  'distribution': {'random': {'prob': 0.3333333333333333},\n",
       "   'linear': {'prob': 0.3333333333333333,\n",
       "    'intersect': (-100, 100),\n",
       "    'slope': (-5, 5),\n",
       "    'noise': (0, 0.25)},\n",
       "   'gmm': {'prob': 0.3333333333333333,\n",
       "    'histogram as line': {'prob': 0.25, 'factor': 1000},\n",
       "    'nclusters': {'min': 1, 'max': 20},\n",
       "    'nsamples': {'min': 10, 'max': 500},\n",
       "    'cluster std': {'min': -2, 'max': 0.5},\n",
       "    'noise': {'min': 0.05, 'max': 0.25}}}},\n",
       " 'histogram': {'prob': 0,\n",
       "  'npoints': {'min': 10, 'max': 10000},\n",
       "  'nbins': {'min': 1, 'max': 100},\n",
       "  'rwidth': {'min': 0.2, 'max': 1.0},\n",
       "  'line thick': {'prob': 0.5, 'min': 1, 'max': 5},\n",
       "  'nlines': {'min': 2, 'max': 3},\n",
       "  'xmin': -10000,\n",
       "  'xmax': 10000,\n",
       "  'error bars': {'elinewidth': {'min': 1, 'max': 5},\n",
       "   'x': {'prob': 1, 'size': {'min': 0.01, 'max': 0.1}}},\n",
       "  'horizontal prob': 0.25,\n",
       "  'distribution': {'random': {'prob': 0.3333333333333333},\n",
       "   'linear': {'prob': 0.3333333333333333,\n",
       "    'intersect': (-100, 100),\n",
       "    'slope': (-5, 5),\n",
       "    'noise': (0, 0.25)},\n",
       "   'gmm': {'prob': 0.3333333333333333,\n",
       "    'xmin': -10000,\n",
       "    'xmax': 10000,\n",
       "    'ymin': -10000,\n",
       "    'ymax': 10000,\n",
       "    'nclusters': {'min': 1, 'max': 20},\n",
       "    'nsamples': {'min': 10, 'max': 500},\n",
       "    'cluster std': {'min': -1, 'max': 1.5},\n",
       "    'noise': {'min': 0.05, 'max': 0.25}}}},\n",
       " 'scatter': {'prob': 1,\n",
       "  'npoints': {'min': 10, 'max': 100},\n",
       "  'markers': {'size': {'min': 1, 'max': 30}},\n",
       "  'colors': {'min': -100, 'max': 100},\n",
       "  'colormap scatter': {'prob': 0.95},\n",
       "  'color bar': {'location probs': {'right': 0.5882352941176471,\n",
       "    'left': 0.05882352941176471,\n",
       "    'top': 0.29411764705882354,\n",
       "    'bottom': 0.05882352941176471},\n",
       "   'label prob': 0.5,\n",
       "   'size percent': {'min': 0.05, 'max': 0.15},\n",
       "   'pad': {'min': 0.01, 'max': 0.2}},\n",
       "  'xmin': -10000,\n",
       "  'xmax': 10000,\n",
       "  'ymin': -10000,\n",
       "  'ymax': 10000,\n",
       "  'error bars': {'elinewidth': {'min': 1, 'max': 5},\n",
       "   'x': {'prob': 0.25, 'size': {'min': 0.01, 'max': 0.1}},\n",
       "   'y': {'prob': 0.25, 'size': {'min': 0.01, 'max': 0.1}}},\n",
       "  'distribution': {'random': {'prob': 0.3333333333333333},\n",
       "   'linear': {'prob': 0.3333333333333333,\n",
       "    'intersect': (-100, 100),\n",
       "    'slope': (-5, 5),\n",
       "    'noise': (0, 0.25),\n",
       "    'color noise prob': 0.5},\n",
       "   'gmm': {'prob': 0.3333333333333333,\n",
       "    'upsample factor log': {'min': 2, 'max': 6},\n",
       "    'nclusters': {'min': 1, 'max': 5},\n",
       "    'nsamples': {'min': 1000, 'max': 50000},\n",
       "    'cluster std': {'min': -1, 'max': 0.5},\n",
       "    'noise': {'min': 0.05, 'max': 0.25},\n",
       "    'color noise prob': 0.5,\n",
       "    'max points': 200}}},\n",
       " 'contour': {'prob': 0,\n",
       "  'npoints': {'nx': {'min': 10, 'max': 500}, 'ny': {'min': 10, 'max': 500}},\n",
       "  'nlines': {'min': 3, 'max': 10},\n",
       "  'colors': {'min': -100, 'max': 100},\n",
       "  'colormap contour': {'prob': 0.95},\n",
       "  'color bar': {'location probs': {'right': 0.5882352941176471,\n",
       "    'left': 0.05882352941176471,\n",
       "    'top': 0.29411764705882354,\n",
       "    'bottom': 0.05882352941176471},\n",
       "   'label prob': 0.5,\n",
       "   'size percent': {'min': 0.05, 'max': 0.15},\n",
       "   'pad': {'min': 0.01, 'max': 0.2}},\n",
       "  'image or contour': {'prob': {'image': 0.3333333333333333,\n",
       "    'contour': 0.3333333333333333,\n",
       "    'both': 0.3333333333333333},\n",
       "   'both contours': {'prob gray': 0.95}},\n",
       "  'xmin': -10000,\n",
       "  'xmax': 10000,\n",
       "  'ymin': -10000,\n",
       "  'ymax': 10000,\n",
       "  'distribution': {'random': {'prob': 0.3333333333333333},\n",
       "   'linear': {'prob': 0.3333333333333333,\n",
       "    'intersect': (-100, 100),\n",
       "    'slope': (-5, 5),\n",
       "    'noise': (0, 0.25)},\n",
       "   'gmm': {'prob': 0.3333333333333333,\n",
       "    'nclusters': {'min': 1, 'max': 500},\n",
       "    'upsample factor log': {'min': 0, 'max': 0.5},\n",
       "    'cluster std': {'min': -1, 'max': 1.5},\n",
       "    'noise': {'min': 0.05, 'max': 0.25},\n",
       "    'color noise prob': 0.5}}}}"
      ]
     },
     "execution_count": 21,
     "metadata": {},
     "output_type": "execute_result"
    }
   ],
   "source": [
    "# reload for debug\n",
    "import utils.synthetic_fig_utils\n",
    "reload(utils)\n",
    "reload(utils.synthetic_fig_utils)\n",
    "from utils.synthetic_fig_utils import normalize_params_prob\n",
    "\n",
    "plot_params_out, panel_params, \\\n",
    "  title_params, xlabel_params, \\\n",
    "  ylabel_params = normalize_params_prob(plot_params.copy(), panel_params, \n",
    "                                        title_params, xlabel_params, \n",
    "                                        ylabel_params, colorbar_params)\n",
    "\n",
    "plot_params_out"
   ]
  },
  {
   "cell_type": "markdown",
   "id": "5231b45e",
   "metadata": {},
   "source": [
    "### Run the thing"
   ]
  },
  {
   "cell_type": "code",
   "execution_count": 22,
   "id": "2751985c",
   "metadata": {},
   "outputs": [
    {
     "name": "stdout",
     "output_type": "stream",
     "text": [
      "seed_outer = 6700012876856450103\n"
     ]
    }
   ],
   "source": [
    "# Set a seed if you want a reproducible thing\n",
    "seed_outer = np.random.randint(maxint)\n",
    "#seed_outer = 7526304181034464103\n",
    "seed_outer = 6700012876856450103\n",
    "\n",
    "print('seed_outer =',seed_outer)\n",
    "rng_outer = np.random.default_rng(seed_outer)"
   ]
  },
  {
   "cell_type": "code",
   "execution_count": 23,
   "id": "27aa8e6c",
   "metadata": {},
   "outputs": [
    {
     "name": "stdout",
     "output_type": "stream",
     "text": [
      "seed =  7199903290535998301\n"
     ]
    }
   ],
   "source": [
    "# \"Inner\" seed -- for things like distributions and whatnot\n",
    "seed = np.random.randint(maxint)\n",
    "#seed = 2870146871786070273\n",
    "#seed = 7067533564274193147\n",
    "print('seed = ', seed)\n",
    "# based on seed, make random number generator, see: https://numpy.org/doc/2.2/reference/random/generator.html\n",
    "rng = np.random.default_rng(seed)\n",
    "condition_overlap_xticklabels = True"
   ]
  },
  {
   "cell_type": "code",
   "execution_count": 24,
   "id": "3d28ba6e",
   "metadata": {},
   "outputs": [],
   "source": [
    "# set some things to keep standard across images\n",
    "\n",
    "tight_layout = True\n",
    "\n",
    "color_map = 'Blues' #rng_outer.choice(plt.colormaps())\n",
    "\n",
    "plot_style = 'default' #rng_outer.choice(plot_styles)\n",
    "\n",
    "npanels, panel_style, nrows, ncols = 1, 'square', 1, 1 #get_nrows_and_ncols(panel_params, rng=rng_outer)\n",
    "\n",
    "aspect_fig = 0.9\n",
    "\n",
    "dpi =  300 # int(rng_outer.uniform(low=dpi_params['min'], high=dpi_params['max']))"
   ]
  },
  {
   "cell_type": "code",
   "execution_count": 25,
   "id": "4a4a2738",
   "metadata": {},
   "outputs": [],
   "source": [
    "# use the \"fixed\" RNG outer\n",
    "# get all font stuffs\n",
    "title_fontsize, colorbar_fontsize, xlabel_fontsize, ylabel_fontsize, \\\n",
    "    xlabel_ticks_fontsize, ylabel_ticks_fontsize, \\\n",
    "                        csfont = get_font_info(fontsizes, font_names, rng=rng_outer)"
   ]
  },
  {
   "cell_type": "code",
   "execution_count": 26,
   "id": "4910eae0",
   "metadata": {},
   "outputs": [
    {
     "data": {
      "text/plain": [
       "np.str_('scatter')"
      ]
     },
     "execution_count": 26,
     "metadata": {},
     "output_type": "execute_result"
    }
   ],
   "source": [
    "choices = []; probs = []\n",
    "for k,v in plot_params_out.items():\n",
    "    choices.append(k)\n",
    "    probs.append(v['prob'])\n",
    "\n",
    "plot_type = rng.choice(choices, p=probs)\n",
    "plot_type"
   ]
  },
  {
   "cell_type": "markdown",
   "id": "04fad8b5",
   "metadata": {},
   "source": [
    "Set a few params that we want as fixed:"
   ]
  },
  {
   "cell_type": "code",
   "execution_count": 27,
   "id": "f70f1ae0",
   "metadata": {},
   "outputs": [],
   "source": [
    "distribution_type = 'gmm'\n",
    "xmin, xmax = -1, 1 # for now\n",
    "ymin,ymax = -1,1 \n",
    "\n",
    "# now specific for *this plot*\n",
    "plot_params_here = plot_params_out.copy()\n",
    "\n",
    "plot_params_here['scatter']['xmin'] = xmin\n",
    "plot_params_here['scatter']['xmax'] = xmax\n",
    "plot_params_here['scatter']['ymin'] = ymin\n",
    "plot_params_here['scatter']['ymax'] = ymax\n",
    "# also for plotting colors\n",
    "plot_params_here['scatter']['colors'] = {'min':-1, 'max':1}\n",
    "\n",
    "plot_params_here['scatter']['distribution']['gmm']['nclusters'] = {'min': 1, 'max': 1}\n",
    "plot_params_here['scatter']['distribution']['gmm']['nsamples'] = {'min': 10000, 'max': 10000}\n",
    "\n",
    "dist_params = plot_params_here[plot_type]['distribution'] "
   ]
  },
  {
   "cell_type": "code",
   "execution_count": 28,
   "id": "1e68796f",
   "metadata": {},
   "outputs": [
    {
     "data": {
      "text/plain": [
       "{'random': {'prob': 0.3333333333333333},\n",
       " 'linear': {'prob': 0.3333333333333333,\n",
       "  'intersect': (-100, 100),\n",
       "  'slope': (-5, 5),\n",
       "  'noise': (0, 0.25),\n",
       "  'color noise prob': 0.5},\n",
       " 'gmm': {'prob': 0.3333333333333333,\n",
       "  'upsample factor log': {'min': 2, 'max': 6},\n",
       "  'nclusters': {'min': 1, 'max': 1},\n",
       "  'nsamples': {'min': 10000, 'max': 10000},\n",
       "  'cluster std': {'min': -1, 'max': 0.5},\n",
       "  'noise': {'min': 0.05, 'max': 0.25},\n",
       "  'color noise prob': 0.5,\n",
       "  'max points': 200}}"
      ]
     },
     "execution_count": 28,
     "metadata": {},
     "output_type": "execute_result"
    }
   ],
   "source": [
    "dist_params"
   ]
  },
  {
   "cell_type": "code",
   "execution_count": 29,
   "id": "3502e136",
   "metadata": {},
   "outputs": [
    {
     "name": "stdout",
     "output_type": "stream",
     "text": [
      "seed =  488036553780594957\n"
     ]
    },
    {
     "data": {
      "text/plain": [
       "{'xs': array([-2.50588424e-01, -1.42859086e-01, -8.21203450e-02, -1.06939592e-01,\n",
       "        -3.08589789e-01, -3.72796841e-03,  5.00154466e-02,  2.80399078e-02,\n",
       "         5.48774319e-02, -8.03575724e-02,  6.26063557e-02, -7.83612690e-04,\n",
       "        -5.74401493e-02, -1.42132779e-01, -2.03718938e-01,  2.80365507e-01,\n",
       "        -5.98359680e-02, -1.46956249e-01,  6.54006371e-02, -7.71654342e-02,\n",
       "        -5.30028725e-02, -8.93021194e-02, -1.08655057e-01, -2.25513765e-01,\n",
       "         4.57251782e-02, -1.90014148e-01,  6.01231413e-04, -3.39125669e-02,\n",
       "        -8.76383879e-02,  4.90116723e-02, -1.05404906e-01, -8.29692258e-02,\n",
       "         6.82827556e-02, -7.70534729e-02,  9.79758428e-03, -9.44608740e-02,\n",
       "        -6.77481713e-02, -2.19539019e-02, -4.07245884e-02,  7.35949574e-02,\n",
       "         5.99326665e-02,  1.24459981e-01, -1.69542566e-02, -7.73356419e-02,\n",
       "         1.36269740e-01, -2.07966326e-01,  8.59120416e-02, -1.29978840e-01,\n",
       "         8.20982688e-02, -1.95645455e-01,  6.80517723e-03,  6.93906133e-02,\n",
       "        -2.97282378e-02, -3.59907469e-02,  8.51542185e-02,  7.66034202e-02,\n",
       "        -7.66483405e-02, -4.26174773e-02, -1.94170496e-01, -1.72587304e-01,\n",
       "         1.75515282e-01, -1.50062279e-01, -2.40710658e-01, -9.01255739e-02,\n",
       "        -1.09736406e-01, -2.46990726e-02, -1.28143224e-01, -5.40402207e-02,\n",
       "        -1.61864275e-01, -1.09369099e-01, -1.81614762e-01,  9.86395469e-02,\n",
       "        -2.06953554e-01,  1.44511072e-03,  1.94902559e-02, -5.56359938e-02,\n",
       "        -2.09617289e-01, -5.62232971e-02,  7.08958954e-02, -5.08299889e-02,\n",
       "        -1.08001521e-02, -2.33395552e-01, -1.35968838e-02, -6.87822407e-02,\n",
       "        -1.06828104e-01,  1.13167290e-01, -6.11266971e-02,  1.08902800e-01,\n",
       "        -3.33412249e-02,  1.95114817e-01,  1.37778854e-01,  4.82078213e-02,\n",
       "        -4.34237650e-02, -2.09835398e-01,  1.73379478e-02, -1.77600478e-01,\n",
       "        -1.19710401e-01, -1.34495114e-01, -6.43722997e-02, -2.06382844e-01,\n",
       "         1.03381981e-01, -6.50959241e-02,  6.01676001e-02,  7.31308907e-02,\n",
       "        -6.27072919e-02, -7.26192079e-02,  2.09864267e-02,  1.15148075e-01,\n",
       "        -9.93652001e-02, -4.59242242e-02, -3.88747361e-02, -1.29021911e-01,\n",
       "        -8.09217222e-02,  8.09155817e-02, -3.14641813e-03, -2.19681614e-02,\n",
       "        -6.42198878e-02, -2.09551862e-02, -2.50102473e-01, -3.40101213e-01,\n",
       "        -3.93227976e-01, -1.16755868e-01, -1.42367377e-02, -2.52877065e-02,\n",
       "        -1.13365801e-01, -2.52359972e-01, -1.40433588e-01, -9.01294955e-03,\n",
       "        -1.24109243e-01, -2.99894990e-02, -1.45611855e-01, -2.43971093e-02,\n",
       "        -2.13014838e-01, -2.09040616e-01,  1.15332689e-01, -3.26716048e-02,\n",
       "         6.44801057e-02, -2.31723969e-01, -7.87326743e-02, -1.00299937e-01,\n",
       "         2.26961007e-02, -2.85700099e-01, -6.21761280e-02,  1.88382236e-02,\n",
       "        -1.44435725e-01, -1.85346746e-02, -2.17705636e-01, -6.66311199e-02,\n",
       "         1.04726701e-01,  1.04923411e-01, -7.98151203e-02,  1.24620166e-02,\n",
       "        -3.47479298e-02,  8.68641995e-03, -2.56475258e-01, -1.32583914e-01,\n",
       "        -1.57960727e-02, -1.58173567e-01,  1.18083550e-01, -3.33407954e-04,\n",
       "        -2.40469410e-02, -2.15622652e-01,  4.45165581e-02,  6.68375749e-02,\n",
       "        -1.50167109e-02, -1.46225033e-01, -2.71000025e-02, -2.79943540e-01,\n",
       "        -3.08482564e-02,  1.17013210e-01, -1.98302852e-01, -4.13337039e-01,\n",
       "         9.25675754e-03, -2.89772702e-01,  2.89707849e-02, -1.41371268e-01,\n",
       "         6.42187962e-03, -7.85008343e-02,  6.25016019e-02, -1.96339735e-01,\n",
       "         5.36895866e-02, -1.42655082e-01, -1.72055092e-01,  4.22301721e-02,\n",
       "        -2.51308159e-01,  1.34785992e-01, -6.07365094e-03, -6.95824888e-02,\n",
       "         6.02055827e-02, -4.07833201e-02, -1.36170963e-02,  8.89256393e-02,\n",
       "         2.62048812e-02,  3.55727485e-01, -1.61023669e-01,  3.74912348e-02,\n",
       "        -1.73694529e-01, -4.51763979e-02,  6.15054487e-02,  4.99027007e-02]),\n",
       " 'ys': array([  5.52910051,   4.63787288,  -5.41338405,   0.75079027,\n",
       "         -4.3126863 ,   0.4544371 ,   0.20550721,   0.2329755 ,\n",
       "          0.48437652,  -1.42364674,   3.80136234,   1.0618401 ,\n",
       "         -6.128753  ,  -1.12580684,   1.32389585,   0.66157508,\n",
       "         -1.02285251,   4.63934272,   1.22786243,   4.99312151,\n",
       "          0.97228274,   0.97825868,   0.39309001,  -2.21711993,\n",
       "         -6.87373756,   2.18097017,  -0.59805739,  -2.26205412,\n",
       "          4.22937882,   2.96882506,  -0.05316555,   1.53212412,\n",
       "         -1.89063735,   3.21387317, -10.68889812,  -0.38344199,\n",
       "         -0.83579929,  -3.13036646,  -0.53156607,   2.33346745,\n",
       "          6.48530326,  -0.67837622,   1.20909642,   6.94056933,\n",
       "         -0.17262862,   3.46526775,   0.21131678,  -0.99244008,\n",
       "         -0.23622414,  -9.48363544,   0.31931808,   4.50471791,\n",
       "         -1.77471252,   0.60463073,  -0.4626635 ,   3.63716881,\n",
       "          0.02982563,   0.4663276 ,   1.10240811,  -0.40799716,\n",
       "         -0.35031743,  -0.01874949,   3.70226274,  -0.71194991,\n",
       "         -4.33965015,  -0.65716136,  -1.68982236,   0.15261425,\n",
       "          2.14507983,  -0.71625265,   2.25656097,   7.13646816,\n",
       "         -1.24085209,   5.27937805,   1.17402142,  -0.67622783,\n",
       "         -1.82753965,  -0.72004795,  -0.24567523,   0.59578833,\n",
       "          0.85513852,   0.07907031,  -0.06863055,   2.69434511,\n",
       "          0.49108219,  -2.44492049,  -5.55460328,   4.98819153,\n",
       "          0.72705208,  -2.97155108,  -0.63323542,   2.68290352,\n",
       "          2.32370262,   1.64546228,   1.99405299,   0.83493806,\n",
       "          1.46073427,  -2.5131318 ,   0.14009827,  -3.22659849,\n",
       "         -0.48819372,   0.57868126,   2.78534586,   0.42804817,\n",
       "         -0.26662439,   2.99190258,   3.69715933,   1.08825078,\n",
       "         -1.41102548,   1.76902356,  -5.16388677,   1.92891922,\n",
       "         -3.45850058,  -0.03241308,   1.92771947,  -0.6658937 ,\n",
       "         -2.57615342,   2.75467088,   4.0768047 ,   4.02686748,\n",
       "          1.2759721 ,   4.39491089,  -8.23974521,  -0.4478958 ,\n",
       "          5.51483558,  -2.59121066,   6.55949105,  -0.26135521,\n",
       "          2.16080007,  -2.40989353,   0.15635639,  -3.70863474,\n",
       "          4.32699274,   4.31385379,   2.49488158,  -0.32050807,\n",
       "          8.34986601,   2.78807695,  -0.14603477,   3.82798184,\n",
       "         -0.36409188,   4.67850209,  -1.07495748,   2.07891705,\n",
       "         -2.11619825,  -1.8602556 ,  -2.61974899,  -5.48808072,\n",
       "          5.11658338,   0.99666498,  -2.21274366,  -0.3463917 ,\n",
       "         -0.24069251,   0.81937726,   2.48795125,   2.88478863,\n",
       "          0.87260311,  -2.61537116,   3.72589832,   1.45181242,\n",
       "         -1.69169922,  -4.68364133,  -2.56859215,  -1.11592805,\n",
       "          5.54254858,   6.98736839,   0.81548486,   3.7138251 ,\n",
       "          0.07521975,  -0.19878879,   3.28258027,   1.23535409,\n",
       "         -4.61317296,  -2.51392893,   2.15016787,   0.27062525,\n",
       "          0.04326028,  -5.08576869,   0.08160196,   1.35407189,\n",
       "         -1.81074559,  -2.34870955,   1.3340068 ,   2.84210701,\n",
       "          2.18062049,  -4.31488705,   0.63522375,  -0.91895116,\n",
       "         -0.44361666,  -4.97782051,  -2.14223772,   4.30016748,\n",
       "          0.69459894,   1.22839503,   0.48405916,   2.45557904,\n",
       "          0.55571893,  -1.07304702,   6.09664048,   3.65192252]),\n",
       " 'colors': array([ 0.00245529,  0.32268874, -0.7349271 ,  0.24771511,  0.4570763 ,\n",
       "         0.22842544, -0.26524138, -0.04958727, -0.02416038,  0.37079643,\n",
       "        -0.13025367,  0.3051503 ,  0.04811081,  0.12035053, -0.47438794,\n",
       "         0.2398151 ,  0.24520223,  0.17094076, -0.37440145, -0.56207347,\n",
       "        -0.71602917, -0.10458784, -0.27225284, -0.17251827, -0.29058599,\n",
       "         0.27962245,  0.11766428,  0.12504583,  0.14617597,  0.34644183,\n",
       "        -0.76294261,  0.23439595, -0.18415671, -0.21838544, -0.12482777,\n",
       "         0.1855981 ,  0.38999471,  0.17692047, -0.11066554,  0.35064213,\n",
       "        -0.5118934 , -0.04836542, -0.32433581, -0.57053808,  0.17350932,\n",
       "        -0.16662134, -0.37290116, -0.18066805,  0.41519124, -0.10056636,\n",
       "        -0.55359703, -0.31262315,  0.04337042, -0.41374441, -0.05101514,\n",
       "         0.24161753, -0.30320012, -0.1724678 , -0.11285169, -0.05872044,\n",
       "         0.15172581, -0.58707237,  0.23804157, -0.15681775,  0.18005518,\n",
       "        -0.37840761,  0.45250532, -0.63216709,  0.4244938 ,  0.19936386,\n",
       "        -0.73212703, -0.50542324, -0.2287914 , -0.42793687,  0.16056684,\n",
       "         0.38288064, -0.21820846,  0.1234133 ,  0.36417129,  0.33783207,\n",
       "        -0.09944627,  0.12415356,  0.32410515, -0.61870053, -0.33591633,\n",
       "         0.10380463,  0.14910234, -0.57114864, -0.149416  ,  0.17457519,\n",
       "        -0.07549083,  0.29287101, -0.6200117 , -0.63055017, -0.75800956,\n",
       "        -0.77015084, -0.77988846, -0.11249908, -0.30073631, -0.58490712,\n",
       "         0.26530068,  0.4719854 ,  0.25814455,  0.32556897, -0.64770754,\n",
       "        -0.19947498,  0.07401617, -0.70813467,  0.46211918, -0.42283633,\n",
       "        -0.72336466, -0.37840615, -0.26679263,  0.06212286,  0.45490679,\n",
       "        -0.08268764, -0.23251984,  0.1389386 , -0.3513055 , -0.40686986,\n",
       "        -0.52885906, -0.3861273 ,  0.0155557 , -0.76021964, -0.47195832,\n",
       "        -0.1235832 , -0.369124  , -0.14485511, -0.51672758, -0.43029943,\n",
       "         0.39513352, -0.0646232 , -0.61903634, -0.41504544, -0.64363829,\n",
       "        -0.18185331, -0.55889718, -0.49738268, -0.35318297,  0.33901128,\n",
       "        -0.52592945, -0.05576403, -0.42862241,  0.17763579, -0.15744381,\n",
       "         0.40771962, -0.16222371, -0.43326782, -0.53383799,  0.46362231,\n",
       "        -0.03152536, -0.47552531,  0.04513055, -0.3307825 ,  0.35601104,\n",
       "        -0.77904072, -0.64629885,  0.07006368, -0.19805094, -0.15928787,\n",
       "        -0.11962181, -0.59791644, -0.00653589,  0.10007243, -0.65876937,\n",
       "        -0.23817623, -0.20886362, -0.26097118, -0.52053563,  0.06012576,\n",
       "         0.37810926, -0.33156268, -0.64854637,  0.25390524,  0.03292364,\n",
       "        -0.52360488,  0.02960487, -0.10084999,  0.42988173,  0.10671488,\n",
       "         0.27908804,  0.12913006,  0.14738866, -0.72997129, -0.07538993,\n",
       "        -0.48336126,  0.09423485, -0.79617399,  0.01683646,  0.35196001,\n",
       "         0.25867605, -0.47931309, -0.70444184,  0.0532512 ,  0.06334163,\n",
       "        -0.70524092,  0.42280874,  0.12820455, -0.22775004, -0.06489843]),\n",
       " 'data params': {'points': {'nsamples': 349951,\n",
       "   'nclusters': 1,\n",
       "   'centers': array([[-0.0570336 ,  0.45734957]]),\n",
       "   'cluster_std': array([[0.10523203, 2.71379781]]),\n",
       "   'noise level': 0.22311941181850797},\n",
       "  'colors': {'type': 'gmm, random'}}}"
      ]
     },
     "execution_count": 29,
     "metadata": {},
     "output_type": "execute_result"
    }
   ],
   "source": [
    "import utils.distribution_utils\n",
    "import utils.data_utils\n",
    "reload(utils.distribution_utils)\n",
    "reload(utils.data_utils)\n",
    "from utils.data_utils import get_data\n",
    "import utils.plot_classes_utils\n",
    "reload(utils.plot_classes_utils)\n",
    "\n",
    "prob_same_x = 1.0\n",
    "\n",
    "seed = np.random.randint(maxint)\n",
    "print('seed = ', seed)\n",
    "rng = np.random.default_rng(seed)\n",
    "\n",
    "data_for_plot = get_data(plot_params_here[plot_type],\n",
    "                plot_type=plot_type,\n",
    "                        distribution=distribution_type, \n",
    "                        rng=rng, prob_same_x=prob_same_x)\n",
    "data_for_plot"
   ]
  },
  {
   "cell_type": "code",
   "execution_count": 32,
   "id": "96266e65",
   "metadata": {},
   "outputs": [],
   "source": [
    "import utils.plot_utils\n",
    "reload(utils.plot_utils)\n",
    "from utils.plot_utils import make_colorbar"
   ]
  },
  {
   "cell_type": "code",
   "execution_count": 63,
   "id": "3ea32095",
   "metadata": {},
   "outputs": [
    {
     "name": "stdout",
     "output_type": "stream",
     "text": [
      "figsize (w,h) = (2.666, 2)\n"
     ]
    },
    {
     "data": {
      "text/plain": [
       "<Figure size 640x480 with 0 Axes>"
      ]
     },
     "metadata": {},
     "output_type": "display_data"
    },
    {
     "data": {
      "image/png": "[encoded data removed]",
      "text/plain": [
       "<Figure size 799.8x600 with 2 Axes>"
      ]
     },
     "metadata": {},
     "output_type": "display_data"
    }
   ],
   "source": [
    "import utils.plot_utils\n",
    "reload(utils.plot_utils)\n",
    "import utils.plot_classes_utils\n",
    "reload(utils.plot_classes_utils)\n",
    "from utils.plot_classes_utils import Scatter\n",
    "from utils.plot_utils import make_plot, make_base_plot, make_colorbar\n",
    "\n",
    "colorbar_side = 'right'\n",
    "aspect_fig = 1.333\n",
    "colorbar_size = 0.1 # %\n",
    "colorbar_pad = 0.05\n",
    "\n",
    "\n",
    "fig, axes, plot_inds = make_base_plot(plot_style, color_map, dpi, nrows, ncols, aspect_fig,\n",
    "                   base=2, verbose=True, tight_layout = tight_layout)\n",
    "\n",
    "data_from_plot, ax = make_plot(plot_params_here[plot_type], data_for_plot, \n",
    "                        axes[0], plot_type=plot_type, \n",
    "                        rng=rng, colorbar_side=colorbar_side, \n",
    "                        colorbar_size=colorbar_size, colorbar_pad = colorbar_pad) \n",
    "\n",
    "title, xlabel, ylabel = add_titles_and_labels(axes[0], 'x title', 'y axis', 'title', \n",
    "                                              title_params, csfont, title_fontsize, \n",
    "                          xlabel_params, ylabel_params, xlabel_fontsize, ylabel_fontsize,\n",
    "                          inlines, xlabel_ticks_fontsize, ylabel_ticks_fontsize,\n",
    "                          rng=rng)\n",
    "cbar, colorbar_words = make_colorbar(data_from_plot, plot_type, fig, \n",
    "                  'colorbar', inlines, colorbar_params,\n",
    "                  title_params, colorbar_fontsize, csfont)\n",
    "#= make_colorbar(data_from_plot, plot_type, fig)"
   ]
  },
  {
   "cell_type": "code",
   "execution_count": 60,
   "id": "938696ba",
   "metadata": {},
   "outputs": [
    {
     "data": {
      "text/plain": [
       "(<matplotlib.colorbar.Colorbar at 0x316af19a0>, 'colorbar')"
      ]
     },
     "execution_count": 60,
     "metadata": {},
     "output_type": "execute_result"
    }
   ],
   "source": [
    "cbar, colorbar_words"
   ]
  },
  {
   "cell_type": "code",
   "execution_count": 46,
   "id": "5954119c",
   "metadata": {},
   "outputs": [
    {
     "data": {
      "text/plain": [
       "{'data': <matplotlib.collections.PathCollection at 0x34d3d6930>,\n",
       " 'color bar': <Axes: >,\n",
       " 'marker': 's',\n",
       " 'marker size': 1,\n",
       " 'color bar params': {'side': 'right',\n",
       "  'pad': 0.05,\n",
       "  'size': 0.1,\n",
       "  'axis side': 'right',\n",
       "  'label prob': 0.5}}"
      ]
     },
     "execution_count": 46,
     "metadata": {},
     "output_type": "execute_result"
    }
   ],
   "source": [
    "data_from_plot"
   ]
  },
  {
   "cell_type": "code",
   "execution_count": 47,
   "id": "6de0aa77",
   "metadata": {},
   "outputs": [],
   "source": [
    "import utils.synthetic_fig_utils\n",
    "reload(utils.synthetic_fig_utils)\n",
    "from utils.synthetic_fig_utils import collect_plot_data_axes"
   ]
  },
  {
   "cell_type": "markdown",
   "id": "c78a47fc",
   "metadata": {},
   "source": [
    "Loop for several distributions and save:"
   ]
  },
  {
   "cell_type": "code",
   "execution_count": 48,
   "id": "6fbb87b6",
   "metadata": {},
   "outputs": [],
   "source": [
    "import utils.plot_qa_utils\n",
    "reload(utils.plot_qa_utils)\n",
    "from utils.plot_qa_utils import init_qa_pairs"
   ]
  },
  {
   "cell_type": "code",
   "execution_count": 49,
   "id": "5d170bcf",
   "metadata": {},
   "outputs": [
    {
     "data": {
      "text/plain": [
       "'./example_scatters//imgs/'"
      ]
     },
     "execution_count": 49,
     "metadata": {},
     "output_type": "execute_result"
    }
   ],
   "source": [
    "img_dir"
   ]
  },
  {
   "cell_type": "code",
   "execution_count": 69,
   "id": "6ef8181b",
   "metadata": {},
   "outputs": [],
   "source": [
    "def sort_cbars(fig, cbar_nums, verbose=False):\n",
    "    axes_save = []; cbar_axes_save = []\n",
    "    # IF SUCCESSFUL\n",
    "    # save axes if not colorbar and image of sky\n",
    "    for iaxes in range(len(fig.axes)):\n",
    "        if hasattr(fig.axes[iaxes], 'coords'): # image of sky\n",
    "            # colorbar?\n",
    "            if fig.axes[iaxes].coords[0].coord_type == 'scalar':\n",
    "                if verbose:\n",
    "                    print('Probable colorbar for image of the sky axes =', iaxes)\n",
    "            else:\n",
    "                axes_save.append(fig.axes[iaxes])\n",
    "                # does this have a colorbar?\n",
    "                if iaxes in cbar_nums:\n",
    "                    cbar_axes_save.append(fig.axes[iaxes+1])\n",
    "                else:\n",
    "                    cbar_axes_save.append([])\n",
    "        else:\n",
    "            # colorbar\n",
    "            #fig.axes[1]._colorbar\n",
    "            if hasattr(fig.axes[iaxes], '_colorbar'):\n",
    "                if verbose:\n",
    "                    print('Probable colorbar for regular plot axes =', iaxes)\n",
    "            else:\n",
    "                axes_save.append(fig.axes[iaxes])\n",
    "                # does this have a colorbar?\n",
    "                if iaxes in cbar_nums:\n",
    "                    cbar_axes_save.append(fig.axes[iaxes+1])\n",
    "                else:\n",
    "                    cbar_axes_save.append([])\n",
    "    return axes_save, cbar_axes_save"
   ]
  },
  {
   "cell_type": "code",
   "execution_count": 70,
   "id": "b21dbf12",
   "metadata": {},
   "outputs": [
    {
     "data": {
      "text/plain": [
       "<Figure size 640x480 with 0 Axes>"
      ]
     },
     "metadata": {},
     "output_type": "display_data"
    },
    {
     "data": {
      "image/png": "[encoded data removed]",
      "text/plain": [
       "<Figure size 799.8x600 with 2 Axes>"
      ]
     },
     "metadata": {},
     "output_type": "display_data"
    }
   ],
   "source": [
    "#import utils.linear_plot_qa_utils\n",
    "import utils.plot_utils\n",
    "import utils.plot_qa_utils\n",
    "import utils.synthetic_fig_utils\n",
    "#reload(utils.linear_plot_qa_utils)\n",
    "reload(utils.plot_utils)\n",
    "reload(utils.plot_qa_utils)\n",
    "reload(utils.synthetic_fig_utils)\n",
    "#from utils.linear_plot_qa_utils import q_nlines_plot_plotnums, q_stats_lines\n",
    "from utils.plot_utils import make_plot\n",
    "from utils.plot_qa_utils import how_many, how_much_data_values\n",
    "from utils.synthetic_fig_utils import collect_plot_data_axes\n",
    "\n",
    "colorbar_side = 'right'\n",
    "aspect_fig = 1.333\n",
    "colorbar_size = 0.1 # %\n",
    "colorbar_pad = 0.05\n",
    "elinewidth = 1\n",
    "\n",
    "\n",
    "## start the thing\n",
    "\n",
    "nclusters = [1, 2, 3, 4, 5]\n",
    "\n",
    "cluster_std = {'min':-2, 'max':0.0} # in 10^\n",
    "\n",
    "noise = {'min': 0.05, 'max': 0.1}\n",
    "\n",
    "plot_json = []\n",
    "\n",
    "ntrials = 10\n",
    "\n",
    "verbose_qa = True\n",
    "\n",
    "# check for github\n",
    "if 'LLM_VQA_JCDL2025' in fake_figs_dir and ntrials > 10:\n",
    "    print('Limiting trials for saving in github.  Change the \"fake_figs_dir\" param to a local address')\n",
    "    ntrials = 10\n",
    "\n",
    "for n in range(ntrials):\n",
    "    for nclust in nclusters:\n",
    "\n",
    "        # this becomes more important when we have multiple axes and more complex plots\n",
    "        data_for_plots = []\n",
    "        plot_types = []\n",
    "        data_from_plots = []\n",
    "        titles = []; xlabels = []; ylabels = []; \n",
    "        cbars = []; cbar_labels = []; cbar_words = []; cbar_nums = []\n",
    "        end_time = time.time()\n",
    "        distribution_types = []\n",
    "        # in case axes change\n",
    "        axes_save = []; cbar_axes_save = []\n",
    "\n",
    "        plot_params_loop = plot_params_here.copy()\n",
    "        plot_params_loop['scatter']['distribution']['gmm']['nclusters'] = {'min': nclust, 'max': nclust}\n",
    "        plot_params_loop['scatter']['distribution']['gmm']['cluster std'] = cluster_std\n",
    "        plot_params_loop['scatter']['distribution']['gmm']['noise'] = noise\n",
    "        data_for_plot = get_data(plot_params_loop[plot_type],\n",
    "                        plot_type=plot_type,\n",
    "                                distribution=distribution_type, \n",
    "                                rng=rng)\n",
    "        # pltjson = {}\n",
    "        # pltjson['nclusters'] = nclust\n",
    "        # pltjson['data for plot'] = data_for_plot.copy()\n",
    "\n",
    "        fig, axes, plot_inds = make_base_plot(plot_style, color_map, dpi, \n",
    "                                              nrows, ncols, aspect_fig,\n",
    "                        base=2, verbose=False, tight_layout = tight_layout)\n",
    "\n",
    "        for iplot, ax in enumerate(axes):\n",
    "            # data_from_plot, ax = make_plot(plot_params_here[plot_type], data_for_plot, \n",
    "            #                         axes[0], plot_type=plot_type, linestyles=linestyles, \n",
    "            #                         rng=rng, lthick=1, linecolors=linecolors) \n",
    "            data_from_plot, ax = make_plot(plot_params_here[plot_type], data_for_plot, \n",
    "                                    axes[0], plot_type=plot_type, \n",
    "                                    rng=rng, \n",
    "                                    colorbar_side=colorbar_side, \n",
    "                                    colorbar_size=colorbar_size, colorbar_pad = colorbar_pad,\n",
    "                                    elinewidth=elinewidth) \n",
    "\n",
    "            title, xlabel, ylabel = add_titles_and_labels(axes[0], 'x title', 'y axis', 'title', \n",
    "                                                        title_params, csfont, title_fontsize, \n",
    "                                    xlabel_params, ylabel_params, xlabel_fontsize, ylabel_fontsize,\n",
    "                                    inlines, xlabel_ticks_fontsize, ylabel_ticks_fontsize,\n",
    "                                    rng=rng)\n",
    "            cbar, colorbar_words = make_colorbar(data_from_plot, plot_type, fig, \n",
    "                  'colorbar', inlines, colorbar_params,\n",
    "                  title_params, colorbar_fontsize, csfont)\n",
    "            # save for each\n",
    "            cbar_labels.append(cbar)\n",
    "            cbar_words.append(colorbar_words)\n",
    "            if cbar is not None:\n",
    "                cbar_nums.append(len(cbar_nums)) # save axis of this colorbar\n",
    "                cbar_nums.append(len(cbar_nums)) # add extra for axes for colorbar\n",
    "            else:\n",
    "                cbar_nums.append(-1)\n",
    "\n",
    "            #cbars.append(cbar)\n",
    "            # save image\n",
    "            base_name = 'nclust_' + str(nclust) + '_trial' + str(n)\n",
    "            for imgf in img_format:\n",
    "                fig.savefig(img_dir + base_name + '.' + imgf)\n",
    "\n",
    "            ####### SAVE DATA ########\n",
    "            # save data for parsing later -- only a single plot right now\n",
    "            data_for_plots.append(data_for_plot)\n",
    "            plot_types.append(plot_type)\n",
    "            data_from_plots.append(data_from_plot)\n",
    "            titles.append(title)\n",
    "            xlabels.append(xlabel)\n",
    "            ylabels.append(ylabel)\n",
    "            distribution_types.append(distribution_type)\n",
    "\n",
    "        # figure out which are color bars and which are figures\n",
    "        axes_save, cbar_axes_save = sort_cbars(fig, cbar_nums)\n",
    "\n",
    "        fig.canvas.draw()\n",
    "        width, height = fig.canvas.get_width_height()\n",
    "        # save data\n",
    "        datas = {}\n",
    "        # figure datas\n",
    "        datas['figure'] = {'dpi':dpi, 'base':base, 'aspect ratio': aspect_fig, \n",
    "                            'nrows':nrows, 'ncols':ncols, \n",
    "                            'plot style':plot_style, \n",
    "                            'color map':color_map,\n",
    "                            'title fontsize':title_fontsize, \n",
    "                            'xlabel fontsize':xlabel_fontsize,\n",
    "                            'ylabel fontsize':ylabel_fontsize, \n",
    "                        'plot indexes':plot_inds}\n",
    "        #for iplot,ax in enumerate(axes): ### JPN, colorbar\n",
    "        for iplot, (ax,cbar_ax) in enumerate(zip(axes_save,cbar_axes_save)):\n",
    "            datas['plot' + str(iplot)] = collect_plot_data_axes(ax, fig,\n",
    "                           height, width,\n",
    "                           data_from_plots[iplot], data_for_plots[iplot], \n",
    "                           plot_types[iplot], titles[iplot], \n",
    "                           xlabels[iplot], ylabels[iplot],\n",
    "                           distribution_types[iplot], verbose=True, \n",
    "                           #cbar_label=cbar_labels[iplot], cbar_word=cbar_words[iplot], \n",
    "                           cbar_ax=cbar_ax)\n",
    "            \n",
    "\n",
    "        # ######## GENERATE QA BASE #######\n",
    "        # qa_pairs = init_qa_pairs()\n",
    "        # for iplot in range(len((axes))):\n",
    "        #     if datas['plot'+str(iplot)]['type'] == 'line':\n",
    "        #         ############ L1 #############\n",
    "        #         # number of bars\n",
    "        #         if len(axes) > 1:\n",
    "        #             qa_pairs = q_nlines_plot_plotnums(datas, qa_pairs, \n",
    "        #                                               plot_num = iplot, \n",
    "        #                                               use_words=False, \n",
    "        #                                               verbose=verbose_qa)\n",
    "        #         qa_pairs = q_nlines_plot_plotnums(datas, qa_pairs, \n",
    "        #                                           plot_num = iplot, \n",
    "        #                                           use_words=True, \n",
    "        #                                           verbose=verbose_qa)\n",
    "\n",
    "        #         ###### L2 #######\n",
    "        #         # stats items\n",
    "        #         for axis in ['x', 'y']:\n",
    "        #             for k,v in stats.items():\n",
    "        #                 if len(axes) > 1:\n",
    "        #                     qa_pairs = q_stats_lines(datas, qa_pairs, stat={k:v}, axis=axis, plot_num=iplot, use_words=False, verbose=verbose_qa)\n",
    "        #                 qa_pairs = q_stats_lines(datas, qa_pairs, stat={k:v}, axis=axis, plot_num=iplot, use_words=True, verbose=verbose_qa)\n",
    "\n",
    "\n",
    "\n",
    "        # datas['VQA'] = qa_pairs\n",
    "\n",
    "\n",
    "        # #import sys; sys.exit()\n",
    "\n",
    "        # # dump full data\n",
    "        # dumped = json.dumps(datas, cls=NumpyEncoder)\n",
    "        # with open(json_dir + base_name + '.json', 'w') as f:\n",
    "        #     json.dump(dumped, f)\n",
    "\n",
    "        #plot_json.append(pltjson.copy())"
   ]
  },
  {
   "cell_type": "code",
   "execution_count": 78,
   "id": "c4c42070",
   "metadata": {},
   "outputs": [
    {
     "data": {
      "text/plain": [
       "dict_keys(['type', 'distribution', 'data', 'data pixels', 'data from plot', 'xticks', 'yticks', 'square', 'title', 'xlabel', 'ylabel'])"
      ]
     },
     "execution_count": 78,
     "metadata": {},
     "output_type": "execute_result"
    }
   ],
   "source": [
    "datas['plot0'].keys()"
   ]
  },
  {
   "cell_type": "code",
   "execution_count": 83,
   "id": "78b12697",
   "metadata": {},
   "outputs": [
    {
     "data": {
      "text/plain": [
       "2"
      ]
     },
     "execution_count": 83,
     "metadata": {},
     "output_type": "execute_result"
    }
   ],
   "source": [
    "len(datas['plot0']['data']['ys'])"
   ]
  },
  {
   "cell_type": "code",
   "execution_count": 93,
   "id": "d7d0dd26",
   "metadata": {},
   "outputs": [
    {
     "data": {
      "text/plain": [
       "[array([-0.3805874 , -0.34909325, -0.34691688, -0.31484586, -0.28997069,\n",
       "        -0.28563467, -0.28396609, -0.27308822, -0.27075973, -0.14849021,\n",
       "        -0.08263919]),\n",
       " array([-0.3712019 , -0.32687785, -0.25990569, -0.17120434, -0.14888854,\n",
       "        -0.1172922 , -0.11628668, -0.1133447 , -0.09618093, -0.05861432,\n",
       "        -0.05847243]),\n",
       " array([-0.34731911, -0.3329955 , -0.29419968, -0.24700402, -0.20163527,\n",
       "        -0.18586775, -0.11320868, -0.09927767, -0.07901077]),\n",
       " array([-0.37580907, -0.37421421, -0.31826866, -0.22066134, -0.172643  ,\n",
       "        -0.07798806])]"
      ]
     },
     "execution_count": 93,
     "metadata": {},
     "output_type": "execute_result"
    }
   ],
   "source": [
    "datas['plot0']['data']['xs']"
   ]
  },
  {
   "cell_type": "code",
   "execution_count": null,
   "id": "75173cda-2b70-4b78-8495-3e45ea9e9828",
   "metadata": {},
   "outputs": [],
   "source": [
    "#datas['VQA']['Level 1']['Plot-level questions']"
   ]
  },
  {
   "cell_type": "markdown",
   "id": "d0f7ccac",
   "metadata": {},
   "source": [
    "Practice reading in:"
   ]
  },
  {
   "cell_type": "code",
   "execution_count": 65,
   "id": "036df21d",
   "metadata": {},
   "outputs": [],
   "source": [
    "import json\n",
    "data_file = json_dir + 'nclust_4_trial8.json'\n",
    "with open(data_file,'r') as f:\n",
    "    t = json.load(f)\n",
    "    datas = json.loads(t)"
   ]
  },
  {
   "cell_type": "code",
   "execution_count": 38,
   "id": "ea12312c",
   "metadata": {},
   "outputs": [
    {
     "data": {
      "text/plain": [
       "{'Level 1': {'Figure-level questions': {},\n",
       "  'Plot-level questions': {'nbars ': {'plot0': {'Q': 'You are a helpful assistant that can analyze images.  How many bars are there in the specified figure panel? Please format the output as a json as {\"nbars\":\"\"} for this figure panel, where the \"nbars\" value should be an integer.',\n",
       "     'A': {'nbars ': 50},\n",
       "     'persona': 'You are a helpful assistant that can analyze images.',\n",
       "     'context': '',\n",
       "     'question': 'How many bars are there in the specified figure panel?',\n",
       "     'format': 'Please format the output as a json as {\"nbars\":\"\"} for this figure panel, where the \"nbars\" value should be an integer.'}}}},\n",
       " 'Level 2': {'Plot-level questions': {'minimum ': {'plot0': {'Q': 'You are a helpful assistant that can analyze images.  What are the minimum data values in this figure panel?  Please format the output as a json as {\"minimum x\":\"\"} for this figure panel, where the \"minimum\" value should be a float, calculated from the data values used to create the plot.',\n",
       "     'A': {'minimum ': {'minimum x': 0.16207413623731676}},\n",
       "     'persona': 'You are a helpful assistant that can analyze images.',\n",
       "     'context': '',\n",
       "     'question': 'What are the minimum data values in this figure panel? ',\n",
       "     'format': 'Please format the output as a json as {\"minimum x\":\"\"} for this figure panel, where the \"minimum\" value should be a float, calculated from the data values used to create the plot.'}},\n",
       "   'maximum ': {'plot0': {'Q': 'You are a helpful assistant that can analyze images.  What are the maximum data values in this figure panel?  Please format the output as a json as {\"maximum x\":\"\"} for this figure panel, where the \"maximum\" value should be a float, calculated from the data values used to create the plot.',\n",
       "     'A': {'maximum ': {'maximum x': 0.9040028397744991}},\n",
       "     'persona': 'You are a helpful assistant that can analyze images.',\n",
       "     'context': '',\n",
       "     'question': 'What are the maximum data values in this figure panel? ',\n",
       "     'format': 'Please format the output as a json as {\"maximum x\":\"\"} for this figure panel, where the \"maximum\" value should be a float, calculated from the data values used to create the plot.'}},\n",
       "   'median ': {'plot0': {'Q': 'You are a helpful assistant that can analyze images.  What are the median data values in this figure panel?  Please format the output as a json as {\"median x\":\"\"} for this figure panel, where the \"median\" value should be a float, calculated from the data values used to create the plot.',\n",
       "     'A': {'median ': {'median x': 0.7776717312778343}},\n",
       "     'persona': 'You are a helpful assistant that can analyze images.',\n",
       "     'context': '',\n",
       "     'question': 'What are the median data values in this figure panel? ',\n",
       "     'format': 'Please format the output as a json as {\"median x\":\"\"} for this figure panel, where the \"median\" value should be a float, calculated from the data values used to create the plot.'}},\n",
       "   'mean ': {'plot0': {'Q': 'You are a helpful assistant that can analyze images.  What are the mean data values in this figure panel?  Please format the output as a json as {\"mean x\":\"\"} for this figure panel, where the \"mean\" value should be a float, calculated from the data values used to create the plot.',\n",
       "     'A': {'mean ': {'mean x': 0.7076898362071107}},\n",
       "     'persona': 'You are a helpful assistant that can analyze images.',\n",
       "     'context': '',\n",
       "     'question': 'What are the mean data values in this figure panel? ',\n",
       "     'format': 'Please format the output as a json as {\"mean x\":\"\"} for this figure panel, where the \"mean\" value should be a float, calculated from the data values used to create the plot.'}}}},\n",
       " 'Level 3': {'Plot-level questions': {'ngaussians ': {'plot0': {'Q': 'You are a helpful assistant that can analyze images.  How many gaussians were used to generate the data for the plot in the figure panel? Please format the output as a json as {\"ngaussians\":\"\"} for this figure panel, where the \"ngaussians\" value should be an integer.',\n",
       "     'A': {'ngaussians ': 4},\n",
       "     'persona': 'You are a helpful assistant that can analyze images.',\n",
       "     'context': '',\n",
       "     'question': 'How many gaussians were used to generate the data for the plot in the figure panel?',\n",
       "     'format': 'Please format the output as a json as {\"ngaussians\":\"\"} for this figure panel, where the \"ngaussians\" value should be an integer.'}}}}}"
      ]
     },
     "execution_count": 38,
     "metadata": {},
     "output_type": "execute_result"
    }
   ],
   "source": [
    "datas['VQA']"
   ]
  },
  {
   "cell_type": "code",
   "execution_count": 66,
   "id": "a25a5dc3",
   "metadata": {},
   "outputs": [
    {
     "data": {
      "text/plain": [
       "{'nbars ': {'plot0': {'Q': 'You are a helpful assistant that can analyze images.  How many bars are there in the specified figure panel? Please format the output as a json as {\"nbars\":\"\"} for this figure panel, where the \"nbars\" value should be an integer.',\n",
       "   'A': {'nbars ': 50},\n",
       "   'persona': 'You are a helpful assistant that can analyze images.',\n",
       "   'context': '',\n",
       "   'question': 'How many bars are there in the specified figure panel?',\n",
       "   'format': 'Please format the output as a json as {\"nbars\":\"\"} for this figure panel, where the \"nbars\" value should be an integer.'}}}"
      ]
     },
     "execution_count": 66,
     "metadata": {},
     "output_type": "execute_result"
    }
   ],
   "source": [
    "datas['VQA']['Level 1']['Plot-level questions']"
   ]
  },
  {
   "cell_type": "code",
   "execution_count": null,
   "id": "342dd112",
   "metadata": {},
   "outputs": [],
   "source": []
  },
  {
   "cell_type": "code",
   "execution_count": null,
   "id": "934a3e3a",
   "metadata": {},
   "outputs": [],
   "source": []
  }
 ],
 "metadata": {
  "kernelspec": {
   "display_name": "JCDL2025",
   "language": "python",
   "name": "python3"
  },
  "language_info": {
   "codemirror_mode": {
    "name": "ipython",
    "version": 3
   },
   "file_extension": ".py",
   "mimetype": "text/x-python",
   "name": "python",
   "nbconvert_exporter": "python",
   "pygments_lexer": "ipython3",
   "version": "3.12.11"
  }
 },
 "nbformat": 4,
 "nbformat_minor": 5
}
