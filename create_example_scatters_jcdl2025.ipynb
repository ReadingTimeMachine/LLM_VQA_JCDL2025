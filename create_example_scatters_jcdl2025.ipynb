{
 "cells": [
  {
   "cell_type": "code",
   "execution_count": 2,
   "id": "a384e543",
   "metadata": {},
   "outputs": [],
   "source": [
    "# save files\n",
    "fullproc_r = './resources/' # for words/names\n",
    "\n",
    "# where to save the figures that are created\n",
    "fake_figs_dir = './example_scatters/' # saving in github only for small numbers\n",
    "# stop overwriting what is there\n",
    "#fake_figs_dir = '/Users/jnaiman/Downloads/tmp/JCDL2025/example_scatters/'\n",
    "\n",
    "# format for saving images?\n",
    "img_format = ['jpeg']\n",
    "\n",
    "# save diagnostic plot with all items labeled?\n",
    "save_diagnostic_plot = True"
   ]
  },
  {
   "cell_type": "code",
   "execution_count": 3,
   "id": "04d8c43d",
   "metadata": {},
   "outputs": [],
   "source": [
    "# import matplotlib.pyplot as plt\n",
    "# plt.errorbar?"
   ]
  },
  {
   "cell_type": "code",
   "execution_count": 4,
   "id": "82acb676",
   "metadata": {},
   "outputs": [],
   "source": [
    "# debug\n",
    "from importlib import reload\n",
    "\n",
    "import numpy as np\n",
    "import matplotlib.pyplot as plt\n",
    "from PIL import Image\n",
    "import cv2 as cv\n",
    "import pickle\n",
    "import pandas as pd\n",
    "#import string\n",
    "from glob import glob\n",
    "from mpl_toolkits.axes_grid1 import make_axes_locatable\n",
    "from PIL import ImageColor\n",
    "import json\n",
    "import os\n",
    "from copy import deepcopy\n",
    "import copy\n",
    "\n",
    "from utils.metric_utils.utilities import isRectangleOverlap\n",
    "\n",
    "import time\n",
    "\n",
    "import matplotlib as mpl\n",
    "import os\n",
    "os.environ[\"PATH\"] += os.pathsep + '/Library/TeX/texbin'\n",
    "mpl.rcParams['text.usetex'] = True\n",
    "mpl.rcParams['text.latex.preamble'] = r'\\usepackage{amsmath} \\usepackage{amssymb}' #for \\text command\n",
    "\n",
    "# written libs -- will update locally\n",
    "from utils.synthetic_fig_utils import subset_by_percent, \\\n",
    " get_nrows_and_ncols, normalize_params_prob, get_ticks, get_titles_or_labels, \\\n",
    " get_font_info\n",
    "\n",
    "import utils.plot_utils\n",
    "reload(utils.plot_utils)\n",
    "from utils.plot_utils import get_contour_plot, get_histogram_plot, \\\n",
    "   get_line_plot, get_scatter_plot, make_plot, colorbar_mods, make_base_plot#, get_line_plot\n",
    "\n",
    "from utils.text_utils import get_popular_nouns, get_inline_math\n",
    "\n",
    "# create a bunch of fake figures\n",
    "import utils.synthetic_fig_utils\n",
    "reload(utils.synthetic_fig_utils)\n",
    "from utils.synthetic_fig_utils import normalize_params_prob, add_titles_and_labels\n",
    "from utils.plot_parameters import plot_types_params, panel_params, \\\n",
    "  title_params, xlabel_params, colorbar_params, \\\n",
    "  ylabel_params, aspect_fig_params, dpi_params, tight_layout_params, \\\n",
    "  fontsizes, base\n",
    "\n",
    "from utils.data_utils import get_data, NumpyEncoder\n",
    "import numpy as np\n",
    "\n",
    "import utils.distribution_utils\n",
    "\n",
    "from utils.plot_utils import markers\n",
    "marker_sizes = np.arange(0,10)+1\n",
    "line_list_thick = np.arange(1,10)\n",
    "\n",
    "use_uniques = True # use unique inlines\n",
    "verbose = True\n",
    "\n",
    "from sys import path\n",
    "path.append('/Library/TeX/texbin/')\n",
    "\n",
    "\n",
    "\n",
    "# for seed\n",
    "from sys import maxsize as maxint\n",
    "\n",
    "import warnings\n",
    "warnings.filterwarnings(\"error\")"
   ]
  },
  {
   "cell_type": "code",
   "execution_count": 5,
   "id": "4d785d10",
   "metadata": {},
   "outputs": [],
   "source": [
    "# check directories\n",
    "img_dir = fake_figs_dir + '/imgs/'\n",
    "if not os.path.exists(img_dir):\n",
    "    os.mkdir(img_dir)\n",
    "    print('made:', img_dir)\n",
    "json_dir = fake_figs_dir + '/jsons/'\n",
    "if not os.path.exists(json_dir):\n",
    "    os.mkdir(json_dir)\n",
    "    print('made:', json_dir)"
   ]
  },
  {
   "cell_type": "code",
   "execution_count": 6,
   "id": "b066179c",
   "metadata": {},
   "outputs": [],
   "source": [
    "# get fonts -- see \"cnn_create_synthetic_ticks\" in FullProcess\n",
    "dfont = pd.read_csv(fullproc_r + 'fonts.csv')\n",
    "\n",
    "# check that location is there\n",
    "drop_names = []\n",
    "for fl in dfont['font location']:\n",
    "    if not os.path.exists(fl):\n",
    "        drop_names.append(False)\n",
    "    else:\n",
    "        drop_names.append(True)\n",
    "\n",
    "font_names = dfont.loc[drop_names]['font name'].values\n",
    "\n",
    "# # for plot styles\n",
    "# plot_styles = plt.style.available\n",
    "\n",
    "# plot_types_qa = ['line', 'scatter', 'histogram']\n",
    "\n",
    "plot_styles = ['default']"
   ]
  },
  {
   "cell_type": "code",
   "execution_count": 7,
   "id": "52bbd3e2",
   "metadata": {},
   "outputs": [],
   "source": [
    "# stats for doing calculations\n",
    "stats = {'minimum':np.min, 'maximum':np.max, 'median':np.median, 'mean':np.mean}\n",
    "\n",
    "# some things to try\n",
    "aspect_cut = {'min':0.3, 'max':4.0}"
   ]
  },
  {
   "cell_type": "code",
   "execution_count": 8,
   "id": "9f0dc2a5",
   "metadata": {},
   "outputs": [
    {
     "name": "stdout",
     "output_type": "stream",
     "text": [
      "16253 343492\n",
      "shape of output= (5097, 5)\n",
      "shape of output= (36332, 5)\n",
      "number of inlines =  33201\n"
     ]
    }
   ],
   "source": [
    "# get popular words for titles/axis\n",
    "popular_nouns = get_popular_nouns(fullproc_r + 'data/')\n",
    "\n",
    "# get inline math formulas\n",
    "inlines = get_inline_math(fullproc_r,\n",
    "                          recreate_inlines=False,\n",
    "                         use_uniques=use_uniques)"
   ]
  },
  {
   "cell_type": "markdown",
   "id": "3949dc13",
   "metadata": {},
   "source": [
    "## Update plotting params"
   ]
  },
  {
   "cell_type": "markdown",
   "id": "05193107",
   "metadata": {},
   "source": [
    "### Plot type params"
   ]
  },
  {
   "cell_type": "code",
   "execution_count": 9,
   "id": "c1be6ee7",
   "metadata": {},
   "outputs": [],
   "source": [
    "plot_params = plot_types_params.copy()"
   ]
  },
  {
   "cell_type": "code",
   "execution_count": 10,
   "id": "5a9fe905",
   "metadata": {},
   "outputs": [],
   "source": [
    "# probability of getting a scatter plot -- only scatters here\n",
    "plot_params['scatter']['prob'] = 1\n",
    "\n",
    "# probability of getting a line \n",
    "plot_params['line']['prob'] = 0\n",
    "# prob of getting a contour plot\n",
    "plot_params['contour']['prob'] = 0\n",
    "# prob for getting a histogram\n",
    "plot_params['histogram']['prob'] = 0"
   ]
  },
  {
   "cell_type": "markdown",
   "id": "b958d73a-fd58-46b5-9af3-b91cda577b56",
   "metadata": {},
   "source": [
    "### Other parameters"
   ]
  },
  {
   "cell_type": "code",
   "execution_count": 11,
   "id": "8b36fa32-a85d-4dbe-a4f5-bf0be3685094",
   "metadata": {},
   "outputs": [],
   "source": [
    "# for ease of things, lets not do equations here\n",
    "title_params['equation']['prob'] = 0.0 # probability any word will be equation\n",
    "xlabel_params['equation']['prob'] = 0.0 # probability any word will be equation\n",
    "ylabel_params['equation']['prob'] = 0.0 # probability any word will be equation"
   ]
  },
  {
   "cell_type": "markdown",
   "id": "2fae2d31-cdf8-4fde-9302-5f91d9767a7c",
   "metadata": {},
   "source": [
    "Renormalize all probabilities:"
   ]
  },
  {
   "cell_type": "code",
   "execution_count": 12,
   "id": "a1cd495c-be76-4d40-bc74-86e5efecf417",
   "metadata": {},
   "outputs": [
    {
     "name": "stdout",
     "output_type": "stream",
     "text": [
      "title_params capatilize did not add to 1! total = 1.2999999999999998\n",
      "renormalizing...\n",
      "now:  {'none': 0.07692307692307694, 'first': 0.3846153846153847, 'all': 0.5384615384615385}\n",
      "xlabel_params capatilize did not add to 1! total = 1.2999999999999998\n",
      "renormalizing...\n",
      "now:  {'none': 0.07692307692307694, 'first': 0.3846153846153847, 'all': 0.5384615384615385}\n",
      "ylabel_params capatilize did not add to 1! total = 1.2999999999999998\n",
      "renormalizing...\n",
      "now:  {'none': 0.07692307692307694, 'first': 0.3846153846153847, 'all': 0.5384615384615385}\n",
      "colorbar_params capatilize did not add to 1! total = 1.2999999999999998\n",
      "renormalizing...\n",
      "now:  {'none': 0.07692307692307694, 'first': 0.3846153846153847, 'all': 0.5384615384615385}\n",
      "plot_types_params['scatter']['color bar']['location probs'] did not add to 1! total = 0.8500000000000001\n",
      "renormalizing...\n",
      "now:  {'right': 0.588235294117647, 'left': 0.058823529411764705, 'top': 0.2941176470588235, 'bottom': 0.058823529411764705}\n",
      "plot_types_params['contour']['color bar']['location probs'] did not add to 1! total = 0.8500000000000001\n",
      "renormalizing...\n",
      "now:  {'right': 0.588235294117647, 'left': 0.058823529411764705, 'top': 0.2941176470588235, 'bottom': 0.058823529411764705}\n",
      "plot_types_params['contour']['image or contour']['prob'] did not add to 1! total = 3.0\n",
      "renormalizing...\n",
      "now:  {'image': 0.3333333333333333, 'contour': 0.3333333333333333, 'both': 0.3333333333333333}\n",
      "plot_types_params['line']['distribution'] probabilities did not add to 1! total = 3\n",
      "renormalizing...\n",
      "now:  [0.3333333333333333, 0.3333333333333333, 0.3333333333333333]\n",
      "plot_types_params['histogram']['distribution'] probabilities did not add to 1! total = 3\n",
      "renormalizing...\n",
      "now:  [0.3333333333333333, 0.3333333333333333, 0.3333333333333333]\n",
      "plot_types_params['scatter']['distribution'] probabilities did not add to 1! total = 3\n",
      "renormalizing...\n",
      "now:  [0.3333333333333333, 0.3333333333333333, 0.3333333333333333]\n",
      "plot_types_params['contour']['distribution'] probabilities did not add to 1! total = 3\n",
      "renormalizing...\n",
      "now:  [0.3333333333333333, 0.3333333333333333, 0.3333333333333333]\n"
     ]
    },
    {
     "data": {
      "text/plain": [
       "{'line': {'prob': 0,\n",
       "  'npoints': {'min': 10, 'max': 11},\n",
       "  'line thick': {'min': 1, 'max': 5},\n",
       "  'nlines': {'min': 2, 'max': 3},\n",
       "  'xmin': -10000,\n",
       "  'xmax': 10000,\n",
       "  'ymin': -10000,\n",
       "  'ymax': 10000,\n",
       "  'prob same x': 0.1,\n",
       "  'markers': {'prob': 0.5, 'size': {'min': 1, 'max': 20}},\n",
       "  'error bars': {'elinewidth': {'min': 1, 'max': 5},\n",
       "   'x': {'prob': 0.25, 'size': {'min': 0.01, 'max': 0.1}},\n",
       "   'y': {'prob': 0.25, 'size': {'min': 0.01, 'max': 0.1}}},\n",
       "  'distribution': {'random': {'prob': 0.3333333333333333},\n",
       "   'linear': {'prob': 0.3333333333333333,\n",
       "    'intersect': (-100, 100),\n",
       "    'slope': (-5, 5),\n",
       "    'noise': (0, 0.25)},\n",
       "   'gmm': {'prob': 0.3333333333333333,\n",
       "    'histogram as line': {'prob': 0.25, 'factor': 1000},\n",
       "    'nclusters': {'min': 1, 'max': 20},\n",
       "    'nsamples': {'min': 10, 'max': 500},\n",
       "    'cluster std': {'min': -2, 'max': 0.5},\n",
       "    'noise': {'min': 0.05, 'max': 0.25}}}},\n",
       " 'histogram': {'prob': 0,\n",
       "  'npoints': {'min': 10, 'max': 10000},\n",
       "  'nbins': {'min': 1, 'max': 100},\n",
       "  'rwidth': {'min': 0.2, 'max': 1.0},\n",
       "  'line thick': {'prob': 0.5, 'min': 1, 'max': 5},\n",
       "  'nlines': {'min': 2, 'max': 3},\n",
       "  'xmin': -10000,\n",
       "  'xmax': 10000,\n",
       "  'error bars': {'elinewidth': {'min': 1, 'max': 5},\n",
       "   'x': {'prob': 1, 'size': {'min': 0.01, 'max': 0.1}}},\n",
       "  'horizontal prob': 0.25,\n",
       "  'distribution': {'random': {'prob': 0.3333333333333333},\n",
       "   'linear': {'prob': 0.3333333333333333,\n",
       "    'intersect': (-100, 100),\n",
       "    'slope': (-5, 5),\n",
       "    'noise': (0, 0.25)},\n",
       "   'gmm': {'prob': 0.3333333333333333,\n",
       "    'xmin': -10000,\n",
       "    'xmax': 10000,\n",
       "    'ymin': -10000,\n",
       "    'ymax': 10000,\n",
       "    'nclusters': {'min': 1, 'max': 20},\n",
       "    'nsamples': {'min': 10, 'max': 500},\n",
       "    'cluster std': {'min': -1, 'max': 1.5},\n",
       "    'noise': {'min': 0.05, 'max': 0.25}}}},\n",
       " 'scatter': {'prob': 1,\n",
       "  'npoints': {'min': 10, 'max': 100},\n",
       "  'markers': {'size': {'min': 1, 'max': 30}},\n",
       "  'colors': {'min': -100, 'max': 100},\n",
       "  'colormap scatter': {'prob': 0.95},\n",
       "  'color bar': {'location probs': {'right': 0.588235294117647,\n",
       "    'left': 0.058823529411764705,\n",
       "    'top': 0.2941176470588235,\n",
       "    'bottom': 0.058823529411764705},\n",
       "   'label prob': 0.5,\n",
       "   'size percent': {'min': 0.05, 'max': 0.15},\n",
       "   'pad': {'min': 0.01, 'max': 0.2}},\n",
       "  'xmin': -10000,\n",
       "  'xmax': 10000,\n",
       "  'ymin': -10000,\n",
       "  'ymax': 10000,\n",
       "  'error bars': {'elinewidth': {'min': 1, 'max': 5},\n",
       "   'x': {'prob': 0.25, 'size': {'min': 0.01, 'max': 0.1}},\n",
       "   'y': {'prob': 0.25, 'size': {'min': 0.01, 'max': 0.1}}},\n",
       "  'distribution': {'random': {'prob': 0.3333333333333333},\n",
       "   'linear': {'prob': 0.3333333333333333,\n",
       "    'intersect': (-100, 100),\n",
       "    'slope': (-5, 5),\n",
       "    'noise': (0, 0.25),\n",
       "    'color noise prob': 0.5},\n",
       "   'gmm': {'prob': 0.3333333333333333,\n",
       "    'upsample factor log': {'min': 2, 'max': 6},\n",
       "    'nclusters': {'min': 1, 'max': 5},\n",
       "    'nsamples': {'min': 1000, 'max': 50000},\n",
       "    'cluster std': {'min': -1, 'max': 0.5},\n",
       "    'noise': {'min': 0.05, 'max': 0.25},\n",
       "    'color noise prob': 0.5,\n",
       "    'max points': 200}}},\n",
       " 'contour': {'prob': 0,\n",
       "  'npoints': {'nx': {'min': 10, 'max': 500}, 'ny': {'min': 10, 'max': 500}},\n",
       "  'nlines': {'min': 3, 'max': 10},\n",
       "  'colors': {'min': -100, 'max': 100},\n",
       "  'colormap contour': {'prob': 0.95},\n",
       "  'color bar': {'location probs': {'right': 0.588235294117647,\n",
       "    'left': 0.058823529411764705,\n",
       "    'top': 0.2941176470588235,\n",
       "    'bottom': 0.058823529411764705},\n",
       "   'label prob': 0.5,\n",
       "   'size percent': {'min': 0.05, 'max': 0.15},\n",
       "   'pad': {'min': 0.01, 'max': 0.2}},\n",
       "  'image or contour': {'prob': {'image': 0.3333333333333333,\n",
       "    'contour': 0.3333333333333333,\n",
       "    'both': 0.3333333333333333},\n",
       "   'both contours': {'prob gray': 0.95}},\n",
       "  'xmin': -10000,\n",
       "  'xmax': 10000,\n",
       "  'ymin': -10000,\n",
       "  'ymax': 10000,\n",
       "  'distribution': {'random': {'prob': 0.3333333333333333},\n",
       "   'linear': {'prob': 0.3333333333333333,\n",
       "    'intersect': (-100, 100),\n",
       "    'slope': (-5, 5),\n",
       "    'noise': (0, 0.25)},\n",
       "   'gmm': {'prob': 0.3333333333333333,\n",
       "    'nclusters': {'min': 1, 'max': 500},\n",
       "    'upsample factor log': {'min': 0, 'max': 0.5},\n",
       "    'cluster std': {'min': -1, 'max': 1.5},\n",
       "    'noise': {'min': 0.05, 'max': 0.25},\n",
       "    'color noise prob': 0.5}}}}"
      ]
     },
     "execution_count": 12,
     "metadata": {},
     "output_type": "execute_result"
    }
   ],
   "source": [
    "# reload for debug\n",
    "import utils.synthetic_fig_utils\n",
    "reload(utils)\n",
    "reload(utils.synthetic_fig_utils)\n",
    "from utils.synthetic_fig_utils import normalize_params_prob\n",
    "\n",
    "plot_params_out, panel_params, \\\n",
    "  title_params, xlabel_params, \\\n",
    "  ylabel_params = normalize_params_prob(plot_params.copy(), panel_params, \n",
    "                                        title_params, xlabel_params, \n",
    "                                        ylabel_params, colorbar_params)\n",
    "\n",
    "plot_params_out"
   ]
  },
  {
   "cell_type": "markdown",
   "id": "5231b45e",
   "metadata": {},
   "source": [
    "### Run the thing"
   ]
  },
  {
   "cell_type": "code",
   "execution_count": 13,
   "id": "2751985c",
   "metadata": {},
   "outputs": [
    {
     "name": "stdout",
     "output_type": "stream",
     "text": [
      "seed_outer = 6700012876856450103\n"
     ]
    }
   ],
   "source": [
    "# Set a seed if you want a reproducible thing\n",
    "seed_outer = np.random.randint(maxint)\n",
    "#seed_outer = 7526304181034464103\n",
    "seed_outer = 6700012876856450103\n",
    "\n",
    "print('seed_outer =',seed_outer)\n",
    "rng_outer = np.random.default_rng(seed_outer)"
   ]
  },
  {
   "cell_type": "code",
   "execution_count": 14,
   "id": "27aa8e6c",
   "metadata": {},
   "outputs": [
    {
     "name": "stdout",
     "output_type": "stream",
     "text": [
      "seed =  1051348849005557432\n"
     ]
    }
   ],
   "source": [
    "# \"Inner\" seed -- for things like distributions and whatnot\n",
    "seed = np.random.randint(maxint)\n",
    "#seed = 2870146871786070273\n",
    "#seed = 7067533564274193147\n",
    "print('seed = ', seed)\n",
    "# based on seed, make random number generator, see: https://numpy.org/doc/2.2/reference/random/generator.html\n",
    "rng = np.random.default_rng(seed)\n",
    "condition_overlap_xticklabels = True"
   ]
  },
  {
   "cell_type": "code",
   "execution_count": 15,
   "id": "3d28ba6e",
   "metadata": {},
   "outputs": [],
   "source": [
    "# set some things to keep standard across images\n",
    "\n",
    "tight_layout = True\n",
    "\n",
    "color_map = 'Blues' #rng_outer.choice(plt.colormaps())\n",
    "\n",
    "plot_style = 'default' #rng_outer.choice(plot_styles)\n",
    "\n",
    "npanels, panel_style, nrows, ncols = 1, 'square', 1, 1 #get_nrows_and_ncols(panel_params, rng=rng_outer)\n",
    "\n",
    "aspect_fig = 0.9\n",
    "\n",
    "dpi =  300 # int(rng_outer.uniform(low=dpi_params['min'], high=dpi_params['max']))"
   ]
  },
  {
   "cell_type": "code",
   "execution_count": 16,
   "id": "4a4a2738",
   "metadata": {},
   "outputs": [],
   "source": [
    "# use the \"fixed\" RNG outer\n",
    "# get all font stuffs\n",
    "title_fontsize, colorbar_fontsize, xlabel_fontsize, ylabel_fontsize, \\\n",
    "    xlabel_ticks_fontsize, ylabel_ticks_fontsize, \\\n",
    "                        csfont = get_font_info(fontsizes, font_names, rng=rng_outer)"
   ]
  },
  {
   "cell_type": "code",
   "execution_count": 17,
   "id": "4910eae0",
   "metadata": {},
   "outputs": [
    {
     "data": {
      "text/plain": [
       "np.str_('scatter')"
      ]
     },
     "execution_count": 17,
     "metadata": {},
     "output_type": "execute_result"
    }
   ],
   "source": [
    "choices = []; probs = []\n",
    "for k,v in plot_params_out.items():\n",
    "    choices.append(k)\n",
    "    probs.append(v['prob'])\n",
    "\n",
    "plot_type = rng.choice(choices, p=probs)\n",
    "plot_type"
   ]
  },
  {
   "cell_type": "markdown",
   "id": "04fad8b5",
   "metadata": {},
   "source": [
    "Set a few params that we want as fixed:"
   ]
  },
  {
   "cell_type": "code",
   "execution_count": 53,
   "id": "f70f1ae0",
   "metadata": {},
   "outputs": [],
   "source": [
    "distribution_type = 'gmm'\n",
    "xmin, xmax = -1, 1 # for now\n",
    "ymin,ymax = -1,1 \n",
    "\n",
    "# now specific for *this plot*\n",
    "plot_params_here = plot_params_out.copy()\n",
    "\n",
    "plot_params_here['scatter']['npoints'] = {'min':1, 'max':2}\n",
    "\n",
    "\n",
    "plot_params_here['scatter']['xmin'] = xmin\n",
    "plot_params_here['scatter']['xmax'] = xmax\n",
    "plot_params_here['scatter']['ymin'] = ymin\n",
    "plot_params_here['scatter']['ymax'] = ymax\n",
    "# also for plotting colors\n",
    "plot_params_here['scatter']['colors'] = {'min':-1, 'max':1}\n",
    "\n",
    "plot_params_here['scatter']['distribution']['gmm']['nclusters'] = {'min': 1, 'max': 1}\n",
    "plot_params_here['scatter']['distribution']['gmm']['nsamples'] = {'min': 10000, 'max': 10000}\n",
    "plot_params_here['scatter']['distribution']['gmm']['upsample factor log'] = {'min':1,'max':2}\n",
    "\n",
    "\n",
    "dist_params = plot_params_here[plot_type]['distribution'] "
   ]
  },
  {
   "cell_type": "code",
   "execution_count": 54,
   "id": "1e68796f",
   "metadata": {},
   "outputs": [
    {
     "data": {
      "text/plain": [
       "{'random': {'prob': 0.3333333333333333},\n",
       " 'linear': {'prob': 0.3333333333333333,\n",
       "  'intersect': (-100, 100),\n",
       "  'slope': (-5, 5),\n",
       "  'noise': (0, 0.25),\n",
       "  'color noise prob': 0.5},\n",
       " 'gmm': {'prob': 0.3333333333333333,\n",
       "  'upsample factor log': {'min': 1, 'max': 2},\n",
       "  'nclusters': {'min': 1, 'max': 1},\n",
       "  'nsamples': {'min': 10000, 'max': 10000},\n",
       "  'cluster std': {'min': -2, 'max': 0.0},\n",
       "  'noise': {'min': 0.05, 'max': 0.1},\n",
       "  'color noise prob': 0.5,\n",
       "  'max points': 200}}"
      ]
     },
     "execution_count": 54,
     "metadata": {},
     "output_type": "execute_result"
    }
   ],
   "source": [
    "dist_params"
   ]
  },
  {
   "cell_type": "code",
   "execution_count": 66,
   "id": "3502e136",
   "metadata": {},
   "outputs": [
    {
     "name": "stdout",
     "output_type": "stream",
     "text": [
      "seed =  7606298255989343620\n"
     ]
    },
    {
     "data": {
      "text/plain": [
       "122"
      ]
     },
     "execution_count": 66,
     "metadata": {},
     "output_type": "execute_result"
    }
   ],
   "source": [
    "import utils.distribution_utils\n",
    "import utils.data_utils\n",
    "reload(utils.distribution_utils)\n",
    "reload(utils.data_utils)\n",
    "from utils.data_utils import get_data\n",
    "import utils.plot_classes_utils\n",
    "reload(utils.plot_classes_utils)\n",
    "\n",
    "prob_same_x = 1.0\n",
    "\n",
    "seed = np.random.randint(maxint)\n",
    "print('seed = ', seed)\n",
    "rng = np.random.default_rng(seed)\n",
    "\n",
    "data_for_plot = get_data(plot_params_here[plot_type],\n",
    "                plot_type=plot_type,\n",
    "                        distribution=distribution_type, \n",
    "                        rng=rng, verbose=True)\n",
    "len(data_for_plot['xs'])"
   ]
  },
  {
   "cell_type": "code",
   "execution_count": 67,
   "id": "96266e65",
   "metadata": {},
   "outputs": [],
   "source": [
    "import utils.plot_utils\n",
    "reload(utils.plot_utils)\n",
    "from utils.plot_utils import make_colorbar"
   ]
  },
  {
   "cell_type": "code",
   "execution_count": 68,
   "id": "3ea32095",
   "metadata": {},
   "outputs": [
    {
     "name": "stdout",
     "output_type": "stream",
     "text": [
      "figsize (w,h) = (2.666, 2)\n"
     ]
    },
    {
     "data": {
      "text/plain": [
       "<Figure size 640x480 with 0 Axes>"
      ]
     },
     "metadata": {},
     "output_type": "display_data"
    },
    {
     "data": {
      "image/png": "[encoded data removed]",
      "text/plain": [
       "<Figure size 799.8x600 with 2 Axes>"
      ]
     },
     "metadata": {},
     "output_type": "display_data"
    }
   ],
   "source": [
    "import utils.plot_utils\n",
    "reload(utils.plot_utils)\n",
    "import utils.plot_classes_utils\n",
    "reload(utils.plot_classes_utils)\n",
    "from utils.plot_classes_utils import Scatter\n",
    "from utils.plot_utils import make_plot, make_base_plot, make_colorbar\n",
    "\n",
    "colorbar_side = 'right'\n",
    "aspect_fig = 1.333\n",
    "colorbar_size = 0.1 # %\n",
    "colorbar_pad = 0.05\n",
    "\n",
    "\n",
    "fig, axes, plot_inds = make_base_plot(plot_style, color_map, dpi, nrows, ncols, aspect_fig,\n",
    "                   base=2, verbose=True, tight_layout = tight_layout)\n",
    "\n",
    "data_from_plot, ax = make_plot(plot_params_here[plot_type], data_for_plot, \n",
    "                        axes[0], plot_type=plot_type, \n",
    "                        rng=rng, colorbar_side=colorbar_side, \n",
    "                        colorbar_size=colorbar_size, colorbar_pad = colorbar_pad) \n",
    "\n",
    "title, xlabel, ylabel = add_titles_and_labels(axes[0], 'x title', 'y axis', 'title', \n",
    "                                              title_params, csfont, title_fontsize, \n",
    "                          xlabel_params, ylabel_params, xlabel_fontsize, ylabel_fontsize,\n",
    "                          inlines, xlabel_ticks_fontsize, ylabel_ticks_fontsize,\n",
    "                          rng=rng)\n",
    "cbar, colorbar_words = make_colorbar(data_from_plot, plot_type, fig, \n",
    "                  'colorbar', inlines, colorbar_params,\n",
    "                  title_params, colorbar_fontsize, csfont)\n",
    "#= make_colorbar(data_from_plot, plot_type, fig)"
   ]
  },
  {
   "cell_type": "code",
   "execution_count": 69,
   "id": "938696ba",
   "metadata": {},
   "outputs": [
    {
     "data": {
      "text/plain": [
       "(<matplotlib.colorbar.Colorbar at 0x34176b530>, 'colorbar')"
      ]
     },
     "execution_count": 69,
     "metadata": {},
     "output_type": "execute_result"
    }
   ],
   "source": [
    "cbar, colorbar_words"
   ]
  },
  {
   "cell_type": "code",
   "execution_count": 70,
   "id": "5954119c",
   "metadata": {},
   "outputs": [
    {
     "data": {
      "text/plain": [
       "{'data': <matplotlib.collections.PathCollection at 0x34176ad50>,\n",
       " 'color bar': <Axes: ylabel='colorbar'>,\n",
       " 'marker': 5,\n",
       " 'marker size': 1,\n",
       " 'color bar params': {'side': 'right',\n",
       "  'pad': 0.05,\n",
       "  'size': 0.1,\n",
       "  'axis side': 'right',\n",
       "  'label prob': 0.5}}"
      ]
     },
     "execution_count": 70,
     "metadata": {},
     "output_type": "execute_result"
    }
   ],
   "source": [
    "data_from_plot"
   ]
  },
  {
   "cell_type": "code",
   "execution_count": 71,
   "id": "6de0aa77",
   "metadata": {},
   "outputs": [],
   "source": [
    "import utils.synthetic_fig_utils\n",
    "reload(utils.synthetic_fig_utils)\n",
    "from utils.synthetic_fig_utils import collect_plot_data_axes"
   ]
  },
  {
   "cell_type": "markdown",
   "id": "c78a47fc",
   "metadata": {},
   "source": [
    "Loop for several distributions and save:"
   ]
  },
  {
   "cell_type": "code",
   "execution_count": 72,
   "id": "6fbb87b6",
   "metadata": {},
   "outputs": [],
   "source": [
    "import utils.plot_qa_utils\n",
    "reload(utils.plot_qa_utils)\n",
    "from utils.plot_qa_utils import init_qa_pairs"
   ]
  },
  {
   "cell_type": "code",
   "execution_count": 73,
   "id": "5d170bcf",
   "metadata": {},
   "outputs": [
    {
     "data": {
      "text/plain": [
       "'./example_scatters//imgs/'"
      ]
     },
     "execution_count": 73,
     "metadata": {},
     "output_type": "execute_result"
    }
   ],
   "source": [
    "img_dir"
   ]
  },
  {
   "cell_type": "code",
   "execution_count": 74,
   "id": "6ef8181b",
   "metadata": {},
   "outputs": [],
   "source": [
    "def sort_cbars(fig, cbar_nums, verbose=False):\n",
    "    axes_save = []; cbar_axes_save = []\n",
    "    # IF SUCCESSFUL\n",
    "    # save axes if not colorbar and image of sky\n",
    "    for iaxes in range(len(fig.axes)):\n",
    "        if hasattr(fig.axes[iaxes], 'coords'): # image of sky\n",
    "            # colorbar?\n",
    "            if fig.axes[iaxes].coords[0].coord_type == 'scalar':\n",
    "                if verbose:\n",
    "                    print('Probable colorbar for image of the sky axes =', iaxes)\n",
    "            else:\n",
    "                axes_save.append(fig.axes[iaxes])\n",
    "                # does this have a colorbar?\n",
    "                if iaxes in cbar_nums:\n",
    "                    cbar_axes_save.append(fig.axes[iaxes+1])\n",
    "                else:\n",
    "                    cbar_axes_save.append([])\n",
    "        else:\n",
    "            # colorbar\n",
    "            #fig.axes[1]._colorbar\n",
    "            if hasattr(fig.axes[iaxes], '_colorbar'):\n",
    "                if verbose:\n",
    "                    print('Probable colorbar for regular plot axes =', iaxes)\n",
    "            else:\n",
    "                axes_save.append(fig.axes[iaxes])\n",
    "                # does this have a colorbar?\n",
    "                if iaxes in cbar_nums:\n",
    "                    cbar_axes_save.append(fig.axes[iaxes+1])\n",
    "                else:\n",
    "                    cbar_axes_save.append([])\n",
    "    return axes_save, cbar_axes_save"
   ]
  },
  {
   "cell_type": "code",
   "execution_count": 75,
   "id": "b21dbf12",
   "metadata": {},
   "outputs": [
    {
     "name": "stdout",
     "output_type": "stream",
     "text": [
      "QUESTION: You are a helpful assistant that can analyze images.  How many scatter points are there in the specified figure panel? Please format the output as a json as {\"npoints\":\"\"} for this figure panel, where the \"npoints\" value should be an integer.\n",
      "ANSWER: {'npoints': 37}\n",
      "QUESTION: You are a helpful assistant that can analyze images.  How many scatter points are there in the specified figure panel? Please format the output as a json as {\"npoints\":\"\"} for this figure panel, where the \"npoints\" value should be an integer.\n",
      "ANSWER: {'npoints': 24}\n",
      "QUESTION: You are a helpful assistant that can analyze images.  How many scatter points are there in the specified figure panel? Please format the output as a json as {\"npoints\":\"\"} for this figure panel, where the \"npoints\" value should be an integer.\n",
      "ANSWER: {'npoints': 200}\n",
      "QUESTION: You are a helpful assistant that can analyze images.  How many scatter points are there in the specified figure panel? Please format the output as a json as {\"npoints\":\"\"} for this figure panel, where the \"npoints\" value should be an integer.\n",
      "ANSWER: {'npoints': 48}\n",
      "QUESTION: You are a helpful assistant that can analyze images.  How many scatter points are there in the specified figure panel? Please format the output as a json as {\"npoints\":\"\"} for this figure panel, where the \"npoints\" value should be an integer.\n",
      "ANSWER: {'npoints': 32}\n",
      "QUESTION: You are a helpful assistant that can analyze images.  How many scatter points are there in the specified figure panel? Please format the output as a json as {\"npoints\":\"\"} for this figure panel, where the \"npoints\" value should be an integer.\n",
      "ANSWER: {'npoints': 135}\n",
      "QUESTION: You are a helpful assistant that can analyze images.  How many scatter points are there in the specified figure panel? Please format the output as a json as {\"npoints\":\"\"} for this figure panel, where the \"npoints\" value should be an integer.\n",
      "ANSWER: {'npoints': 40}\n",
      "QUESTION: You are a helpful assistant that can analyze images.  How many scatter points are there in the specified figure panel? Please format the output as a json as {\"npoints\":\"\"} for this figure panel, where the \"npoints\" value should be an integer.\n",
      "ANSWER: {'npoints': 100}\n",
      "QUESTION: You are a helpful assistant that can analyze images.  How many scatter points are there in the specified figure panel? Please format the output as a json as {\"npoints\":\"\"} for this figure panel, where the \"npoints\" value should be an integer.\n",
      "ANSWER: {'npoints': 200}\n",
      "QUESTION: You are a helpful assistant that can analyze images.  How many scatter points are there in the specified figure panel? Please format the output as a json as {\"npoints\":\"\"} for this figure panel, where the \"npoints\" value should be an integer.\n",
      "ANSWER: {'npoints': 48}\n",
      "QUESTION: You are a helpful assistant that can analyze images.  How many scatter points are there in the specified figure panel? Please format the output as a json as {\"npoints\":\"\"} for this figure panel, where the \"npoints\" value should be an integer.\n",
      "ANSWER: {'npoints': 200}\n",
      "QUESTION: You are a helpful assistant that can analyze images.  How many scatter points are there in the specified figure panel? Please format the output as a json as {\"npoints\":\"\"} for this figure panel, where the \"npoints\" value should be an integer.\n",
      "ANSWER: {'npoints': 200}\n",
      "QUESTION: You are a helpful assistant that can analyze images.  How many scatter points are there in the specified figure panel? Please format the output as a json as {\"npoints\":\"\"} for this figure panel, where the \"npoints\" value should be an integer.\n",
      "ANSWER: {'npoints': 92}\n",
      "QUESTION: You are a helpful assistant that can analyze images.  How many scatter points are there in the specified figure panel? Please format the output as a json as {\"npoints\":\"\"} for this figure panel, where the \"npoints\" value should be an integer.\n",
      "ANSWER: {'npoints': 176}\n",
      "QUESTION: You are a helpful assistant that can analyze images.  How many scatter points are there in the specified figure panel? Please format the output as a json as {\"npoints\":\"\"} for this figure panel, where the \"npoints\" value should be an integer.\n",
      "ANSWER: {'npoints': 24}\n",
      "QUESTION: You are a helpful assistant that can analyze images.  How many scatter points are there in the specified figure panel? Please format the output as a json as {\"npoints\":\"\"} for this figure panel, where the \"npoints\" value should be an integer.\n",
      "ANSWER: {'npoints': 68}\n",
      "QUESTION: You are a helpful assistant that can analyze images.  How many scatter points are there in the specified figure panel? Please format the output as a json as {\"npoints\":\"\"} for this figure panel, where the \"npoints\" value should be an integer.\n",
      "ANSWER: {'npoints': 68}\n",
      "QUESTION: You are a helpful assistant that can analyze images.  How many scatter points are there in the specified figure panel? Please format the output as a json as {\"npoints\":\"\"} for this figure panel, where the \"npoints\" value should be an integer.\n",
      "ANSWER: {'npoints': 200}\n",
      "QUESTION: You are a helpful assistant that can analyze images.  How many scatter points are there in the specified figure panel? Please format the output as a json as {\"npoints\":\"\"} for this figure panel, where the \"npoints\" value should be an integer.\n",
      "ANSWER: {'npoints': 71}\n",
      "QUESTION: You are a helpful assistant that can analyze images.  How many scatter points are there in the specified figure panel? Please format the output as a json as {\"npoints\":\"\"} for this figure panel, where the \"npoints\" value should be an integer.\n",
      "ANSWER: {'npoints': 22}\n",
      "QUESTION: You are a helpful assistant that can analyze images.  How many scatter points are there in the specified figure panel? Please format the output as a json as {\"npoints\":\"\"} for this figure panel, where the \"npoints\" value should be an integer.\n",
      "ANSWER: {'npoints': 74}\n",
      "QUESTION: You are a helpful assistant that can analyze images.  How many scatter points are there in the specified figure panel? Please format the output as a json as {\"npoints\":\"\"} for this figure panel, where the \"npoints\" value should be an integer.\n",
      "ANSWER: {'npoints': 48}\n",
      "QUESTION: You are a helpful assistant that can analyze images.  How many scatter points are there in the specified figure panel? Please format the output as a json as {\"npoints\":\"\"} for this figure panel, where the \"npoints\" value should be an integer.\n",
      "ANSWER: {'npoints': 182}\n",
      "QUESTION: You are a helpful assistant that can analyze images.  How many scatter points are there in the specified figure panel? Please format the output as a json as {\"npoints\":\"\"} for this figure panel, where the \"npoints\" value should be an integer.\n",
      "ANSWER: {'npoints': 79}\n",
      "QUESTION: You are a helpful assistant that can analyze images.  How many scatter points are there in the specified figure panel? Please format the output as a json as {\"npoints\":\"\"} for this figure panel, where the \"npoints\" value should be an integer.\n",
      "ANSWER: {'npoints': 183}\n",
      "QUESTION: You are a helpful assistant that can analyze images.  How many scatter points are there in the specified figure panel? Please format the output as a json as {\"npoints\":\"\"} for this figure panel, where the \"npoints\" value should be an integer.\n",
      "ANSWER: {'npoints': 27}\n",
      "QUESTION: You are a helpful assistant that can analyze images.  How many scatter points are there in the specified figure panel? Please format the output as a json as {\"npoints\":\"\"} for this figure panel, where the \"npoints\" value should be an integer.\n",
      "ANSWER: {'npoints': 35}\n",
      "QUESTION: You are a helpful assistant that can analyze images.  How many scatter points are there in the specified figure panel? Please format the output as a json as {\"npoints\":\"\"} for this figure panel, where the \"npoints\" value should be an integer.\n",
      "ANSWER: {'npoints': 43}\n",
      "QUESTION: You are a helpful assistant that can analyze images.  How many scatter points are there in the specified figure panel? Please format the output as a json as {\"npoints\":\"\"} for this figure panel, where the \"npoints\" value should be an integer.\n",
      "ANSWER: {'npoints': 22}\n",
      "QUESTION: You are a helpful assistant that can analyze images.  How many scatter points are there in the specified figure panel? Please format the output as a json as {\"npoints\":\"\"} for this figure panel, where the \"npoints\" value should be an integer.\n",
      "ANSWER: {'npoints': 40}\n",
      "QUESTION: You are a helpful assistant that can analyze images.  How many scatter points are there in the specified figure panel? Please format the output as a json as {\"npoints\":\"\"} for this figure panel, where the \"npoints\" value should be an integer.\n",
      "ANSWER: {'npoints': 150}\n",
      "QUESTION: You are a helpful assistant that can analyze images.  How many scatter points are there in the specified figure panel? Please format the output as a json as {\"npoints\":\"\"} for this figure panel, where the \"npoints\" value should be an integer.\n",
      "ANSWER: {'npoints': 160}\n",
      "QUESTION: You are a helpful assistant that can analyze images.  How many scatter points are there in the specified figure panel? Please format the output as a json as {\"npoints\":\"\"} for this figure panel, where the \"npoints\" value should be an integer.\n",
      "ANSWER: {'npoints': 100}\n",
      "QUESTION: You are a helpful assistant that can analyze images.  How many scatter points are there in the specified figure panel? Please format the output as a json as {\"npoints\":\"\"} for this figure panel, where the \"npoints\" value should be an integer.\n",
      "ANSWER: {'npoints': 48}\n",
      "QUESTION: You are a helpful assistant that can analyze images.  How many scatter points are there in the specified figure panel? Please format the output as a json as {\"npoints\":\"\"} for this figure panel, where the \"npoints\" value should be an integer.\n",
      "ANSWER: {'npoints': 43}\n",
      "QUESTION: You are a helpful assistant that can analyze images.  How many scatter points are there in the specified figure panel? Please format the output as a json as {\"npoints\":\"\"} for this figure panel, where the \"npoints\" value should be an integer.\n",
      "ANSWER: {'npoints': 30}\n",
      "QUESTION: You are a helpful assistant that can analyze images.  How many scatter points are there in the specified figure panel? Please format the output as a json as {\"npoints\":\"\"} for this figure panel, where the \"npoints\" value should be an integer.\n",
      "ANSWER: {'npoints': 116}\n",
      "QUESTION: You are a helpful assistant that can analyze images.  How many scatter points are there in the specified figure panel? Please format the output as a json as {\"npoints\":\"\"} for this figure panel, where the \"npoints\" value should be an integer.\n",
      "ANSWER: {'npoints': 35}\n",
      "QUESTION: You are a helpful assistant that can analyze images.  How many scatter points are there in the specified figure panel? Please format the output as a json as {\"npoints\":\"\"} for this figure panel, where the \"npoints\" value should be an integer.\n",
      "ANSWER: {'npoints': 200}\n",
      "QUESTION: You are a helpful assistant that can analyze images.  How many scatter points are there in the specified figure panel? Please format the output as a json as {\"npoints\":\"\"} for this figure panel, where the \"npoints\" value should be an integer.\n",
      "ANSWER: {'npoints': 46}\n",
      "QUESTION: You are a helpful assistant that can analyze images.  How many scatter points are there in the specified figure panel? Please format the output as a json as {\"npoints\":\"\"} for this figure panel, where the \"npoints\" value should be an integer.\n",
      "ANSWER: {'npoints': 176}\n",
      "QUESTION: You are a helpful assistant that can analyze images.  How many scatter points are there in the specified figure panel? Please format the output as a json as {\"npoints\":\"\"} for this figure panel, where the \"npoints\" value should be an integer.\n",
      "ANSWER: {'npoints': 131}\n",
      "QUESTION: You are a helpful assistant that can analyze images.  How many scatter points are there in the specified figure panel? Please format the output as a json as {\"npoints\":\"\"} for this figure panel, where the \"npoints\" value should be an integer.\n",
      "ANSWER: {'npoints': 141}\n",
      "QUESTION: You are a helpful assistant that can analyze images.  How many scatter points are there in the specified figure panel? Please format the output as a json as {\"npoints\":\"\"} for this figure panel, where the \"npoints\" value should be an integer.\n",
      "ANSWER: {'npoints': 51}\n",
      "QUESTION: You are a helpful assistant that can analyze images.  How many scatter points are there in the specified figure panel? Please format the output as a json as {\"npoints\":\"\"} for this figure panel, where the \"npoints\" value should be an integer.\n",
      "ANSWER: {'npoints': 182}\n",
      "QUESTION: You are a helpful assistant that can analyze images.  How many scatter points are there in the specified figure panel? Please format the output as a json as {\"npoints\":\"\"} for this figure panel, where the \"npoints\" value should be an integer.\n",
      "ANSWER: {'npoints': 27}\n",
      "QUESTION: You are a helpful assistant that can analyze images.  How many scatter points are there in the specified figure panel? Please format the output as a json as {\"npoints\":\"\"} for this figure panel, where the \"npoints\" value should be an integer.\n",
      "ANSWER: {'npoints': 32}\n",
      "QUESTION: You are a helpful assistant that can analyze images.  How many scatter points are there in the specified figure panel? Please format the output as a json as {\"npoints\":\"\"} for this figure panel, where the \"npoints\" value should be an integer.\n",
      "ANSWER: {'npoints': 200}\n",
      "QUESTION: You are a helpful assistant that can analyze images.  How many scatter points are there in the specified figure panel? Please format the output as a json as {\"npoints\":\"\"} for this figure panel, where the \"npoints\" value should be an integer.\n",
      "ANSWER: {'npoints': 54}\n",
      "QUESTION: You are a helpful assistant that can analyze images.  How many scatter points are there in the specified figure panel? Please format the output as a json as {\"npoints\":\"\"} for this figure panel, where the \"npoints\" value should be an integer.\n",
      "ANSWER: {'npoints': 150}\n"
     ]
    },
    {
     "data": {
      "text/plain": [
       "<Figure size 640x480 with 0 Axes>"
      ]
     },
     "metadata": {},
     "output_type": "display_data"
    },
    {
     "data": {
      "image/png": "[encoded data removed]",
      "text/plain": [
       "<Figure size 799.8x600 with 2 Axes>"
      ]
     },
     "metadata": {},
     "output_type": "display_data"
    }
   ],
   "source": [
    "seed_outer = np.random.randint(maxint)\n",
    "seed = np.random.randint(maxint)\n",
    "\n",
    "\n",
    "colorbar_side = 'right'\n",
    "aspect_fig = 1.333\n",
    "colorbar_size = 0.1 # %\n",
    "colorbar_pad = 0.05\n",
    "elinewidth = 1\n",
    "\n",
    "\n",
    "import utils.scatter_plot_qa_utils\n",
    "import utils.plot_utils\n",
    "import utils.plot_qa_utils\n",
    "import utils.synthetic_fig_utils\n",
    "reload(utils.scatter_plot_qa_utils)\n",
    "reload(utils.plot_utils)\n",
    "reload(utils.plot_qa_utils)\n",
    "reload(utils.synthetic_fig_utils)\n",
    "from utils.plot_utils import make_plot\n",
    "from utils.plot_qa_utils import how_many, how_much_data_values\n",
    "from utils.synthetic_fig_utils import collect_plot_data_axes\n",
    "\n",
    "from utils.scatter_plot_qa_utils import q_npoints_scatter_plot_plotnums\n",
    "\n",
    "\n",
    "\n",
    "\n",
    "\n",
    "## start the thing\n",
    "\n",
    "nclusters = [1, 2, 3, 4, 5]\n",
    "\n",
    "cluster_std = {'min':-2, 'max':0.0} # in 10^\n",
    "\n",
    "noise = {'min': 0.05, 'max': 0.1}\n",
    "\n",
    "plot_json = []\n",
    "\n",
    "ntrials = 10\n",
    "\n",
    "verbose_qa = True\n",
    "\n",
    "# check for github\n",
    "if 'LLM_VQA_JCDL2025' in fake_figs_dir and ntrials > 10:\n",
    "    print('Limiting trials for saving in github.  Change the \"fake_figs_dir\" param to a local address')\n",
    "    ntrials = 10\n",
    "\n",
    "for n in range(ntrials):\n",
    "    for nclust in nclusters:\n",
    "\n",
    "        # this becomes more important when we have multiple axes and more complex plots\n",
    "        data_for_plots = []\n",
    "        plot_types = []\n",
    "        data_from_plots = []\n",
    "        titles = []; xlabels = []; ylabels = []; \n",
    "        cbars = []; cbar_labels = []; cbar_words = []; cbar_nums = []\n",
    "        end_time = time.time()\n",
    "        distribution_types = []\n",
    "        # in case axes change\n",
    "        axes_save = []; cbar_axes_save = []\n",
    "\n",
    "        plot_params_loop = plot_params_here.copy()\n",
    "        plot_params_loop['scatter']['distribution']['gmm']['nclusters'] = {'min': nclust, 'max': nclust}\n",
    "        plot_params_loop['scatter']['distribution']['gmm']['cluster std'] = cluster_std\n",
    "        plot_params_loop['scatter']['distribution']['gmm']['noise'] = noise\n",
    "        data_for_plot = get_data(plot_params_loop[plot_type],\n",
    "                        plot_type=plot_type,\n",
    "                                distribution=distribution_type, \n",
    "                                rng=rng)\n",
    "\n",
    "        fig, axes, plot_inds = make_base_plot(plot_style, color_map, dpi, \n",
    "                                              nrows, ncols, aspect_fig,\n",
    "                        base=2, verbose=False, tight_layout = tight_layout)\n",
    "\n",
    "        for iplot, ax in enumerate(axes): \n",
    "            data_from_plot, ax = make_plot(plot_params_here[plot_type], data_for_plot, \n",
    "                                    axes[0], plot_type=plot_type, \n",
    "                                    rng=rng, \n",
    "                                    colorbar_side=colorbar_side, \n",
    "                                    colorbar_size=colorbar_size, colorbar_pad = colorbar_pad,\n",
    "                                    elinewidth=elinewidth) \n",
    "\n",
    "            title, xlabel, ylabel = add_titles_and_labels(axes[0], 'x title', 'y axis', 'title', \n",
    "                                                        title_params, csfont, title_fontsize, \n",
    "                                    xlabel_params, ylabel_params, xlabel_fontsize, ylabel_fontsize,\n",
    "                                    inlines, xlabel_ticks_fontsize, ylabel_ticks_fontsize,\n",
    "                                    rng=rng)\n",
    "            cbar, colorbar_words = make_colorbar(data_from_plot, plot_type, fig, \n",
    "                  'colorbar', inlines, colorbar_params,\n",
    "                  title_params, colorbar_fontsize, csfont)\n",
    "            # save for each\n",
    "            cbar_labels.append(cbar)\n",
    "            cbar_words.append(colorbar_words)\n",
    "            if cbar is not None:\n",
    "                cbar_nums.append(len(cbar_nums)) # save axis of this colorbar\n",
    "                cbar_nums.append(len(cbar_nums)) # add extra for axes for colorbar\n",
    "            else:\n",
    "                cbar_nums.append(-1)\n",
    "\n",
    "            # save image\n",
    "            base_name = 'nclust_' + str(nclust) + '_trial' + str(n)\n",
    "            for imgf in img_format:\n",
    "                fig.savefig(img_dir + base_name + '.' + imgf)\n",
    "\n",
    "            ####### SAVE DATA ########\n",
    "            # save data for parsing later -- only a single plot right now\n",
    "            data_for_plots.append(data_for_plot)\n",
    "            plot_types.append(plot_type)\n",
    "            data_from_plots.append(data_from_plot)\n",
    "            titles.append(title)\n",
    "            xlabels.append(xlabel)\n",
    "            ylabels.append(ylabel)\n",
    "            distribution_types.append(distribution_type)\n",
    "\n",
    "        # figure out which are color bars and which are figures\n",
    "        axes_save, cbar_axes_save = sort_cbars(fig, cbar_nums)\n",
    "\n",
    "        fig.canvas.draw()\n",
    "        width, height = fig.canvas.get_width_height()\n",
    "        # save data\n",
    "        datas = {}\n",
    "        # figure datas\n",
    "        datas['figure'] = {'dpi':dpi, 'base':base, 'aspect ratio': aspect_fig, \n",
    "                            'nrows':nrows, 'ncols':ncols, \n",
    "                            'plot style':plot_style, \n",
    "                            'color map':color_map,\n",
    "                            'title fontsize':title_fontsize, \n",
    "                            'xlabel fontsize':xlabel_fontsize,\n",
    "                            'ylabel fontsize':ylabel_fontsize, \n",
    "                        'plot indexes':plot_inds}\n",
    "        #for iplot,ax in enumerate(axes): ### JPN, colorbar\n",
    "        for iplot, (ax,cbar_ax) in enumerate(zip(axes_save,cbar_axes_save)):\n",
    "            datas['plot' + str(iplot)] = collect_plot_data_axes(ax, fig,\n",
    "                           height, width,\n",
    "                           data_from_plots[iplot], data_for_plots[iplot], \n",
    "                           plot_types[iplot], titles[iplot], \n",
    "                           xlabels[iplot], ylabels[iplot],\n",
    "                           distribution_types[iplot], verbose=True, \n",
    "                           #cbar_label=cbar_labels[iplot], cbar_word=cbar_words[iplot], \n",
    "                           cbar_ax=cbar_ax)\n",
    "            \n",
    "\n",
    "        ######## GENERATE QA BASE #######\n",
    "        qa_pairs = init_qa_pairs()\n",
    "        for iplot in range(len((axes))):\n",
    "            if datas['plot'+str(iplot)]['type'] == 'scatter':\n",
    "                ############ L1 #############\n",
    "                # number of scatter points\n",
    "                if len(axes) > 1:\n",
    "                    qa_pairs = q_npoints_scatter_plot_plotnums(datas, qa_pairs, \n",
    "                                                      plot_num = iplot, \n",
    "                                                      use_words=False, \n",
    "                                                      verbose=verbose_qa)\n",
    "                qa_pairs = q_npoints_scatter_plot_plotnums(datas, qa_pairs, \n",
    "                                                  plot_num = iplot, \n",
    "                                                  use_words=True, \n",
    "                                                  verbose=verbose_qa)\n",
    "\n",
    "        #         ###### L2 #######\n",
    "        #         # stats items\n",
    "        #         for axis in ['x', 'y']:\n",
    "        #             for k,v in stats.items():\n",
    "        #                 if len(axes) > 1:\n",
    "        #                     qa_pairs = q_stats_lines(datas, qa_pairs, stat={k:v}, axis=axis, plot_num=iplot, use_words=False, verbose=verbose_qa)\n",
    "        #                 qa_pairs = q_stats_lines(datas, qa_pairs, stat={k:v}, axis=axis, plot_num=iplot, use_words=True, verbose=verbose_qa)\n",
    "\n",
    "\n",
    "\n",
    "        # datas['VQA'] = qa_pairs\n",
    "\n",
    "\n",
    "        # #import sys; sys.exit()\n",
    "\n",
    "        # # dump full data\n",
    "        # dumped = json.dumps(datas, cls=NumpyEncoder)\n",
    "        # with open(json_dir + base_name + '.json', 'w') as f:\n",
    "        #     json.dump(dumped, f)\n",
    "\n",
    "        #plot_json.append(pltjson.copy())"
   ]
  },
  {
   "cell_type": "code",
   "execution_count": 43,
   "id": "c4c42070",
   "metadata": {},
   "outputs": [
    {
     "data": {
      "text/plain": [
       "dict_keys(['type', 'distribution', 'data', 'data pixels', 'data from plot', 'color bar', 'xticks', 'yticks', 'color bar ticks', 'square', 'title', 'xlabel', 'ylabel'])"
      ]
     },
     "execution_count": 43,
     "metadata": {},
     "output_type": "execute_result"
    }
   ],
   "source": [
    "datas['plot0'].keys()"
   ]
  },
  {
   "cell_type": "code",
   "execution_count": 83,
   "id": "78b12697",
   "metadata": {},
   "outputs": [
    {
     "data": {
      "text/plain": [
       "2"
      ]
     },
     "execution_count": 83,
     "metadata": {},
     "output_type": "execute_result"
    }
   ],
   "source": [
    "len(datas['plot0']['data']['ys'])"
   ]
  },
  {
   "cell_type": "code",
   "execution_count": 93,
   "id": "d7d0dd26",
   "metadata": {},
   "outputs": [
    {
     "data": {
      "text/plain": [
       "[array([-0.3805874 , -0.34909325, -0.34691688, -0.31484586, -0.28997069,\n",
       "        -0.28563467, -0.28396609, -0.27308822, -0.27075973, -0.14849021,\n",
       "        -0.08263919]),\n",
       " array([-0.3712019 , -0.32687785, -0.25990569, -0.17120434, -0.14888854,\n",
       "        -0.1172922 , -0.11628668, -0.1133447 , -0.09618093, -0.05861432,\n",
       "        -0.05847243]),\n",
       " array([-0.34731911, -0.3329955 , -0.29419968, -0.24700402, -0.20163527,\n",
       "        -0.18586775, -0.11320868, -0.09927767, -0.07901077]),\n",
       " array([-0.37580907, -0.37421421, -0.31826866, -0.22066134, -0.172643  ,\n",
       "        -0.07798806])]"
      ]
     },
     "execution_count": 93,
     "metadata": {},
     "output_type": "execute_result"
    }
   ],
   "source": [
    "datas['plot0']['data']['xs']"
   ]
  },
  {
   "cell_type": "code",
   "execution_count": null,
   "id": "75173cda-2b70-4b78-8495-3e45ea9e9828",
   "metadata": {},
   "outputs": [],
   "source": [
    "#datas['VQA']['Level 1']['Plot-level questions']"
   ]
  },
  {
   "cell_type": "markdown",
   "id": "d0f7ccac",
   "metadata": {},
   "source": [
    "Practice reading in:"
   ]
  },
  {
   "cell_type": "code",
   "execution_count": 65,
   "id": "036df21d",
   "metadata": {},
   "outputs": [],
   "source": [
    "import json\n",
    "data_file = json_dir + 'nclust_4_trial8.json'\n",
    "with open(data_file,'r') as f:\n",
    "    t = json.load(f)\n",
    "    datas = json.loads(t)"
   ]
  },
  {
   "cell_type": "code",
   "execution_count": 38,
   "id": "ea12312c",
   "metadata": {},
   "outputs": [
    {
     "data": {
      "text/plain": [
       "{'Level 1': {'Figure-level questions': {},\n",
       "  'Plot-level questions': {'nbars ': {'plot0': {'Q': 'You are a helpful assistant that can analyze images.  How many bars are there in the specified figure panel? Please format the output as a json as {\"nbars\":\"\"} for this figure panel, where the \"nbars\" value should be an integer.',\n",
       "     'A': {'nbars ': 50},\n",
       "     'persona': 'You are a helpful assistant that can analyze images.',\n",
       "     'context': '',\n",
       "     'question': 'How many bars are there in the specified figure panel?',\n",
       "     'format': 'Please format the output as a json as {\"nbars\":\"\"} for this figure panel, where the \"nbars\" value should be an integer.'}}}},\n",
       " 'Level 2': {'Plot-level questions': {'minimum ': {'plot0': {'Q': 'You are a helpful assistant that can analyze images.  What are the minimum data values in this figure panel?  Please format the output as a json as {\"minimum x\":\"\"} for this figure panel, where the \"minimum\" value should be a float, calculated from the data values used to create the plot.',\n",
       "     'A': {'minimum ': {'minimum x': 0.16207413623731676}},\n",
       "     'persona': 'You are a helpful assistant that can analyze images.',\n",
       "     'context': '',\n",
       "     'question': 'What are the minimum data values in this figure panel? ',\n",
       "     'format': 'Please format the output as a json as {\"minimum x\":\"\"} for this figure panel, where the \"minimum\" value should be a float, calculated from the data values used to create the plot.'}},\n",
       "   'maximum ': {'plot0': {'Q': 'You are a helpful assistant that can analyze images.  What are the maximum data values in this figure panel?  Please format the output as a json as {\"maximum x\":\"\"} for this figure panel, where the \"maximum\" value should be a float, calculated from the data values used to create the plot.',\n",
       "     'A': {'maximum ': {'maximum x': 0.9040028397744991}},\n",
       "     'persona': 'You are a helpful assistant that can analyze images.',\n",
       "     'context': '',\n",
       "     'question': 'What are the maximum data values in this figure panel? ',\n",
       "     'format': 'Please format the output as a json as {\"maximum x\":\"\"} for this figure panel, where the \"maximum\" value should be a float, calculated from the data values used to create the plot.'}},\n",
       "   'median ': {'plot0': {'Q': 'You are a helpful assistant that can analyze images.  What are the median data values in this figure panel?  Please format the output as a json as {\"median x\":\"\"} for this figure panel, where the \"median\" value should be a float, calculated from the data values used to create the plot.',\n",
       "     'A': {'median ': {'median x': 0.7776717312778343}},\n",
       "     'persona': 'You are a helpful assistant that can analyze images.',\n",
       "     'context': '',\n",
       "     'question': 'What are the median data values in this figure panel? ',\n",
       "     'format': 'Please format the output as a json as {\"median x\":\"\"} for this figure panel, where the \"median\" value should be a float, calculated from the data values used to create the plot.'}},\n",
       "   'mean ': {'plot0': {'Q': 'You are a helpful assistant that can analyze images.  What are the mean data values in this figure panel?  Please format the output as a json as {\"mean x\":\"\"} for this figure panel, where the \"mean\" value should be a float, calculated from the data values used to create the plot.',\n",
       "     'A': {'mean ': {'mean x': 0.7076898362071107}},\n",
       "     'persona': 'You are a helpful assistant that can analyze images.',\n",
       "     'context': '',\n",
       "     'question': 'What are the mean data values in this figure panel? ',\n",
       "     'format': 'Please format the output as a json as {\"mean x\":\"\"} for this figure panel, where the \"mean\" value should be a float, calculated from the data values used to create the plot.'}}}},\n",
       " 'Level 3': {'Plot-level questions': {'ngaussians ': {'plot0': {'Q': 'You are a helpful assistant that can analyze images.  How many gaussians were used to generate the data for the plot in the figure panel? Please format the output as a json as {\"ngaussians\":\"\"} for this figure panel, where the \"ngaussians\" value should be an integer.',\n",
       "     'A': {'ngaussians ': 4},\n",
       "     'persona': 'You are a helpful assistant that can analyze images.',\n",
       "     'context': '',\n",
       "     'question': 'How many gaussians were used to generate the data for the plot in the figure panel?',\n",
       "     'format': 'Please format the output as a json as {\"ngaussians\":\"\"} for this figure panel, where the \"ngaussians\" value should be an integer.'}}}}}"
      ]
     },
     "execution_count": 38,
     "metadata": {},
     "output_type": "execute_result"
    }
   ],
   "source": [
    "datas['VQA']"
   ]
  },
  {
   "cell_type": "code",
   "execution_count": 66,
   "id": "a25a5dc3",
   "metadata": {},
   "outputs": [
    {
     "data": {
      "text/plain": [
       "{'nbars ': {'plot0': {'Q': 'You are a helpful assistant that can analyze images.  How many bars are there in the specified figure panel? Please format the output as a json as {\"nbars\":\"\"} for this figure panel, where the \"nbars\" value should be an integer.',\n",
       "   'A': {'nbars ': 50},\n",
       "   'persona': 'You are a helpful assistant that can analyze images.',\n",
       "   'context': '',\n",
       "   'question': 'How many bars are there in the specified figure panel?',\n",
       "   'format': 'Please format the output as a json as {\"nbars\":\"\"} for this figure panel, where the \"nbars\" value should be an integer.'}}}"
      ]
     },
     "execution_count": 66,
     "metadata": {},
     "output_type": "execute_result"
    }
   ],
   "source": [
    "datas['VQA']['Level 1']['Plot-level questions']"
   ]
  },
  {
   "cell_type": "code",
   "execution_count": null,
   "id": "342dd112",
   "metadata": {},
   "outputs": [],
   "source": []
  },
  {
   "cell_type": "code",
   "execution_count": null,
   "id": "934a3e3a",
   "metadata": {},
   "outputs": [],
   "source": []
  }
 ],
 "metadata": {
  "kernelspec": {
   "display_name": "JCDL2025",
   "language": "python",
   "name": "python3"
  },
  "language_info": {
   "codemirror_mode": {
    "name": "ipython",
    "version": 3
   },
   "file_extension": ".py",
   "mimetype": "text/x-python",
   "name": "python",
   "nbconvert_exporter": "python",
   "pygments_lexer": "ipython3",
   "version": "3.12.11"
  }
 },
 "nbformat": 4,
 "nbformat_minor": 5
}
