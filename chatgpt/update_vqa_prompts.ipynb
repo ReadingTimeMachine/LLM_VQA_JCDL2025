{
 "cells": [
  {
   "cell_type": "markdown",
   "id": "bf07e6a2",
   "metadata": {},
   "source": [
    "This is just in case we want to modify some of the prompts after they are generated."
   ]
  },
  {
   "cell_type": "code",
   "execution_count": 62,
   "id": "4aa90ac5",
   "metadata": {},
   "outputs": [],
   "source": [
    "dir_jsons = '/Users/jnaiman/LLM_VQA_JCDL2025/example_hists/jsons/' #store API results for example-hists"
   ]
  },
  {
   "cell_type": "code",
   "execution_count": 76,
   "id": "21562c80",
   "metadata": {},
   "outputs": [],
   "source": [
    "import json\n",
    "from glob import glob\n",
    "#import pickle\n",
    "from sys import path\n",
    "path.append('../')\n",
    "from utils.data_utils import NumpyEncoder\n",
    "from copy import deepcopy"
   ]
  },
  {
   "cell_type": "code",
   "execution_count": 64,
   "id": "ce33935a",
   "metadata": {},
   "outputs": [
    {
     "data": {
      "text/plain": [
       "['/Users/jnaiman/LLM_VQA_JCDL2025/example_hists/jsons/id_0077.json',\n",
       " '/Users/jnaiman/LLM_VQA_JCDL2025/example_hists/jsons/id_0020.json',\n",
       " '/Users/jnaiman/LLM_VQA_JCDL2025/example_hists/jsons/id_0036.json']"
      ]
     },
     "execution_count": 64,
     "metadata": {},
     "output_type": "execute_result"
    }
   ],
   "source": [
    "jsons = glob(dir_jsons + '*.json')\n",
    "jsons[:3]"
   ]
  },
  {
   "cell_type": "code",
   "execution_count": 82,
   "id": "b2018a3e",
   "metadata": {},
   "outputs": [],
   "source": [
    "redo_jsons = False # only if you really wanna do it\n",
    "addition = ' Please choose an integer number from 1 to 5.'\n",
    "if redo_jsons:\n",
    "    for ifile in range(len(jsons)):\n",
    "        with open(jsons[ifile],'r') as f:\n",
    "            j = json.load(f)\n",
    "            j = json.loads(j)\n",
    "\n",
    "        vqa = deepcopy(j['VQA'])\n",
    "        #import sys; sys.exit()\n",
    "        for k, v in vqa['Level 3']['Plot-level questions'].items():\n",
    "            if k == 'ngaussians':\n",
    "                # copy\n",
    "                k2 = k + ', integer'\n",
    "                v2 = deepcopy(v) #.copy()\n",
    "                v2['plot0']['question'] = v2['plot0']['question'] + addition\n",
    "\n",
    "        #import sys; sys.exit()\n",
    "        vqa['Level 3']['Plot-level questions'][k2] = v2\n",
    "        jout = deepcopy(j) #.copy()\n",
    "        jout['VQA'] = vqa\n",
    "        #import sys; sys.exit()\n",
    "        # dump updated full data\n",
    "        dumped = json.dumps(jout, cls=NumpyEncoder)\n",
    "        with open(jsons[ifile], 'w') as f:\n",
    "            json.dump(dumped, f)"
   ]
  },
  {
   "cell_type": "code",
   "execution_count": 80,
   "id": "eab5ba8a",
   "metadata": {},
   "outputs": [
    {
     "data": {
      "text/plain": [
       "{'ngaussians': {'plot0': {'Q': 'You are a helpful assistant that can analyze images.  How many gaussians were used to generate the data for the plot in the figure panel? Please format the output as a json as {\"ngaussians\":\"\"} for this figure panel, where the \"ngaussians\" value should be an integer.',\n",
       "   'A': {'ngaussians': 2},\n",
       "   'persona': 'You are a helpful assistant that can analyze images.',\n",
       "   'context': '',\n",
       "   'question': 'How many gaussians were used to generate the data for the plot in the figure panel?',\n",
       "   'format': 'Please format the output as a json as {\"ngaussians\":\"\"} for this figure panel, where the \"ngaussians\" value should be an integer.'}},\n",
       " 'ngaussians, integer': {'plot0': {'Q': 'You are a helpful assistant that can analyze images.  How many gaussians were used to generate the data for the plot in the figure panel? Please format the output as a json as {\"ngaussians\":\"\"} for this figure panel, where the \"ngaussians\" value should be an integer.',\n",
       "   'A': {'ngaussians': 2},\n",
       "   'persona': 'You are a helpful assistant that can analyze images.',\n",
       "   'context': '',\n",
       "   'question': 'How many gaussians were used to generate the data for the plot in the figure panel? Please choose an integer number from 1 to 5.',\n",
       "   'format': 'Please format the output as a json as {\"ngaussians\":\"\"} for this figure panel, where the \"ngaussians\" value should be an integer.'}}}"
      ]
     },
     "execution_count": 80,
     "metadata": {},
     "output_type": "execute_result"
    }
   ],
   "source": [
    "vqa['Level 3']['Plot-level questions']"
   ]
  },
  {
   "cell_type": "code",
   "execution_count": null,
   "id": "8c6dfebb",
   "metadata": {},
   "outputs": [],
   "source": []
  },
  {
   "cell_type": "code",
   "execution_count": 67,
   "id": "696bcaf5",
   "metadata": {},
   "outputs": [
    {
     "data": {
      "text/plain": [
       "{'Level 1': {'Figure-level questions': {},\n",
       "  'Plot-level questions': {'nbars': {'plot0': {'Q': 'You are a helpful assistant that can analyze images.  How many bars are there in the specified figure panel? Please format the output as a json as {\"nbars\":\"\"} for this figure panel, where the \"nbars\" value should be an integer.',\n",
       "     'A': {'nbars': 20},\n",
       "     'persona': 'You are a helpful assistant that can analyze images.',\n",
       "     'context': '',\n",
       "     'question': 'How many bars are there in the specified figure panel?',\n",
       "     'format': 'Please format the output as a json as {\"nbars\":\"\"} for this figure panel, where the \"nbars\" value should be an integer.'}}}},\n",
       " 'Level 2': {'Plot-level questions': {'minimum': {'plot0': {'Q': 'You are a helpful assistant that can analyze images.  What are the minimum data values  in this figure panel?  Please format the output as a json as {\"minimum x\":\"\"} for this figure panel, where the \"minimum x\" value should be a float, calculated from the data values used to create the plot.',\n",
       "     'A': {'minimum': {'minimum x': -0.9039030182959754}},\n",
       "     'persona': 'You are a helpful assistant that can analyze images.',\n",
       "     'context': '',\n",
       "     'question': 'What are the minimum data values  in this figure panel? ',\n",
       "     'format': 'Please format the output as a json as {\"minimum x\":\"\"} for this figure panel, where the \"minimum x\" value should be a float, calculated from the data values used to create the plot.'}},\n",
       "   'maximum': {'plot0': {'Q': 'You are a helpful assistant that can analyze images.  What are the maximum data values  in this figure panel?  Please format the output as a json as {\"maximum x\":\"\"} for this figure panel, where the \"maximum x\" value should be a float, calculated from the data values used to create the plot.',\n",
       "     'A': {'maximum': {'maximum x': -0.1500760324875851}},\n",
       "     'persona': 'You are a helpful assistant that can analyze images.',\n",
       "     'context': '',\n",
       "     'question': 'What are the maximum data values  in this figure panel? ',\n",
       "     'format': 'Please format the output as a json as {\"maximum x\":\"\"} for this figure panel, where the \"maximum x\" value should be a float, calculated from the data values used to create the plot.'}},\n",
       "   'median': {'plot0': {'Q': 'You are a helpful assistant that can analyze images.  What are the median data values  in this figure panel?  Please format the output as a json as {\"median x\":\"\"} for this figure panel, where the \"median x\" value should be a float, calculated from the data values used to create the plot.',\n",
       "     'A': {'median': {'median x': -0.4723913577551772}},\n",
       "     'persona': 'You are a helpful assistant that can analyze images.',\n",
       "     'context': '',\n",
       "     'question': 'What are the median data values  in this figure panel? ',\n",
       "     'format': 'Please format the output as a json as {\"median x\":\"\"} for this figure panel, where the \"median x\" value should be a float, calculated from the data values used to create the plot.'}},\n",
       "   'mean': {'plot0': {'Q': 'You are a helpful assistant that can analyze images.  What are the mean data values  in this figure panel?  Please format the output as a json as {\"mean x\":\"\"} for this figure panel, where the \"mean x\" value should be a float, calculated from the data values used to create the plot.',\n",
       "     'A': {'mean': {'mean x': -0.49127551258688784}},\n",
       "     'persona': 'You are a helpful assistant that can analyze images.',\n",
       "     'context': '',\n",
       "     'question': 'What are the mean data values  in this figure panel? ',\n",
       "     'format': 'Please format the output as a json as {\"mean x\":\"\"} for this figure panel, where the \"mean x\" value should be a float, calculated from the data values used to create the plot.'}}}},\n",
       " 'Level 3': {'Plot-level questions': {'ngaussians': {'plot0': {'Q': 'You are a helpful assistant that can analyze images.  How many gaussians were used to generate the data for the plot in the figure panel? Please format the output as a json as {\"ngaussians\":\"\"} for this figure panel, where the \"ngaussians\" value should be an integer.',\n",
       "     'A': {'ngaussians': 2},\n",
       "     'persona': 'You are a helpful assistant that can analyze images.',\n",
       "     'context': '',\n",
       "     'question': 'How many gaussians were used to generate the data for the plot in the figure panel? Please choose an integer number from 1 to 5.',\n",
       "     'format': 'Please format the output as a json as {\"ngaussians\":\"\"} for this figure panel, where the \"ngaussians\" value should be an integer.'}}}}}"
      ]
     },
     "execution_count": 67,
     "metadata": {},
     "output_type": "execute_result"
    }
   ],
   "source": [
    "vqa"
   ]
  },
  {
   "cell_type": "code",
   "execution_count": 70,
   "id": "1305018c",
   "metadata": {},
   "outputs": [
    {
     "data": {
      "text/plain": [
       "{'Level 1': {'Figure-level questions': {},\n",
       "  'Plot-level questions': {'nbars': {'plot0': {'Q': 'You are a helpful assistant that can analyze images.  How many bars are there in the specified figure panel? Please format the output as a json as {\"nbars\":\"\"} for this figure panel, where the \"nbars\" value should be an integer.',\n",
       "     'A': {'nbars': 20},\n",
       "     'persona': 'You are a helpful assistant that can analyze images.',\n",
       "     'context': '',\n",
       "     'question': 'How many bars are there in the specified figure panel?',\n",
       "     'format': 'Please format the output as a json as {\"nbars\":\"\"} for this figure panel, where the \"nbars\" value should be an integer.'}}}},\n",
       " 'Level 2': {'Plot-level questions': {'minimum': {'plot0': {'Q': 'You are a helpful assistant that can analyze images.  What are the minimum data values  in this figure panel?  Please format the output as a json as {\"minimum x\":\"\"} for this figure panel, where the \"minimum x\" value should be a float, calculated from the data values used to create the plot.',\n",
       "     'A': {'minimum': {'minimum x': -0.9039030182959754}},\n",
       "     'persona': 'You are a helpful assistant that can analyze images.',\n",
       "     'context': '',\n",
       "     'question': 'What are the minimum data values  in this figure panel? ',\n",
       "     'format': 'Please format the output as a json as {\"minimum x\":\"\"} for this figure panel, where the \"minimum x\" value should be a float, calculated from the data values used to create the plot.'}},\n",
       "   'maximum': {'plot0': {'Q': 'You are a helpful assistant that can analyze images.  What are the maximum data values  in this figure panel?  Please format the output as a json as {\"maximum x\":\"\"} for this figure panel, where the \"maximum x\" value should be a float, calculated from the data values used to create the plot.',\n",
       "     'A': {'maximum': {'maximum x': -0.1500760324875851}},\n",
       "     'persona': 'You are a helpful assistant that can analyze images.',\n",
       "     'context': '',\n",
       "     'question': 'What are the maximum data values  in this figure panel? ',\n",
       "     'format': 'Please format the output as a json as {\"maximum x\":\"\"} for this figure panel, where the \"maximum x\" value should be a float, calculated from the data values used to create the plot.'}},\n",
       "   'median': {'plot0': {'Q': 'You are a helpful assistant that can analyze images.  What are the median data values  in this figure panel?  Please format the output as a json as {\"median x\":\"\"} for this figure panel, where the \"median x\" value should be a float, calculated from the data values used to create the plot.',\n",
       "     'A': {'median': {'median x': -0.4723913577551772}},\n",
       "     'persona': 'You are a helpful assistant that can analyze images.',\n",
       "     'context': '',\n",
       "     'question': 'What are the median data values  in this figure panel? ',\n",
       "     'format': 'Please format the output as a json as {\"median x\":\"\"} for this figure panel, where the \"median x\" value should be a float, calculated from the data values used to create the plot.'}},\n",
       "   'mean': {'plot0': {'Q': 'You are a helpful assistant that can analyze images.  What are the mean data values  in this figure panel?  Please format the output as a json as {\"mean x\":\"\"} for this figure panel, where the \"mean x\" value should be a float, calculated from the data values used to create the plot.',\n",
       "     'A': {'mean': {'mean x': -0.49127551258688784}},\n",
       "     'persona': 'You are a helpful assistant that can analyze images.',\n",
       "     'context': '',\n",
       "     'question': 'What are the mean data values  in this figure panel? ',\n",
       "     'format': 'Please format the output as a json as {\"mean x\":\"\"} for this figure panel, where the \"mean x\" value should be a float, calculated from the data values used to create the plot.'}}}},\n",
       " 'Level 3': {'Plot-level questions': {'ngaussians': {'plot0': {'Q': 'You are a helpful assistant that can analyze images.  How many gaussians were used to generate the data for the plot in the figure panel? Please format the output as a json as {\"ngaussians\":\"\"} for this figure panel, where the \"ngaussians\" value should be an integer.',\n",
       "     'A': {'ngaussians': 2},\n",
       "     'persona': 'You are a helpful assistant that can analyze images.',\n",
       "     'context': '',\n",
       "     'question': 'How many gaussians were used to generate the data for the plot in the figure panel? Please choose an integer number from 1 to 5.',\n",
       "     'format': 'Please format the output as a json as {\"ngaussians\":\"\"} for this figure panel, where the \"ngaussians\" value should be an integer.'}}}}}"
      ]
     },
     "execution_count": 70,
     "metadata": {},
     "output_type": "execute_result"
    }
   ],
   "source": [
    "j['VQA']"
   ]
  },
  {
   "cell_type": "code",
   "execution_count": null,
   "id": "226d1e61",
   "metadata": {},
   "outputs": [],
   "source": []
  },
  {
   "cell_type": "code",
   "execution_count": 4,
   "id": "b63d5c03",
   "metadata": {},
   "outputs": [
    {
     "data": {
      "text/plain": [
       "['/Users/jnaiman/LLM_VQA_JCDL2025/example_hists/LLM_outputs/chatgpt_api/id_0039.pickle',\n",
       " '/Users/jnaiman/LLM_VQA_JCDL2025/example_hists/LLM_outputs/chatgpt_api/id_0044.pickle',\n",
       " '/Users/jnaiman/LLM_VQA_JCDL2025/example_hists/LLM_outputs/chatgpt_api/id_0027.pickle']"
      ]
     },
     "execution_count": 4,
     "metadata": {},
     "output_type": "execute_result"
    }
   ],
   "source": [
    "pickles = glob(dir_api + '*.pickle')\n",
    "pickles[:3]"
   ]
  },
  {
   "cell_type": "code",
   "execution_count": null,
   "id": "7d8dba9e",
   "metadata": {},
   "outputs": [],
   "source": [
    "redo_pickles = False # only if you really wanna do it\n",
    "addition = ' Please choose an integer number from 1 to 5.'\n",
    "if redo_pickles:\n",
    "    for ifile in range(len(pickles)):\n",
    "        with open(pickles[ifile], 'rb') as f:\n",
    "            all_in = pickle.load(f)\n",
    "            #import sys; sys.exit()\n",
    "        qa_in = all_in[0] #pickle.load(f)[0]\n",
    "        model_in = all_in[1] #pickle.load(f)[1]\n",
    "        qa_out = []\n",
    "        for qa_pairs in qa_in:\n",
    "            qa_pairs_out = qa_pairs.copy()\n",
    "            if 'ngaussians' in qa_pairs['format'] and addition not in qa_pairs['question']:\n",
    "                # 'question': 'How many gaussians were used to generate the data for the plot in the figure panel?',\n",
    "                q = qa_pairs['question'] + addition\n",
    "                print(q)\n",
    "                #import sys; sys.exit()\n",
    "                qa_pairs_out['question'] = q\n",
    "                # add this question\n",
    "                qa_out.append(qa_pairs_out)\n",
    "            else:\n",
    "                pass\n",
    "            qa_out.append(qa_pairs)\n",
    "                #import sys; sys.exit()\n",
    "\n",
    "        with open(pickles[ifile], 'wb') as ff:\n",
    "            pickle.dump([qa_pairs_out, model_in], ff)"
   ]
  },
  {
   "cell_type": "code",
   "execution_count": 18,
   "id": "f52214bd",
   "metadata": {},
   "outputs": [
    {
     "data": {
      "text/plain": [
       "'gpt-5-nano-2025-08-07'"
      ]
     },
     "execution_count": 18,
     "metadata": {},
     "output_type": "execute_result"
    }
   ],
   "source": [
    "all_in[1]"
   ]
  },
  {
   "cell_type": "code",
   "execution_count": null,
   "id": "5e19d6c5",
   "metadata": {},
   "outputs": [],
   "source": []
  },
  {
   "cell_type": "code",
   "execution_count": null,
   "id": "6f7f3fa1",
   "metadata": {},
   "outputs": [],
   "source": []
  },
  {
   "cell_type": "code",
   "execution_count": null,
   "id": "cdf4620c",
   "metadata": {},
   "outputs": [],
   "source": []
  },
  {
   "cell_type": "code",
   "execution_count": null,
   "id": "e7e6694c",
   "metadata": {},
   "outputs": [],
   "source": []
  }
 ],
 "metadata": {
  "kernelspec": {
   "display_name": "JCDL2025",
   "language": "python",
   "name": "python3"
  },
  "language_info": {
   "codemirror_mode": {
    "name": "ipython",
    "version": 3
   },
   "file_extension": ".py",
   "mimetype": "text/x-python",
   "name": "python",
   "nbconvert_exporter": "python",
   "pygments_lexer": "ipython3",
   "version": "3.12.11"
  }
 },
 "nbformat": 4,
 "nbformat_minor": 5
}
