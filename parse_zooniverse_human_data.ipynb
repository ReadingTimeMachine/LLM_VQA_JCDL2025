{
 "cells": [
  {
   "cell_type": "markdown",
   "id": "c9b93c8e",
   "metadata": {},
   "source": [
    "This script will parse Zooniverse results and compare to the \"ground truth\"."
   ]
  },
  {
   "cell_type": "code",
   "execution_count": 55,
   "id": "1fcb0795",
   "metadata": {},
   "outputs": [],
   "source": [
    "# original file from Zooniverse -- annonomized version will be made and saved in \"resources\"\n",
    "zoonie_file = '/Users/jnaiman/Downloads/tmp/JCDL2025/zooniverse/first-workflow-for-histograms-classifications.csv'\n",
    "\n",
    "zoonie_subjects = '/Users/jnaiman/Downloads/tmp/JCDL2025/zooniverse/jcdl-et-al-subjects.csv'\n",
    "\n",
    "# where ground truth jsons are\n",
    "gt_jsons = './example_hists/jsons/'"
   ]
  },
  {
   "cell_type": "code",
   "execution_count": 19,
   "id": "1117eb2c",
   "metadata": {},
   "outputs": [],
   "source": [
    "import pandas as pd\n",
    "import json\n",
    "import numpy as np"
   ]
  },
  {
   "cell_type": "markdown",
   "id": "a4593465",
   "metadata": {},
   "source": [
    "## Subject set\n",
    "\n",
    "Get the right one."
   ]
  },
  {
   "cell_type": "code",
   "execution_count": 9,
   "id": "17021e31",
   "metadata": {},
   "outputs": [],
   "source": [
    "dfsub = pd.read_csv(zoonie_subjects)"
   ]
  },
  {
   "cell_type": "code",
   "execution_count": 12,
   "id": "0d1b3ed0",
   "metadata": {},
   "outputs": [
    {
     "data": {
      "text/plain": [
       "array([112268234, 112268235, 112268236, 112268237, 112268238])"
      ]
     },
     "execution_count": 12,
     "metadata": {},
     "output_type": "execute_result"
    }
   ],
   "source": [
    "# get subject IDs from the right subject set\n",
    "sub_id_choose = '130875'\n",
    "\n",
    "subject_ids = dfsub[dfsub['subject_set_id'].astype('str')==sub_id_choose]['subject_id'].unique()\n",
    "subject_ids[:5]"
   ]
  },
  {
   "cell_type": "code",
   "execution_count": null,
   "id": "e9c2a413",
   "metadata": {},
   "outputs": [],
   "source": []
  },
  {
   "cell_type": "markdown",
   "id": "c6d9f44e",
   "metadata": {},
   "source": [
    "## Clean & anonymize data\n",
    "\n",
    "Get data for just these subject IDs, anonymize annotators."
   ]
  },
  {
   "cell_type": "code",
   "execution_count": 14,
   "id": "f4129029",
   "metadata": {},
   "outputs": [],
   "source": [
    "df_in = pd.read_csv(zoonie_file)\n",
    "\n",
    "# only right subject IDs\n",
    "df = df_in[df_in['subject_ids'].isin(subject_ids)]"
   ]
  },
  {
   "cell_type": "code",
   "execution_count": 39,
   "id": "f4491bc2",
   "metadata": {},
   "outputs": [],
   "source": [
    "#df.head()\n",
    "user_names = df['user_name'].unique()\n",
    "nAnn = np.linspace(0,len(user_names)-1,len(user_names)).astype('int') + 1\n",
    "\n",
    "annotators = []\n",
    "for i in range(len(df)):\n",
    "    d = df.iloc[i]\n",
    "    un = d['user_name']\n",
    "    ind = np.where(un == user_names)[0][0]\n",
    "    annotators.append('annotator' + str(nAnn[ind]))\n",
    "\n",
    "dfout = df[['metadata', 'annotations', 'subject_ids']].copy()\n",
    "dfout['annotators'] = annotators\n",
    "\n",
    "# also, get the image metadata file name for ground truth\n",
    "image_id = []\n",
    "for id in dfout['subject_ids']:\n",
    "    d = dfsub[dfsub['subject_id'] == id]\n",
    "    if len(d) != 1:\n",
    "        print('wrong size!')\n",
    "        import sys; sys.exit()\n",
    "    fn = json.loads(d['metadata'].values[0])\n",
    "    image_id.append(fn['Filename'])\n",
    "\n",
    "dfout['image file'] = image_id"
   ]
  },
  {
   "cell_type": "code",
   "execution_count": 40,
   "id": "6c163e2a",
   "metadata": {},
   "outputs": [
    {
     "data": {
      "text/html": [
       "<div>\n",
       "<style scoped>\n",
       "    .dataframe tbody tr th:only-of-type {\n",
       "        vertical-align: middle;\n",
       "    }\n",
       "\n",
       "    .dataframe tbody tr th {\n",
       "        vertical-align: top;\n",
       "    }\n",
       "\n",
       "    .dataframe thead th {\n",
       "        text-align: right;\n",
       "    }\n",
       "</style>\n",
       "<table border=\"1\" class=\"dataframe\">\n",
       "  <thead>\n",
       "    <tr style=\"text-align: right;\">\n",
       "      <th></th>\n",
       "      <th>metadata</th>\n",
       "      <th>annotations</th>\n",
       "      <th>subject_ids</th>\n",
       "      <th>annotators</th>\n",
       "      <th>image file</th>\n",
       "    </tr>\n",
       "  </thead>\n",
       "  <tbody>\n",
       "    <tr>\n",
       "      <th>1</th>\n",
       "      <td>{\"source\":\"api\",\"session\":\"bc9ecd19a25e8303652...</td>\n",
       "      <td>[{\"task\":\"T0\",\"value\":\"1\",\"task_label\":\"How ma...</td>\n",
       "      <td>112268275</td>\n",
       "      <td>annotator1</td>\n",
       "      <td>id_0041.jpeg</td>\n",
       "    </tr>\n",
       "    <tr>\n",
       "      <th>2</th>\n",
       "      <td>{\"source\":\"api\",\"session\":\"bc9ecd19a25e8303652...</td>\n",
       "      <td>[{\"task\":\"T0\",\"value\":\"3\",\"task_label\":\"How ma...</td>\n",
       "      <td>112268248</td>\n",
       "      <td>annotator1</td>\n",
       "      <td>id_0014.jpeg</td>\n",
       "    </tr>\n",
       "    <tr>\n",
       "      <th>3</th>\n",
       "      <td>{\"source\":\"api\",\"session\":\"bc9ecd19a25e8303652...</td>\n",
       "      <td>[{\"task\":\"T0\",\"value\":\"2\",\"task_label\":\"How ma...</td>\n",
       "      <td>112268262</td>\n",
       "      <td>annotator1</td>\n",
       "      <td>id_0028.jpeg</td>\n",
       "    </tr>\n",
       "    <tr>\n",
       "      <th>4</th>\n",
       "      <td>{\"source\":\"api\",\"session\":\"bc9ecd19a25e8303652...</td>\n",
       "      <td>[{\"task\":\"T0\",\"value\":\"2\",\"task_label\":\"How ma...</td>\n",
       "      <td>112268291</td>\n",
       "      <td>annotator1</td>\n",
       "      <td>id_0057.jpeg</td>\n",
       "    </tr>\n",
       "    <tr>\n",
       "      <th>5</th>\n",
       "      <td>{\"source\":\"api\",\"session\":\"bc9ecd19a25e8303652...</td>\n",
       "      <td>[{\"task\":\"T0\",\"value\":\"1\",\"task_label\":\"How ma...</td>\n",
       "      <td>112268254</td>\n",
       "      <td>annotator1</td>\n",
       "      <td>id_0020.jpeg</td>\n",
       "    </tr>\n",
       "  </tbody>\n",
       "</table>\n",
       "</div>"
      ],
      "text/plain": [
       "                                            metadata  \\\n",
       "1  {\"source\":\"api\",\"session\":\"bc9ecd19a25e8303652...   \n",
       "2  {\"source\":\"api\",\"session\":\"bc9ecd19a25e8303652...   \n",
       "3  {\"source\":\"api\",\"session\":\"bc9ecd19a25e8303652...   \n",
       "4  {\"source\":\"api\",\"session\":\"bc9ecd19a25e8303652...   \n",
       "5  {\"source\":\"api\",\"session\":\"bc9ecd19a25e8303652...   \n",
       "\n",
       "                                         annotations  subject_ids  annotators  \\\n",
       "1  [{\"task\":\"T0\",\"value\":\"1\",\"task_label\":\"How ma...    112268275  annotator1   \n",
       "2  [{\"task\":\"T0\",\"value\":\"3\",\"task_label\":\"How ma...    112268248  annotator1   \n",
       "3  [{\"task\":\"T0\",\"value\":\"2\",\"task_label\":\"How ma...    112268262  annotator1   \n",
       "4  [{\"task\":\"T0\",\"value\":\"2\",\"task_label\":\"How ma...    112268291  annotator1   \n",
       "5  [{\"task\":\"T0\",\"value\":\"1\",\"task_label\":\"How ma...    112268254  annotator1   \n",
       "\n",
       "     image file  \n",
       "1  id_0041.jpeg  \n",
       "2  id_0014.jpeg  \n",
       "3  id_0028.jpeg  \n",
       "4  id_0057.jpeg  \n",
       "5  id_0020.jpeg  "
      ]
     },
     "execution_count": 40,
     "metadata": {},
     "output_type": "execute_result"
    }
   ],
   "source": [
    "dfout.head()"
   ]
  },
  {
   "cell_type": "code",
   "execution_count": null,
   "id": "eac5ca54",
   "metadata": {},
   "outputs": [],
   "source": [
    "# parse tasks to human lists\n",
    "ann_nGaussians = []\n",
    "ann_medNum = []\n",
    "ann_medDraw = []\n",
    "for i in range(len(dfout)):\n",
    "    d = dfout.iloc[i]\n",
    "\n",
    "    anns = json.loads(d['annotations'])\n",
    "    for ann in anns:\n",
    "        if 'how many gauss' in ann['task_label'].lower():\n",
    "            ann_nGaussians.append(int(ann['value']))\n",
    "        elif ('median' in ann['task_label'].lower()) and ('as a number' in ann['task_label'].lower()):\n",
    "            ann_medNum.append(float(ann['value']))\n",
    "        elif ('median' in ann['task_label'].lower()) and ('draw a line' in ann['task_label'].lower()):\n",
    "            ann_medDraw.append(float(ann['value'][0]['x']))\n",
    "\n",
    "# for human line draw -- need to translate this from pixel location to x/y\n",
    "\n",
    "\n",
    "df2 = dfout[['annotators','image file']].copy()\n",
    "df2['Human nGaussians'] = ann_nGaussians\n",
    "df2['Human median (number)'] = ann_medNum\n",
    "df2['Human median (draw)'] = ann_medDraw\n",
    "\n",
    "# get ground truths from jsons\n",
    "gt_medians = []\n",
    "gt_nGaussians = []\n",
    "for i in range(len(df2)):\n",
    "    d = df2.iloc[i]\n",
    "\n",
    "    jfile = d['image file'].removesuffix('.jpeg')\n",
    "\n",
    "    with open(gt_jsons + jfile + '.json', 'r') as f:\n",
    "        j = json.load(f)\n",
    "        j = json.loads(j)\n",
    "    # assume single plot\n",
    "    xs = j['plot0']['data']['xs']\n",
    "    # median from distribution\n",
    "    gt_medians.append(np.median(xs))\n",
    "    # nGaussian from data params\n",
    "    gt_nGaussians.append(j['plot0']['data']['data params']['nclusters'])\n",
    "\n",
    "df2['Ground Truth nGaussian'] = gt_nGaussians\n",
    "df2['Ground Truth Median'] = gt_medians"
   ]
  },
  {
   "cell_type": "code",
   "execution_count": 80,
   "id": "3fe872b3",
   "metadata": {},
   "outputs": [
    {
     "data": {
      "text/html": [
       "<div>\n",
       "<style scoped>\n",
       "    .dataframe tbody tr th:only-of-type {\n",
       "        vertical-align: middle;\n",
       "    }\n",
       "\n",
       "    .dataframe tbody tr th {\n",
       "        vertical-align: top;\n",
       "    }\n",
       "\n",
       "    .dataframe thead th {\n",
       "        text-align: right;\n",
       "    }\n",
       "</style>\n",
       "<table border=\"1\" class=\"dataframe\">\n",
       "  <thead>\n",
       "    <tr style=\"text-align: right;\">\n",
       "      <th></th>\n",
       "      <th>annotators</th>\n",
       "      <th>image file</th>\n",
       "      <th>Human nGaussians</th>\n",
       "      <th>Human median (number)</th>\n",
       "      <th>Human median (draw)</th>\n",
       "      <th>Ground Truth nGaussian</th>\n",
       "      <th>Ground Truth Median</th>\n",
       "    </tr>\n",
       "  </thead>\n",
       "  <tbody>\n",
       "    <tr>\n",
       "      <th>1</th>\n",
       "      <td>annotator1</td>\n",
       "      <td>id_0041.jpeg</td>\n",
       "      <td>1</td>\n",
       "      <td>0.055</td>\n",
       "      <td>501.769531</td>\n",
       "      <td>1</td>\n",
       "      <td>0.054428</td>\n",
       "    </tr>\n",
       "    <tr>\n",
       "      <th>2</th>\n",
       "      <td>annotator1</td>\n",
       "      <td>id_0014.jpeg</td>\n",
       "      <td>3</td>\n",
       "      <td>0.450</td>\n",
       "      <td>380.515625</td>\n",
       "      <td>1</td>\n",
       "      <td>0.478811</td>\n",
       "    </tr>\n",
       "    <tr>\n",
       "      <th>3</th>\n",
       "      <td>annotator1</td>\n",
       "      <td>id_0028.jpeg</td>\n",
       "      <td>2</td>\n",
       "      <td>-0.420</td>\n",
       "      <td>458.597656</td>\n",
       "      <td>2</td>\n",
       "      <td>-0.417302</td>\n",
       "    </tr>\n",
       "    <tr>\n",
       "      <th>4</th>\n",
       "      <td>annotator1</td>\n",
       "      <td>id_0057.jpeg</td>\n",
       "      <td>2</td>\n",
       "      <td>-0.700</td>\n",
       "      <td>389.261719</td>\n",
       "      <td>2</td>\n",
       "      <td>-0.758364</td>\n",
       "    </tr>\n",
       "    <tr>\n",
       "      <th>5</th>\n",
       "      <td>annotator1</td>\n",
       "      <td>id_0020.jpeg</td>\n",
       "      <td>1</td>\n",
       "      <td>-0.200</td>\n",
       "      <td>463.078125</td>\n",
       "      <td>1</td>\n",
       "      <td>-0.178007</td>\n",
       "    </tr>\n",
       "  </tbody>\n",
       "</table>\n",
       "</div>"
      ],
      "text/plain": [
       "   annotators    image file  Human nGaussians  Human median (number)  \\\n",
       "1  annotator1  id_0041.jpeg                 1                  0.055   \n",
       "2  annotator1  id_0014.jpeg                 3                  0.450   \n",
       "3  annotator1  id_0028.jpeg                 2                 -0.420   \n",
       "4  annotator1  id_0057.jpeg                 2                 -0.700   \n",
       "5  annotator1  id_0020.jpeg                 1                 -0.200   \n",
       "\n",
       "   Human median (draw)  Ground Truth nGaussian  Ground Truth Median  \n",
       "1           501.769531                       1             0.054428  \n",
       "2           380.515625                       1             0.478811  \n",
       "3           458.597656                       2            -0.417302  \n",
       "4           389.261719                       2            -0.758364  \n",
       "5           463.078125                       1            -0.178007  "
      ]
     },
     "execution_count": 80,
     "metadata": {},
     "output_type": "execute_result"
    }
   ],
   "source": [
    "df2.head()"
   ]
  },
  {
   "cell_type": "code",
   "execution_count": 77,
   "id": "0cad7b52",
   "metadata": {},
   "outputs": [
    {
     "data": {
      "text/plain": [
       "1"
      ]
     },
     "execution_count": 77,
     "metadata": {},
     "output_type": "execute_result"
    }
   ],
   "source": [
    "j['plot0']['data']['data params']['nclusters']"
   ]
  },
  {
   "cell_type": "code",
   "execution_count": 82,
   "id": "931fde1f",
   "metadata": {},
   "outputs": [
    {
     "data": {
      "text/plain": [
       "dict_keys(['xs', 'ys', 'xs_right', 'ys_right', 'xs_left', 'ys_left', 'colors'])"
      ]
     },
     "execution_count": 82,
     "metadata": {},
     "output_type": "execute_result"
    }
   ],
   "source": [
    "j['plot0']['data pixels'].keys()"
   ]
  },
  {
   "cell_type": "code",
   "execution_count": 85,
   "id": "03a8a8e6",
   "metadata": {},
   "outputs": [
    {
     "data": {
      "text/plain": [
       "dict_keys(['data', 'plot params'])"
      ]
     },
     "execution_count": 85,
     "metadata": {},
     "output_type": "execute_result"
    }
   ],
   "source": [
    "j['plot0']['data from plot'].keys()"
   ]
  },
  {
   "cell_type": "code",
   "execution_count": 87,
   "id": "f47ec93e",
   "metadata": {},
   "outputs": [
    {
     "data": {
      "text/plain": [
       "{'linethick': 1,\n",
       " 'linestyles': '-',\n",
       " 'bar color': 'cyan',\n",
       " 'edge color': [[0, 0, 0]],\n",
       " 'orientation': 'vertical',\n",
       " 'rwidth': 1.0,\n",
       " 'nbins': 20}"
      ]
     },
     "execution_count": 87,
     "metadata": {},
     "output_type": "execute_result"
    }
   ],
   "source": [
    "j['plot0']['data from plot']['plot params']"
   ]
  },
  {
   "cell_type": "code",
   "execution_count": 88,
   "id": "df76fe95",
   "metadata": {},
   "outputs": [
    {
     "data": {
      "text/plain": [
       "dict_keys(['figure', 'plot0', 'VQA'])"
      ]
     },
     "execution_count": 88,
     "metadata": {},
     "output_type": "execute_result"
    }
   ],
   "source": [
    "j.keys()"
   ]
  },
  {
   "cell_type": "code",
   "execution_count": 89,
   "id": "fa1b989d",
   "metadata": {},
   "outputs": [
    {
     "data": {
      "text/plain": [
       "{'dpi': 300,\n",
       " 'base': 5,\n",
       " 'aspect ratio': 1.333,\n",
       " 'nrows': 1,\n",
       " 'ncols': 1,\n",
       " 'plot style': 'default',\n",
       " 'color map': 'Blues',\n",
       " 'title fontsize': 12,\n",
       " 'xlabel fontsize': 8,\n",
       " 'ylabel fontsize': 8,\n",
       " 'plot indexes': [[0, 0]]}"
      ]
     },
     "execution_count": 89,
     "metadata": {},
     "output_type": "execute_result"
    }
   ],
   "source": [
    "j['figure']"
   ]
  },
  {
   "cell_type": "code",
   "execution_count": 93,
   "id": "3fce2691",
   "metadata": {},
   "outputs": [
    {
     "data": {
      "text/plain": [
       "dict_keys(['type', 'distribution', 'data', 'data pixels', 'data from plot', 'xticks', 'yticks', 'square', 'title', 'xlabel', 'ylabel'])"
      ]
     },
     "execution_count": 93,
     "metadata": {},
     "output_type": "execute_result"
    }
   ],
   "source": [
    "j['plot0'].keys()"
   ]
  },
  {
   "cell_type": "code",
   "execution_count": 94,
   "id": "59eb52ae",
   "metadata": {},
   "outputs": [
    {
     "data": {
      "text/plain": [
       "{'xmin': 192.6404517796116,\n",
       " 'ymin': 154.83333333333334,\n",
       " 'xmax': 754.0450112528131,\n",
       " 'ymax': 492.99999999999994}"
      ]
     },
     "execution_count": 94,
     "metadata": {},
     "output_type": "execute_result"
    }
   ],
   "source": [
    "j['plot0']['square']"
   ]
  },
  {
   "cell_type": "code",
   "execution_count": null,
   "id": "542ffb37",
   "metadata": {},
   "outputs": [],
   "source": []
  },
  {
   "cell_type": "code",
   "execution_count": null,
   "id": "a4d521d5",
   "metadata": {},
   "outputs": [],
   "source": []
  },
  {
   "cell_type": "code",
   "execution_count": null,
   "id": "0e049eac",
   "metadata": {},
   "outputs": [],
   "source": []
  }
 ],
 "metadata": {
  "kernelspec": {
   "display_name": "JCDL2025",
   "language": "python",
   "name": "python3"
  },
  "language_info": {
   "codemirror_mode": {
    "name": "ipython",
    "version": 3
   },
   "file_extension": ".py",
   "mimetype": "text/x-python",
   "name": "python",
   "nbconvert_exporter": "python",
   "pygments_lexer": "ipython3",
   "version": "3.12.11"
  }
 },
 "nbformat": 4,
 "nbformat_minor": 5
}
